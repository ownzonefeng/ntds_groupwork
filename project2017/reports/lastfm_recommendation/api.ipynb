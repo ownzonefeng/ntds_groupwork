{
 "cells": [
  {
   "cell_type": "markdown",
   "metadata": {},
   "source": [
    "## Extracting similar artists for the artists we have in our dataset."
   ]
  },
  {
   "cell_type": "code",
   "execution_count": 1,
   "metadata": {
    "collapsed": true
   },
   "outputs": [],
   "source": [
    "import pandas as pd\n",
    "import requests\n",
    "from urllib.parse import quote\n",
    "from artist_api import *"
   ]
  },
  {
   "cell_type": "markdown",
   "metadata": {},
   "source": [
    "The artist dataset contains ids, Artist names, Artist url, and Artist pictureURL."
   ]
  },
  {
   "cell_type": "code",
   "execution_count": 2,
   "metadata": {},
   "outputs": [
    {
     "data": {
      "text/html": [
       "<div>\n",
       "<style>\n",
       "    .dataframe thead tr:only-child th {\n",
       "        text-align: right;\n",
       "    }\n",
       "\n",
       "    .dataframe thead th {\n",
       "        text-align: left;\n",
       "    }\n",
       "\n",
       "    .dataframe tbody tr th {\n",
       "        vertical-align: top;\n",
       "    }\n",
       "</style>\n",
       "<table border=\"1\" class=\"dataframe\">\n",
       "  <thead>\n",
       "    <tr style=\"text-align: right;\">\n",
       "      <th></th>\n",
       "      <th>name</th>\n",
       "      <th>url</th>\n",
       "      <th>pictureURL</th>\n",
       "    </tr>\n",
       "    <tr>\n",
       "      <th>id</th>\n",
       "      <th></th>\n",
       "      <th></th>\n",
       "      <th></th>\n",
       "    </tr>\n",
       "  </thead>\n",
       "  <tbody>\n",
       "    <tr>\n",
       "      <th>1</th>\n",
       "      <td>MALICE MIZER</td>\n",
       "      <td>http://www.last.fm/music/MALICE+MIZER</td>\n",
       "      <td>http://userserve-ak.last.fm/serve/252/10808.jpg</td>\n",
       "    </tr>\n",
       "    <tr>\n",
       "      <th>2</th>\n",
       "      <td>Diary of Dreams</td>\n",
       "      <td>http://www.last.fm/music/Diary+of+Dreams</td>\n",
       "      <td>http://userserve-ak.last.fm/serve/252/3052066.jpg</td>\n",
       "    </tr>\n",
       "    <tr>\n",
       "      <th>3</th>\n",
       "      <td>Carpathian Forest</td>\n",
       "      <td>http://www.last.fm/music/Carpathian+Forest</td>\n",
       "      <td>http://userserve-ak.last.fm/serve/252/40222717...</td>\n",
       "    </tr>\n",
       "    <tr>\n",
       "      <th>4</th>\n",
       "      <td>Moi dix Mois</td>\n",
       "      <td>http://www.last.fm/music/Moi+dix+Mois</td>\n",
       "      <td>http://userserve-ak.last.fm/serve/252/54697835...</td>\n",
       "    </tr>\n",
       "    <tr>\n",
       "      <th>5</th>\n",
       "      <td>Bella Morte</td>\n",
       "      <td>http://www.last.fm/music/Bella+Morte</td>\n",
       "      <td>http://userserve-ak.last.fm/serve/252/14789013...</td>\n",
       "    </tr>\n",
       "  </tbody>\n",
       "</table>\n",
       "</div>"
      ],
      "text/plain": [
       "                 name                                         url  \\\n",
       "id                                                                  \n",
       "1        MALICE MIZER       http://www.last.fm/music/MALICE+MIZER   \n",
       "2     Diary of Dreams    http://www.last.fm/music/Diary+of+Dreams   \n",
       "3   Carpathian Forest  http://www.last.fm/music/Carpathian+Forest   \n",
       "4        Moi dix Mois       http://www.last.fm/music/Moi+dix+Mois   \n",
       "5         Bella Morte        http://www.last.fm/music/Bella+Morte   \n",
       "\n",
       "                                           pictureURL  \n",
       "id                                                     \n",
       "1     http://userserve-ak.last.fm/serve/252/10808.jpg  \n",
       "2   http://userserve-ak.last.fm/serve/252/3052066.jpg  \n",
       "3   http://userserve-ak.last.fm/serve/252/40222717...  \n",
       "4   http://userserve-ak.last.fm/serve/252/54697835...  \n",
       "5   http://userserve-ak.last.fm/serve/252/14789013...  "
      ]
     },
     "execution_count": 2,
     "metadata": {},
     "output_type": "execute_result"
    }
   ],
   "source": [
    "artists_df = pd.read_csv('artists.dat', sep='\\t', header=0, index_col=0, skipinitialspace=True)\n",
    "artists_df.head()"
   ]
  },
  {
   "cell_type": "markdown",
   "metadata": {},
   "source": [
    "In this notebook we extract the unique mbid code identifiers of each artist using the api.\n",
    "This mbid code is used later on to extract the similar artists belonging to this artist.\n",
    "\n",
    "To match the artist we are extracting from the api using the name, to the artist in our dataset, we search through the url of each artist with the same name and cross compare both urls, picking only the one that matches.\n",
    "\n",
    "There are 3 cases that could happen in here:\n",
    "- There is an mbid code available.\n",
    "- There is no mbid code available.\n",
    "- We didn't find an artist match, denoted as \"not found\"."
   ]
  },
  {
   "cell_type": "code",
   "execution_count": null,
   "metadata": {
    "collapsed": true,
    "scrolled": true
   },
   "outputs": [],
   "source": [
    "artists_df['mbid'] = artists_df.apply(parse_artists, axis=1)"
   ]
  },
  {
   "cell_type": "code",
   "execution_count": 3,
   "metadata": {
    "collapsed": true
   },
   "outputs": [],
   "source": [
    "artists_df_mbid = pd.read_csv('artist_mbid_codes.csv', sep='\\t', header=0, index_col=0, skipinitialspace=True)"
   ]
  },
  {
   "cell_type": "code",
   "execution_count": 4,
   "metadata": {},
   "outputs": [
    {
     "data": {
      "text/html": [
       "<div>\n",
       "<style>\n",
       "    .dataframe thead tr:only-child th {\n",
       "        text-align: right;\n",
       "    }\n",
       "\n",
       "    .dataframe thead th {\n",
       "        text-align: left;\n",
       "    }\n",
       "\n",
       "    .dataframe tbody tr th {\n",
       "        vertical-align: top;\n",
       "    }\n",
       "</style>\n",
       "<table border=\"1\" class=\"dataframe\">\n",
       "  <thead>\n",
       "    <tr style=\"text-align: right;\">\n",
       "      <th></th>\n",
       "      <th>name</th>\n",
       "      <th>url</th>\n",
       "      <th>pictureURL</th>\n",
       "      <th>mbid</th>\n",
       "    </tr>\n",
       "    <tr>\n",
       "      <th>id</th>\n",
       "      <th></th>\n",
       "      <th></th>\n",
       "      <th></th>\n",
       "      <th></th>\n",
       "    </tr>\n",
       "  </thead>\n",
       "  <tbody>\n",
       "    <tr>\n",
       "      <th>1</th>\n",
       "      <td>MALICE MIZER</td>\n",
       "      <td>http://www.last.fm/music/MALICE+MIZER</td>\n",
       "      <td>http://userserve-ak.last.fm/serve/252/10808.jpg</td>\n",
       "      <td>3897cf7f-9aac-4eef-aacb-ca0accdee9a2</td>\n",
       "    </tr>\n",
       "    <tr>\n",
       "      <th>2</th>\n",
       "      <td>Diary of Dreams</td>\n",
       "      <td>http://www.last.fm/music/Diary+of+Dreams</td>\n",
       "      <td>http://userserve-ak.last.fm/serve/252/3052066.jpg</td>\n",
       "      <td>22fa6038-d14c-4aab-a057-d397132e9191</td>\n",
       "    </tr>\n",
       "    <tr>\n",
       "      <th>3</th>\n",
       "      <td>Carpathian Forest</td>\n",
       "      <td>http://www.last.fm/music/Carpathian+Forest</td>\n",
       "      <td>http://userserve-ak.last.fm/serve/252/40222717...</td>\n",
       "      <td>69fa5c49-12ec-4c86-a238-4e07cc6d1a7d</td>\n",
       "    </tr>\n",
       "    <tr>\n",
       "      <th>4</th>\n",
       "      <td>Moi dix Mois</td>\n",
       "      <td>http://www.last.fm/music/Moi+dix+Mois</td>\n",
       "      <td>http://userserve-ak.last.fm/serve/252/54697835...</td>\n",
       "      <td>935d146a-ab8a-4745-b4c4-6043d4cc15c4</td>\n",
       "    </tr>\n",
       "    <tr>\n",
       "      <th>5</th>\n",
       "      <td>Bella Morte</td>\n",
       "      <td>http://www.last.fm/music/Bella+Morte</td>\n",
       "      <td>http://userserve-ak.last.fm/serve/252/14789013...</td>\n",
       "      <td>686dffc5-e13c-4b14-b2b7-097cbef040f0</td>\n",
       "    </tr>\n",
       "  </tbody>\n",
       "</table>\n",
       "</div>"
      ],
      "text/plain": [
       "                 name                                         url  \\\n",
       "id                                                                  \n",
       "1        MALICE MIZER       http://www.last.fm/music/MALICE+MIZER   \n",
       "2     Diary of Dreams    http://www.last.fm/music/Diary+of+Dreams   \n",
       "3   Carpathian Forest  http://www.last.fm/music/Carpathian+Forest   \n",
       "4        Moi dix Mois       http://www.last.fm/music/Moi+dix+Mois   \n",
       "5         Bella Morte        http://www.last.fm/music/Bella+Morte   \n",
       "\n",
       "                                           pictureURL  \\\n",
       "id                                                      \n",
       "1     http://userserve-ak.last.fm/serve/252/10808.jpg   \n",
       "2   http://userserve-ak.last.fm/serve/252/3052066.jpg   \n",
       "3   http://userserve-ak.last.fm/serve/252/40222717...   \n",
       "4   http://userserve-ak.last.fm/serve/252/54697835...   \n",
       "5   http://userserve-ak.last.fm/serve/252/14789013...   \n",
       "\n",
       "                                    mbid  \n",
       "id                                        \n",
       "1   3897cf7f-9aac-4eef-aacb-ca0accdee9a2  \n",
       "2   22fa6038-d14c-4aab-a057-d397132e9191  \n",
       "3   69fa5c49-12ec-4c86-a238-4e07cc6d1a7d  \n",
       "4   935d146a-ab8a-4745-b4c4-6043d4cc15c4  \n",
       "5   686dffc5-e13c-4b14-b2b7-097cbef040f0  "
      ]
     },
     "execution_count": 4,
     "metadata": {},
     "output_type": "execute_result"
    }
   ],
   "source": [
    "artists_df_mbid.head()"
   ]
  },
  {
   "cell_type": "markdown",
   "metadata": {},
   "source": [
    "As mentioned above there are cases where there is no output mbid code returned from an artist, and so filtering the dataframe returning only the artists where the mbid code was fetched."
   ]
  },
  {
   "cell_type": "code",
   "execution_count": 5,
   "metadata": {
    "scrolled": true
   },
   "outputs": [
    {
     "name": "stdout",
     "output_type": "stream",
     "text": [
      "The number of artists without an mbid code : 3295\n"
     ]
    }
   ],
   "source": [
    "print(\"The number of artists without an mbid code :\",\\\n",
    "len(artists_df_mbid[artists_df_mbid.mbid=='notfound']) + len(artists_df_mbid[artists_df_mbid.mbid.isnull()]))"
   ]
  },
  {
   "cell_type": "code",
   "execution_count": 6,
   "metadata": {},
   "outputs": [
    {
     "name": "stdout",
     "output_type": "stream",
     "text": [
      "The total number of artists we have : 17632\n"
     ]
    }
   ],
   "source": [
    "print(\"The total number of artists we have :\",len(artists_df))"
   ]
  },
  {
   "cell_type": "code",
   "execution_count": 7,
   "metadata": {
    "collapsed": true
   },
   "outputs": [],
   "source": [
    "artists_df_mbid = artists_df_mbid[~((artists_df_mbid.mbid =='notfound'))]\n",
    "artists_df_mbid = artists_df_mbid[~(artists_df_mbid.mbid.isnull())]"
   ]
  },
  {
   "cell_type": "code",
   "execution_count": 8,
   "metadata": {},
   "outputs": [
    {
     "data": {
      "text/plain": [
       "14337"
      ]
     },
     "execution_count": 8,
     "metadata": {},
     "output_type": "execute_result"
    }
   ],
   "source": [
    "len(artists_df_mbid)"
   ]
  },
  {
   "cell_type": "markdown",
   "metadata": {},
   "source": [
    "Now that we have the codes for the artists, we can extract all the similar artists to them.\n",
    "Keep in mind that this function returns a massive amount of information about those similar artists, one of which is of a particular interest to us, the \"match\", that returns a value between 0 and 1 describing how similar both artists are, 1 being the most similar."
   ]
  },
  {
   "cell_type": "code",
   "execution_count": null,
   "metadata": {
    "collapsed": true,
    "scrolled": true
   },
   "outputs": [],
   "source": [
    "artists_df_mbid['similar_artists'] = artists_df_mbid.apply(similar_artists, axis=1)"
   ]
  },
  {
   "cell_type": "code",
   "execution_count": null,
   "metadata": {
    "collapsed": true
   },
   "outputs": [],
   "source": [
    "columns=['ArtistID','Artist','Similar_artists','Weight']\n",
    "artist_artist = pd.DataFrame(columns=columns)"
   ]
  },
  {
   "cell_type": "markdown",
   "metadata": {},
   "source": [
    "For each artist, 100 similar artists are returned. To decrease the complexity of the problem and reduce the computational time, we only extracted the top 10 similar artists and saved them into a dataframe that contains the artist, artist id, the top 10 similar artists, and their corresponding weights."
   ]
  },
  {
   "cell_type": "code",
   "execution_count": null,
   "metadata": {
    "collapsed": true
   },
   "outputs": [],
   "source": [
    "for index, row in artists_df_mbid.iterrows():\n",
    "    # main artist id\n",
    "    artist_id = index\n",
    "    # main artist name\n",
    "    artist_name = row['name']\n",
    "    # list of dictionaries of similar artists information\n",
    "    similar_dict = row['similar_artists']\n",
    "    # the number of similar artists needed\n",
    "    range_used = 10\n",
    "    try:\n",
    "        # Incase list contained less than 10 artists, set the range to that number\n",
    "        if (len(similar_dict)<10):\n",
    "            range_used = len(similar_dict)\n",
    "    except:\n",
    "        continue\n",
    "        \n",
    "    for i in range(range_used):\n",
    "        # Appending the information obtained to a new dataframe\n",
    "        org_artist_name = artist_name\n",
    "        similar_artist_name = similar_dict[i]['name']\n",
    "        similar_artist_match = similar_dict[i]['match']\n",
    "        artist_artist = artist_artist.append({'ArtistID':artist_id,'Artist': artist_name,'Similar_artists':similar_artist_name,'Weight':similar_artist_match}, ignore_index=True)\n"
   ]
  },
  {
   "cell_type": "code",
   "execution_count": 9,
   "metadata": {
    "collapsed": true
   },
   "outputs": [],
   "source": [
    "artist_artist_connections = pd.read_csv('artist_artist_connections.csv', sep='\\t', header=0, index_col=0, skipinitialspace=True)"
   ]
  },
  {
   "cell_type": "markdown",
   "metadata": {},
   "source": [
    "Sample output"
   ]
  },
  {
   "cell_type": "code",
   "execution_count": 10,
   "metadata": {},
   "outputs": [
    {
     "data": {
      "text/html": [
       "<div>\n",
       "<style>\n",
       "    .dataframe thead tr:only-child th {\n",
       "        text-align: right;\n",
       "    }\n",
       "\n",
       "    .dataframe thead th {\n",
       "        text-align: left;\n",
       "    }\n",
       "\n",
       "    .dataframe tbody tr th {\n",
       "        vertical-align: top;\n",
       "    }\n",
       "</style>\n",
       "<table border=\"1\" class=\"dataframe\">\n",
       "  <thead>\n",
       "    <tr style=\"text-align: right;\">\n",
       "      <th></th>\n",
       "      <th>ArtistID</th>\n",
       "      <th>Artist</th>\n",
       "      <th>Similar_artists</th>\n",
       "      <th>Weight</th>\n",
       "    </tr>\n",
       "  </thead>\n",
       "  <tbody>\n",
       "    <tr>\n",
       "      <th>0</th>\n",
       "      <td>1</td>\n",
       "      <td>MALICE MIZER</td>\n",
       "      <td>Moi dix Mois</td>\n",
       "      <td>1.000000</td>\n",
       "    </tr>\n",
       "    <tr>\n",
       "      <th>1</th>\n",
       "      <td>1</td>\n",
       "      <td>MALICE MIZER</td>\n",
       "      <td>Közi</td>\n",
       "      <td>0.851889</td>\n",
       "    </tr>\n",
       "    <tr>\n",
       "      <th>2</th>\n",
       "      <td>1</td>\n",
       "      <td>MALICE MIZER</td>\n",
       "      <td>LAREINE</td>\n",
       "      <td>0.807094</td>\n",
       "    </tr>\n",
       "    <tr>\n",
       "      <th>3</th>\n",
       "      <td>1</td>\n",
       "      <td>MALICE MIZER</td>\n",
       "      <td>BAISER</td>\n",
       "      <td>0.595696</td>\n",
       "    </tr>\n",
       "    <tr>\n",
       "      <th>4</th>\n",
       "      <td>1</td>\n",
       "      <td>MALICE MIZER</td>\n",
       "      <td>Kaya</td>\n",
       "      <td>0.585429</td>\n",
       "    </tr>\n",
       "  </tbody>\n",
       "</table>\n",
       "</div>"
      ],
      "text/plain": [
       "   ArtistID        Artist Similar_artists    Weight\n",
       "0         1  MALICE MIZER    Moi dix Mois  1.000000\n",
       "1         1  MALICE MIZER            Közi  0.851889\n",
       "2         1  MALICE MIZER         LAREINE  0.807094\n",
       "3         1  MALICE MIZER          BAISER  0.595696\n",
       "4         1  MALICE MIZER            Kaya  0.585429"
      ]
     },
     "execution_count": 10,
     "metadata": {},
     "output_type": "execute_result"
    }
   ],
   "source": [
    "artist_artist_connections.head()"
   ]
  },
  {
   "cell_type": "markdown",
   "metadata": {},
   "source": [
    "Some of the cells in this notebook are not ran, instead the data is being read from dumps previously generated from the functions in the cells. The previous is done since the information retrival process itself is computationally expensive and time demanding."
   ]
  }
 ],
 "metadata": {
  "kernelspec": {
   "display_name": "Python 3",
   "language": "python",
   "name": "python3"
  },
  "language_info": {
   "codemirror_mode": {
    "name": "ipython",
    "version": 3
   },
   "file_extension": ".py",
   "mimetype": "text/x-python",
   "name": "python",
   "nbconvert_exporter": "python",
   "pygments_lexer": "ipython3",
   "version": "3.6.3"
  }
 },
 "nbformat": 4,
 "nbformat_minor": 2
}
