{
 "cells": [
  {
   "cell_type": "code",
   "execution_count": 1,
   "metadata": {
    "collapsed": true
   },
   "outputs": [],
   "source": [
    "import pandas as pd\n",
    "import numpy as np"
   ]
  },
  {
   "cell_type": "markdown",
   "metadata": {},
   "source": [
    "# 1. Constructing Our Ground Truth"
   ]
  },
  {
   "cell_type": "code",
   "execution_count": 2,
   "metadata": {
    "collapsed": true
   },
   "outputs": [],
   "source": [
    "ground_truth = dict()\n"
   ]
  },
  {
   "cell_type": "markdown",
   "metadata": {},
   "source": [
    "** US **"
   ]
  },
  {
   "cell_type": "code",
   "execution_count": 3,
   "metadata": {
    "collapsed": true
   },
   "outputs": [],
   "source": [
    "# Laila El Hamamsy\n",
    "ground_truth[\"224196\"] = [\"EE-558\", \"CS-401\", \"EE-554\", \"ENG-466\",\n",
    "                          \"EE-514\", \"MICRO-510\", \"CS-432\",\"MICRO-515\",\n",
    "                          \"MICRO-553\", \"EE-451\", \"ME-425\", \"MICRO-453\",\n",
    "                          \"MICRO-451\", \"MICRO-455\", \"MICRO-511\",\n",
    "                          \"MICRO-452\", \"MICRO-404\", \"MICRO-403\",\n",
    "                          \"MICRO-498\", \"MICRO-405\", \"CS-433\", \n",
    "                          \"CS-456\", \"BIOENG-450\", \"CS-431\", \"CS-434\"]\n",
    "\n",
    "# Thomas Triquet\n",
    "#ground_truth[\"240590\"]\n",
    "\n",
    "# Alexandre Cherqui\n",
    "ground_truth[\"268847\"] = [\"EE-519\", \"EE-512\", \"EE-425\", \"EE-490(f)\", \"EE-556\", \"EE-445\", \"MICRO-568\", \"EE-442\",\n",
    "                          \"EE-518\", \"EE-514\", \"PHYS-438\", \"EE-525\", \"EE-451\", \"ME-425\", \"EE-440\", \"EE-511\",\n",
    "                          \"EE-553\", \"EE-558\", \"EE-554\", \"ENG-466\", \"CS-433\", \"MICRO-454\"]\n",
    "\n",
    "\n",
    "# Frédérick Gusset\n",
    "ground_truth[\"236845\"] = [\"MICRO-403\",\"MICRO-404\",\"MICRO-405\",\"MICRO-450\",\"MICRO-454\",\"MICRO-455\",\n",
    "                          \"MICRO-511\",\"MICRO-451\",\"MICRO-453\",\"MICRO-510\",\"MICRO-515\",\"MICRO-401\",\n",
    "                          \"CS-432\",\"ME-417\",\"EE-451\",\"CS-322\",\"ME-425\",\"EE-558\",\"ENG-466\",\"EE-490(g)\",\"EE-490(f)\",\n",
    "                          \"CS-433\",\"EE-461\",\"ME-524\",\"CS-473\",\"CS-401\",\"EE-514\",\"CS-423\",\"BIO-465\",\n",
    "                          \"EE-550\",\"COM-404\",\"CS-472\",\"EE-310\",\"MICRO-402\",\"MICRO-570\",\"MICRO-553\"] "
   ]
  },
  {
   "cell_type": "markdown",
   "metadata": {},
   "source": [
    "**SECTION MT**"
   ]
  },
  {
   "cell_type": "code",
   "execution_count": 4,
   "metadata": {
    "collapsed": true
   },
   "outputs": [],
   "source": [
    "# Armand Lamouille, Mineur Spatial\n",
    "ground_truth[\"236322\"] = [\"EE-345\",\"ENG-466\", \"ENV-540\",\"EE-586\",\n",
    "                          \"EE-490(g)\", \"ENV-340\",\"MICRO-510\", \"CS-432\",\n",
    "                          \"MICRO-515\", \"MICRO-553\", \"MSE-474\", \"ME-373\",\n",
    "                          \"MICRO-453\", \"MICRO-451\",\"EE-585\",  \"MICRO-455\",\n",
    "                          \"MICRO-450\", \"EE-580\", \"MICRO-452\", \"MICRO-404\",\n",
    "                          \"MICRO-403\", \"MICRO-405\"]\n",
    "\n",
    "# Cyrill Baumann\n",
    "ground_truth[\"227118\"] = [\"MICRO-455\",\"MICRO-450\",\"MICRO-511\",\n",
    "                         \"MICRO-452\", \"MICRO-404\", \"MICRO-403\",\n",
    "                         \"MICRO-405\", \"EE-548\", \"EE-554\", \"ME-523\",\n",
    "                         \"ENG-466\", \"CS-473\", \"EE-490(g)\", \"MICRO-401\",\n",
    "                         \"MGT-427\", \"MICRO-510\", \"EE-451\", \"MGT-426\",\n",
    "                         \"MICRO-453\", \"MICRO-451\", \"MICRO-440\"]\n",
    "\n",
    "# Johann Heches\n",
    "ground_truth[\"212797\"] = [\"MICRO-455\", \"MICRO-450\",\" MICRO-514\", \n",
    "                          \"MICRO-511\", \"MICRO-452\", \"MICRO-404\", \n",
    "                          \"MICRO-403\", \"MICRO-405\", \"MICRO-510\", \n",
    "                          \"CS-432\", \"MICRO-515\", \"MICRO-553\", \n",
    "                          \"ME-425\", \"MICRO-453\",\"ME-421\",\n",
    "                          \"MICRO-451\", \"EE-554\", \"ENG-466\", \n",
    "                          \"ME-416\", \"EE-490(g)\", \"MICRO-401\"]\n",
    "\n",
    "# Lea Bole Feysot\n",
    "ground_truth[\"237984\"] = [\"MICRO-455\", \"MICRO-452\",\"MICRO-404\", \"MICRO-515\",\"ENV-540\",\n",
    "                          \"MICRO-403\",\"MICRO-405\",\"BIO-465\", \"CS-432\",\"MICRO-451\",\n",
    "                         \"MICRO-453\", \"EE-514\", \"ENG-466\", \"BIO-105\", \"EE-511\",\n",
    "                          \"BIOENG-486\", \"EE-512\", \"MICRO-560\", \"MICRO-568\"]\n",
    "\n",
    "\n",
    "# Quentin Golay\n",
    "ground_truth[\"234983\"] = [\"MICRO-455\", \"EE-490(g)\",\"MICRO-511\", \"MICRO-401\", \"MICRO-404\", \n",
    "                          \"MICRO-403\",\"MICRO-452\",\"MICRO-405\", \"CS-432\",\"MICRO-515\", \n",
    "                          \"MICRO-512\", \"MICRO-451\",\"MICRO-453\",\"ENG-466\", \"EE-511\",\n",
    "                         \"MICRO-560\", \"CS-250\",\"MICRO-553\", \"EE-585\", \"MICRO-450\"]\n",
    "\n",
    "\n",
    "# Nicolas Talabot\n",
    "ground_truth[\"237807\"] = [\"MICRO-455\",\"MICRO-511\",\"MICRO-401\", \"MICRO-452\",\"MICRO-404\", \n",
    "                          \"MICRO-403\",\"MICRO-405\", \"MICRO-570\", \"BIO-465\", \"CS-432\",\n",
    "                          \"MICRO-515\", \"MICRO-512\",\"MICRO-451\",\"MICRO-453\",\n",
    "                          \"EE-514\", \"ENG-466\", \"COM-502\", \"CS-433\", \"CS-330\",\n",
    "                          \"CS-456\", \"EE-554\", \"BIOENG-450\", \"CS-431\", \"COM-421\",\n",
    "                          \"CS-434\"]\n",
    "\n",
    "# Aurélien Ponzio\n",
    "groud_truth[\"236677\"] = [\"MICRO-403\",\"MICRO-404\",\"MICRO-405\",\"MICRO-450\",\"MICRO-454\",\"MICRO-455\",\n",
    "                         \"MICRO-511\",\"MICRO-512\",\"MICRO-451\",\"MICRO-453\",\"MICRO-510\",\"MICRO-515\",\n",
    "                         \"ENG-466\",\"CS-433\",\"EE-420\",\"EE-548\",\"EE-320\",\"MICRO-523\",\"EE-461\",\n",
    "                         \"MICRO-402\",\"ME-524\",\"ME-523\",\"MICRO-401\",\"CS-473\",\"CS-401\"]\n",
    "\n",
    "# Maimun Al Tayar\n",
    "ground_truth[\"214732\"] = [\"MICRO-455\", \"MICRO-454\", \"MICRO-403\", \"MICRO-404\", \"MICRO-405\",\\\n",
    "                          \"CS-432\", \"ME-417\", \"MICRO-515\", \"MICRO-453\", \"MICRO-451\", \"MICRO-561\",\n",
    "                          \"ME-523\", \"MGT-517\", \"ME-416\",\"MICRO-401\", \"MGT-427\",\"MICRO-402\", \n",
    "                         \"MGT-408\", \"EE-461\", \"MICRO-553\", \"MICRO-511\", \"MICRO-512\"]\n",
    "\n",
    "\n",
    "# Nicolas Winteller\n",
    "#ground_truth[\"225689\"]\n",
    "\n",
    "# Roman Welz\n",
    "ground_truth[\"239026\"] = [\"BIOENG-445\", \"MICRO-431\", \"EE-540\", \"MICRO-523\", \n",
    "                         \"MICRO-403\",\"MICRO-404\",\"MICRO-405\", \"MICRO-420\",\n",
    "                         \"MICRO-565\", \"MICRO-421\", \"MICRO-522\",\"MICRO-566\", \n",
    "                         \"MICRO-423\", \"MICRO-504\", \"MICRO-511\", \"ME-523\", \n",
    "                         \"PHYS-434\", \"EE-548\", \"MICRO-561\", \"EE-516\",\n",
    "                         \"MGT-427\", \"MICRO-562\", \"MICRO-512\", \"MICRO-422\",\n",
    "                         \"CS-433\", \"PHYS-433\"]\n",
    "\n",
    "# Camilla Carta\n",
    "#ground_truth[\"215621\"]\n",
    "\n",
    "# Jonathan Arreguit O'Neill\n",
    "ground_truth[\"205324\"] = [\"MICRsO-455\", \"MICRO-450\", \"MICRO-454\", \"MICRO-453\",\n",
    "                         \"MICRO-510\", \"ME-524\", \"MICRO-515\", \"MICRO-553\", \n",
    "                          \"ME-425\", \"ME-523\", \"ME-421\", \"BIO-465\", \"EE-514\",\n",
    "                         \"CS-432\", \"EE-516\", \"MICRO-514\", \"MICRO-511\", \"MICRO-512\",\n",
    "                         \"BIOENG-450\", \"BIO-482\", \"BIOENG-486\", \"MICRO-513\",\n",
    "                          \"ENG-466\",\"BIO-483\",\"COM-502\",\"CS-433\", \"COM-421\",\n",
    "                          \"CS-434\", \"CS-454\",\"ME-476\", \"MATH-454\", \"MATH-452\",\n",
    "                          \"MATH-458\", \"ME-444\", \"ME-474\", \"CS-439\",\"CS-422\"]\n",
    "\n",
    "# Julien Di Tria\n",
    "#ground_truth[\"238038\"]\n",
    "\n",
    "# Lucie Houel\n",
    "#ground_truth[\"252317\"]\n",
    "\n",
    "# Loïs Bosson\n",
    "#ground_truth[\"226755\"]"
   ]
  },
  {
   "cell_type": "markdown",
   "metadata": {},
   "source": [
    "** SECTION EL** "
   ]
  },
  {
   "cell_type": "code",
   "execution_count": 5,
   "metadata": {
    "collapsed": true
   },
   "outputs": [],
   "source": [
    "# Valentine Santarelli\n",
    "ground_truth[\"223362\"] = [\"MICRO-455\",\"CS-401\",\"EE-554\", \"EE-490(g)\",\"EE-451\",\n",
    "                          \"EE-556\", \"EE-445\", \"EE-440\", \"EE-442\",\"EE-558\",\n",
    "                          \"EE-490(f)\", \"COM-480\",\"CS-423\", \"EE-550\", \n",
    "                          \"CS-322\", \"EE-593\", \"EE-559\", \"EE-490(h)\", \"EE-598 \"]\n",
    "\n",
    "# Adrian Löwenstein\n",
    "ground_truth[\"224689\"] = [\"CS-401\", \"CS-433\",\"EE-556\", \"EE-466\", \"EE-456\", \"EE-465\", \"EE-492(c)\",\"EE-477\",\n",
    "                          \"COM-407\",\"EE-575\", \"EE-470\", \"EE-472\", \"EE-558\", \"ME-427\",\"EE-588\",\"EE-576\",\n",
    "                          \"ME-425\",\"MGT-483\",\"EE-570\"]\n",
    "\n",
    "\n",
    "# Antoine Genouel\n",
    "ground_truth[\"227250\"] = [\"EE-532\",\"EE-536\",\"EE-530\",\"EE-535\",\"EE-490(b)\",\"EE-425\",\n",
    "                          \"EE-520\",\"EE-420\",\"EE-537\",\"EE-432\",\"EE-539\",\"EE-429\",\n",
    "                          \"EE-431\", \"EE-421\",\"EE-518\",\"EE-433\",\"EE-525\",\"EE-511\",\n",
    "                          \"EE-533\", \"EE-575\", \"CS-471\", \"EE-548\", \"EE-515\",\"CS-473\",\n",
    "                          \"EE-518\",\"EE-490(g)\"]\n",
    "\n",
    "\n",
    "# Christian Abbet\n",
    "ground_truth[\"213434\"] = [\"EE-558\",\"EE-550\",  \"EE-490(g)\", \"EE-556\", \"EE-445\", \"ELD120\", \"COM-414\", \"EE-442\",\\\n",
    "                          \"CS-423\", \"EE-451\", \"COM-405\", \"EE-440\", \"MICRO-513\", \"EE-598\", \"CS-401\", \"CS-433\"]\n",
    "\n"
   ]
  },
  {
   "cell_type": "markdown",
   "metadata": {},
   "source": [
    "**SECTION IN **"
   ]
  },
  {
   "cell_type": "code",
   "execution_count": null,
   "metadata": {
    "collapsed": true
   },
   "outputs": [],
   "source": [
    "# Arnaud Hennig\n",
    "ground_truth[\"237782\"] = [\"CS-433\",\"CS-438\",\"COM-407\",\"CS-453\",\"CS-450\",\"CS-452\",\n",
    "                          \"CS-420\",\"CS-442\",\"COM-402\",\"COM-405\",\"CS-444\",\n",
    "                          \"CS-411\",\"EE-550\",\"CS-401\",\"CS-522\"]\n",
    "# Marius Rosset\n",
    "ground_truth[\"236522\"] = [\"CS-451\",\"CS-473\",\"CS-452\",\"COM-407\",\"CS-434\",\"CS-450\",\"CS-486\",\"COM-402\",\"COM-405\",\n",
    "                          \"CS-550\",\"CS-438\",\"CS-472\",\"CS-433\",\"CS-522\"]\n",
    "# Cédric Tomasini\n",
    "ground_truth[\"272765\"] = [\"COM-300\",\"COM-301\",\"CS-320\",\"COM-309\",\"MATH-310\",\"COM-302\",\"COM-303\",\"CS-322\"]\n",
    "\n",
    "#Boris Zbinden\n",
    "ground_truth[\"237151\"] = [\"CS-330\",\"BIO-109\",\"CS-322\",\"CS-320\",\"EE-203(b)\",\"CS-307\",\"CS-328\",\"COM-301\",\n",
    "                          \"CS-305\",\"EE-381\",\"CS-341\",\"CS-322\",\"CS-323\",\"COM-415\",\"BIO-105\",\"CS-466\",\n",
    "                          \"EE-550\",\"MICRO-511\",\"CS-433\",\"CS-210\",\"CS-452\"]"
   ]
  },
  {
   "cell_type": "markdown",
   "metadata": {},
   "source": [
    "**SECTION SIE **"
   ]
  },
  {
   "cell_type": "code",
   "execution_count": null,
   "metadata": {
    "collapsed": true
   },
   "outputs": [],
   "source": [
    "# Dyonis Lugon-Moulin\n",
    "ground_truth[\"212562\"] = [\"ENV-402\",\"ENV-418\",\"ME-409\",\"ENV-547\",\"ENV-524\"]"
   ]
  },
  {
   "cell_type": "markdown",
   "metadata": {},
   "source": [
    "**SECTION CGC**"
   ]
  },
  {
   "cell_type": "code",
   "execution_count": null,
   "metadata": {
    "collapsed": true
   },
   "outputs": [],
   "source": [
    "# Valentin Marchetti\n",
    "ground_truth[\"186249\"] = [\"BIOENG-442\",\"CHE-411\",\"CHE-407\",\"CHE-404\",\"CHE-408\",\"CHE-421\",\"ENG-433\",\"MSE-437\"]  #CHE-406 (n'existe plus)"
   ]
  },
  {
   "cell_type": "markdown",
   "metadata": {},
   "source": [
    "**SECTION SV**"
   ]
  },
  {
   "cell_type": "code",
   "execution_count": null,
   "metadata": {
    "collapsed": true
   },
   "outputs": [],
   "source": [
    "# Arthur Barakat\n",
    "ground_truth[\"217563\"] = [\"BIO-480\",\"BIO-482\",\"BIO-483\",\"EE-516\",\"MICRO-511\",\"BIO-487\",\n",
    "                          \"EE-514\",\"BIOENG-442\",\"BIOENG-448\",\"EE-515\",\"MICRO-514\",\"BIOENG-450\",\n",
    "                          \"MSE-477\",\"BIO-465\",\"BIOENG-486\",\"BIO-501\",\"BIO-455\"]"
   ]
  }
 ],
 "metadata": {
  "kernelspec": {
   "display_name": "Python [default]",
   "language": "python",
   "name": "python3"
  },
  "language_info": {
   "codemirror_mode": {
    "name": "ipython",
    "version": 3
   },
   "file_extension": ".py",
   "mimetype": "text/x-python",
   "name": "python",
   "nbconvert_exporter": "python",
   "pygments_lexer": "ipython3",
   "version": "3.6.2"
  }
 },
 "nbformat": 4,
 "nbformat_minor": 2
}
