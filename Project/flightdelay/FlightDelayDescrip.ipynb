{
 "cells": [
  {
   "cell_type": "markdown",
   "metadata": {},
   "source": [
    "This notebook is used for data pre-processing and data exploration for the dataset of `2015 Flight Delays and Cancellations` dataset."
   ]
  },
  {
   "cell_type": "code",
   "execution_count": 12,
   "metadata": {},
   "outputs": [],
   "source": [
    "import numpy as np\n",
    "import pandas as pd\n",
    "import matplotlib.pyplot as plt\n",
    "\n",
    "from scipy import sparse\n",
    "import scipy.sparse.linalg\n",
    "from pyunlocbox import functions, solvers\n",
    "import datetime, warnings, scipy \n",
    "import seaborn as sns\n",
    "import networkx as nx\n",
    "import missingno as msno"
   ]
  },
  {
   "cell_type": "code",
   "execution_count": 2,
   "metadata": {},
   "outputs": [],
   "source": [
    "airlines = pd.read_csv('airlines.csv')\n",
    "airports = pd.read_csv('airports.csv')\n",
    "flights = pd.read_csv('flights.csv',low_memory=False)\n",
    "#dateCols = ['DATE','SCHEDULED_DEPARTURE','SCHEDULED_ARRIVAL','DEPARTURE_TIME','ARRIVAL_TIME']\n",
    "#flights = pd.read_csv('flights_clean.csv',low_memory=False)\n",
    "abbr_companies = airlines.set_index('IATA_CODE')['AIRLINE'].to_dict()"
   ]
  },
  {
   "cell_type": "markdown",
   "metadata": {},
   "source": [
    "---\n",
    "### Overview of dataset"
   ]
  },
  {
   "cell_type": "markdown",
   "metadata": {},
   "source": [
    "`airlines` contains the IATA code and full name of 14 main airports in US."
   ]
  },
  {
   "cell_type": "code",
   "execution_count": 5,
   "metadata": {},
   "outputs": [
    {
     "name": "stdout",
     "output_type": "stream",
     "text": [
      "<class 'pandas.core.frame.DataFrame'>\n",
      "RangeIndex: 14 entries, 0 to 13\n",
      "Data columns (total 2 columns):\n",
      "IATA_CODE    14 non-null object\n",
      "AIRLINE      14 non-null object\n",
      "dtypes: object(2)\n",
      "memory usage: 304.0+ bytes\n"
     ]
    }
   ],
   "source": [
    "airlines.info()"
   ]
  },
  {
   "cell_type": "code",
   "execution_count": 4,
   "metadata": {
    "scrolled": true
   },
   "outputs": [
    {
     "data": {
      "text/html": [
       "<div>\n",
       "<style scoped>\n",
       "    .dataframe tbody tr th:only-of-type {\n",
       "        vertical-align: middle;\n",
       "    }\n",
       "\n",
       "    .dataframe tbody tr th {\n",
       "        vertical-align: top;\n",
       "    }\n",
       "\n",
       "    .dataframe thead th {\n",
       "        text-align: right;\n",
       "    }\n",
       "</style>\n",
       "<table border=\"1\" class=\"dataframe\">\n",
       "  <thead>\n",
       "    <tr style=\"text-align: right;\">\n",
       "      <th></th>\n",
       "      <th>IATA_CODE</th>\n",
       "      <th>AIRLINE</th>\n",
       "    </tr>\n",
       "  </thead>\n",
       "  <tbody>\n",
       "    <tr>\n",
       "      <th>0</th>\n",
       "      <td>UA</td>\n",
       "      <td>United Air Lines Inc.</td>\n",
       "    </tr>\n",
       "    <tr>\n",
       "      <th>1</th>\n",
       "      <td>AA</td>\n",
       "      <td>American Airlines Inc.</td>\n",
       "    </tr>\n",
       "  </tbody>\n",
       "</table>\n",
       "</div>"
      ],
      "text/plain": [
       "  IATA_CODE                 AIRLINE\n",
       "0        UA   United Air Lines Inc.\n",
       "1        AA  American Airlines Inc."
      ]
     },
     "execution_count": 4,
     "metadata": {},
     "output_type": "execute_result"
    }
   ],
   "source": [
    "airlines.head(2)"
   ]
  },
  {
   "cell_type": "markdown",
   "metadata": {},
   "source": [
    "`airports` contains full information of 322 airports (IATA code, airport name, city, state, country, latitude and longitude), and misses three airports' latitude and longitude. After googling we found latitude and longitude of these three airports: ECP 30 -85; PBG 44 -73; UST 29 -81."
   ]
  },
  {
   "cell_type": "code",
   "execution_count": 6,
   "metadata": {},
   "outputs": [
    {
     "name": "stdout",
     "output_type": "stream",
     "text": [
      "<class 'pandas.core.frame.DataFrame'>\n",
      "RangeIndex: 322 entries, 0 to 321\n",
      "Data columns (total 7 columns):\n",
      "IATA_CODE    322 non-null object\n",
      "AIRPORT      322 non-null object\n",
      "CITY         322 non-null object\n",
      "STATE        322 non-null object\n",
      "COUNTRY      322 non-null object\n",
      "LATITUDE     319 non-null float64\n",
      "LONGITUDE    319 non-null float64\n",
      "dtypes: float64(2), object(5)\n",
      "memory usage: 17.7+ KB\n"
     ]
    }
   ],
   "source": [
    "airports.info()"
   ]
  },
  {
   "cell_type": "code",
   "execution_count": 16,
   "metadata": {},
   "outputs": [
    {
     "data": {
      "text/html": [
       "<div>\n",
       "<style scoped>\n",
       "    .dataframe tbody tr th:only-of-type {\n",
       "        vertical-align: middle;\n",
       "    }\n",
       "\n",
       "    .dataframe tbody tr th {\n",
       "        vertical-align: top;\n",
       "    }\n",
       "\n",
       "    .dataframe thead th {\n",
       "        text-align: right;\n",
       "    }\n",
       "</style>\n",
       "<table border=\"1\" class=\"dataframe\">\n",
       "  <thead>\n",
       "    <tr style=\"text-align: right;\">\n",
       "      <th></th>\n",
       "      <th>IATA_CODE</th>\n",
       "      <th>AIRPORT</th>\n",
       "      <th>CITY</th>\n",
       "      <th>STATE</th>\n",
       "      <th>COUNTRY</th>\n",
       "      <th>LATITUDE</th>\n",
       "      <th>LONGITUDE</th>\n",
       "    </tr>\n",
       "  </thead>\n",
       "  <tbody>\n",
       "    <tr>\n",
       "      <th>96</th>\n",
       "      <td>ECP</td>\n",
       "      <td>Northwest Florida Beaches International Airport</td>\n",
       "      <td>Panama City</td>\n",
       "      <td>FL</td>\n",
       "      <td>USA</td>\n",
       "      <td>NaN</td>\n",
       "      <td>NaN</td>\n",
       "    </tr>\n",
       "    <tr>\n",
       "      <th>234</th>\n",
       "      <td>PBG</td>\n",
       "      <td>Plattsburgh International Airport</td>\n",
       "      <td>Plattsburgh</td>\n",
       "      <td>NY</td>\n",
       "      <td>USA</td>\n",
       "      <td>NaN</td>\n",
       "      <td>NaN</td>\n",
       "    </tr>\n",
       "    <tr>\n",
       "      <th>313</th>\n",
       "      <td>UST</td>\n",
       "      <td>Northeast Florida Regional Airport (St. August...</td>\n",
       "      <td>St. Augustine</td>\n",
       "      <td>FL</td>\n",
       "      <td>USA</td>\n",
       "      <td>NaN</td>\n",
       "      <td>NaN</td>\n",
       "    </tr>\n",
       "  </tbody>\n",
       "</table>\n",
       "</div>"
      ],
      "text/plain": [
       "    IATA_CODE                                            AIRPORT  \\\n",
       "96        ECP    Northwest Florida Beaches International Airport   \n",
       "234       PBG                  Plattsburgh International Airport   \n",
       "313       UST  Northeast Florida Regional Airport (St. August...   \n",
       "\n",
       "              CITY STATE COUNTRY  LATITUDE  LONGITUDE  \n",
       "96     Panama City    FL     USA       NaN        NaN  \n",
       "234    Plattsburgh    NY     USA       NaN        NaN  \n",
       "313  St. Augustine    FL     USA       NaN        NaN  "
      ]
     },
     "execution_count": 16,
     "metadata": {},
     "output_type": "execute_result"
    }
   ],
   "source": [
    "# airports missing latitude and longitude information\n",
    "airports.loc[airports.LATITUDE.isnull()]"
   ]
  },
  {
   "cell_type": "code",
   "execution_count": 7,
   "metadata": {},
   "outputs": [
    {
     "data": {
      "text/html": [
       "<div>\n",
       "<style scoped>\n",
       "    .dataframe tbody tr th:only-of-type {\n",
       "        vertical-align: middle;\n",
       "    }\n",
       "\n",
       "    .dataframe tbody tr th {\n",
       "        vertical-align: top;\n",
       "    }\n",
       "\n",
       "    .dataframe thead th {\n",
       "        text-align: right;\n",
       "    }\n",
       "</style>\n",
       "<table border=\"1\" class=\"dataframe\">\n",
       "  <thead>\n",
       "    <tr style=\"text-align: right;\">\n",
       "      <th></th>\n",
       "      <th>IATA_CODE</th>\n",
       "      <th>AIRPORT</th>\n",
       "      <th>CITY</th>\n",
       "      <th>STATE</th>\n",
       "      <th>COUNTRY</th>\n",
       "      <th>LATITUDE</th>\n",
       "      <th>LONGITUDE</th>\n",
       "    </tr>\n",
       "  </thead>\n",
       "  <tbody>\n",
       "    <tr>\n",
       "      <th>0</th>\n",
       "      <td>ABE</td>\n",
       "      <td>Lehigh Valley International Airport</td>\n",
       "      <td>Allentown</td>\n",
       "      <td>PA</td>\n",
       "      <td>USA</td>\n",
       "      <td>40.65236</td>\n",
       "      <td>-75.4404</td>\n",
       "    </tr>\n",
       "    <tr>\n",
       "      <th>1</th>\n",
       "      <td>ABI</td>\n",
       "      <td>Abilene Regional Airport</td>\n",
       "      <td>Abilene</td>\n",
       "      <td>TX</td>\n",
       "      <td>USA</td>\n",
       "      <td>32.41132</td>\n",
       "      <td>-99.6819</td>\n",
       "    </tr>\n",
       "  </tbody>\n",
       "</table>\n",
       "</div>"
      ],
      "text/plain": [
       "  IATA_CODE                              AIRPORT       CITY STATE COUNTRY  \\\n",
       "0       ABE  Lehigh Valley International Airport  Allentown    PA     USA   \n",
       "1       ABI             Abilene Regional Airport    Abilene    TX     USA   \n",
       "\n",
       "   LATITUDE  LONGITUDE  \n",
       "0  40.65236   -75.4404  \n",
       "1  32.41132   -99.6819  "
      ]
     },
     "execution_count": 7,
     "metadata": {},
     "output_type": "execute_result"
    }
   ],
   "source": [
    "airports.head(2)"
   ]
  },
  {
   "cell_type": "code",
   "execution_count": 24,
   "metadata": {
    "scrolled": true
   },
   "outputs": [],
   "source": [
    "# fill in missing value found from google\n",
    "airports.at[96,'LATITUDE'] = 30\n",
    "airports.at[96,'LONGITUDE'] = -85\n",
    "airports.at[234,'LATITUDE'] = 44\n",
    "airports.at[234,'LONGITUDE'] = -73\n",
    "airports.at[313,'LATITUDE'] = 29\n",
    "airports.at[313,'LONGITUDE'] = -81"
   ]
  },
  {
   "cell_type": "code",
   "execution_count": 26,
   "metadata": {},
   "outputs": [],
   "source": [
    "airports.to_csv('airports.csv',index=False)"
   ]
  },
  {
   "cell_type": "markdown",
   "metadata": {},
   "source": [
    "Below we use msno to show the information of `flights`. White lines mean Nan value. We can see `flights` has 32 columns and 5714008 samples, columns include flight date, airline, origin and destination airport, flight time information, cancellation and reason and delay reason.\n",
    "\n",
    "We can see there are large missing values in cancellation and delay reasons, so we are not going to use `reason` as our features in later machine learning part."
   ]
  },
  {
   "cell_type": "code",
   "execution_count": 14,
   "metadata": {
    "scrolled": false
   },
   "outputs": [
    {
     "data": {
      "text/plain": [
       "<matplotlib.axes._subplots.AxesSubplot at 0x106e19240>"
      ]
     },
     "execution_count": 14,
     "metadata": {},
     "output_type": "execute_result"
    },
    {
     "data": {
      "image/png": "[encoded data removed]",
      "text/plain": [
       "<Figure size 864x360 with 2 Axes>"
      ]
     },
     "metadata": {},
     "output_type": "display_data"
    }
   ],
   "source": [
    "msno.matrix(flights,figsize=(12, 5))#.info()"
   ]
  },
  {
   "cell_type": "code",
   "execution_count": 8,
   "metadata": {},
   "outputs": [
    {
     "data": {
      "text/html": [
       "<div>\n",
       "<style scoped>\n",
       "    .dataframe tbody tr th:only-of-type {\n",
       "        vertical-align: middle;\n",
       "    }\n",
       "\n",
       "    .dataframe tbody tr th {\n",
       "        vertical-align: top;\n",
       "    }\n",
       "\n",
       "    .dataframe thead th {\n",
       "        text-align: right;\n",
       "    }\n",
       "</style>\n",
       "<table border=\"1\" class=\"dataframe\">\n",
       "  <thead>\n",
       "    <tr style=\"text-align: right;\">\n",
       "      <th></th>\n",
       "      <th>YEAR</th>\n",
       "      <th>MONTH</th>\n",
       "      <th>DAY</th>\n",
       "      <th>DAY_OF_WEEK</th>\n",
       "      <th>AIRLINE</th>\n",
       "      <th>FLIGHT_NUMBER</th>\n",
       "      <th>TAIL_NUMBER</th>\n",
       "      <th>ORIGIN_AIRPORT</th>\n",
       "      <th>DESTINATION_AIRPORT</th>\n",
       "      <th>SCHEDULED_DEPARTURE</th>\n",
       "      <th>...</th>\n",
       "      <th>ARRIVAL_DELAY</th>\n",
       "      <th>DIVERTED</th>\n",
       "      <th>CANCELLED</th>\n",
       "      <th>CANCELLATION_REASON</th>\n",
       "      <th>AIR_SYSTEM_DELAY</th>\n",
       "      <th>SECURITY_DELAY</th>\n",
       "      <th>AIRLINE_DELAY</th>\n",
       "      <th>LATE_AIRCRAFT_DELAY</th>\n",
       "      <th>WEATHER_DELAY</th>\n",
       "      <th>DATE</th>\n",
       "    </tr>\n",
       "  </thead>\n",
       "  <tbody>\n",
       "    <tr>\n",
       "      <th>0</th>\n",
       "      <td>2015</td>\n",
       "      <td>1</td>\n",
       "      <td>1</td>\n",
       "      <td>4</td>\n",
       "      <td>AS</td>\n",
       "      <td>98</td>\n",
       "      <td>N407AS</td>\n",
       "      <td>ANC</td>\n",
       "      <td>SEA</td>\n",
       "      <td>00:05:00</td>\n",
       "      <td>...</td>\n",
       "      <td>-22.0</td>\n",
       "      <td>0</td>\n",
       "      <td>0</td>\n",
       "      <td>NaN</td>\n",
       "      <td>NaN</td>\n",
       "      <td>NaN</td>\n",
       "      <td>NaN</td>\n",
       "      <td>NaN</td>\n",
       "      <td>NaN</td>\n",
       "      <td>2015-01-01</td>\n",
       "    </tr>\n",
       "    <tr>\n",
       "      <th>1</th>\n",
       "      <td>2015</td>\n",
       "      <td>1</td>\n",
       "      <td>1</td>\n",
       "      <td>4</td>\n",
       "      <td>AA</td>\n",
       "      <td>2336</td>\n",
       "      <td>N3KUAA</td>\n",
       "      <td>LAX</td>\n",
       "      <td>PBI</td>\n",
       "      <td>00:10:00</td>\n",
       "      <td>...</td>\n",
       "      <td>-9.0</td>\n",
       "      <td>0</td>\n",
       "      <td>0</td>\n",
       "      <td>NaN</td>\n",
       "      <td>NaN</td>\n",
       "      <td>NaN</td>\n",
       "      <td>NaN</td>\n",
       "      <td>NaN</td>\n",
       "      <td>NaN</td>\n",
       "      <td>2015-01-01</td>\n",
       "    </tr>\n",
       "  </tbody>\n",
       "</table>\n",
       "<p>2 rows × 32 columns</p>\n",
       "</div>"
      ],
      "text/plain": [
       "   YEAR  MONTH  DAY  DAY_OF_WEEK AIRLINE  FLIGHT_NUMBER TAIL_NUMBER  \\\n",
       "0  2015      1    1            4      AS             98      N407AS   \n",
       "1  2015      1    1            4      AA           2336      N3KUAA   \n",
       "\n",
       "  ORIGIN_AIRPORT DESTINATION_AIRPORT SCHEDULED_DEPARTURE     ...      \\\n",
       "0            ANC                 SEA            00:05:00     ...       \n",
       "1            LAX                 PBI            00:10:00     ...       \n",
       "\n",
       "  ARRIVAL_DELAY  DIVERTED  CANCELLED  CANCELLATION_REASON  AIR_SYSTEM_DELAY  \\\n",
       "0         -22.0         0          0                  NaN               NaN   \n",
       "1          -9.0         0          0                  NaN               NaN   \n",
       "\n",
       "   SECURITY_DELAY  AIRLINE_DELAY  LATE_AIRCRAFT_DELAY  WEATHER_DELAY  \\\n",
       "0             NaN            NaN                  NaN            NaN   \n",
       "1             NaN            NaN                  NaN            NaN   \n",
       "\n",
       "         DATE  \n",
       "0  2015-01-01  \n",
       "1  2015-01-01  \n",
       "\n",
       "[2 rows x 32 columns]"
      ]
     },
     "execution_count": 8,
     "metadata": {},
     "output_type": "execute_result"
    }
   ],
   "source": [
    "flights.head(2)"
   ]
  },
  {
   "cell_type": "markdown",
   "metadata": {},
   "source": [
    "---\n",
    "### Pre-processing\n",
    "This part is used for data processing before machine learning. What we did here:\n",
    "\n",
    "1. First we selected flights not cancelled and not diverted.\n",
    "\n",
    "2. We noticed in origin dataset, the IATA code of airports in October 2015 is using 5-digit number but not the correct 3-letter code. So we first converted these 5-digit number back to 3-letter IATA code.\n",
    "\n",
    "3. We converted the time string in original dataset into time.time type;\n",
    "\n",
    "4. Merging `airport` and flights we merged location of origin and destination airports to each flight."
   ]
  },
  {
   "cell_type": "markdown",
   "metadata": {},
   "source": [
    "1. We are not interested in cancelled flights and also, we want to use destination airport as our features, so we do not take diverted flights into account (a diverted flight means the flight does not arrive at the scheduled airport)."
   ]
  },
  {
   "cell_type": "code",
   "execution_count": 3,
   "metadata": {},
   "outputs": [],
   "source": [
    "flights = flights.loc[flights.CANCELLED==0]\n",
    "flights = flights.loc[flights.DIVERTED==0]\n",
    "flights.reset_index(drop=True,inplace=True)"
   ]
  },
  {
   "cell_type": "code",
   "execution_count": 4,
   "metadata": {
    "scrolled": true
   },
   "outputs": [
    {
     "data": {
      "text/plain": [
       "Index(['YEAR', 'MONTH', 'DAY', 'DAY_OF_WEEK', 'AIRLINE', 'FLIGHT_NUMBER',\n",
       "       'TAIL_NUMBER', 'ORIGIN_AIRPORT', 'DESTINATION_AIRPORT',\n",
       "       'SCHEDULED_DEPARTURE', 'DEPARTURE_TIME', 'DEPARTURE_DELAY', 'TAXI_OUT',\n",
       "       'WHEELS_OFF', 'SCHEDULED_TIME', 'ELAPSED_TIME', 'AIR_TIME', 'DISTANCE',\n",
       "       'WHEELS_ON', 'TAXI_IN', 'SCHEDULED_ARRIVAL', 'ARRIVAL_TIME',\n",
       "       'ARRIVAL_DELAY', 'DIVERTED', 'CANCELLED', 'CANCELLATION_REASON',\n",
       "       'AIR_SYSTEM_DELAY', 'SECURITY_DELAY', 'AIRLINE_DELAY',\n",
       "       'LATE_AIRCRAFT_DELAY', 'WEATHER_DELAY'],\n",
       "      dtype='object')"
      ]
     },
     "execution_count": 4,
     "metadata": {},
     "output_type": "execute_result"
    }
   ],
   "source": [
    "flights.columns"
   ]
  },
  {
   "cell_type": "markdown",
   "metadata": {},
   "source": [
    "2. Here we converted the 5-digit number in October 2015 into 3-letter IATA code."
   ]
  },
  {
   "cell_type": "code",
   "execution_count": 5,
   "metadata": {
    "scrolled": true
   },
   "outputs": [],
   "source": [
    "df_aircode1 = pd.read_csv('L_AIRPORT.csv')\n",
    "df_aircode2 = pd.read_csv('L_AIRPORT_ID.csv')\n",
    "df_aircode1 = df_aircode1.reset_index()\n",
    "df_aircode2 = df_aircode2.reset_index()\n",
    "df_aircodes = pd.merge(df_aircode1,df_aircode2,on='Description')\n",
    "aircode_dict = dict(zip(df_aircodes['Code_y'].astype(str),df_aircodes['Code_x']))\n",
    "\n",
    "# # Make sure all Origin and departing airports are strings\n",
    "flights['ORIGIN_AIRPORT'] = flights['ORIGIN_AIRPORT'].values.astype(str)\n",
    "flights['DESTINATION_AIRPORT'] = flights['DESTINATION_AIRPORT'].values.astype(str)"
   ]
  },
  {
   "cell_type": "code",
   "execution_count": 10,
   "metadata": {
    "scrolled": true
   },
   "outputs": [
    {
     "name": "stdout",
     "output_type": "stream",
     "text": [
      "0 replaced 14747 with SEA\n",
      "1 replaced 14771 with SFO\n",
      "2 replaced 12889 with LAS\n",
      "3 replaced 12892 with LAX\n",
      "4 replaced 14869 with SLC\n",
      "5 replaced 10299 with ANC\n",
      "6 replaced 11292 with DEN\n",
      "7 replaced 14107 with PHX\n",
      "8 replaced 11630 with FAI\n",
      "9 replaced 10732 with BQN\n",
      "10 replaced 14254 with PSE\n",
      "11 replaced 10141 with ABR\n",
      "12 replaced 10627 with BIS\n",
      "13 replaced 11982 with GRK\n",
      "14 replaced 12173 with HNL\n",
      "15 replaced 13930 with ORD\n",
      "16 replaced 14683 with SAT\n",
      "17 replaced 12266 with IAH\n",
      "18 replaced 11618 with EWR\n",
      "19 replaced 10721 with BOS\n",
      "20 replaced 13487 with MSP\n",
      "21 replaced 11884 with GEG\n",
      "22 replaced 15919 with XNA\n",
      "23 replaced 13851 with OKC\n",
      "24 replaced 11111 with COU\n",
      "25 replaced 10693 with BNA\n",
      "26 replaced 12191 with HOU\n",
      "27 replaced 14783 with SGF\n",
      "28 replaced 15016 with STL\n",
      "29 replaced 14487 with RDD\n",
      "30 replaced 10423 with BSM\n",
      "31 replaced 15370 with TUL\n",
      "32 replaced 11953 with GNV\n",
      "33 replaced 13891 with ONT\n",
      "34 replaced 15376 with TUS\n",
      "35 replaced 11778 with FSM\n",
      "36 replaced 11278 with DCA\n",
      "37 replaced 14100 with PHL\n",
      "38 replaced 13204 with MCO\n",
      "39 replaced 15304 with TPA\n",
      "40 replaced 11637 with FAR\n",
      "41 replaced 14842 with SJT\n",
      "42 replaced 10155 with ACT\n",
      "43 replaced 11775 with FSD\n",
      "44 replaced 11298 with DFW\n",
      "45 replaced 11057 with CLT\n",
      "46 replaced 13931 with ORF\n",
      "47 replaced 10821 with BWI\n",
      "48 replaced 14122 with PIT\n",
      "49 replaced 11049 with CLL\n",
      "50 replaced 10990 with CHO\n",
      "51 replaced 10631 with BJI\n",
      "52 replaced 13158 with MAF\n",
      "53 replaced 14108 with PIA\n",
      "54 replaced 13198 with MCI\n",
      "55 replaced 11447 with DVL\n",
      "56 replaced 12206 with HRL\n",
      "57 replaced 13495 with MSY\n",
      "58 replaced 14057 with PDX\n",
      "59 replaced 15624 with VPS\n",
      "60 replaced 10747 with BRO\n",
      "61 replaced 15411 with TYR\n",
      "62 replaced 12891 with LAW\n",
      "63 replaced 10994 with CHS\n",
      "64 replaced 13256 with MFE\n",
      "65 replaced 10792 with BUF\n",
      "66 replaced 14492 with RDU\n",
      "67 replaced 12451 with JAX\n",
      "68 replaced 13127 with LWS\n",
      "69 replaced 10781 with BTR\n",
      "70 replaced 14960 with SPS\n",
      "71 replaced 12278 with ICT\n",
      "72 replaced 14685 with SAV\n",
      "73 replaced 11995 with GSO\n",
      "74 replaced 13485 with MSN\n",
      "75 replaced 11977 with GRB\n",
      "76 replaced 10257 with ALB\n",
      "77 replaced 13796 with OAK\n",
      "78 replaced 13232 with MDW\n",
      "79 replaced 13296 with MHT\n",
      "80 replaced 14570 with RNO\n",
      "81 replaced 14893 with SMF\n",
      "82 replaced 14524 with RIC\n",
      "83 replaced 12217 with HSV\n",
      "84 replaced 10713 with BOI\n",
      "85 replaced 10208 with AGS\n",
      "86 replaced 10136 with ABI\n",
      "87 replaced 11603 with EUG\n",
      "88 replaced 14689 with SBA\n",
      "89 replaced 11471 with EAU\n",
      "90 replaced 11315 with DIK\n",
      "91 replaced 13264 with MFR\n",
      "92 replaced 12478 with JFK\n",
      "93 replaced 14814 with SHV\n",
      "94 replaced 11308 with DHN\n",
      "95 replaced 11066 with CMH\n",
      "96 replaced 12896 with LBB\n",
      "97 replaced 10397 with ATL\n",
      "98 replaced 14307 with PVD\n",
      "99 replaced 11721 with FNT\n",
      "100 replaced 11140 with CRP\n",
      "101 replaced 10185 with AEX\n",
      "102 replaced 13277 with MGM\n",
      "103 replaced 11203 with CWA\n",
      "104 replaced 13342 with MKE\n",
      "105 replaced 11433 with DTW\n",
      "106 replaced 11697 with FLL\n",
      "107 replaced 12953 with LGA\n",
      "108 replaced 10599 with BHM\n",
      "109 replaced 12156 with HLN\n",
      "110 replaced 14952 with SPI\n",
      "111 replaced 10620 with BIL\n",
      "112 replaced 11042 with CLE\n",
      "113 replaced 15096 with SYR\n",
      "114 replaced 10408 with ATW\n",
      "115 replaced 15249 with TLH\n",
      "116 replaced 11423 with DSM\n",
      "117 replaced 12915 with LCH\n",
      "118 replaced 12264 with IAD\n",
      "119 replaced 12339 with IND\n",
      "120 replaced 10140 with ABQ\n",
      "121 replaced 13871 with OMA\n",
      "122 replaced 14027 with PBI\n",
      "123 replaced 13244 with MEM\n",
      "124 replaced 11267 with DAY\n",
      "125 replaced 11540 with ELP\n",
      "126 replaced 14576 with ROC\n",
      "127 replaced 10868 with CAE\n",
      "128 replaced 13486 with MSO\n",
      "129 replaced 13476 with MRY\n",
      "130 replaced 14489 with RDM\n",
      "131 replaced 12945 with LEX\n",
      "132 replaced 15607 with VLD\n",
      "133 replaced 10529 with BDL\n",
      "134 replaced 11986 with GRR\n",
      "135 replaced 14635 with RSW\n",
      "136 replaced 13303 with MIA\n",
      "137 replaced 10785 with BTV\n",
      "138 replaced 15380 with TVC\n",
      "139 replaced 11996 with GSP\n",
      "140 replaced 10561 with BFL\n",
      "141 replaced 10874 with CAK\n",
      "142 replaced 13367 with MLI\n",
      "143 replaced 10146 with ABY\n",
      "144 replaced 10431 with AVL\n",
      "145 replaced 11973 with GPT\n",
      "146 replaced 10980 with CHA\n",
      "147 replaced 12197 with HPN\n",
      "148 replaced 14098 with PHF\n",
      "149 replaced 12323 with ILM\n",
      "150 replaced 10577 with BGM\n",
      "151 replaced 11150 with CSG\n",
      "152 replaced 10135 with ABE\n",
      "153 replaced 11617 with EWN\n",
      "154 replaced 13795 with OAJ\n",
      "155 replaced 13029 with LNK\n",
      "156 replaced 11003 with CID\n",
      "157 replaced 11146 with CRW\n",
      "158 replaced 11577 with ERI\n",
      "159 replaced 15356 with TTN\n",
      "160 replaced 11259 with DAL\n",
      "161 replaced 10279 with AMA\n",
      "162 replaced 14321 with PWM\n",
      "163 replaced 14843 with SJU\n",
      "164 replaced 11638 with FAT\n",
      "165 replaced 14828 with SIT\n",
      "166 replaced 11481 with ECP\n",
      "167 replaced 12951 with LFT\n",
      "168 replaced 10434 with AVP\n",
      "169 replaced 12448 with JAN\n",
      "170 replaced 14730 with SDF\n",
      "171 replaced 15323 with TRI\n",
      "172 replaced 14252 with PSC\n",
      "173 replaced 11193 with CVG\n",
      "174 replaced 10849 with BZN\n",
      "175 replaced 14193 with PNS\n",
      "176 replaced 14986 with SRQ\n",
      "177 replaced 11641 with FAY\n",
      "178 replaced 12992 with LIT\n",
      "179 replaced 13422 with MOB\n",
      "180 replaced 11612 with EVV\n",
      "181 replaced 11823 with FWA\n",
      "182 replaced 11980 with GRI\n",
      "183 replaced 13290 with MHK\n",
      "184 replaced 10158 with ACY\n",
      "185 replaced 10685 with BMI\n",
      "186 replaced 13377 with MLU\n",
      "187 replaced 11109 with COS\n",
      "188 replaced 11076 with CMX\n",
      "189 replaced 11122 with CPR\n",
      "190 replaced 11865 with GCC\n",
      "191 replaced 14543 with RKS\n",
      "192 replaced 14905 with SMX\n",
      "193 replaced 11587 with ESC\n",
      "194 replaced 14457 with RAP\n",
      "195 replaced 12335 with IMT\n",
      "196 replaced 12343 with INL\n",
      "197 replaced 12003 with GTF\n",
      "198 replaced 10157 with ACV\n",
      "199 replaced 12884 with LAN\n",
      "200 replaced 14633 with RST\n",
      "201 replaced 15048 with SUX\n",
      "202 replaced 10268 with ALO\n",
      "203 replaced 15295 with TOL\n",
      "204 replaced 12389 with ISN\n",
      "205 replaced 11525 with EKO\n",
      "206 replaced 14262 with PSP\n",
      "207 replaced 12888 with LAR\n",
      "208 replaced 12391 with ISP\n",
      "209 replaced 11648 with FCA\n",
      "210 replaced 14696 with SBN\n",
      "211 replaced 12758 with KOA\n",
      "212 replaced 13830 with OGG\n",
      "213 replaced 10469 with AZO\n",
      "214 replaced 15412 with TYS\n",
      "215 replaced 10731 with BQK\n",
      "216 replaced 14679 with SAN\n",
      "217 replaced 14831 with SJC\n",
      "218 replaced 11413 with DRO\n",
      "219 replaced 13433 with MOT\n",
      "220 replaced 12982 with LIH\n",
      "221 replaced 11867 with GCK\n",
      "222 replaced 14698 with SBP\n",
      "223 replaced 11537 with ELM\n",
      "224 replaced 15389 with TWF\n",
      "225 replaced 12402 with ITO\n",
      "226 replaced 11337 with DLH\n",
      "227 replaced 13360 with MLB\n",
      "228 replaced 13076 with LSE\n",
      "229 replaced 14006 with PAH\n",
      "230 replaced 10728 with BPT\n",
      "231 replaced 15401 with TXK\n",
      "232 replaced 13230 with MDT\n",
      "233 replaced 12016 with GUM\n",
      "234 replaced 11067 with CMI\n",
      "235 replaced 11274 with DBQ\n",
      "236 replaced 11921 with GJT\n",
      "237 replaced 12519 with JMS\n",
      "238 replaced 11013 with CIU\n",
      "239 replaced 10779 with BTM\n",
      "240 replaced 14150 with PLN\n",
      "241 replaced 14794 with SGU\n",
      "242 replaced 12511 with JLN\n",
      "243 replaced 12177 with HOB\n",
      "244 replaced 12523 with JNU\n",
      "245 replaced 14908 with SNA\n",
      "246 replaced 12007 with GTR\n",
      "247 replaced 14588 with ROW\n",
      "248 replaced 13577 with MYR\n",
      "249 replaced 13061 with LRD\n",
      "250 replaced 15041 with SUN\n",
      "251 replaced 14109 with PIB\n",
      "252 replaced 10800 with BUR\n",
      "253 replaced 12954 with LGB\n",
      "254 replaced 12441 with JAC\n",
      "255 replaced 12898 with LBE\n",
      "256 replaced 16218 with YUM\n",
      "257 replaced 14113 with PIH\n",
      "258 replaced 11624 with EYW\n",
      "259 replaced 11503 with EGE\n",
      "260 replaced 10739 with BRD\n",
      "261 replaced 14574 with ROA\n",
      "262 replaced 14711 with SCE\n",
      "263 replaced 12129 with HIB\n",
      "264 replaced 15070 with SWF\n",
      "265 replaced 14520 with RHI\n",
      "266 replaced 13184 with MBS\n",
      "267 replaced 11252 with DAB\n",
      "268 replaced 12280 with IDA\n",
      "269 replaced 13241 with MEI\n",
      "270 replaced 11898 with GFK\n",
      "271 replaced 15024 with STT\n",
      "272 replaced 14674 with SAF\n",
      "273 replaced 10551 with BET\n",
      "274 replaced 12819 with KTN\n",
      "275 replaced 13459 with MQT\n",
      "276 replaced 10581 with BGR\n",
      "277 replaced 13970 with OTZ\n",
      "278 replaced 10372 with ASE\n",
      "279 replaced 10918 with CDC\n",
      "280 replaced 14709 with SCC\n",
      "281 replaced 12255 with HYS\n",
      "282 replaced 11905 with GGG\n",
      "283 replaced 10333 with APN\n",
      "284 replaced 11695 with FLG\n",
      "285 replaced 15841 with WRG\n",
      "286 replaced 13344 with MKG\n",
      "287 replaced 13933 with ORH\n",
      "288 replaced 15991 with YAK\n",
      "289 replaced 10754 with BRW\n",
      "290 replaced 14256 with PSG\n",
      "291 replaced 12094 with HDN\n",
      "292 replaced 13873 with OME\n",
      "293 replaced 11097 with COD\n",
      "294 replaced 10154 with ACK\n",
      "295 replaced 10926 with CDV\n",
      "296 replaced 13964 with OTH\n"
     ]
    },
    {
     "name": "stdout",
     "output_type": "stream",
     "text": [
      "297 replaced 13541 with MVY\n",
      "298 replaced 15027 with STX\n",
      "299 replaced 10170 with ADQ\n",
      "300 replaced 10165 with ADK\n",
      "301 replaced 15497 with UST\n",
      "302 replaced 12265 with IAG\n",
      "303 replaced 14222 with PPG\n",
      "304 replaced 14025 with PBG\n",
      "305 replaced 13502 with MTJ\n"
     ]
    }
   ],
   "source": [
    "df = flights.copy()\n",
    "five_digit = flights.loc[flights.MONTH==10].ORIGIN_AIRPORT.unique()\n",
    "\n",
    "for i in range(len(five_digit)):\n",
    "    to_replace = five_digit[i]\n",
    "    value = aircode_dict[five_digit[i]]\n",
    "    df.ORIGIN_AIRPORT = df.ORIGIN_AIRPORT.replace(to_replace, value)\n",
    "    df.DESTINATION_AIRPORT = df.DESTINATION_AIRPORT.replace(to_replace, value)\n",
    "    print(i,'replaced',to_replace,'with',value)"
   ]
  },
  {
   "cell_type": "markdown",
   "metadata": {},
   "source": [
    "3. We converted the time string into datetime.time type."
   ]
  },
  {
   "cell_type": "code",
   "execution_count": 13,
   "metadata": {},
   "outputs": [],
   "source": [
    "flights = df"
   ]
  },
  {
   "cell_type": "code",
   "execution_count": 14,
   "metadata": {},
   "outputs": [],
   "source": [
    "# Function that convert the 'HHMM' string to datetime.time\n",
    "def format_heure(chaine):\n",
    "    if pd.isnull(chaine):\n",
    "        return np.nan\n",
    "    else:\n",
    "        if chaine == 2400: chaine = 0\n",
    "        chaine = \"{0:04d}\".format(int(chaine))\n",
    "        heure = datetime.time(int(chaine[0:2]), int(chaine[2:4]))\n",
    "        return heure\n",
    "    return pd.Series(liste)"
   ]
  },
  {
   "cell_type": "code",
   "execution_count": 15,
   "metadata": {},
   "outputs": [],
   "source": [
    "flights['DATE'] = pd.to_datetime(flights[['YEAR','MONTH', 'DAY']])\n",
    "flights['SCHEDULED_DEPARTURE'] = flights['SCHEDULED_DEPARTURE'].apply(format_heure)\n",
    "flights['SCHEDULED_ARRIVAL'] = flights['SCHEDULED_ARRIVAL'].apply(format_heure)\n",
    "flights['DEPARTURE_TIME'] = flights['DEPARTURE_TIME'].apply(format_heure)\n",
    "flights['ARRIVAL_TIME'] = flights['ARRIVAL_TIME'].apply(format_heure)"
   ]
  },
  {
   "cell_type": "code",
   "execution_count": 16,
   "metadata": {},
   "outputs": [],
   "source": [
    "# flights.to_csv('flights_clean.csv',index=False)"
   ]
  },
  {
   "cell_type": "code",
   "execution_count": 3,
   "metadata": {},
   "outputs": [],
   "source": [
    "flights = flights[['DATE','MONTH','DAY','DAY_OF_WEEK',\n",
    "                  'AIRLINE','FLIGHT_NUMBER','ORIGIN_AIRPORT','DESTINATION_AIRPORT',\n",
    "                  'SCHEDULED_DEPARTURE','SCHEDULED_ARRIVAL','DEPARTURE_DELAY','ARRIVAL_DELAY',\n",
    "                  'AIR_TIME','DISTANCE']]"
   ]
  },
  {
   "cell_type": "code",
   "execution_count": 5,
   "metadata": {},
   "outputs": [],
   "source": [
    "flights['DATE'] = pd.to_datetime(flights['DATE'])\n",
    "flights['SCHEDULED_DEPARTURE'] = pd.to_datetime(flights['SCHEDULED_DEPARTURE'],format=\"%H:%M:%S\").dt.time"
   ]
  },
  {
   "cell_type": "code",
   "execution_count": 6,
   "metadata": {},
   "outputs": [],
   "source": [
    "def hr_func(ts):\n",
    "    return ts.hour\n",
    "flights['time_hour'] = flights['SCHEDULED_DEPARTURE'].apply(hr_func)"
   ]
  },
  {
   "cell_type": "code",
   "execution_count": 7,
   "metadata": {},
   "outputs": [],
   "source": [
    "df = flights.copy()\n",
    "df_city = df.merge(airports[['IATA_CODE','CITY','STATE']],left_on='ORIGIN_AIRPORT',right_on='IATA_CODE')\n",
    "df_city.rename(columns={'CITY':'DEPARTURE_CITY','STATE':'DEPARTURE_STATE'},inplace=True)\n",
    "df_city.drop(columns='IATA_CODE',inplace=True)\n",
    "df_city = df_city.merge(airports[['IATA_CODE','CITY','STATE']],left_on='DESTINATION_AIRPORT',right_on='IATA_CODE')\n",
    "df_city.rename(columns={'CITY':'DESTINATION_CITY','STATE':'DESTINATION_STATE'},inplace=True)\n",
    "df_city.drop(columns='IATA_CODE',inplace=True)\n",
    "flights = df_city"
   ]
  },
  {
   "cell_type": "markdown",
   "metadata": {},
   "source": [
    "After all pre-processing we got the data set as below:"
   ]
  },
  {
   "cell_type": "code",
   "execution_count": 8,
   "metadata": {},
   "outputs": [
    {
     "data": {
      "text/html": [
       "<div>\n",
       "<style scoped>\n",
       "    .dataframe tbody tr th:only-of-type {\n",
       "        vertical-align: middle;\n",
       "    }\n",
       "\n",
       "    .dataframe tbody tr th {\n",
       "        vertical-align: top;\n",
       "    }\n",
       "\n",
       "    .dataframe thead th {\n",
       "        text-align: right;\n",
       "    }\n",
       "</style>\n",
       "<table border=\"1\" class=\"dataframe\">\n",
       "  <thead>\n",
       "    <tr style=\"text-align: right;\">\n",
       "      <th></th>\n",
       "      <th>DATE</th>\n",
       "      <th>MONTH</th>\n",
       "      <th>DAY</th>\n",
       "      <th>DAY_OF_WEEK</th>\n",
       "      <th>AIRLINE</th>\n",
       "      <th>FLIGHT_NUMBER</th>\n",
       "      <th>ORIGIN_AIRPORT</th>\n",
       "      <th>DESTINATION_AIRPORT</th>\n",
       "      <th>SCHEDULED_DEPARTURE</th>\n",
       "      <th>SCHEDULED_ARRIVAL</th>\n",
       "      <th>DEPARTURE_DELAY</th>\n",
       "      <th>ARRIVAL_DELAY</th>\n",
       "      <th>AIR_TIME</th>\n",
       "      <th>DISTANCE</th>\n",
       "      <th>time_hour</th>\n",
       "      <th>DEPARTURE_CITY</th>\n",
       "      <th>DEPARTURE_STATE</th>\n",
       "      <th>DESTINATION_CITY</th>\n",
       "      <th>DESTINATION_STATE</th>\n",
       "    </tr>\n",
       "  </thead>\n",
       "  <tbody>\n",
       "    <tr>\n",
       "      <th>0</th>\n",
       "      <td>2015-01-01</td>\n",
       "      <td>1</td>\n",
       "      <td>1</td>\n",
       "      <td>4</td>\n",
       "      <td>AS</td>\n",
       "      <td>98</td>\n",
       "      <td>ANC</td>\n",
       "      <td>SEA</td>\n",
       "      <td>00:05:00</td>\n",
       "      <td>04:30:00</td>\n",
       "      <td>-11.0</td>\n",
       "      <td>-22.0</td>\n",
       "      <td>169.0</td>\n",
       "      <td>1448</td>\n",
       "      <td>0</td>\n",
       "      <td>Anchorage</td>\n",
       "      <td>AK</td>\n",
       "      <td>Seattle</td>\n",
       "      <td>WA</td>\n",
       "    </tr>\n",
       "    <tr>\n",
       "      <th>1</th>\n",
       "      <td>2015-01-01</td>\n",
       "      <td>1</td>\n",
       "      <td>1</td>\n",
       "      <td>4</td>\n",
       "      <td>AS</td>\n",
       "      <td>108</td>\n",
       "      <td>ANC</td>\n",
       "      <td>SEA</td>\n",
       "      <td>00:45:00</td>\n",
       "      <td>05:09:00</td>\n",
       "      <td>-4.0</td>\n",
       "      <td>-14.0</td>\n",
       "      <td>173.0</td>\n",
       "      <td>1448</td>\n",
       "      <td>0</td>\n",
       "      <td>Anchorage</td>\n",
       "      <td>AK</td>\n",
       "      <td>Seattle</td>\n",
       "      <td>WA</td>\n",
       "    </tr>\n",
       "    <tr>\n",
       "      <th>2</th>\n",
       "      <td>2015-01-01</td>\n",
       "      <td>1</td>\n",
       "      <td>1</td>\n",
       "      <td>4</td>\n",
       "      <td>DL</td>\n",
       "      <td>1560</td>\n",
       "      <td>ANC</td>\n",
       "      <td>SEA</td>\n",
       "      <td>00:45:00</td>\n",
       "      <td>05:15:00</td>\n",
       "      <td>-14.0</td>\n",
       "      <td>-24.0</td>\n",
       "      <td>171.0</td>\n",
       "      <td>1448</td>\n",
       "      <td>0</td>\n",
       "      <td>Anchorage</td>\n",
       "      <td>AK</td>\n",
       "      <td>Seattle</td>\n",
       "      <td>WA</td>\n",
       "    </tr>\n",
       "    <tr>\n",
       "      <th>3</th>\n",
       "      <td>2015-01-01</td>\n",
       "      <td>1</td>\n",
       "      <td>1</td>\n",
       "      <td>4</td>\n",
       "      <td>AS</td>\n",
       "      <td>134</td>\n",
       "      <td>ANC</td>\n",
       "      <td>SEA</td>\n",
       "      <td>01:55:00</td>\n",
       "      <td>06:33:00</td>\n",
       "      <td>-15.0</td>\n",
       "      <td>-35.0</td>\n",
       "      <td>170.0</td>\n",
       "      <td>1448</td>\n",
       "      <td>1</td>\n",
       "      <td>Anchorage</td>\n",
       "      <td>AK</td>\n",
       "      <td>Seattle</td>\n",
       "      <td>WA</td>\n",
       "    </tr>\n",
       "    <tr>\n",
       "      <th>4</th>\n",
       "      <td>2015-01-01</td>\n",
       "      <td>1</td>\n",
       "      <td>1</td>\n",
       "      <td>4</td>\n",
       "      <td>AS</td>\n",
       "      <td>114</td>\n",
       "      <td>ANC</td>\n",
       "      <td>SEA</td>\n",
       "      <td>02:20:00</td>\n",
       "      <td>06:40:00</td>\n",
       "      <td>-11.0</td>\n",
       "      <td>-12.0</td>\n",
       "      <td>176.0</td>\n",
       "      <td>1448</td>\n",
       "      <td>2</td>\n",
       "      <td>Anchorage</td>\n",
       "      <td>AK</td>\n",
       "      <td>Seattle</td>\n",
       "      <td>WA</td>\n",
       "    </tr>\n",
       "  </tbody>\n",
       "</table>\n",
       "</div>"
      ],
      "text/plain": [
       "        DATE  MONTH  DAY  DAY_OF_WEEK AIRLINE  FLIGHT_NUMBER ORIGIN_AIRPORT  \\\n",
       "0 2015-01-01      1    1            4      AS             98            ANC   \n",
       "1 2015-01-01      1    1            4      AS            108            ANC   \n",
       "2 2015-01-01      1    1            4      DL           1560            ANC   \n",
       "3 2015-01-01      1    1            4      AS            134            ANC   \n",
       "4 2015-01-01      1    1            4      AS            114            ANC   \n",
       "\n",
       "  DESTINATION_AIRPORT SCHEDULED_DEPARTURE SCHEDULED_ARRIVAL  DEPARTURE_DELAY  \\\n",
       "0                 SEA            00:05:00          04:30:00            -11.0   \n",
       "1                 SEA            00:45:00          05:09:00             -4.0   \n",
       "2                 SEA            00:45:00          05:15:00            -14.0   \n",
       "3                 SEA            01:55:00          06:33:00            -15.0   \n",
       "4                 SEA            02:20:00          06:40:00            -11.0   \n",
       "\n",
       "   ARRIVAL_DELAY  AIR_TIME  DISTANCE  time_hour DEPARTURE_CITY  \\\n",
       "0          -22.0     169.0      1448          0      Anchorage   \n",
       "1          -14.0     173.0      1448          0      Anchorage   \n",
       "2          -24.0     171.0      1448          0      Anchorage   \n",
       "3          -35.0     170.0      1448          1      Anchorage   \n",
       "4          -12.0     176.0      1448          2      Anchorage   \n",
       "\n",
       "  DEPARTURE_STATE DESTINATION_CITY DESTINATION_STATE  \n",
       "0              AK          Seattle                WA  \n",
       "1              AK          Seattle                WA  \n",
       "2              AK          Seattle                WA  \n",
       "3              AK          Seattle                WA  \n",
       "4              AK          Seattle                WA  "
      ]
     },
     "execution_count": 8,
     "metadata": {},
     "output_type": "execute_result"
    }
   ],
   "source": [
    "# flights.to_csv('flights_new.csv',index=False)\n",
    "flights.head()"
   ]
  },
  {
   "cell_type": "markdown",
   "metadata": {},
   "source": [
    "---\n",
    "### Data exploration\n",
    "In this part, we wanted to explore the influence of different features on delay time. We plotted the averaged delay time( both depature delay time and arrival delay time) on each feature:\n",
    "\n",
    "1. Different airline companies;\n",
    "2. Day of week (Monday, Tuesday, Wednesday etc.);\n",
    "3. Month (January, Feburary etc.);\n",
    "4. Time of a day(from 0 to 23 per hour);\n",
    "5. Depature city or state.\n",
    "\n",
    "And we can see that with different airline, day of week, month, time of a day and depature city, the delay time differs. And generally, the arrival delay time would be shorter than departure delay time, which means the airline will speed up a little to counterback depacture delay. "
   ]
  },
  {
   "cell_type": "markdown",
   "metadata": {},
   "source": [
    "1. First we looked at the averaged delay time of different airline. Generally Hawaiian Airlines and Alaska Airlines have lowest delay time. And when we considered the counts of delay flights (here we used 5 and 30 minutes thresholding not delay, small delay and heavy delay). And we can see Southwest airline serves most flights and also most delays; Hawaiian airline serves least flights and thus least delays."
   ]
  },
  {
   "cell_type": "code",
   "execution_count": 10,
   "metadata": {
    "scrolled": false
   },
   "outputs": [
    {
     "data": {
      "image/png": "[encoded data removed]",
      "text/plain": [
       "<Figure size 792x432 with 1 Axes>"
      ]
     },
     "metadata": {},
     "output_type": "display_data"
    }
   ],
   "source": [
    "df = flights.copy()\n",
    "fig = plt.figure(1, figsize=(11,6))\n",
    "ax = sns.barplot(x=\"DEPARTURE_DELAY\", y=\"AIRLINE\", data=df, color=\"lightskyblue\", ci=None)\n",
    "ax = sns.barplot(x=\"ARRIVAL_DELAY\", y=\"AIRLINE\", data=df, color=\"r\", hatch = '///',\n",
    "                 alpha = 0.0, ci=None)\n",
    "labels = [abbr_companies[item.get_text()] for item in ax.get_yticklabels()]\n",
    "ax.set_yticklabels(labels)\n",
    "ax.yaxis.label.set_visible(False)\n",
    "plt.xlabel('Mean delay [min] (@departure: blue, @arrival: hatch lines)',\n",
    "           fontsize=14, weight = 'bold', labelpad=10);\n"
   ]
  },
  {
   "cell_type": "code",
   "execution_count": 53,
   "metadata": {},
   "outputs": [
    {
     "data": {
      "image/png": "[encoded data removed]",
      "text/plain": [
       "<Figure size 720x504 with 1 Axes>"
      ]
     },
     "metadata": {},
     "output_type": "display_data"
    }
   ],
   "source": [
    "#_____________________________________________\n",
    "# Function that define how delays are grouped\n",
    "delay_type = lambda x:((0,1)[x > 5],2)[x > 30]\n",
    "df['DELAY_LEVEL'] = df['DEPARTURE_DELAY'].apply(delay_type)\n",
    "#____________________________________________________\n",
    "fig = plt.figure(1, figsize=(10,7))\n",
    "ax = sns.countplot(y=\"AIRLINE\", hue='DELAY_LEVEL', data=df)\n",
    "#____________________________________________________________________________________\n",
    "# We replace the abbreviations by the full names of the companies and set the labels\n",
    "labels = [abbr_companies[item.get_text()] for item in ax.get_yticklabels()]\n",
    "ax.set_yticklabels(labels)\n",
    "plt.setp(ax.get_xticklabels(), fontsize=12, weight = 'normal', rotation = 0);\n",
    "plt.setp(ax.get_yticklabels(), fontsize=12, weight = 'bold', rotation = 0);\n",
    "ax.yaxis.label.set_visible(False)\n",
    "plt.xlabel('Flight count', fontsize=16, weight = 'bold', labelpad=10)\n",
    "#________________\n",
    "# Set the legend\n",
    "L = plt.legend()\n",
    "L.get_texts()[0].set_text('on time (t < 5 min)')\n",
    "L.get_texts()[1].set_text('small delay (5 < t < 30 min)')\n",
    "L.get_texts()[2].set_text('large delay (t > 30 min)')\n",
    "plt.show()"
   ]
  },
  {
   "cell_type": "markdown",
   "metadata": {},
   "source": [
    "2. To see if the day of week of a flight will influence the delay time. And we can see that Monday has longest averaged delay and Saturday the shortest."
   ]
  },
  {
   "cell_type": "code",
   "execution_count": 48,
   "metadata": {},
   "outputs": [],
   "source": [
    "week_dict = {'1':'Monday','2':\"Tuesday\",'3':'Wednesday','4':'Thursday','5':'Friday',\n",
    "            '6':'Saturday','7':'Sunday'}"
   ]
  },
  {
   "cell_type": "code",
   "execution_count": 51,
   "metadata": {},
   "outputs": [
    {
     "data": {
      "image/png": "[encoded data removed]",
      "text/plain": [
       "<Figure size 792x432 with 1 Axes>"
      ]
     },
     "metadata": {},
     "output_type": "display_data"
    }
   ],
   "source": [
    "df = flights.copy()\n",
    "fig = plt.figure(1, figsize=(11,6))\n",
    "ax = sns.barplot(y=\"DEPARTURE_DELAY\", x=\"DAY_OF_WEEK\", data=df, color=\"lightskyblue\", ci=None)\n",
    "ax = sns.barplot(y=\"ARRIVAL_DELAY\", x=\"DAY_OF_WEEK\", data=df, color=\"r\", hatch = '///',\n",
    "                 alpha = 0.0, ci=None)\n",
    "labels = [week_dict[item.get_text()] for item in ax.get_xticklabels()]\n",
    "ax.set_xticklabels(labels)\n",
    "ax.yaxis.label.set_visible(False)\n",
    "plt.xlabel('Mean delay [min] (@departure: blue, @arrival: hatch lines)',\n",
    "           fontsize=14, weight = 'bold', labelpad=10);\n"
   ]
  },
  {
   "cell_type": "markdown",
   "metadata": {},
   "source": [
    "3. Next we plotted averaged delay time of different month. Generally, there is a fluctuation in season (spring and autumn(Feburary, March, April and September, October, November) have shorter delay time while rest have longer time). And June and December have highest delay time, which may be explained by summer holiday and Christmas."
   ]
  },
  {
   "cell_type": "code",
   "execution_count": 56,
   "metadata": {},
   "outputs": [],
   "source": [
    "month_dict = {'1':'Jan','2':\"Feb\",'3':'Mar','4':'Apr','5':'May',\n",
    "            '6':'Jun','7':'Jul','8':'Aug','9':'Sep','10':'Oct',\n",
    "             '11':'Nov','12':'Dec'}"
   ]
  },
  {
   "cell_type": "code",
   "execution_count": 57,
   "metadata": {},
   "outputs": [
    {
     "data": {
      "image/png": "[encoded data removed]",
      "text/plain": [
       "<Figure size 792x432 with 1 Axes>"
      ]
     },
     "metadata": {},
     "output_type": "display_data"
    }
   ],
   "source": [
    "df = flights.copy()\n",
    "fig = plt.figure(1, figsize=(11,6))\n",
    "ax = sns.barplot(y=\"DEPARTURE_DELAY\", x=\"MONTH\", data=df, color=\"lightskyblue\", ci=None)\n",
    "ax = sns.barplot(y=\"ARRIVAL_DELAY\", x=\"MONTH\", data=df, color=\"r\", hatch = '///',\n",
    "                 alpha = 0.0, ci=None)\n",
    "labels = [month_dict[item.get_text()] for item in ax.get_xticklabels()]\n",
    "ax.set_xticklabels(labels)\n",
    "ax.yaxis.label.set_visible(False)\n",
    "plt.xlabel('Mean delay [min] (@departure: blue, @arrival: hatch lines)',\n",
    "           fontsize=14, weight = 'bold', labelpad=10);\n"
   ]
  },
  {
   "cell_type": "markdown",
   "metadata": {},
   "source": [
    "4. Next we plotted the delay time differences of different departure city/state. Because there are too many cities, for the sake of clearness, here we just plotted top 15 busiest cities and their averaged delay time."
   ]
  },
  {
   "cell_type": "code",
   "execution_count": 44,
   "metadata": {
    "scrolled": true
   },
   "outputs": [
    {
     "data": {
      "text/plain": [
       "Index(['Chicago', 'Atlanta', 'Dallas-Fort Worth', 'Houston', 'Denver',\n",
       "       'Los Angeles', 'New York', 'San Francisco', 'Phoenix', 'Las Vegas',\n",
       "       'Minneapolis', 'Seattle', 'Orlando', 'Detroit', 'Boston'],\n",
       "      dtype='object')"
      ]
     },
     "execution_count": 44,
     "metadata": {},
     "output_type": "execute_result"
    }
   ],
   "source": [
    "city_names = df_city.DEPARTURE_CITY.value_counts().head(15).index\n",
    "city_names"
   ]
  },
  {
   "cell_type": "code",
   "execution_count": 43,
   "metadata": {
    "scrolled": false
   },
   "outputs": [
    {
     "data": {
      "image/png": "[encoded data removed]",
      "text/plain": [
       "<Figure size 792x432 with 1 Axes>"
      ]
     },
     "metadata": {},
     "output_type": "display_data"
    }
   ],
   "source": [
    "df = df_city[df_city['DEPARTURE_CITY'].isin(city_names)]\n",
    "fig = plt.figure(1, figsize=(11,6))\n",
    "ax = sns.barplot(x=\"DEPARTURE_DELAY\", y=\"DEPARTURE_CITY\", data=df, color=\"lightskyblue\", ci=None)\n",
    "ax = sns.barplot(x=\"ARRIVAL_DELAY\", y=\"DEPARTURE_CITY\", data=df, color=\"r\", hatch = '///',\n",
    "                 alpha = 0.0, ci=None)\n",
    "plt.xlabel('Mean delay [min] (@departure: blue, @arrival: hatch lines)',\n",
    "           fontsize=14, weight = 'bold', labelpad=10);"
   ]
  },
  {
   "cell_type": "markdown",
   "metadata": {},
   "source": [
    "And we showed the delay time differences in all US states."
   ]
  },
  {
   "cell_type": "code",
   "execution_count": 15,
   "metadata": {},
   "outputs": [
    {
     "data": {
      "image/png": "[encoded data removed]",
      "text/plain": [
       "<Figure size 792x1080 with 1 Axes>"
      ]
     },
     "metadata": {},
     "output_type": "display_data"
    }
   ],
   "source": [
    "df = flights.copy()\n",
    "fig = plt.figure(1, figsize=(11,15))\n",
    "ax = sns.barplot(x=\"DEPARTURE_DELAY\", y=\"DEPARTURE_STATE\", data=df, color=\"lightskyblue\", ci=None)\n",
    "ax = sns.barplot(x=\"ARRIVAL_DELAY\", y=\"DEPARTURE_STATE\", data=df, color=\"r\", hatch = '///',\n",
    "                 alpha = 0.0, ci=None)\n",
    "# labels = [abbr_companies[item.get_text()] for item in ax.get_yticklabels()]\n",
    "# ax.set_yticklabels(labels)\n",
    "# ax.yaxis.label.set_visible(False)\n",
    "plt.xlabel('Mean delay [min] (@departure: blue, @arrival: hatch lines)',\n",
    "           fontsize=14, weight = 'bold', labelpad=10);"
   ]
  },
  {
   "cell_type": "markdown",
   "metadata": {},
   "source": [
    "5. Finally, we plotted the delay time over time of a day. And it is interesting that the delay time grows gradually after 5 am and slowly drops after 20pm. It reflects with the reality, that morning flights are less likely to be delayed, while later flights, because of delay of former flights, will be more likely to be delayed."
   ]
  },
  {
   "cell_type": "code",
   "execution_count": 68,
   "metadata": {},
   "outputs": [],
   "source": [
    "def hr_func(ts):\n",
    "    return ts.hour\n",
    "df['time_hour'] = df['SCHEDULED_DEPARTURE'].apply(hr_func)"
   ]
  },
  {
   "cell_type": "code",
   "execution_count": 71,
   "metadata": {},
   "outputs": [
    {
     "data": {
      "image/png": "[encoded data removed]",
      "text/plain": [
       "<Figure size 792x432 with 1 Axes>"
      ]
     },
     "metadata": {},
     "output_type": "display_data"
    }
   ],
   "source": [
    "df = flights.copy()\n",
    "fig = plt.figure(1, figsize=(11,6))\n",
    "ax = sns.barplot(y=\"DEPARTURE_DELAY\", x=\"time_hour\", data=df, color=\"lightskyblue\", ci=None)\n",
    "ax = sns.barplot(y=\"ARRIVAL_DELAY\", x=\"time_hour\", data=df, color=\"r\", hatch = '///',\n",
    "                 alpha = 0.0, ci=None)\n",
    "# labels = [month_dict[item.get_text()] for item in ax.get_xticklabels()]\n",
    "# ax.set_xticklabels(labels)\n",
    "# ax.yaxis.label.set_visible(False)\n",
    "plt.xlabel('Mean delay [min] (@departure: blue, @arrival: hatch lines)',\n",
    "           fontsize=14, weight = 'bold', labelpad=10);"
   ]
  },
  {
   "cell_type": "markdown",
   "metadata": {},
   "source": [
    "Also, we noticed that different airlines have their preferred cities, which incide with their focus cities."
   ]
  },
  {
   "cell_type": "code",
   "execution_count": 34,
   "metadata": {},
   "outputs": [
    {
     "data": {
      "text/plain": [
       "Honolulu       32828\n",
       "Kahului        14014\n",
       "Kailua/Kona     7939\n",
       "Lihue           7884\n",
       "Hilo            5932\n",
       "Name: DEPARTURE_CITY, dtype: int64"
      ]
     },
     "execution_count": 34,
     "metadata": {},
     "output_type": "execute_result"
    }
   ],
   "source": [
    "# HA for Hawaiian Airlines Inc.\n",
    "flights.loc[flights.AIRLINE=='HA'].DEPARTURE_CITY.value_counts().head()"
   ]
  },
  {
   "cell_type": "code",
   "execution_count": 33,
   "metadata": {
    "scrolled": true
   },
   "outputs": [
    {
     "data": {
      "text/plain": [
       "Chicago      81364\n",
       "Las Vegas    74226\n",
       "Baltimore    68427\n",
       "Denver       60278\n",
       "Phoenix      58010\n",
       "Name: DEPARTURE_CITY, dtype: int64"
      ]
     },
     "execution_count": 33,
     "metadata": {},
     "output_type": "execute_result"
    }
   ],
   "source": [
    "# WN for Southwest Airlines Co.\n",
    "flights.loc[flights.AIRLINE=='WN'].DEPARTURE_CITY.value_counts().head()"
   ]
  },
  {
   "cell_type": "markdown",
   "metadata": {},
   "source": [
    "---\n",
    "### Creating features \n",
    "Next, we will use the features above in our machine learning part. As we can see most of the features (monty, day of week, airline, departure state) are categorical data and we need to use one hot to encode these features."
   ]
  },
  {
   "cell_type": "code",
   "execution_count": 17,
   "metadata": {
    "scrolled": true
   },
   "outputs": [],
   "source": [
    "month_feature = pd.get_dummies(flights.MONTH,prefix='Month',sparse=True)\n",
    "hour_feature = pd.get_dummies(flights.time_hour,prefix='Hour',sparse=True)\n",
    "org_airport = pd.get_dummies(flights.ORIGIN_AIRPORT,prefix='Org',sparse=True)\n",
    "des_airport = pd.get_dummies(flights.DESTINATION_AIRPORT,prefix='Des',sparse=True)\n",
    "airline_feature = pd.get_dummies(flights.AIRLINE,sparse=True)\n",
    "day_of_week_feature = pd.get_dummies(flights.DAY_OF_WEEK,prefix='week',sparse=True)"
   ]
  },
  {
   "cell_type": "code",
   "execution_count": 19,
   "metadata": {
    "scrolled": true
   },
   "outputs": [],
   "source": [
    "df = pd.concat([month_feature,hour_feature,org_airport,des_airport,airline_feature,day_of_week_feature], axis=1)"
   ]
  },
  {
   "cell_type": "code",
   "execution_count": 20,
   "metadata": {},
   "outputs": [],
   "source": [
    "numeric_feature = flights[['AIR_TIME','DISTANCE']]"
   ]
  },
  {
   "cell_type": "code",
   "execution_count": 21,
   "metadata": {},
   "outputs": [],
   "source": [
    "df = pd.concat([df,numeric_feature],axis=1)"
   ]
  },
  {
   "cell_type": "code",
   "execution_count": 28,
   "metadata": {},
   "outputs": [],
   "source": [
    "delay = flights[['DEPARTURE_DELAY','ARRIVAL_DELAY']]\n",
    "df = pd.concat([df,delay],axis=1)"
   ]
  },
  {
   "cell_type": "code",
   "execution_count": 29,
   "metadata": {},
   "outputs": [],
   "source": [
    "#pd.to_pickle(df,'data.pkl')"
   ]
  },
  {
   "cell_type": "code",
   "execution_count": null,
   "metadata": {},
   "outputs": [],
   "source": []
  }
 ],
 "metadata": {
  "kernelspec": {
   "display_name": "Python 3",
   "language": "python",
   "name": "python3"
  },
  "language_info": {
   "codemirror_mode": {
    "name": "ipython",
    "version": 3
   },
   "file_extension": ".py",
   "mimetype": "text/x-python",
   "name": "python",
   "nbconvert_exporter": "python",
   "pygments_lexer": "ipython3",
   "version": "3.6.5"
  }
 },
 "nbformat": 4,
 "nbformat_minor": 2
}
