{
 "cells": [
  {
   "cell_type": "markdown",
   "metadata": {},
   "source": [
    "## Treat the genres of the movies##\n",
    "\n",
    "Attribute a new number to each new genre and replace in the dataframe"
   ]
  },
  {
   "cell_type": "code",
   "execution_count": 68,
   "metadata": {},
   "outputs": [],
   "source": [
    "%matplotlib inline\n",
    "\n",
    "import configparser\n",
    "import os\n",
    "\n",
    "import requests\n",
    "from tqdm import tqdm\n",
    "import numpy as np\n",
    "import pandas as pd\n",
    "import matplotlib.pyplot as plt\n",
    "from scipy import sparse, stats, spatial\n",
    "import scipy.sparse.linalg\n",
    "from sklearn import preprocessing, decomposition\n",
    "import librosa\n",
    "import IPython.display as ipd\n",
    "import json\n",
    "from imdb import IMDb\n",
    "import tmdbsimple as tmdb\n",
    "from pygsp import graphs, filters, plotting\n",
    "\n",
    "plt.rcParams['figure.figsize'] = (17, 5)\n",
    "plotting.BACKEND = 'matplotlib'"
   ]
  },
  {
   "cell_type": "code",
   "execution_count": 69,
   "metadata": {
    "collapsed": true
   },
   "outputs": [],
   "source": [
    "df = pd.read_csv('Saved_Datasets/NewFeaturesDataset.csv')"
   ]
  },
  {
   "cell_type": "code",
   "execution_count": 70,
   "metadata": {},
   "outputs": [
    {
     "name": "stdout",
     "output_type": "stream",
     "text": [
      "There are 2621 movies\n"
     ]
    }
   ],
   "source": [
    "print('There are {} movies'.format(len(df)))"
   ]
  },
  {
   "cell_type": "code",
   "execution_count": 71,
   "metadata": {},
   "outputs": [
    {
     "data": {
      "text/plain": [
       "'Drama|Crime|Music'"
      ]
     },
     "execution_count": 71,
     "metadata": {},
     "output_type": "execute_result"
    }
   ],
   "source": [
    "df['genres'][1]"
   ]
  },
  {
   "cell_type": "code",
   "execution_count": 72,
   "metadata": {},
   "outputs": [
    {
     "data": {
      "text/html": [
       "<div>\n",
       "<style>\n",
       "    .dataframe thead tr:only-child th {\n",
       "        text-align: right;\n",
       "    }\n",
       "\n",
       "    .dataframe thead th {\n",
       "        text-align: left;\n",
       "    }\n",
       "\n",
       "    .dataframe tbody tr th {\n",
       "        vertical-align: top;\n",
       "    }\n",
       "</style>\n",
       "<table border=\"1\" class=\"dataframe\">\n",
       "  <thead>\n",
       "    <tr style=\"text-align: right;\">\n",
       "      <th></th>\n",
       "      <th>id</th>\n",
       "      <th>budget</th>\n",
       "      <th>genres</th>\n",
       "      <th>imdb_id</th>\n",
       "      <th>overview</th>\n",
       "      <th>production_companies</th>\n",
       "      <th>release_date</th>\n",
       "      <th>revenue</th>\n",
       "      <th>title</th>\n",
       "      <th>director_name</th>\n",
       "      <th>actor_names</th>\n",
       "      <th>Metacritic</th>\n",
       "      <th>ROI</th>\n",
       "      <th>success</th>\n",
       "    </tr>\n",
       "  </thead>\n",
       "  <tbody>\n",
       "    <tr>\n",
       "      <th>0</th>\n",
       "      <td>12</td>\n",
       "      <td>94000000</td>\n",
       "      <td>Animation|Family</td>\n",
       "      <td>266543</td>\n",
       "      <td>Nemo, an adventurous young clownfish, is unexp...</td>\n",
       "      <td>Pixar Animation Studios</td>\n",
       "      <td>2003-05-30</td>\n",
       "      <td>940335536</td>\n",
       "      <td>Finding Nemo</td>\n",
       "      <td>Andrew Stanton</td>\n",
       "      <td>['Albert Brooks', 'Ellen DeGeneres', 'Alexande...</td>\n",
       "      <td>90</td>\n",
       "      <td>2.639</td>\n",
       "      <td>4</td>\n",
       "    </tr>\n",
       "    <tr>\n",
       "      <th>1</th>\n",
       "      <td>16</td>\n",
       "      <td>12800000</td>\n",
       "      <td>Drama|Crime|Music</td>\n",
       "      <td>168629</td>\n",
       "      <td>Selma, a Czech immigrant on the verge of blind...</td>\n",
       "      <td>Fine Line Features</td>\n",
       "      <td>2000-05-17</td>\n",
       "      <td>40031879</td>\n",
       "      <td>Dancer in the Dark</td>\n",
       "      <td>Lars von Trier</td>\n",
       "      <td>['Björk', 'Catherine Deneuve', 'David Morse', ...</td>\n",
       "      <td>61</td>\n",
       "      <td>2.127</td>\n",
       "      <td>3</td>\n",
       "    </tr>\n",
       "    <tr>\n",
       "      <th>2</th>\n",
       "      <td>22</td>\n",
       "      <td>140000000</td>\n",
       "      <td>Adventure|Fantasy|Action</td>\n",
       "      <td>325980</td>\n",
       "      <td>Jack Sparrow, a freewheeling 17th-century pira...</td>\n",
       "      <td>Walt Disney Pictures</td>\n",
       "      <td>2003-09-07</td>\n",
       "      <td>655011224</td>\n",
       "      <td>Pirates of the Caribbean: The Curse of the Bla...</td>\n",
       "      <td>Gore Verbinski</td>\n",
       "      <td>['Johnny Depp', 'Geoffrey Rush', 'Orlando Bloo...</td>\n",
       "      <td>63</td>\n",
       "      <td>2.639</td>\n",
       "      <td>4</td>\n",
       "    </tr>\n",
       "    <tr>\n",
       "      <th>3</th>\n",
       "      <td>24</td>\n",
       "      <td>30000000</td>\n",
       "      <td>Action|Crime</td>\n",
       "      <td>266697</td>\n",
       "      <td>An assassin is shot at the altar by her ruthle...</td>\n",
       "      <td>Miramax Films</td>\n",
       "      <td>2003-10-10</td>\n",
       "      <td>180949000</td>\n",
       "      <td>Kill Bill: Vol. 1</td>\n",
       "      <td>Quentin Tarantino</td>\n",
       "      <td>['Uma Thurman', 'Lucy Liu', 'Vivica A. Fox', '...</td>\n",
       "      <td>69</td>\n",
       "      <td>2.639</td>\n",
       "      <td>4</td>\n",
       "    </tr>\n",
       "    <tr>\n",
       "      <th>4</th>\n",
       "      <td>25</td>\n",
       "      <td>72000000</td>\n",
       "      <td>Drama|War</td>\n",
       "      <td>418763</td>\n",
       "      <td>Jarhead is a film about a US Marine Anthony Sw...</td>\n",
       "      <td>Universal Pictures</td>\n",
       "      <td>2005-04-11</td>\n",
       "      <td>96889998</td>\n",
       "      <td>Jarhead</td>\n",
       "      <td>Sam Mendes</td>\n",
       "      <td>['Jamie Foxx', 'Scott MacDonald', 'Lucas Black...</td>\n",
       "      <td>58</td>\n",
       "      <td>0.346</td>\n",
       "      <td>2</td>\n",
       "    </tr>\n",
       "  </tbody>\n",
       "</table>\n",
       "</div>"
      ],
      "text/plain": [
       "   id     budget                    genres  imdb_id  \\\n",
       "0  12   94000000          Animation|Family   266543   \n",
       "1  16   12800000         Drama|Crime|Music   168629   \n",
       "2  22  140000000  Adventure|Fantasy|Action   325980   \n",
       "3  24   30000000              Action|Crime   266697   \n",
       "4  25   72000000                 Drama|War   418763   \n",
       "\n",
       "                                            overview     production_companies  \\\n",
       "0  Nemo, an adventurous young clownfish, is unexp...  Pixar Animation Studios   \n",
       "1  Selma, a Czech immigrant on the verge of blind...       Fine Line Features   \n",
       "2  Jack Sparrow, a freewheeling 17th-century pira...     Walt Disney Pictures   \n",
       "3  An assassin is shot at the altar by her ruthle...            Miramax Films   \n",
       "4  Jarhead is a film about a US Marine Anthony Sw...       Universal Pictures   \n",
       "\n",
       "  release_date    revenue                                              title  \\\n",
       "0   2003-05-30  940335536                                       Finding Nemo   \n",
       "1   2000-05-17   40031879                                 Dancer in the Dark   \n",
       "2   2003-09-07  655011224  Pirates of the Caribbean: The Curse of the Bla...   \n",
       "3   2003-10-10  180949000                                  Kill Bill: Vol. 1   \n",
       "4   2005-04-11   96889998                                            Jarhead   \n",
       "\n",
       "       director_name                                        actor_names  \\\n",
       "0     Andrew Stanton  ['Albert Brooks', 'Ellen DeGeneres', 'Alexande...   \n",
       "1     Lars von Trier  ['Björk', 'Catherine Deneuve', 'David Morse', ...   \n",
       "2     Gore Verbinski  ['Johnny Depp', 'Geoffrey Rush', 'Orlando Bloo...   \n",
       "3  Quentin Tarantino  ['Uma Thurman', 'Lucy Liu', 'Vivica A. Fox', '...   \n",
       "4         Sam Mendes  ['Jamie Foxx', 'Scott MacDonald', 'Lucas Black...   \n",
       "\n",
       "   Metacritic    ROI  success  \n",
       "0          90  2.639        4  \n",
       "1          61  2.127        3  \n",
       "2          63  2.639        4  \n",
       "3          69  2.639        4  \n",
       "4          58  0.346        2  "
      ]
     },
     "execution_count": 72,
     "metadata": {},
     "output_type": "execute_result"
    }
   ],
   "source": [
    "df.head()\n",
    "#df.iloc[100:150]"
   ]
  },
  {
   "cell_type": "markdown",
   "metadata": {},
   "source": [
    "### 1. Parsing example ###"
   ]
  },
  {
   "cell_type": "code",
   "execution_count": 73,
   "metadata": {
    "collapsed": true
   },
   "outputs": [],
   "source": [
    "df['genres'] = df['genres'].str.replace('|', ',') "
   ]
  },
  {
   "cell_type": "code",
   "execution_count": 74,
   "metadata": {},
   "outputs": [
    {
     "name": "stdout",
     "output_type": "stream",
     "text": [
      "['Drama', 'Crime', 'Music']\n",
      "3\n"
     ]
    }
   ],
   "source": [
    "i = 1\n",
    "newgenres = df['genres'][i].split(\",\")\n",
    "\n",
    "print(newgenres)\n",
    "print(len(newgenres))"
   ]
  },
  {
   "cell_type": "markdown",
   "metadata": {},
   "source": [
    "### 2. Determine different genres ###\n",
    "\n",
    "Determine the number of different genres and what they are."
   ]
  },
  {
   "cell_type": "code",
   "execution_count": 75,
   "metadata": {
    "collapsed": true
   },
   "outputs": [],
   "source": [
    "Diffgenres = [];\n",
    "genres = {}\n",
    "movies_dic = {}\n",
    "\n",
    "for i in range(0, len(df)):\n",
    "    \n",
    "    movies_dic[i] = df['id'][i]\n",
    "    \n",
    "    if df['genres'][i] == 'NaN':\n",
    "        newgenres = []\n",
    "    else:\n",
    "        newgenres = df['genres'][i].split(\",\")\n",
    "        \n",
    "        genres.setdefault(i, [])\n",
    "        \n",
    "        for j in range (0, len(newgenres)):\n",
    "            Diffgenres.append(newgenres[j])\n",
    "            genres[i].append(newgenres[j])"
   ]
  },
  {
   "cell_type": "code",
   "execution_count": 76,
   "metadata": {},
   "outputs": [
    {
     "name": "stdout",
     "output_type": "stream",
     "text": [
      "There are 20 different genres\n",
      "['TV Movie', 'War', 'Music', 'Drama', 'Thriller', 'Western', 'Comedy', 'Foreign', 'Crime', 'Mystery', 'Horror', 'History', 'Adventure', 'Animation', 'Action', 'Romance', 'Fantasy', 'Science Fiction', 'Family', 'Documentary']\n"
     ]
    }
   ],
   "source": [
    "Diffgenres = set(Diffgenres)\n",
    "Diffgenres = list(Diffgenres)\n",
    "\n",
    "print('There are {} different genres'.format(len(Diffgenres)))\n",
    "print(Diffgenres)"
   ]
  },
  {
   "cell_type": "code",
   "execution_count": 77,
   "metadata": {},
   "outputs": [
    {
     "data": {
      "text/html": [
       "<div>\n",
       "<style>\n",
       "    .dataframe thead tr:only-child th {\n",
       "        text-align: right;\n",
       "    }\n",
       "\n",
       "    .dataframe thead th {\n",
       "        text-align: left;\n",
       "    }\n",
       "\n",
       "    .dataframe tbody tr th {\n",
       "        vertical-align: top;\n",
       "    }\n",
       "</style>\n",
       "<table border=\"1\" class=\"dataframe\">\n",
       "  <thead>\n",
       "    <tr style=\"text-align: right;\">\n",
       "      <th></th>\n",
       "      <th>id</th>\n",
       "      <th>budget</th>\n",
       "      <th>genres</th>\n",
       "      <th>imdb_id</th>\n",
       "      <th>overview</th>\n",
       "      <th>production_companies</th>\n",
       "      <th>release_date</th>\n",
       "      <th>revenue</th>\n",
       "      <th>title</th>\n",
       "      <th>director_name</th>\n",
       "      <th>actor_names</th>\n",
       "      <th>Metacritic</th>\n",
       "      <th>ROI</th>\n",
       "      <th>success</th>\n",
       "    </tr>\n",
       "  </thead>\n",
       "  <tbody>\n",
       "    <tr>\n",
       "      <th>0</th>\n",
       "      <td>12</td>\n",
       "      <td>94000000</td>\n",
       "      <td>Animation,Family</td>\n",
       "      <td>266543</td>\n",
       "      <td>Nemo, an adventurous young clownfish, is unexp...</td>\n",
       "      <td>Pixar Animation Studios</td>\n",
       "      <td>2003-05-30</td>\n",
       "      <td>940335536</td>\n",
       "      <td>Finding Nemo</td>\n",
       "      <td>Andrew Stanton</td>\n",
       "      <td>['Albert Brooks', 'Ellen DeGeneres', 'Alexande...</td>\n",
       "      <td>90</td>\n",
       "      <td>2.639</td>\n",
       "      <td>4</td>\n",
       "    </tr>\n",
       "    <tr>\n",
       "      <th>1</th>\n",
       "      <td>16</td>\n",
       "      <td>12800000</td>\n",
       "      <td>Drama,Crime,Music</td>\n",
       "      <td>168629</td>\n",
       "      <td>Selma, a Czech immigrant on the verge of blind...</td>\n",
       "      <td>Fine Line Features</td>\n",
       "      <td>2000-05-17</td>\n",
       "      <td>40031879</td>\n",
       "      <td>Dancer in the Dark</td>\n",
       "      <td>Lars von Trier</td>\n",
       "      <td>['Björk', 'Catherine Deneuve', 'David Morse', ...</td>\n",
       "      <td>61</td>\n",
       "      <td>2.127</td>\n",
       "      <td>3</td>\n",
       "    </tr>\n",
       "    <tr>\n",
       "      <th>2</th>\n",
       "      <td>22</td>\n",
       "      <td>140000000</td>\n",
       "      <td>Adventure,Fantasy,Action</td>\n",
       "      <td>325980</td>\n",
       "      <td>Jack Sparrow, a freewheeling 17th-century pira...</td>\n",
       "      <td>Walt Disney Pictures</td>\n",
       "      <td>2003-09-07</td>\n",
       "      <td>655011224</td>\n",
       "      <td>Pirates of the Caribbean: The Curse of the Bla...</td>\n",
       "      <td>Gore Verbinski</td>\n",
       "      <td>['Johnny Depp', 'Geoffrey Rush', 'Orlando Bloo...</td>\n",
       "      <td>63</td>\n",
       "      <td>2.639</td>\n",
       "      <td>4</td>\n",
       "    </tr>\n",
       "    <tr>\n",
       "      <th>3</th>\n",
       "      <td>24</td>\n",
       "      <td>30000000</td>\n",
       "      <td>Action,Crime</td>\n",
       "      <td>266697</td>\n",
       "      <td>An assassin is shot at the altar by her ruthle...</td>\n",
       "      <td>Miramax Films</td>\n",
       "      <td>2003-10-10</td>\n",
       "      <td>180949000</td>\n",
       "      <td>Kill Bill: Vol. 1</td>\n",
       "      <td>Quentin Tarantino</td>\n",
       "      <td>['Uma Thurman', 'Lucy Liu', 'Vivica A. Fox', '...</td>\n",
       "      <td>69</td>\n",
       "      <td>2.639</td>\n",
       "      <td>4</td>\n",
       "    </tr>\n",
       "    <tr>\n",
       "      <th>4</th>\n",
       "      <td>25</td>\n",
       "      <td>72000000</td>\n",
       "      <td>Drama,War</td>\n",
       "      <td>418763</td>\n",
       "      <td>Jarhead is a film about a US Marine Anthony Sw...</td>\n",
       "      <td>Universal Pictures</td>\n",
       "      <td>2005-04-11</td>\n",
       "      <td>96889998</td>\n",
       "      <td>Jarhead</td>\n",
       "      <td>Sam Mendes</td>\n",
       "      <td>['Jamie Foxx', 'Scott MacDonald', 'Lucas Black...</td>\n",
       "      <td>58</td>\n",
       "      <td>0.346</td>\n",
       "      <td>2</td>\n",
       "    </tr>\n",
       "  </tbody>\n",
       "</table>\n",
       "</div>"
      ],
      "text/plain": [
       "   id     budget                    genres  imdb_id  \\\n",
       "0  12   94000000          Animation,Family   266543   \n",
       "1  16   12800000         Drama,Crime,Music   168629   \n",
       "2  22  140000000  Adventure,Fantasy,Action   325980   \n",
       "3  24   30000000              Action,Crime   266697   \n",
       "4  25   72000000                 Drama,War   418763   \n",
       "\n",
       "                                            overview     production_companies  \\\n",
       "0  Nemo, an adventurous young clownfish, is unexp...  Pixar Animation Studios   \n",
       "1  Selma, a Czech immigrant on the verge of blind...       Fine Line Features   \n",
       "2  Jack Sparrow, a freewheeling 17th-century pira...     Walt Disney Pictures   \n",
       "3  An assassin is shot at the altar by her ruthle...            Miramax Films   \n",
       "4  Jarhead is a film about a US Marine Anthony Sw...       Universal Pictures   \n",
       "\n",
       "  release_date    revenue                                              title  \\\n",
       "0   2003-05-30  940335536                                       Finding Nemo   \n",
       "1   2000-05-17   40031879                                 Dancer in the Dark   \n",
       "2   2003-09-07  655011224  Pirates of the Caribbean: The Curse of the Bla...   \n",
       "3   2003-10-10  180949000                                  Kill Bill: Vol. 1   \n",
       "4   2005-04-11   96889998                                            Jarhead   \n",
       "\n",
       "       director_name                                        actor_names  \\\n",
       "0     Andrew Stanton  ['Albert Brooks', 'Ellen DeGeneres', 'Alexande...   \n",
       "1     Lars von Trier  ['Björk', 'Catherine Deneuve', 'David Morse', ...   \n",
       "2     Gore Verbinski  ['Johnny Depp', 'Geoffrey Rush', 'Orlando Bloo...   \n",
       "3  Quentin Tarantino  ['Uma Thurman', 'Lucy Liu', 'Vivica A. Fox', '...   \n",
       "4         Sam Mendes  ['Jamie Foxx', 'Scott MacDonald', 'Lucas Black...   \n",
       "\n",
       "   Metacritic    ROI  success  \n",
       "0          90  2.639        4  \n",
       "1          61  2.127        3  \n",
       "2          63  2.639        4  \n",
       "3          69  2.639        4  \n",
       "4          58  0.346        2  "
      ]
     },
     "execution_count": 77,
     "metadata": {},
     "output_type": "execute_result"
    }
   ],
   "source": [
    "df.head()"
   ]
  },
  {
   "cell_type": "markdown",
   "metadata": {},
   "source": [
    "### 3. Create vector of genres for each movie and a dataframe ###"
   ]
  },
  {
   "cell_type": "markdown",
   "metadata": {},
   "source": [
    "Binary vector where the elements are 1 if the film has the genre corresponding to the index of the film. Otherwise the elements are zero."
   ]
  },
  {
   "cell_type": "markdown",
   "metadata": {},
   "source": [
    "Quick example:"
   ]
  },
  {
   "cell_type": "code",
   "execution_count": 78,
   "metadata": {},
   "outputs": [
    {
     "name": "stdout",
     "output_type": "stream",
     "text": [
      "Animation\n",
      "[0 0 0 0 0 0 0 0 0 0 0 0 0 1 0 0 0 0 0 0]\n"
     ]
    }
   ],
   "source": [
    "print(genres[0][0])\n",
    "len(genres[0][0])\n",
    "\n",
    "vector = (genres[0][0] == np.array(Diffgenres)).astype(int)\n",
    "print(vector)"
   ]
  },
  {
   "cell_type": "code",
   "execution_count": 79,
   "metadata": {
    "collapsed": true
   },
   "outputs": [],
   "source": [
    "genreArray = np.ndarray(shape=(len(df), len(Diffgenres)), dtype=int)\n",
    "\n",
    "for i in range(0, len(df)):\n",
    "    vector = np.zeros(len(Diffgenres))\n",
    "    \n",
    "    for j in range(0, len(genres[i])):\n",
    "        vector += (genres[i][j] == np.array(Diffgenres)).astype(int)\n",
    "    \n",
    "    genreArray[i] = vector"
   ]
  },
  {
   "cell_type": "code",
   "execution_count": 80,
   "metadata": {},
   "outputs": [
    {
     "name": "stdout",
     "output_type": "stream",
     "text": [
      "[0 0 0 0 0 0 0 0 0 0 0 0 0 1 0 0 0 0 1 0]\n",
      "52420\n"
     ]
    }
   ],
   "source": [
    "print(genreArray[0])\n",
    "print(genreArray.size)"
   ]
  },
  {
   "cell_type": "markdown",
   "metadata": {},
   "source": [
    "Observe the result in the dataframe"
   ]
  },
  {
   "cell_type": "code",
   "execution_count": 81,
   "metadata": {},
   "outputs": [
    {
     "data": {
      "text/html": [
       "<div>\n",
       "<style>\n",
       "    .dataframe thead tr:only-child th {\n",
       "        text-align: right;\n",
       "    }\n",
       "\n",
       "    .dataframe thead th {\n",
       "        text-align: left;\n",
       "    }\n",
       "\n",
       "    .dataframe tbody tr th {\n",
       "        vertical-align: top;\n",
       "    }\n",
       "</style>\n",
       "<table border=\"1\" class=\"dataframe\">\n",
       "  <thead>\n",
       "    <tr style=\"text-align: right;\">\n",
       "      <th></th>\n",
       "      <th>TV Movie</th>\n",
       "      <th>War</th>\n",
       "      <th>Music</th>\n",
       "      <th>Drama</th>\n",
       "      <th>Thriller</th>\n",
       "      <th>Western</th>\n",
       "      <th>Comedy</th>\n",
       "      <th>Foreign</th>\n",
       "      <th>Crime</th>\n",
       "      <th>Mystery</th>\n",
       "      <th>Horror</th>\n",
       "      <th>History</th>\n",
       "      <th>Adventure</th>\n",
       "      <th>Animation</th>\n",
       "      <th>Action</th>\n",
       "      <th>Romance</th>\n",
       "      <th>Fantasy</th>\n",
       "      <th>Science Fiction</th>\n",
       "      <th>Family</th>\n",
       "      <th>Documentary</th>\n",
       "    </tr>\n",
       "  </thead>\n",
       "  <tbody>\n",
       "    <tr>\n",
       "      <th>0</th>\n",
       "      <td>0</td>\n",
       "      <td>0</td>\n",
       "      <td>0</td>\n",
       "      <td>0</td>\n",
       "      <td>0</td>\n",
       "      <td>0</td>\n",
       "      <td>0</td>\n",
       "      <td>0</td>\n",
       "      <td>0</td>\n",
       "      <td>0</td>\n",
       "      <td>0</td>\n",
       "      <td>0</td>\n",
       "      <td>0</td>\n",
       "      <td>1</td>\n",
       "      <td>0</td>\n",
       "      <td>0</td>\n",
       "      <td>0</td>\n",
       "      <td>0</td>\n",
       "      <td>1</td>\n",
       "      <td>0</td>\n",
       "    </tr>\n",
       "    <tr>\n",
       "      <th>1</th>\n",
       "      <td>0</td>\n",
       "      <td>0</td>\n",
       "      <td>1</td>\n",
       "      <td>1</td>\n",
       "      <td>0</td>\n",
       "      <td>0</td>\n",
       "      <td>0</td>\n",
       "      <td>0</td>\n",
       "      <td>1</td>\n",
       "      <td>0</td>\n",
       "      <td>0</td>\n",
       "      <td>0</td>\n",
       "      <td>0</td>\n",
       "      <td>0</td>\n",
       "      <td>0</td>\n",
       "      <td>0</td>\n",
       "      <td>0</td>\n",
       "      <td>0</td>\n",
       "      <td>0</td>\n",
       "      <td>0</td>\n",
       "    </tr>\n",
       "    <tr>\n",
       "      <th>2</th>\n",
       "      <td>0</td>\n",
       "      <td>0</td>\n",
       "      <td>0</td>\n",
       "      <td>0</td>\n",
       "      <td>0</td>\n",
       "      <td>0</td>\n",
       "      <td>0</td>\n",
       "      <td>0</td>\n",
       "      <td>0</td>\n",
       "      <td>0</td>\n",
       "      <td>0</td>\n",
       "      <td>0</td>\n",
       "      <td>1</td>\n",
       "      <td>0</td>\n",
       "      <td>1</td>\n",
       "      <td>0</td>\n",
       "      <td>1</td>\n",
       "      <td>0</td>\n",
       "      <td>0</td>\n",
       "      <td>0</td>\n",
       "    </tr>\n",
       "    <tr>\n",
       "      <th>3</th>\n",
       "      <td>0</td>\n",
       "      <td>0</td>\n",
       "      <td>0</td>\n",
       "      <td>0</td>\n",
       "      <td>0</td>\n",
       "      <td>0</td>\n",
       "      <td>0</td>\n",
       "      <td>0</td>\n",
       "      <td>1</td>\n",
       "      <td>0</td>\n",
       "      <td>0</td>\n",
       "      <td>0</td>\n",
       "      <td>0</td>\n",
       "      <td>0</td>\n",
       "      <td>1</td>\n",
       "      <td>0</td>\n",
       "      <td>0</td>\n",
       "      <td>0</td>\n",
       "      <td>0</td>\n",
       "      <td>0</td>\n",
       "    </tr>\n",
       "    <tr>\n",
       "      <th>4</th>\n",
       "      <td>0</td>\n",
       "      <td>1</td>\n",
       "      <td>0</td>\n",
       "      <td>1</td>\n",
       "      <td>0</td>\n",
       "      <td>0</td>\n",
       "      <td>0</td>\n",
       "      <td>0</td>\n",
       "      <td>0</td>\n",
       "      <td>0</td>\n",
       "      <td>0</td>\n",
       "      <td>0</td>\n",
       "      <td>0</td>\n",
       "      <td>0</td>\n",
       "      <td>0</td>\n",
       "      <td>0</td>\n",
       "      <td>0</td>\n",
       "      <td>0</td>\n",
       "      <td>0</td>\n",
       "      <td>0</td>\n",
       "    </tr>\n",
       "    <tr>\n",
       "      <th>5</th>\n",
       "      <td>0</td>\n",
       "      <td>0</td>\n",
       "      <td>1</td>\n",
       "      <td>1</td>\n",
       "      <td>0</td>\n",
       "      <td>0</td>\n",
       "      <td>0</td>\n",
       "      <td>0</td>\n",
       "      <td>0</td>\n",
       "      <td>0</td>\n",
       "      <td>0</td>\n",
       "      <td>0</td>\n",
       "      <td>0</td>\n",
       "      <td>0</td>\n",
       "      <td>0</td>\n",
       "      <td>1</td>\n",
       "      <td>0</td>\n",
       "      <td>0</td>\n",
       "      <td>0</td>\n",
       "      <td>0</td>\n",
       "    </tr>\n",
       "    <tr>\n",
       "      <th>6</th>\n",
       "      <td>0</td>\n",
       "      <td>0</td>\n",
       "      <td>0</td>\n",
       "      <td>0</td>\n",
       "      <td>0</td>\n",
       "      <td>0</td>\n",
       "      <td>1</td>\n",
       "      <td>0</td>\n",
       "      <td>0</td>\n",
       "      <td>0</td>\n",
       "      <td>0</td>\n",
       "      <td>0</td>\n",
       "      <td>0</td>\n",
       "      <td>1</td>\n",
       "      <td>0</td>\n",
       "      <td>0</td>\n",
       "      <td>0</td>\n",
       "      <td>0</td>\n",
       "      <td>1</td>\n",
       "      <td>0</td>\n",
       "    </tr>\n",
       "    <tr>\n",
       "      <th>7</th>\n",
       "      <td>0</td>\n",
       "      <td>0</td>\n",
       "      <td>0</td>\n",
       "      <td>1</td>\n",
       "      <td>0</td>\n",
       "      <td>0</td>\n",
       "      <td>0</td>\n",
       "      <td>0</td>\n",
       "      <td>0</td>\n",
       "      <td>0</td>\n",
       "      <td>0</td>\n",
       "      <td>0</td>\n",
       "      <td>0</td>\n",
       "      <td>0</td>\n",
       "      <td>0</td>\n",
       "      <td>1</td>\n",
       "      <td>0</td>\n",
       "      <td>1</td>\n",
       "      <td>0</td>\n",
       "      <td>0</td>\n",
       "    </tr>\n",
       "    <tr>\n",
       "      <th>8</th>\n",
       "      <td>0</td>\n",
       "      <td>0</td>\n",
       "      <td>0</td>\n",
       "      <td>0</td>\n",
       "      <td>0</td>\n",
       "      <td>0</td>\n",
       "      <td>0</td>\n",
       "      <td>0</td>\n",
       "      <td>0</td>\n",
       "      <td>0</td>\n",
       "      <td>0</td>\n",
       "      <td>0</td>\n",
       "      <td>1</td>\n",
       "      <td>0</td>\n",
       "      <td>1</td>\n",
       "      <td>0</td>\n",
       "      <td>1</td>\n",
       "      <td>0</td>\n",
       "      <td>0</td>\n",
       "      <td>0</td>\n",
       "    </tr>\n",
       "    <tr>\n",
       "      <th>9</th>\n",
       "      <td>0</td>\n",
       "      <td>0</td>\n",
       "      <td>0</td>\n",
       "      <td>1</td>\n",
       "      <td>1</td>\n",
       "      <td>0</td>\n",
       "      <td>0</td>\n",
       "      <td>0</td>\n",
       "      <td>1</td>\n",
       "      <td>0</td>\n",
       "      <td>0</td>\n",
       "      <td>0</td>\n",
       "      <td>0</td>\n",
       "      <td>0</td>\n",
       "      <td>0</td>\n",
       "      <td>0</td>\n",
       "      <td>0</td>\n",
       "      <td>0</td>\n",
       "      <td>0</td>\n",
       "      <td>0</td>\n",
       "    </tr>\n",
       "  </tbody>\n",
       "</table>\n",
       "</div>"
      ],
      "text/plain": [
       "   TV Movie  War  Music  Drama  Thriller  Western  Comedy  Foreign  Crime  \\\n",
       "0         0    0      0      0         0        0       0        0      0   \n",
       "1         0    0      1      1         0        0       0        0      1   \n",
       "2         0    0      0      0         0        0       0        0      0   \n",
       "3         0    0      0      0         0        0       0        0      1   \n",
       "4         0    1      0      1         0        0       0        0      0   \n",
       "5         0    0      1      1         0        0       0        0      0   \n",
       "6         0    0      0      0         0        0       1        0      0   \n",
       "7         0    0      0      1         0        0       0        0      0   \n",
       "8         0    0      0      0         0        0       0        0      0   \n",
       "9         0    0      0      1         1        0       0        0      1   \n",
       "\n",
       "   Mystery  Horror  History  Adventure  Animation  Action  Romance  Fantasy  \\\n",
       "0        0       0        0          0          1       0        0        0   \n",
       "1        0       0        0          0          0       0        0        0   \n",
       "2        0       0        0          1          0       1        0        1   \n",
       "3        0       0        0          0          0       1        0        0   \n",
       "4        0       0        0          0          0       0        0        0   \n",
       "5        0       0        0          0          0       0        1        0   \n",
       "6        0       0        0          0          1       0        0        0   \n",
       "7        0       0        0          0          0       0        1        0   \n",
       "8        0       0        0          1          0       1        0        1   \n",
       "9        0       0        0          0          0       0        0        0   \n",
       "\n",
       "   Science Fiction  Family  Documentary  \n",
       "0                0       1            0  \n",
       "1                0       0            0  \n",
       "2                0       0            0  \n",
       "3                0       0            0  \n",
       "4                0       0            0  \n",
       "5                0       0            0  \n",
       "6                0       1            0  \n",
       "7                1       0            0  \n",
       "8                0       0            0  \n",
       "9                0       0            0  "
      ]
     },
     "execution_count": 81,
     "metadata": {},
     "output_type": "execute_result"
    }
   ],
   "source": [
    "Genres = pd.DataFrame(genreArray, columns=Diffgenres)\n",
    "Genres.head(10)"
   ]
  },
  {
   "cell_type": "markdown",
   "metadata": {},
   "source": [
    "#### VIsual example of the genres ####"
   ]
  },
  {
   "cell_type": "code",
   "execution_count": 82,
   "metadata": {
    "collapsed": true
   },
   "outputs": [],
   "source": [
    "#Genres.iloc[120:150]"
   ]
  },
  {
   "cell_type": "code",
   "execution_count": 83,
   "metadata": {},
   "outputs": [
    {
     "data": {
      "text/plain": [
       "<matplotlib.image.AxesImage at 0x1d2b06a0>"
      ]
     },
     "execution_count": 83,
     "metadata": {},
     "output_type": "execute_result"
    },
    {
     "data": {
      "image/png": "[encoded data removed]",
      "text/plain": [
       "<matplotlib.figure.Figure at 0xf6dd390>"
      ]
     },
     "metadata": {},
     "output_type": "display_data"
    }
   ],
   "source": [
    "plt.spy(Genres[120:150])"
   ]
  },
  {
   "cell_type": "markdown",
   "metadata": {},
   "source": [
    "#### 3.1 Determine most frequent genres ####"
   ]
  },
  {
   "cell_type": "code",
   "execution_count": 84,
   "metadata": {
    "collapsed": true
   },
   "outputs": [],
   "source": [
    "freqGenre = np.ndarray(shape=(1, len(Diffgenres)), dtype=int)\n",
    "\n",
    "for i in range(0, len(Diffgenres)):\n",
    "    freqGenre[0][i] = sum(Genres[Diffgenres[i]] == 1)"
   ]
  },
  {
   "cell_type": "markdown",
   "metadata": {},
   "source": [
    "Display of the number of times a genre appears in the dataframe"
   ]
  },
  {
   "cell_type": "code",
   "execution_count": 85,
   "metadata": {},
   "outputs": [
    {
     "data": {
      "text/html": [
       "<div>\n",
       "<style>\n",
       "    .dataframe thead tr:only-child th {\n",
       "        text-align: right;\n",
       "    }\n",
       "\n",
       "    .dataframe thead th {\n",
       "        text-align: left;\n",
       "    }\n",
       "\n",
       "    .dataframe tbody tr th {\n",
       "        vertical-align: top;\n",
       "    }\n",
       "</style>\n",
       "<table border=\"1\" class=\"dataframe\">\n",
       "  <thead>\n",
       "    <tr style=\"text-align: right;\">\n",
       "      <th></th>\n",
       "      <th>TV Movie</th>\n",
       "      <th>War</th>\n",
       "      <th>Music</th>\n",
       "      <th>Drama</th>\n",
       "      <th>Thriller</th>\n",
       "      <th>Western</th>\n",
       "      <th>Comedy</th>\n",
       "      <th>Foreign</th>\n",
       "      <th>Crime</th>\n",
       "      <th>Mystery</th>\n",
       "      <th>Horror</th>\n",
       "      <th>History</th>\n",
       "      <th>Adventure</th>\n",
       "      <th>Animation</th>\n",
       "      <th>Action</th>\n",
       "      <th>Romance</th>\n",
       "      <th>Fantasy</th>\n",
       "      <th>Science Fiction</th>\n",
       "      <th>Family</th>\n",
       "      <th>Documentary</th>\n",
       "    </tr>\n",
       "  </thead>\n",
       "  <tbody>\n",
       "    <tr>\n",
       "      <th>0</th>\n",
       "      <td>1</td>\n",
       "      <td>74</td>\n",
       "      <td>81</td>\n",
       "      <td>1212</td>\n",
       "      <td>785</td>\n",
       "      <td>26</td>\n",
       "      <td>910</td>\n",
       "      <td>6</td>\n",
       "      <td>419</td>\n",
       "      <td>230</td>\n",
       "      <td>278</td>\n",
       "      <td>88</td>\n",
       "      <td>491</td>\n",
       "      <td>160</td>\n",
       "      <td>684</td>\n",
       "      <td>457</td>\n",
       "      <td>261</td>\n",
       "      <td>297</td>\n",
       "      <td>293</td>\n",
       "      <td>36</td>\n",
       "    </tr>\n",
       "  </tbody>\n",
       "</table>\n",
       "</div>"
      ],
      "text/plain": [
       "   TV Movie  War  Music  Drama  Thriller  Western  Comedy  Foreign  Crime  \\\n",
       "0         1   74     81   1212       785       26     910        6    419   \n",
       "\n",
       "   Mystery  Horror  History  Adventure  Animation  Action  Romance  Fantasy  \\\n",
       "0      230     278       88        491        160     684      457      261   \n",
       "\n",
       "   Science Fiction  Family  Documentary  \n",
       "0              297     293           36  "
      ]
     },
     "execution_count": 85,
     "metadata": {},
     "output_type": "execute_result"
    }
   ],
   "source": [
    "NbGenre = pd.DataFrame(freqGenre, columns=Diffgenres)\n",
    "NbGenre"
   ]
  },
  {
   "cell_type": "code",
   "execution_count": 86,
   "metadata": {
    "collapsed": true
   },
   "outputs": [],
   "source": [
    "NbGenre.to_csv('Saved_Datasets/NbGenre.csv', index=False)"
   ]
  },
  {
   "cell_type": "code",
   "execution_count": 87,
   "metadata": {},
   "outputs": [
    {
     "data": {
      "image/png": "[encoded data removed]",
      "text/plain": [
       "<matplotlib.figure.Figure at 0xf9b4c50>"
      ]
     },
     "metadata": {},
     "output_type": "display_data"
    }
   ],
   "source": [
    "plt.bar(Diffgenres, freqGenre[0], align='center');\n",
    "plt.setp(plt.gca().get_xticklabels(), rotation=45, horizontalalignment='right');\n",
    "plt.xlabel('Genres');\n",
    "plt.ylabel('Counts');\n",
    "plt.savefig('images/GenreFreq.png', dpi =300, bbox_inches='tight')"
   ]
  },
  {
   "cell_type": "markdown",
   "metadata": {},
   "source": [
    "#### 3.2 Determine genres that are most commonly associated with each other ####\n",
    "\n",
    "We only consider two genres together at the moment"
   ]
  },
  {
   "cell_type": "code",
   "execution_count": 88,
   "metadata": {
    "collapsed": true
   },
   "outputs": [],
   "source": [
    "assosGenre = np.ndarray(shape=(len(Diffgenres), len(Diffgenres)), dtype=int)\n",
    "\n",
    "for i in range(0, len(Diffgenres)):\n",
    "    for j in range(0, len(Diffgenres)):\n",
    "        if i != j:\n",
    "            assosGenre[i][j] = sum((Genres[Diffgenres[i]] == 1) & (Genres[Diffgenres[j]] == 1))\n",
    "        else:\n",
    "            assosGenre[i][j] = 0"
   ]
  },
  {
   "cell_type": "code",
   "execution_count": 89,
   "metadata": {
    "collapsed": true
   },
   "outputs": [],
   "source": [
    "#ensure the matrix is symmetric\n",
    "assosGenreSym = assosGenre.transpose() > assosGenre\n",
    "assosGenre = assosGenre - assosGenre*assosGenreSym + assosGenre.transpose()*assosGenreSym"
   ]
  },
  {
   "cell_type": "code",
   "execution_count": 90,
   "metadata": {},
   "outputs": [
    {
     "data": {
      "text/plain": [
       "<matplotlib.image.AxesImage at 0x103c30b8>"
      ]
     },
     "execution_count": 90,
     "metadata": {},
     "output_type": "execute_result"
    },
    {
     "data": {
      "image/png": "[encoded data removed]",
      "text/plain": [
       "<matplotlib.figure.Figure at 0x1d281a20>"
      ]
     },
     "metadata": {},
     "output_type": "display_data"
    }
   ],
   "source": [
    "plt.spy(assosGenre)"
   ]
  },
  {
   "cell_type": "code",
   "execution_count": 91,
   "metadata": {},
   "outputs": [
    {
     "data": {
      "text/html": [
       "<div>\n",
       "<style>\n",
       "    .dataframe thead tr:only-child th {\n",
       "        text-align: right;\n",
       "    }\n",
       "\n",
       "    .dataframe thead th {\n",
       "        text-align: left;\n",
       "    }\n",
       "\n",
       "    .dataframe tbody tr th {\n",
       "        vertical-align: top;\n",
       "    }\n",
       "</style>\n",
       "<table border=\"1\" class=\"dataframe\">\n",
       "  <thead>\n",
       "    <tr style=\"text-align: right;\">\n",
       "      <th></th>\n",
       "      <th>TV Movie</th>\n",
       "      <th>War</th>\n",
       "      <th>Music</th>\n",
       "      <th>Drama</th>\n",
       "      <th>Thriller</th>\n",
       "      <th>Western</th>\n",
       "      <th>Comedy</th>\n",
       "      <th>Foreign</th>\n",
       "      <th>Crime</th>\n",
       "      <th>Mystery</th>\n",
       "      <th>Horror</th>\n",
       "      <th>History</th>\n",
       "      <th>Adventure</th>\n",
       "      <th>Animation</th>\n",
       "      <th>Action</th>\n",
       "      <th>Romance</th>\n",
       "      <th>Fantasy</th>\n",
       "      <th>Science Fiction</th>\n",
       "      <th>Family</th>\n",
       "      <th>Documentary</th>\n",
       "    </tr>\n",
       "  </thead>\n",
       "  <tbody>\n",
       "    <tr>\n",
       "      <th>TV Movie</th>\n",
       "      <td>0</td>\n",
       "      <td>0</td>\n",
       "      <td>0</td>\n",
       "      <td>1</td>\n",
       "      <td>1</td>\n",
       "      <td>0</td>\n",
       "      <td>0</td>\n",
       "      <td>0</td>\n",
       "      <td>1</td>\n",
       "      <td>0</td>\n",
       "      <td>0</td>\n",
       "      <td>0</td>\n",
       "      <td>0</td>\n",
       "      <td>0</td>\n",
       "      <td>0</td>\n",
       "      <td>0</td>\n",
       "      <td>0</td>\n",
       "      <td>0</td>\n",
       "      <td>0</td>\n",
       "      <td>0</td>\n",
       "    </tr>\n",
       "    <tr>\n",
       "      <th>War</th>\n",
       "      <td>0</td>\n",
       "      <td>0</td>\n",
       "      <td>1</td>\n",
       "      <td>56</td>\n",
       "      <td>18</td>\n",
       "      <td>1</td>\n",
       "      <td>4</td>\n",
       "      <td>0</td>\n",
       "      <td>2</td>\n",
       "      <td>1</td>\n",
       "      <td>1</td>\n",
       "      <td>26</td>\n",
       "      <td>14</td>\n",
       "      <td>1</td>\n",
       "      <td>31</td>\n",
       "      <td>10</td>\n",
       "      <td>2</td>\n",
       "      <td>2</td>\n",
       "      <td>0</td>\n",
       "      <td>0</td>\n",
       "    </tr>\n",
       "    <tr>\n",
       "      <th>Music</th>\n",
       "      <td>0</td>\n",
       "      <td>1</td>\n",
       "      <td>0</td>\n",
       "      <td>48</td>\n",
       "      <td>0</td>\n",
       "      <td>0</td>\n",
       "      <td>36</td>\n",
       "      <td>0</td>\n",
       "      <td>3</td>\n",
       "      <td>0</td>\n",
       "      <td>1</td>\n",
       "      <td>0</td>\n",
       "      <td>3</td>\n",
       "      <td>7</td>\n",
       "      <td>3</td>\n",
       "      <td>33</td>\n",
       "      <td>7</td>\n",
       "      <td>0</td>\n",
       "      <td>14</td>\n",
       "      <td>6</td>\n",
       "    </tr>\n",
       "    <tr>\n",
       "      <th>Drama</th>\n",
       "      <td>1</td>\n",
       "      <td>56</td>\n",
       "      <td>48</td>\n",
       "      <td>0</td>\n",
       "      <td>355</td>\n",
       "      <td>13</td>\n",
       "      <td>274</td>\n",
       "      <td>3</td>\n",
       "      <td>230</td>\n",
       "      <td>121</td>\n",
       "      <td>53</td>\n",
       "      <td>81</td>\n",
       "      <td>108</td>\n",
       "      <td>5</td>\n",
       "      <td>177</td>\n",
       "      <td>307</td>\n",
       "      <td>56</td>\n",
       "      <td>58</td>\n",
       "      <td>36</td>\n",
       "      <td>2</td>\n",
       "    </tr>\n",
       "    <tr>\n",
       "      <th>Thriller</th>\n",
       "      <td>1</td>\n",
       "      <td>18</td>\n",
       "      <td>0</td>\n",
       "      <td>355</td>\n",
       "      <td>0</td>\n",
       "      <td>7</td>\n",
       "      <td>50</td>\n",
       "      <td>1</td>\n",
       "      <td>268</td>\n",
       "      <td>161</td>\n",
       "      <td>174</td>\n",
       "      <td>18</td>\n",
       "      <td>114</td>\n",
       "      <td>4</td>\n",
       "      <td>330</td>\n",
       "      <td>34</td>\n",
       "      <td>40</td>\n",
       "      <td>134</td>\n",
       "      <td>4</td>\n",
       "      <td>0</td>\n",
       "    </tr>\n",
       "    <tr>\n",
       "      <th>Western</th>\n",
       "      <td>0</td>\n",
       "      <td>1</td>\n",
       "      <td>0</td>\n",
       "      <td>13</td>\n",
       "      <td>7</td>\n",
       "      <td>0</td>\n",
       "      <td>4</td>\n",
       "      <td>0</td>\n",
       "      <td>5</td>\n",
       "      <td>2</td>\n",
       "      <td>0</td>\n",
       "      <td>1</td>\n",
       "      <td>12</td>\n",
       "      <td>2</td>\n",
       "      <td>11</td>\n",
       "      <td>0</td>\n",
       "      <td>2</td>\n",
       "      <td>1</td>\n",
       "      <td>2</td>\n",
       "      <td>0</td>\n",
       "    </tr>\n",
       "    <tr>\n",
       "      <th>Comedy</th>\n",
       "      <td>0</td>\n",
       "      <td>4</td>\n",
       "      <td>36</td>\n",
       "      <td>274</td>\n",
       "      <td>50</td>\n",
       "      <td>4</td>\n",
       "      <td>0</td>\n",
       "      <td>1</td>\n",
       "      <td>92</td>\n",
       "      <td>18</td>\n",
       "      <td>22</td>\n",
       "      <td>3</td>\n",
       "      <td>142</td>\n",
       "      <td>96</td>\n",
       "      <td>143</td>\n",
       "      <td>262</td>\n",
       "      <td>80</td>\n",
       "      <td>42</td>\n",
       "      <td>181</td>\n",
       "      <td>5</td>\n",
       "    </tr>\n",
       "    <tr>\n",
       "      <th>Foreign</th>\n",
       "      <td>0</td>\n",
       "      <td>0</td>\n",
       "      <td>0</td>\n",
       "      <td>3</td>\n",
       "      <td>1</td>\n",
       "      <td>0</td>\n",
       "      <td>1</td>\n",
       "      <td>0</td>\n",
       "      <td>2</td>\n",
       "      <td>0</td>\n",
       "      <td>1</td>\n",
       "      <td>0</td>\n",
       "      <td>0</td>\n",
       "      <td>0</td>\n",
       "      <td>1</td>\n",
       "      <td>0</td>\n",
       "      <td>0</td>\n",
       "      <td>0</td>\n",
       "      <td>1</td>\n",
       "      <td>2</td>\n",
       "    </tr>\n",
       "    <tr>\n",
       "      <th>Crime</th>\n",
       "      <td>1</td>\n",
       "      <td>2</td>\n",
       "      <td>3</td>\n",
       "      <td>230</td>\n",
       "      <td>268</td>\n",
       "      <td>5</td>\n",
       "      <td>92</td>\n",
       "      <td>2</td>\n",
       "      <td>0</td>\n",
       "      <td>74</td>\n",
       "      <td>21</td>\n",
       "      <td>7</td>\n",
       "      <td>32</td>\n",
       "      <td>1</td>\n",
       "      <td>181</td>\n",
       "      <td>20</td>\n",
       "      <td>6</td>\n",
       "      <td>9</td>\n",
       "      <td>2</td>\n",
       "      <td>0</td>\n",
       "    </tr>\n",
       "    <tr>\n",
       "      <th>Mystery</th>\n",
       "      <td>0</td>\n",
       "      <td>1</td>\n",
       "      <td>0</td>\n",
       "      <td>121</td>\n",
       "      <td>161</td>\n",
       "      <td>2</td>\n",
       "      <td>18</td>\n",
       "      <td>0</td>\n",
       "      <td>74</td>\n",
       "      <td>0</td>\n",
       "      <td>61</td>\n",
       "      <td>2</td>\n",
       "      <td>25</td>\n",
       "      <td>1</td>\n",
       "      <td>44</td>\n",
       "      <td>21</td>\n",
       "      <td>13</td>\n",
       "      <td>29</td>\n",
       "      <td>3</td>\n",
       "      <td>0</td>\n",
       "    </tr>\n",
       "    <tr>\n",
       "      <th>Horror</th>\n",
       "      <td>0</td>\n",
       "      <td>1</td>\n",
       "      <td>1</td>\n",
       "      <td>53</td>\n",
       "      <td>174</td>\n",
       "      <td>0</td>\n",
       "      <td>22</td>\n",
       "      <td>1</td>\n",
       "      <td>21</td>\n",
       "      <td>61</td>\n",
       "      <td>0</td>\n",
       "      <td>0</td>\n",
       "      <td>11</td>\n",
       "      <td>0</td>\n",
       "      <td>45</td>\n",
       "      <td>6</td>\n",
       "      <td>24</td>\n",
       "      <td>38</td>\n",
       "      <td>1</td>\n",
       "      <td>0</td>\n",
       "    </tr>\n",
       "    <tr>\n",
       "      <th>History</th>\n",
       "      <td>0</td>\n",
       "      <td>26</td>\n",
       "      <td>0</td>\n",
       "      <td>81</td>\n",
       "      <td>18</td>\n",
       "      <td>1</td>\n",
       "      <td>3</td>\n",
       "      <td>0</td>\n",
       "      <td>7</td>\n",
       "      <td>2</td>\n",
       "      <td>0</td>\n",
       "      <td>0</td>\n",
       "      <td>12</td>\n",
       "      <td>0</td>\n",
       "      <td>20</td>\n",
       "      <td>11</td>\n",
       "      <td>0</td>\n",
       "      <td>0</td>\n",
       "      <td>0</td>\n",
       "      <td>0</td>\n",
       "    </tr>\n",
       "    <tr>\n",
       "      <th>Adventure</th>\n",
       "      <td>0</td>\n",
       "      <td>14</td>\n",
       "      <td>3</td>\n",
       "      <td>108</td>\n",
       "      <td>114</td>\n",
       "      <td>12</td>\n",
       "      <td>142</td>\n",
       "      <td>0</td>\n",
       "      <td>32</td>\n",
       "      <td>25</td>\n",
       "      <td>11</td>\n",
       "      <td>12</td>\n",
       "      <td>0</td>\n",
       "      <td>87</td>\n",
       "      <td>280</td>\n",
       "      <td>34</td>\n",
       "      <td>140</td>\n",
       "      <td>136</td>\n",
       "      <td>144</td>\n",
       "      <td>1</td>\n",
       "    </tr>\n",
       "    <tr>\n",
       "      <th>Animation</th>\n",
       "      <td>0</td>\n",
       "      <td>1</td>\n",
       "      <td>7</td>\n",
       "      <td>5</td>\n",
       "      <td>4</td>\n",
       "      <td>2</td>\n",
       "      <td>96</td>\n",
       "      <td>0</td>\n",
       "      <td>1</td>\n",
       "      <td>1</td>\n",
       "      <td>0</td>\n",
       "      <td>0</td>\n",
       "      <td>87</td>\n",
       "      <td>0</td>\n",
       "      <td>21</td>\n",
       "      <td>4</td>\n",
       "      <td>39</td>\n",
       "      <td>19</td>\n",
       "      <td>141</td>\n",
       "      <td>0</td>\n",
       "    </tr>\n",
       "    <tr>\n",
       "      <th>Action</th>\n",
       "      <td>0</td>\n",
       "      <td>31</td>\n",
       "      <td>3</td>\n",
       "      <td>177</td>\n",
       "      <td>330</td>\n",
       "      <td>11</td>\n",
       "      <td>143</td>\n",
       "      <td>1</td>\n",
       "      <td>181</td>\n",
       "      <td>44</td>\n",
       "      <td>45</td>\n",
       "      <td>20</td>\n",
       "      <td>280</td>\n",
       "      <td>21</td>\n",
       "      <td>0</td>\n",
       "      <td>24</td>\n",
       "      <td>103</td>\n",
       "      <td>177</td>\n",
       "      <td>37</td>\n",
       "      <td>1</td>\n",
       "    </tr>\n",
       "    <tr>\n",
       "      <th>Romance</th>\n",
       "      <td>0</td>\n",
       "      <td>10</td>\n",
       "      <td>33</td>\n",
       "      <td>307</td>\n",
       "      <td>34</td>\n",
       "      <td>0</td>\n",
       "      <td>262</td>\n",
       "      <td>0</td>\n",
       "      <td>20</td>\n",
       "      <td>21</td>\n",
       "      <td>6</td>\n",
       "      <td>11</td>\n",
       "      <td>34</td>\n",
       "      <td>4</td>\n",
       "      <td>24</td>\n",
       "      <td>0</td>\n",
       "      <td>40</td>\n",
       "      <td>17</td>\n",
       "      <td>27</td>\n",
       "      <td>0</td>\n",
       "    </tr>\n",
       "    <tr>\n",
       "      <th>Fantasy</th>\n",
       "      <td>0</td>\n",
       "      <td>2</td>\n",
       "      <td>7</td>\n",
       "      <td>56</td>\n",
       "      <td>40</td>\n",
       "      <td>2</td>\n",
       "      <td>80</td>\n",
       "      <td>0</td>\n",
       "      <td>6</td>\n",
       "      <td>13</td>\n",
       "      <td>24</td>\n",
       "      <td>0</td>\n",
       "      <td>140</td>\n",
       "      <td>39</td>\n",
       "      <td>103</td>\n",
       "      <td>40</td>\n",
       "      <td>0</td>\n",
       "      <td>46</td>\n",
       "      <td>94</td>\n",
       "      <td>0</td>\n",
       "    </tr>\n",
       "    <tr>\n",
       "      <th>Science Fiction</th>\n",
       "      <td>0</td>\n",
       "      <td>2</td>\n",
       "      <td>0</td>\n",
       "      <td>58</td>\n",
       "      <td>134</td>\n",
       "      <td>1</td>\n",
       "      <td>42</td>\n",
       "      <td>0</td>\n",
       "      <td>9</td>\n",
       "      <td>29</td>\n",
       "      <td>38</td>\n",
       "      <td>0</td>\n",
       "      <td>136</td>\n",
       "      <td>19</td>\n",
       "      <td>177</td>\n",
       "      <td>17</td>\n",
       "      <td>46</td>\n",
       "      <td>0</td>\n",
       "      <td>31</td>\n",
       "      <td>0</td>\n",
       "    </tr>\n",
       "    <tr>\n",
       "      <th>Family</th>\n",
       "      <td>0</td>\n",
       "      <td>0</td>\n",
       "      <td>14</td>\n",
       "      <td>36</td>\n",
       "      <td>4</td>\n",
       "      <td>2</td>\n",
       "      <td>181</td>\n",
       "      <td>1</td>\n",
       "      <td>2</td>\n",
       "      <td>3</td>\n",
       "      <td>1</td>\n",
       "      <td>0</td>\n",
       "      <td>144</td>\n",
       "      <td>141</td>\n",
       "      <td>37</td>\n",
       "      <td>27</td>\n",
       "      <td>94</td>\n",
       "      <td>31</td>\n",
       "      <td>0</td>\n",
       "      <td>3</td>\n",
       "    </tr>\n",
       "    <tr>\n",
       "      <th>Documentary</th>\n",
       "      <td>0</td>\n",
       "      <td>0</td>\n",
       "      <td>6</td>\n",
       "      <td>2</td>\n",
       "      <td>0</td>\n",
       "      <td>0</td>\n",
       "      <td>5</td>\n",
       "      <td>2</td>\n",
       "      <td>0</td>\n",
       "      <td>0</td>\n",
       "      <td>0</td>\n",
       "      <td>0</td>\n",
       "      <td>1</td>\n",
       "      <td>0</td>\n",
       "      <td>1</td>\n",
       "      <td>0</td>\n",
       "      <td>0</td>\n",
       "      <td>0</td>\n",
       "      <td>3</td>\n",
       "      <td>0</td>\n",
       "    </tr>\n",
       "  </tbody>\n",
       "</table>\n",
       "</div>"
      ],
      "text/plain": [
       "                 TV Movie  War  Music  Drama  Thriller  Western  Comedy  \\\n",
       "TV Movie                0    0      0      1         1        0       0   \n",
       "War                     0    0      1     56        18        1       4   \n",
       "Music                   0    1      0     48         0        0      36   \n",
       "Drama                   1   56     48      0       355       13     274   \n",
       "Thriller                1   18      0    355         0        7      50   \n",
       "Western                 0    1      0     13         7        0       4   \n",
       "Comedy                  0    4     36    274        50        4       0   \n",
       "Foreign                 0    0      0      3         1        0       1   \n",
       "Crime                   1    2      3    230       268        5      92   \n",
       "Mystery                 0    1      0    121       161        2      18   \n",
       "Horror                  0    1      1     53       174        0      22   \n",
       "History                 0   26      0     81        18        1       3   \n",
       "Adventure               0   14      3    108       114       12     142   \n",
       "Animation               0    1      7      5         4        2      96   \n",
       "Action                  0   31      3    177       330       11     143   \n",
       "Romance                 0   10     33    307        34        0     262   \n",
       "Fantasy                 0    2      7     56        40        2      80   \n",
       "Science Fiction         0    2      0     58       134        1      42   \n",
       "Family                  0    0     14     36         4        2     181   \n",
       "Documentary             0    0      6      2         0        0       5   \n",
       "\n",
       "                 Foreign  Crime  Mystery  Horror  History  Adventure  \\\n",
       "TV Movie               0      1        0       0        0          0   \n",
       "War                    0      2        1       1       26         14   \n",
       "Music                  0      3        0       1        0          3   \n",
       "Drama                  3    230      121      53       81        108   \n",
       "Thriller               1    268      161     174       18        114   \n",
       "Western                0      5        2       0        1         12   \n",
       "Comedy                 1     92       18      22        3        142   \n",
       "Foreign                0      2        0       1        0          0   \n",
       "Crime                  2      0       74      21        7         32   \n",
       "Mystery                0     74        0      61        2         25   \n",
       "Horror                 1     21       61       0        0         11   \n",
       "History                0      7        2       0        0         12   \n",
       "Adventure              0     32       25      11       12          0   \n",
       "Animation              0      1        1       0        0         87   \n",
       "Action                 1    181       44      45       20        280   \n",
       "Romance                0     20       21       6       11         34   \n",
       "Fantasy                0      6       13      24        0        140   \n",
       "Science Fiction        0      9       29      38        0        136   \n",
       "Family                 1      2        3       1        0        144   \n",
       "Documentary            2      0        0       0        0          1   \n",
       "\n",
       "                 Animation  Action  Romance  Fantasy  Science Fiction  Family  \\\n",
       "TV Movie                 0       0        0        0                0       0   \n",
       "War                      1      31       10        2                2       0   \n",
       "Music                    7       3       33        7                0      14   \n",
       "Drama                    5     177      307       56               58      36   \n",
       "Thriller                 4     330       34       40              134       4   \n",
       "Western                  2      11        0        2                1       2   \n",
       "Comedy                  96     143      262       80               42     181   \n",
       "Foreign                  0       1        0        0                0       1   \n",
       "Crime                    1     181       20        6                9       2   \n",
       "Mystery                  1      44       21       13               29       3   \n",
       "Horror                   0      45        6       24               38       1   \n",
       "History                  0      20       11        0                0       0   \n",
       "Adventure               87     280       34      140              136     144   \n",
       "Animation                0      21        4       39               19     141   \n",
       "Action                  21       0       24      103              177      37   \n",
       "Romance                  4      24        0       40               17      27   \n",
       "Fantasy                 39     103       40        0               46      94   \n",
       "Science Fiction         19     177       17       46                0      31   \n",
       "Family                 141      37       27       94               31       0   \n",
       "Documentary              0       1        0        0                0       3   \n",
       "\n",
       "                 Documentary  \n",
       "TV Movie                   0  \n",
       "War                        0  \n",
       "Music                      6  \n",
       "Drama                      2  \n",
       "Thriller                   0  \n",
       "Western                    0  \n",
       "Comedy                     5  \n",
       "Foreign                    2  \n",
       "Crime                      0  \n",
       "Mystery                    0  \n",
       "Horror                     0  \n",
       "History                    0  \n",
       "Adventure                  1  \n",
       "Animation                  0  \n",
       "Action                     1  \n",
       "Romance                    0  \n",
       "Fantasy                    0  \n",
       "Science Fiction            0  \n",
       "Family                     3  \n",
       "Documentary                0  "
      ]
     },
     "execution_count": 91,
     "metadata": {},
     "output_type": "execute_result"
    }
   ],
   "source": [
    "NbGenreAssos = pd.DataFrame(assosGenre, columns=Diffgenres, index = Diffgenres)\n",
    "NbGenreAssos"
   ]
  },
  {
   "cell_type": "code",
   "execution_count": 92,
   "metadata": {
    "collapsed": true
   },
   "outputs": [],
   "source": [
    "NbGenreAssos.to_csv('Saved_Datasets/NbGenreAssos.csv', index=False)"
   ]
  },
  {
   "cell_type": "markdown",
   "metadata": {},
   "source": [
    "#### Determining ranking of genre associations ####\n",
    "\n",
    "1 indicates most frequently associated and 19 is least frequently associated. \n",
    "\n",
    "$\\textbf{Reminder:}$ This is only the case of our dataset and may not represent reality"
   ]
  },
  {
   "cell_type": "code",
   "execution_count": 93,
   "metadata": {
    "collapsed": true
   },
   "outputs": [],
   "source": [
    "assosRank = {} \n",
    "rank = np.argsort(-assosGenre, axis=1) #negative for ascending order\n",
    "\n",
    "Diffgenres[rank[0][1]]\n",
    "\n",
    "for i in range(0, len(Diffgenres)):\n",
    "    for j in range(0, len(Diffgenres)):\n",
    "        assosRank.setdefault(Diffgenres[i], [])\n",
    "        \n",
    "        #Only if not comparing with the same genre\n",
    "        if Diffgenres[i] != Diffgenres[rank[i][j]]:\n",
    "            assosRank[Diffgenres[i]].append(Diffgenres[rank[i][j]])"
   ]
  },
  {
   "cell_type": "markdown",
   "metadata": {},
   "source": [
    "Display of the ranking of the other genres with which each genre is most often associated"
   ]
  },
  {
   "cell_type": "code",
   "execution_count": 94,
   "metadata": {},
   "outputs": [
    {
     "data": {
      "text/html": [
       "<div>\n",
       "<style>\n",
       "    .dataframe thead tr:only-child th {\n",
       "        text-align: right;\n",
       "    }\n",
       "\n",
       "    .dataframe thead th {\n",
       "        text-align: left;\n",
       "    }\n",
       "\n",
       "    .dataframe tbody tr th {\n",
       "        vertical-align: top;\n",
       "    }\n",
       "</style>\n",
       "<table border=\"1\" class=\"dataframe\">\n",
       "  <thead>\n",
       "    <tr style=\"text-align: right;\">\n",
       "      <th></th>\n",
       "      <th>Action</th>\n",
       "      <th>Adventure</th>\n",
       "      <th>Animation</th>\n",
       "      <th>Comedy</th>\n",
       "      <th>Crime</th>\n",
       "      <th>Documentary</th>\n",
       "      <th>Drama</th>\n",
       "      <th>Family</th>\n",
       "      <th>Fantasy</th>\n",
       "      <th>Foreign</th>\n",
       "      <th>History</th>\n",
       "      <th>Horror</th>\n",
       "      <th>Music</th>\n",
       "      <th>Mystery</th>\n",
       "      <th>Romance</th>\n",
       "      <th>Science Fiction</th>\n",
       "      <th>TV Movie</th>\n",
       "      <th>Thriller</th>\n",
       "      <th>War</th>\n",
       "      <th>Western</th>\n",
       "    </tr>\n",
       "  </thead>\n",
       "  <tbody>\n",
       "    <tr>\n",
       "      <th>1</th>\n",
       "      <td>Thriller</td>\n",
       "      <td>Action</td>\n",
       "      <td>Family</td>\n",
       "      <td>Drama</td>\n",
       "      <td>Thriller</td>\n",
       "      <td>Music</td>\n",
       "      <td>Thriller</td>\n",
       "      <td>Comedy</td>\n",
       "      <td>Adventure</td>\n",
       "      <td>Drama</td>\n",
       "      <td>Drama</td>\n",
       "      <td>Thriller</td>\n",
       "      <td>Drama</td>\n",
       "      <td>Thriller</td>\n",
       "      <td>Drama</td>\n",
       "      <td>Action</td>\n",
       "      <td>Drama</td>\n",
       "      <td>Drama</td>\n",
       "      <td>Drama</td>\n",
       "      <td>Drama</td>\n",
       "    </tr>\n",
       "    <tr>\n",
       "      <th>2</th>\n",
       "      <td>Adventure</td>\n",
       "      <td>Family</td>\n",
       "      <td>Comedy</td>\n",
       "      <td>Romance</td>\n",
       "      <td>Drama</td>\n",
       "      <td>Comedy</td>\n",
       "      <td>Romance</td>\n",
       "      <td>Adventure</td>\n",
       "      <td>Action</td>\n",
       "      <td>Documentary</td>\n",
       "      <td>War</td>\n",
       "      <td>Mystery</td>\n",
       "      <td>Comedy</td>\n",
       "      <td>Drama</td>\n",
       "      <td>Comedy</td>\n",
       "      <td>Adventure</td>\n",
       "      <td>Thriller</td>\n",
       "      <td>Action</td>\n",
       "      <td>Action</td>\n",
       "      <td>Adventure</td>\n",
       "    </tr>\n",
       "    <tr>\n",
       "      <th>3</th>\n",
       "      <td>Crime</td>\n",
       "      <td>Comedy</td>\n",
       "      <td>Adventure</td>\n",
       "      <td>Family</td>\n",
       "      <td>Action</td>\n",
       "      <td>Family</td>\n",
       "      <td>Comedy</td>\n",
       "      <td>Animation</td>\n",
       "      <td>Family</td>\n",
       "      <td>Crime</td>\n",
       "      <td>Action</td>\n",
       "      <td>Drama</td>\n",
       "      <td>Romance</td>\n",
       "      <td>Crime</td>\n",
       "      <td>Fantasy</td>\n",
       "      <td>Thriller</td>\n",
       "      <td>Crime</td>\n",
       "      <td>Crime</td>\n",
       "      <td>History</td>\n",
       "      <td>Action</td>\n",
       "    </tr>\n",
       "    <tr>\n",
       "      <th>4</th>\n",
       "      <td>Drama</td>\n",
       "      <td>Fantasy</td>\n",
       "      <td>Fantasy</td>\n",
       "      <td>Action</td>\n",
       "      <td>Comedy</td>\n",
       "      <td>Drama</td>\n",
       "      <td>Crime</td>\n",
       "      <td>Fantasy</td>\n",
       "      <td>Comedy</td>\n",
       "      <td>Thriller</td>\n",
       "      <td>Thriller</td>\n",
       "      <td>Action</td>\n",
       "      <td>Family</td>\n",
       "      <td>Horror</td>\n",
       "      <td>Thriller</td>\n",
       "      <td>Drama</td>\n",
       "      <td>Science Fiction</td>\n",
       "      <td>Horror</td>\n",
       "      <td>Thriller</td>\n",
       "      <td>Thriller</td>\n",
       "    </tr>\n",
       "    <tr>\n",
       "      <th>5</th>\n",
       "      <td>Science Fiction</td>\n",
       "      <td>Science Fiction</td>\n",
       "      <td>Action</td>\n",
       "      <td>Adventure</td>\n",
       "      <td>Mystery</td>\n",
       "      <td>Foreign</td>\n",
       "      <td>Action</td>\n",
       "      <td>Action</td>\n",
       "      <td>Drama</td>\n",
       "      <td>Comedy</td>\n",
       "      <td>Adventure</td>\n",
       "      <td>Science Fiction</td>\n",
       "      <td>Fantasy</td>\n",
       "      <td>Action</td>\n",
       "      <td>Adventure</td>\n",
       "      <td>Fantasy</td>\n",
       "      <td>Fantasy</td>\n",
       "      <td>Mystery</td>\n",
       "      <td>Adventure</td>\n",
       "      <td>Crime</td>\n",
       "    </tr>\n",
       "    <tr>\n",
       "      <th>6</th>\n",
       "      <td>Comedy</td>\n",
       "      <td>Thriller</td>\n",
       "      <td>Science Fiction</td>\n",
       "      <td>Animation</td>\n",
       "      <td>Adventure</td>\n",
       "      <td>Action</td>\n",
       "      <td>Mystery</td>\n",
       "      <td>Drama</td>\n",
       "      <td>Science Fiction</td>\n",
       "      <td>Action</td>\n",
       "      <td>Romance</td>\n",
       "      <td>Fantasy</td>\n",
       "      <td>Animation</td>\n",
       "      <td>Science Fiction</td>\n",
       "      <td>Music</td>\n",
       "      <td>Comedy</td>\n",
       "      <td>Romance</td>\n",
       "      <td>Science Fiction</td>\n",
       "      <td>Romance</td>\n",
       "      <td>Comedy</td>\n",
       "    </tr>\n",
       "    <tr>\n",
       "      <th>7</th>\n",
       "      <td>Fantasy</td>\n",
       "      <td>Drama</td>\n",
       "      <td>Music</td>\n",
       "      <td>Crime</td>\n",
       "      <td>Horror</td>\n",
       "      <td>Adventure</td>\n",
       "      <td>Adventure</td>\n",
       "      <td>Science Fiction</td>\n",
       "      <td>Thriller</td>\n",
       "      <td>Family</td>\n",
       "      <td>Crime</td>\n",
       "      <td>Comedy</td>\n",
       "      <td>Documentary</td>\n",
       "      <td>Adventure</td>\n",
       "      <td>Family</td>\n",
       "      <td>Horror</td>\n",
       "      <td>Action</td>\n",
       "      <td>Adventure</td>\n",
       "      <td>Comedy</td>\n",
       "      <td>Mystery</td>\n",
       "    </tr>\n",
       "    <tr>\n",
       "      <th>8</th>\n",
       "      <td>Horror</td>\n",
       "      <td>Animation</td>\n",
       "      <td>Drama</td>\n",
       "      <td>Fantasy</td>\n",
       "      <td>Romance</td>\n",
       "      <td>TV Movie</td>\n",
       "      <td>History</td>\n",
       "      <td>Romance</td>\n",
       "      <td>Romance</td>\n",
       "      <td>Horror</td>\n",
       "      <td>Comedy</td>\n",
       "      <td>Crime</td>\n",
       "      <td>Action</td>\n",
       "      <td>Romance</td>\n",
       "      <td>Action</td>\n",
       "      <td>Family</td>\n",
       "      <td>Animation</td>\n",
       "      <td>Comedy</td>\n",
       "      <td>Science Fiction</td>\n",
       "      <td>Fantasy</td>\n",
       "    </tr>\n",
       "    <tr>\n",
       "      <th>9</th>\n",
       "      <td>Mystery</td>\n",
       "      <td>Romance</td>\n",
       "      <td>Thriller</td>\n",
       "      <td>Thriller</td>\n",
       "      <td>Science Fiction</td>\n",
       "      <td>Science Fiction</td>\n",
       "      <td>Science Fiction</td>\n",
       "      <td>Music</td>\n",
       "      <td>Animation</td>\n",
       "      <td>Science Fiction</td>\n",
       "      <td>Mystery</td>\n",
       "      <td>Adventure</td>\n",
       "      <td>Crime</td>\n",
       "      <td>Comedy</td>\n",
       "      <td>Mystery</td>\n",
       "      <td>Mystery</td>\n",
       "      <td>Adventure</td>\n",
       "      <td>Fantasy</td>\n",
       "      <td>Fantasy</td>\n",
       "      <td>Family</td>\n",
       "    </tr>\n",
       "    <tr>\n",
       "      <th>10</th>\n",
       "      <td>Family</td>\n",
       "      <td>Crime</td>\n",
       "      <td>Romance</td>\n",
       "      <td>Science Fiction</td>\n",
       "      <td>History</td>\n",
       "      <td>Fantasy</td>\n",
       "      <td>War</td>\n",
       "      <td>Thriller</td>\n",
       "      <td>Horror</td>\n",
       "      <td>Fantasy</td>\n",
       "      <td>Western</td>\n",
       "      <td>Romance</td>\n",
       "      <td>Adventure</td>\n",
       "      <td>Fantasy</td>\n",
       "      <td>Crime</td>\n",
       "      <td>Animation</td>\n",
       "      <td>History</td>\n",
       "      <td>Romance</td>\n",
       "      <td>Crime</td>\n",
       "      <td>Animation</td>\n",
       "    </tr>\n",
       "    <tr>\n",
       "      <th>11</th>\n",
       "      <td>War</td>\n",
       "      <td>Mystery</td>\n",
       "      <td>Western</td>\n",
       "      <td>Music</td>\n",
       "      <td>Fantasy</td>\n",
       "      <td>Romance</td>\n",
       "      <td>Fantasy</td>\n",
       "      <td>Mystery</td>\n",
       "      <td>Mystery</td>\n",
       "      <td>Romance</td>\n",
       "      <td>Science Fiction</td>\n",
       "      <td>War</td>\n",
       "      <td>War</td>\n",
       "      <td>Family</td>\n",
       "      <td>Science Fiction</td>\n",
       "      <td>Romance</td>\n",
       "      <td>Mystery</td>\n",
       "      <td>War</td>\n",
       "      <td>Mystery</td>\n",
       "      <td>War</td>\n",
       "    </tr>\n",
       "    <tr>\n",
       "      <th>12</th>\n",
       "      <td>Romance</td>\n",
       "      <td>War</td>\n",
       "      <td>Mystery</td>\n",
       "      <td>Horror</td>\n",
       "      <td>Western</td>\n",
       "      <td>Animation</td>\n",
       "      <td>Horror</td>\n",
       "      <td>Documentary</td>\n",
       "      <td>Music</td>\n",
       "      <td>Animation</td>\n",
       "      <td>Fantasy</td>\n",
       "      <td>Music</td>\n",
       "      <td>Horror</td>\n",
       "      <td>Western</td>\n",
       "      <td>History</td>\n",
       "      <td>Crime</td>\n",
       "      <td>Family</td>\n",
       "      <td>History</td>\n",
       "      <td>Music</td>\n",
       "      <td>Science Fiction</td>\n",
       "    </tr>\n",
       "    <tr>\n",
       "      <th>13</th>\n",
       "      <td>Animation</td>\n",
       "      <td>Western</td>\n",
       "      <td>War</td>\n",
       "      <td>Mystery</td>\n",
       "      <td>Music</td>\n",
       "      <td>Mystery</td>\n",
       "      <td>Music</td>\n",
       "      <td>Crime</td>\n",
       "      <td>Crime</td>\n",
       "      <td>TV Movie</td>\n",
       "      <td>Animation</td>\n",
       "      <td>Foreign</td>\n",
       "      <td>Science Fiction</td>\n",
       "      <td>History</td>\n",
       "      <td>War</td>\n",
       "      <td>War</td>\n",
       "      <td>Foreign</td>\n",
       "      <td>Western</td>\n",
       "      <td>Western</td>\n",
       "      <td>History</td>\n",
       "    </tr>\n",
       "    <tr>\n",
       "      <th>14</th>\n",
       "      <td>History</td>\n",
       "      <td>History</td>\n",
       "      <td>Crime</td>\n",
       "      <td>Documentary</td>\n",
       "      <td>War</td>\n",
       "      <td>Horror</td>\n",
       "      <td>Family</td>\n",
       "      <td>Western</td>\n",
       "      <td>War</td>\n",
       "      <td>History</td>\n",
       "      <td>TV Movie</td>\n",
       "      <td>Family</td>\n",
       "      <td>TV Movie</td>\n",
       "      <td>War</td>\n",
       "      <td>Horror</td>\n",
       "      <td>Western</td>\n",
       "      <td>Comedy</td>\n",
       "      <td>Family</td>\n",
       "      <td>Horror</td>\n",
       "      <td>Romance</td>\n",
       "    </tr>\n",
       "    <tr>\n",
       "      <th>15</th>\n",
       "      <td>Western</td>\n",
       "      <td>Horror</td>\n",
       "      <td>TV Movie</td>\n",
       "      <td>Western</td>\n",
       "      <td>Foreign</td>\n",
       "      <td>Crime</td>\n",
       "      <td>Western</td>\n",
       "      <td>Horror</td>\n",
       "      <td>Western</td>\n",
       "      <td>Western</td>\n",
       "      <td>Horror</td>\n",
       "      <td>TV Movie</td>\n",
       "      <td>Foreign</td>\n",
       "      <td>Animation</td>\n",
       "      <td>Animation</td>\n",
       "      <td>TV Movie</td>\n",
       "      <td>Western</td>\n",
       "      <td>Animation</td>\n",
       "      <td>Animation</td>\n",
       "      <td>TV Movie</td>\n",
       "    </tr>\n",
       "    <tr>\n",
       "      <th>16</th>\n",
       "      <td>Music</td>\n",
       "      <td>Music</td>\n",
       "      <td>History</td>\n",
       "      <td>War</td>\n",
       "      <td>Family</td>\n",
       "      <td>Western</td>\n",
       "      <td>Animation</td>\n",
       "      <td>Foreign</td>\n",
       "      <td>TV Movie</td>\n",
       "      <td>Music</td>\n",
       "      <td>Family</td>\n",
       "      <td>History</td>\n",
       "      <td>Western</td>\n",
       "      <td>TV Movie</td>\n",
       "      <td>TV Movie</td>\n",
       "      <td>Foreign</td>\n",
       "      <td>Music</td>\n",
       "      <td>TV Movie</td>\n",
       "      <td>TV Movie</td>\n",
       "      <td>Foreign</td>\n",
       "    </tr>\n",
       "    <tr>\n",
       "      <th>17</th>\n",
       "      <td>Documentary</td>\n",
       "      <td>Documentary</td>\n",
       "      <td>Horror</td>\n",
       "      <td>History</td>\n",
       "      <td>TV Movie</td>\n",
       "      <td>Thriller</td>\n",
       "      <td>Foreign</td>\n",
       "      <td>War</td>\n",
       "      <td>Foreign</td>\n",
       "      <td>War</td>\n",
       "      <td>Foreign</td>\n",
       "      <td>Western</td>\n",
       "      <td>Thriller</td>\n",
       "      <td>Music</td>\n",
       "      <td>Foreign</td>\n",
       "      <td>Music</td>\n",
       "      <td>War</td>\n",
       "      <td>Foreign</td>\n",
       "      <td>Foreign</td>\n",
       "      <td>Music</td>\n",
       "    </tr>\n",
       "    <tr>\n",
       "      <th>18</th>\n",
       "      <td>Foreign</td>\n",
       "      <td>Foreign</td>\n",
       "      <td>Foreign</td>\n",
       "      <td>Foreign</td>\n",
       "      <td>Animation</td>\n",
       "      <td>War</td>\n",
       "      <td>Documentary</td>\n",
       "      <td>History</td>\n",
       "      <td>History</td>\n",
       "      <td>Adventure</td>\n",
       "      <td>Music</td>\n",
       "      <td>Animation</td>\n",
       "      <td>History</td>\n",
       "      <td>Foreign</td>\n",
       "      <td>Western</td>\n",
       "      <td>History</td>\n",
       "      <td>Horror</td>\n",
       "      <td>Music</td>\n",
       "      <td>Family</td>\n",
       "      <td>Horror</td>\n",
       "    </tr>\n",
       "    <tr>\n",
       "      <th>19</th>\n",
       "      <td>TV Movie</td>\n",
       "      <td>TV Movie</td>\n",
       "      <td>Documentary</td>\n",
       "      <td>TV Movie</td>\n",
       "      <td>Documentary</td>\n",
       "      <td>History</td>\n",
       "      <td>TV Movie</td>\n",
       "      <td>TV Movie</td>\n",
       "      <td>Documentary</td>\n",
       "      <td>Mystery</td>\n",
       "      <td>Documentary</td>\n",
       "      <td>Documentary</td>\n",
       "      <td>Mystery</td>\n",
       "      <td>Documentary</td>\n",
       "      <td>Documentary</td>\n",
       "      <td>Documentary</td>\n",
       "      <td>Documentary</td>\n",
       "      <td>Documentary</td>\n",
       "      <td>Documentary</td>\n",
       "      <td>Documentary</td>\n",
       "    </tr>\n",
       "  </tbody>\n",
       "</table>\n",
       "</div>"
      ],
      "text/plain": [
       "             Action        Adventure        Animation           Comedy  \\\n",
       "1          Thriller           Action           Family            Drama   \n",
       "2         Adventure           Family           Comedy          Romance   \n",
       "3             Crime           Comedy        Adventure           Family   \n",
       "4             Drama          Fantasy          Fantasy           Action   \n",
       "5   Science Fiction  Science Fiction           Action        Adventure   \n",
       "6            Comedy         Thriller  Science Fiction        Animation   \n",
       "7           Fantasy            Drama            Music            Crime   \n",
       "8            Horror        Animation            Drama          Fantasy   \n",
       "9           Mystery          Romance         Thriller         Thriller   \n",
       "10           Family            Crime          Romance  Science Fiction   \n",
       "11              War          Mystery          Western            Music   \n",
       "12          Romance              War          Mystery           Horror   \n",
       "13        Animation          Western              War          Mystery   \n",
       "14          History          History            Crime      Documentary   \n",
       "15          Western           Horror         TV Movie          Western   \n",
       "16            Music            Music          History              War   \n",
       "17      Documentary      Documentary           Horror          History   \n",
       "18          Foreign          Foreign          Foreign          Foreign   \n",
       "19         TV Movie         TV Movie      Documentary         TV Movie   \n",
       "\n",
       "              Crime      Documentary            Drama           Family  \\\n",
       "1          Thriller            Music         Thriller           Comedy   \n",
       "2             Drama           Comedy          Romance        Adventure   \n",
       "3            Action           Family           Comedy        Animation   \n",
       "4            Comedy            Drama            Crime          Fantasy   \n",
       "5           Mystery          Foreign           Action           Action   \n",
       "6         Adventure           Action          Mystery            Drama   \n",
       "7            Horror        Adventure        Adventure  Science Fiction   \n",
       "8           Romance         TV Movie          History          Romance   \n",
       "9   Science Fiction  Science Fiction  Science Fiction            Music   \n",
       "10          History          Fantasy              War         Thriller   \n",
       "11          Fantasy          Romance          Fantasy          Mystery   \n",
       "12          Western        Animation           Horror      Documentary   \n",
       "13            Music          Mystery            Music            Crime   \n",
       "14              War           Horror           Family          Western   \n",
       "15          Foreign            Crime          Western           Horror   \n",
       "16           Family          Western        Animation          Foreign   \n",
       "17         TV Movie         Thriller          Foreign              War   \n",
       "18        Animation              War      Documentary          History   \n",
       "19      Documentary          History         TV Movie         TV Movie   \n",
       "\n",
       "            Fantasy          Foreign          History           Horror  \\\n",
       "1         Adventure            Drama            Drama         Thriller   \n",
       "2            Action      Documentary              War          Mystery   \n",
       "3            Family            Crime           Action            Drama   \n",
       "4            Comedy         Thriller         Thriller           Action   \n",
       "5             Drama           Comedy        Adventure  Science Fiction   \n",
       "6   Science Fiction           Action          Romance          Fantasy   \n",
       "7          Thriller           Family            Crime           Comedy   \n",
       "8           Romance           Horror           Comedy            Crime   \n",
       "9         Animation  Science Fiction          Mystery        Adventure   \n",
       "10           Horror          Fantasy          Western          Romance   \n",
       "11          Mystery          Romance  Science Fiction              War   \n",
       "12            Music        Animation          Fantasy            Music   \n",
       "13            Crime         TV Movie        Animation          Foreign   \n",
       "14              War          History         TV Movie           Family   \n",
       "15          Western          Western           Horror         TV Movie   \n",
       "16         TV Movie            Music           Family          History   \n",
       "17          Foreign              War          Foreign          Western   \n",
       "18          History        Adventure            Music        Animation   \n",
       "19      Documentary          Mystery      Documentary      Documentary   \n",
       "\n",
       "              Music          Mystery          Romance Science Fiction  \\\n",
       "1             Drama         Thriller            Drama          Action   \n",
       "2            Comedy            Drama           Comedy       Adventure   \n",
       "3           Romance            Crime          Fantasy        Thriller   \n",
       "4            Family           Horror         Thriller           Drama   \n",
       "5           Fantasy           Action        Adventure         Fantasy   \n",
       "6         Animation  Science Fiction            Music          Comedy   \n",
       "7       Documentary        Adventure           Family          Horror   \n",
       "8            Action          Romance           Action          Family   \n",
       "9             Crime           Comedy          Mystery         Mystery   \n",
       "10        Adventure          Fantasy            Crime       Animation   \n",
       "11              War           Family  Science Fiction         Romance   \n",
       "12           Horror          Western          History           Crime   \n",
       "13  Science Fiction          History              War             War   \n",
       "14         TV Movie              War           Horror         Western   \n",
       "15          Foreign        Animation        Animation        TV Movie   \n",
       "16          Western         TV Movie         TV Movie         Foreign   \n",
       "17         Thriller            Music          Foreign           Music   \n",
       "18          History          Foreign          Western         History   \n",
       "19          Mystery      Documentary      Documentary     Documentary   \n",
       "\n",
       "           TV Movie         Thriller              War          Western  \n",
       "1             Drama            Drama            Drama            Drama  \n",
       "2          Thriller           Action           Action        Adventure  \n",
       "3             Crime            Crime          History           Action  \n",
       "4   Science Fiction           Horror         Thriller         Thriller  \n",
       "5           Fantasy          Mystery        Adventure            Crime  \n",
       "6           Romance  Science Fiction          Romance           Comedy  \n",
       "7            Action        Adventure           Comedy          Mystery  \n",
       "8         Animation           Comedy  Science Fiction          Fantasy  \n",
       "9         Adventure          Fantasy          Fantasy           Family  \n",
       "10          History          Romance            Crime        Animation  \n",
       "11          Mystery              War          Mystery              War  \n",
       "12           Family          History            Music  Science Fiction  \n",
       "13          Foreign          Western          Western          History  \n",
       "14           Comedy           Family           Horror          Romance  \n",
       "15          Western        Animation        Animation         TV Movie  \n",
       "16            Music         TV Movie         TV Movie          Foreign  \n",
       "17              War          Foreign          Foreign            Music  \n",
       "18           Horror            Music           Family           Horror  \n",
       "19      Documentary      Documentary      Documentary      Documentary  "
      ]
     },
     "execution_count": 94,
     "metadata": {},
     "output_type": "execute_result"
    }
   ],
   "source": [
    "ranking = np.linspace(1, len(Diffgenres)-1, num=len(Diffgenres)-1, endpoint=True, retstep=False, dtype=int)\n",
    "\n",
    "Rankdf = pd.DataFrame(assosRank, index=ranking)\n",
    "Rankdf"
   ]
  },
  {
   "cell_type": "code",
   "execution_count": 95,
   "metadata": {
    "collapsed": true
   },
   "outputs": [],
   "source": [
    "Rankdf.to_csv('Saved_Datasets/GenreRanking.csv', index=False)"
   ]
  },
  {
   "cell_type": "markdown",
   "metadata": {},
   "source": [
    "#### 3.3 Determine how many films are successful or are non-successful depending on the genre ####"
   ]
  },
  {
   "cell_type": "code",
   "execution_count": 96,
   "metadata": {},
   "outputs": [
    {
     "data": {
      "text/plain": [
       "array([0, 0, 0, 0, 0, 0, 0, 0, 0, 0, 0, 0, 0, 1, 0, 0, 0, 0, 1, 0])"
      ]
     },
     "execution_count": 96,
     "metadata": {},
     "output_type": "execute_result"
    }
   ],
   "source": [
    "genreArray[0]"
   ]
  },
  {
   "cell_type": "code",
   "execution_count": 97,
   "metadata": {
    "collapsed": true
   },
   "outputs": [],
   "source": [
    "genreSuccess = np.zeros(shape=(1, len(Diffgenres)), dtype=float)\n",
    "genreSuccessPc = np.zeros(shape=(1, len(Diffgenres)), dtype=float)\n",
    "\n",
    "for i in range(0, len(Diffgenres)):\n",
    "    for j in range(0, len(df)):\n",
    "        if genreArray[j][i] == 1:\n",
    "            if df['success'][j] == 1:\n",
    "                genreSuccess[0][i] += 1\n",
    "    \n",
    "    genreSuccessPc[0][i] = (genreSuccess[0][i]/freqGenre[0][i])*100"
   ]
  },
  {
   "cell_type": "code",
   "execution_count": 98,
   "metadata": {},
   "outputs": [
    {
     "data": {
      "image/png": "[encoded data removed]",
      "text/plain": [
       "<matplotlib.figure.Figure at 0x103de390>"
      ]
     },
     "metadata": {},
     "output_type": "display_data"
    }
   ],
   "source": [
    "plt.bar(Diffgenres, genreSuccessPc[0], align='center');\n",
    "plt.setp(plt.gca().get_xticklabels(), rotation=45, horizontalalignment='right');\n",
    "plt.xlabel('Genres');\n",
    "plt.ylabel('Success rate [%]');"
   ]
  },
  {
   "cell_type": "markdown",
   "metadata": {},
   "source": [
    "Don't forget that the number of successful movies is not equal to the sum of the success rate of the genres since movies often have multiple genres."
   ]
  },
  {
   "cell_type": "code",
   "execution_count": 99,
   "metadata": {},
   "outputs": [
    {
     "name": "stdout",
     "output_type": "stream",
     "text": [
      "1651.0\n",
      "The number of films that are succesful: 655\n",
      "The number of films that are unsuccesful: 0\n"
     ]
    }
   ],
   "source": [
    "print(sum(sum(genreSuccess)))\n",
    "print('The number of films that are succesful: {}'.format(len(df[df['success'] == 1])))\n",
    "print('The number of films that are unsuccesful: {}'.format(len(df[df['success'] == 0])))"
   ]
  },
  {
   "cell_type": "markdown",
   "metadata": {},
   "source": [
    "### 4. Create a similarity  graph between films depending on genre ###"
   ]
  },
  {
   "cell_type": "markdown",
   "metadata": {},
   "source": [
    "In this case, the similarity is the number of genres that the movie has in common:\n",
    "\n",
    "$\\mathbf{W}(u,v) = sum(u \\cdot v) \\ \\in [0, 20]$"
   ]
  },
  {
   "cell_type": "code",
   "execution_count": 100,
   "metadata": {
    "collapsed": true
   },
   "outputs": [],
   "source": [
    "weights = np.ndarray(shape=(len(df), len(df)), dtype=int)\n",
    "\n",
    "weights = genreArray @ genreArray.T\n",
    "\n",
    "#fill the diagonal values to zero, i.e. no self-connections\n",
    "np.fill_diagonal(weights, 0)"
   ]
  },
  {
   "cell_type": "code",
   "execution_count": 101,
   "metadata": {},
   "outputs": [
    {
     "data": {
      "text/plain": [
       "<matplotlib.image.AxesImage at 0x10786b70>"
      ]
     },
     "execution_count": 101,
     "metadata": {},
     "output_type": "execute_result"
    },
    {
     "data": {
      "image/png": "[encoded data removed]",
      "text/plain": [
       "<matplotlib.figure.Figure at 0x1071fb70>"
      ]
     },
     "metadata": {},
     "output_type": "display_data"
    }
   ],
   "source": [
    "plt.spy(weights)"
   ]
  },
  {
   "cell_type": "code",
   "execution_count": 102,
   "metadata": {},
   "outputs": [
    {
     "data": {
      "image/png": "[encoded data removed]",
      "text/plain": [
       "<matplotlib.figure.Figure at 0x1d2ac4e0>"
      ]
     },
     "metadata": {},
     "output_type": "display_data"
    }
   ],
   "source": [
    "plt.hist(weights[weights > 0].reshape(-1), bins=50);"
   ]
  },
  {
   "cell_type": "code",
   "execution_count": 103,
   "metadata": {},
   "outputs": [
    {
     "name": "stdout",
     "output_type": "stream",
     "text": [
      "There are 3430935 weights equal to zero\n",
      "There are 2611932 weights equal to one\n",
      "There are 0 weights equal to seven\n"
     ]
    }
   ],
   "source": [
    "print('There are {} weights equal to zero'.format(np.sum(weights == 0)))\n",
    "print('There are {} weights equal to one'.format(np.sum(weights == 1)))\n",
    "print('There are {} weights equal to seven'.format(np.sum(weights == 7)))"
   ]
  },
  {
   "cell_type": "code",
   "execution_count": 104,
   "metadata": {},
   "outputs": [
    {
     "name": "stdout",
     "output_type": "stream",
     "text": [
      "The mean value of the similarity in terms of genre is: 0.6433494850749842\n",
      "The max value of the similarity is: 6\n",
      "The min value of the similarity is: 0\n"
     ]
    }
   ],
   "source": [
    "meanW = weights.mean()\n",
    "maxW = weights.max()\n",
    "minW = weights.min()\n",
    "\n",
    "print('The mean value of the similarity in terms of genre is: {}'.format(meanW))\n",
    "print('The max value of the similarity is: {}'.format(maxW))\n",
    "print('The min value of the similarity is: {}'.format(minW))"
   ]
  },
  {
   "cell_type": "markdown",
   "metadata": {},
   "source": [
    "#### 4.1 Normalization of the matrix ####"
   ]
  },
  {
   "cell_type": "code",
   "execution_count": 105,
   "metadata": {},
   "outputs": [
    {
     "name": "stdout",
     "output_type": "stream",
     "text": [
      "[0 0 1 1 0 0 0 0 1 0 0 0 0 0 0 0 0 0 0 0]\n",
      "3\n"
     ]
    }
   ],
   "source": [
    "print(genreArray[1])\n",
    "print(sum(genreArray[1]))"
   ]
  },
  {
   "cell_type": "code",
   "execution_count": 106,
   "metadata": {
    "collapsed": true
   },
   "outputs": [],
   "source": [
    "weightsNorm = np.ndarray(shape=(len(df), len(df)), dtype=float)\n",
    "lengths =  np.ndarray(shape=(1, 2), dtype=int)\n",
    "lenMax = 0;\n",
    "\n",
    "for i in range(0, len(weights)):\n",
    "    for j in range(0, len(weights)):\n",
    "        if i!=j: \n",
    "            lengths = [sum(genreArray[i]), sum(genreArray[j])]\n",
    "            weightsNorm[i][j] = (weights[i][j])/max(lengths) \n",
    "\n",
    "np.fill_diagonal(weightsNorm, 0)"
   ]
  },
  {
   "cell_type": "code",
   "execution_count": 107,
   "metadata": {},
   "outputs": [
    {
     "name": "stdout",
     "output_type": "stream",
     "text": [
      "0.750927221103\n",
      "0.643349485075\n"
     ]
    }
   ],
   "source": [
    "sigma = np.std(weights)\n",
    "print(sigma)\n",
    "mu = np.mean(weights)\n",
    "print(mu)\n",
    "#1/(sigma*math.sqrt(2*math.pi))*\n",
    "Wgauss = np.exp(-((weights-mu)**2)/(2*sigma**2))\n",
    "\n",
    "#fill the diagonal values to zero, i.e. no self-connections\n",
    "np.fill_diagonal(Wgauss, 0)"
   ]
  },
  {
   "cell_type": "markdown",
   "metadata": {},
   "source": [
    "Maximum normalization "
   ]
  },
  {
   "cell_type": "code",
   "execution_count": 108,
   "metadata": {},
   "outputs": [
    {
     "data": {
      "text/plain": [
       "<matplotlib.image.AxesImage at 0x1124e1d0>"
      ]
     },
     "execution_count": 108,
     "metadata": {},
     "output_type": "execute_result"
    },
    {
     "data": {
      "image/png": "[encoded data removed]",
      "text/plain": [
       "<matplotlib.figure.Figure at 0x108cc2b0>"
      ]
     },
     "metadata": {},
     "output_type": "display_data"
    }
   ],
   "source": [
    "plt.spy(weightsNorm)"
   ]
  },
  {
   "cell_type": "code",
   "execution_count": 109,
   "metadata": {},
   "outputs": [
    {
     "data": {
      "image/png": "[encoded data removed]",
      "text/plain": [
       "<matplotlib.figure.Figure at 0x1126e2b0>"
      ]
     },
     "metadata": {},
     "output_type": "display_data"
    }
   ],
   "source": [
    "plt.hist(weightsNorm.reshape(-1), bins=50);"
   ]
  },
  {
   "cell_type": "code",
   "execution_count": 110,
   "metadata": {},
   "outputs": [
    {
     "name": "stdout",
     "output_type": "stream",
     "text": [
      "The mean value is: 0.20359825069114826\n",
      "The max value is: 1.0\n",
      "The min value is: 0.0\n"
     ]
    }
   ],
   "source": [
    "print('The mean value is: {}'.format(weightsNorm.mean()))\n",
    "print('The max value is: {}'.format(weightsNorm.max()))\n",
    "print('The min value is: {}'.format(weightsNorm.min()))"
   ]
  },
  {
   "cell_type": "markdown",
   "metadata": {},
   "source": [
    "Plot the degree distribution"
   ]
  },
  {
   "cell_type": "code",
   "execution_count": 111,
   "metadata": {},
   "outputs": [
    {
     "data": {
      "image/png": "[encoded data removed]",
      "text/plain": [
       "<matplotlib.figure.Figure at 0x112830f0>"
      ]
     },
     "metadata": {},
     "output_type": "display_data"
    }
   ],
   "source": [
    "degrees = np.zeros(len(weightsNorm)) \n",
    "\n",
    "#reminder: the degrees of a node for a weighted graph are the sum of its weights\n",
    "\n",
    "for i in range(0, len(weightsNorm)):\n",
    "    degrees[i] = sum(weightsNorm[i])\n",
    "\n",
    "plt.hist(degrees, bins=50);"
   ]
  },
  {
   "cell_type": "code",
   "execution_count": 112,
   "metadata": {},
   "outputs": [
    {
     "name": "stdout",
     "output_type": "stream",
     "text": [
      "The mean value is: 533.6310150614994\n",
      "The max value is: 880.2142857142858\n",
      "The min value is: 7.999999999999999\n"
     ]
    }
   ],
   "source": [
    "print('The mean value is: {}'.format(degrees.mean()))\n",
    "print('The max value is: {}'.format(degrees.max()))\n",
    "print('The min value is: {}'.format(degrees.min()))"
   ]
  },
  {
   "cell_type": "markdown",
   "metadata": {},
   "source": [
    "Gaussian normalization"
   ]
  },
  {
   "cell_type": "code",
   "execution_count": 113,
   "metadata": {},
   "outputs": [
    {
     "data": {
      "text/plain": [
       "<matplotlib.image.AxesImage at 0x171555c0>"
      ]
     },
     "execution_count": 113,
     "metadata": {},
     "output_type": "execute_result"
    },
    {
     "data": {
      "image/png": "[encoded data removed]",
      "text/plain": [
       "<matplotlib.figure.Figure at 0x1132f278>"
      ]
     },
     "metadata": {},
     "output_type": "display_data"
    }
   ],
   "source": [
    "plt.spy(Wgauss)"
   ]
  },
  {
   "cell_type": "markdown",
   "metadata": {},
   "source": [
    "#### 4.3 Save the dataset ####"
   ]
  },
  {
   "cell_type": "code",
   "execution_count": 114,
   "metadata": {},
   "outputs": [
    {
     "data": {
      "text/html": [
       "<div>\n",
       "<style>\n",
       "    .dataframe thead tr:only-child th {\n",
       "        text-align: right;\n",
       "    }\n",
       "\n",
       "    .dataframe thead th {\n",
       "        text-align: left;\n",
       "    }\n",
       "\n",
       "    .dataframe tbody tr th {\n",
       "        vertical-align: top;\n",
       "    }\n",
       "</style>\n",
       "<table border=\"1\" class=\"dataframe\">\n",
       "  <thead>\n",
       "    <tr style=\"text-align: right;\">\n",
       "      <th></th>\n",
       "      <th>0</th>\n",
       "      <th>1</th>\n",
       "      <th>2</th>\n",
       "      <th>3</th>\n",
       "      <th>4</th>\n",
       "      <th>5</th>\n",
       "      <th>6</th>\n",
       "      <th>7</th>\n",
       "      <th>8</th>\n",
       "      <th>9</th>\n",
       "      <th>...</th>\n",
       "      <th>2611</th>\n",
       "      <th>2612</th>\n",
       "      <th>2613</th>\n",
       "      <th>2614</th>\n",
       "      <th>2615</th>\n",
       "      <th>2616</th>\n",
       "      <th>2617</th>\n",
       "      <th>2618</th>\n",
       "      <th>2619</th>\n",
       "      <th>2620</th>\n",
       "    </tr>\n",
       "  </thead>\n",
       "  <tbody>\n",
       "    <tr>\n",
       "      <th>0</th>\n",
       "      <td>0.0</td>\n",
       "      <td>0.000000</td>\n",
       "      <td>0.000000</td>\n",
       "      <td>0.000000</td>\n",
       "      <td>0.000000</td>\n",
       "      <td>0.000000</td>\n",
       "      <td>0.666667</td>\n",
       "      <td>0.000000</td>\n",
       "      <td>0.000000</td>\n",
       "      <td>0.000000</td>\n",
       "      <td>...</td>\n",
       "      <td>0.0</td>\n",
       "      <td>0.00</td>\n",
       "      <td>0.000000</td>\n",
       "      <td>0.000000</td>\n",
       "      <td>0.000000</td>\n",
       "      <td>0.333333</td>\n",
       "      <td>0.000000</td>\n",
       "      <td>0.0</td>\n",
       "      <td>0.4</td>\n",
       "      <td>0.000000</td>\n",
       "    </tr>\n",
       "    <tr>\n",
       "      <th>1</th>\n",
       "      <td>0.0</td>\n",
       "      <td>0.000000</td>\n",
       "      <td>0.000000</td>\n",
       "      <td>0.333333</td>\n",
       "      <td>0.333333</td>\n",
       "      <td>0.666667</td>\n",
       "      <td>0.000000</td>\n",
       "      <td>0.333333</td>\n",
       "      <td>0.000000</td>\n",
       "      <td>0.666667</td>\n",
       "      <td>...</td>\n",
       "      <td>0.0</td>\n",
       "      <td>0.50</td>\n",
       "      <td>0.333333</td>\n",
       "      <td>0.333333</td>\n",
       "      <td>0.333333</td>\n",
       "      <td>0.333333</td>\n",
       "      <td>0.333333</td>\n",
       "      <td>0.0</td>\n",
       "      <td>0.0</td>\n",
       "      <td>0.333333</td>\n",
       "    </tr>\n",
       "    <tr>\n",
       "      <th>2</th>\n",
       "      <td>0.0</td>\n",
       "      <td>0.000000</td>\n",
       "      <td>0.000000</td>\n",
       "      <td>0.333333</td>\n",
       "      <td>0.000000</td>\n",
       "      <td>0.000000</td>\n",
       "      <td>0.000000</td>\n",
       "      <td>0.000000</td>\n",
       "      <td>1.000000</td>\n",
       "      <td>0.000000</td>\n",
       "      <td>...</td>\n",
       "      <td>0.0</td>\n",
       "      <td>0.25</td>\n",
       "      <td>0.000000</td>\n",
       "      <td>0.000000</td>\n",
       "      <td>0.000000</td>\n",
       "      <td>0.000000</td>\n",
       "      <td>0.000000</td>\n",
       "      <td>0.0</td>\n",
       "      <td>0.6</td>\n",
       "      <td>0.000000</td>\n",
       "    </tr>\n",
       "    <tr>\n",
       "      <th>3</th>\n",
       "      <td>0.0</td>\n",
       "      <td>0.333333</td>\n",
       "      <td>0.333333</td>\n",
       "      <td>0.000000</td>\n",
       "      <td>0.000000</td>\n",
       "      <td>0.000000</td>\n",
       "      <td>0.000000</td>\n",
       "      <td>0.000000</td>\n",
       "      <td>0.333333</td>\n",
       "      <td>0.333333</td>\n",
       "      <td>...</td>\n",
       "      <td>0.0</td>\n",
       "      <td>0.50</td>\n",
       "      <td>0.000000</td>\n",
       "      <td>0.000000</td>\n",
       "      <td>0.000000</td>\n",
       "      <td>0.000000</td>\n",
       "      <td>0.000000</td>\n",
       "      <td>0.0</td>\n",
       "      <td>0.2</td>\n",
       "      <td>0.000000</td>\n",
       "    </tr>\n",
       "    <tr>\n",
       "      <th>4</th>\n",
       "      <td>0.0</td>\n",
       "      <td>0.333333</td>\n",
       "      <td>0.000000</td>\n",
       "      <td>0.000000</td>\n",
       "      <td>0.000000</td>\n",
       "      <td>0.333333</td>\n",
       "      <td>0.000000</td>\n",
       "      <td>0.333333</td>\n",
       "      <td>0.000000</td>\n",
       "      <td>0.333333</td>\n",
       "      <td>...</td>\n",
       "      <td>0.0</td>\n",
       "      <td>0.25</td>\n",
       "      <td>0.333333</td>\n",
       "      <td>0.500000</td>\n",
       "      <td>0.500000</td>\n",
       "      <td>0.333333</td>\n",
       "      <td>0.500000</td>\n",
       "      <td>0.0</td>\n",
       "      <td>0.0</td>\n",
       "      <td>0.500000</td>\n",
       "    </tr>\n",
       "  </tbody>\n",
       "</table>\n",
       "<p>5 rows × 2621 columns</p>\n",
       "</div>"
      ],
      "text/plain": [
       "   0         1         2         3         4         5         6         7     \\\n",
       "0   0.0  0.000000  0.000000  0.000000  0.000000  0.000000  0.666667  0.000000   \n",
       "1   0.0  0.000000  0.000000  0.333333  0.333333  0.666667  0.000000  0.333333   \n",
       "2   0.0  0.000000  0.000000  0.333333  0.000000  0.000000  0.000000  0.000000   \n",
       "3   0.0  0.333333  0.333333  0.000000  0.000000  0.000000  0.000000  0.000000   \n",
       "4   0.0  0.333333  0.000000  0.000000  0.000000  0.333333  0.000000  0.333333   \n",
       "\n",
       "       8         9       ...     2611  2612      2613      2614      2615  \\\n",
       "0  0.000000  0.000000    ...      0.0  0.00  0.000000  0.000000  0.000000   \n",
       "1  0.000000  0.666667    ...      0.0  0.50  0.333333  0.333333  0.333333   \n",
       "2  1.000000  0.000000    ...      0.0  0.25  0.000000  0.000000  0.000000   \n",
       "3  0.333333  0.333333    ...      0.0  0.50  0.000000  0.000000  0.000000   \n",
       "4  0.000000  0.333333    ...      0.0  0.25  0.333333  0.500000  0.500000   \n",
       "\n",
       "       2616      2617  2618  2619      2620  \n",
       "0  0.333333  0.000000   0.0   0.4  0.000000  \n",
       "1  0.333333  0.333333   0.0   0.0  0.333333  \n",
       "2  0.000000  0.000000   0.0   0.6  0.000000  \n",
       "3  0.000000  0.000000   0.0   0.2  0.000000  \n",
       "4  0.333333  0.500000   0.0   0.0  0.500000  \n",
       "\n",
       "[5 rows x 2621 columns]"
      ]
     },
     "execution_count": 114,
     "metadata": {},
     "output_type": "execute_result"
    }
   ],
   "source": [
    "NormW = pd.DataFrame(weightsNorm)\n",
    "NormW.head()"
   ]
  },
  {
   "cell_type": "code",
   "execution_count": 115,
   "metadata": {
    "collapsed": true
   },
   "outputs": [],
   "source": [
    "NormW.to_csv('Saved_Datasets/NormalizedGenreW.csv', index=False)"
   ]
  },
  {
   "cell_type": "markdown",
   "metadata": {},
   "source": [
    "### 5. Graph Laplacian and Embedding for maximum normalization ###"
   ]
  },
  {
   "cell_type": "markdown",
   "metadata": {},
   "source": [
    "#### 5.1 Compute the graph Laplacian ####"
   ]
  },
  {
   "cell_type": "markdown",
   "metadata": {},
   "source": [
    "With pygsp"
   ]
  },
  {
   "cell_type": "code",
   "execution_count": 116,
   "metadata": {
    "collapsed": true
   },
   "outputs": [],
   "source": [
    "G = graphs.Graph(weightsNorm)\n",
    "G.compute_laplacian('normalized')"
   ]
  },
  {
   "cell_type": "markdown",
   "metadata": {},
   "source": [
    "Normally"
   ]
  },
  {
   "cell_type": "code",
   "execution_count": 117,
   "metadata": {},
   "outputs": [
    {
     "data": {
      "image/png": "[encoded data removed]",
      "text/plain": [
       "<matplotlib.figure.Figure at 0x10853ef0>"
      ]
     },
     "metadata": {},
     "output_type": "display_data"
    }
   ],
   "source": [
    "#reminder: L = D - W for weighted graphs\n",
    "laplacian = np.diag(degrees) - weightsNorm\n",
    "\n",
    "#computation of the normalized Laplacian\n",
    "laplacian_norm = scipy.sparse.csgraph.laplacian(weightsNorm, normed = True)\n",
    "\n",
    "plt.spy(laplacian_norm);"
   ]
  },
  {
   "cell_type": "code",
   "execution_count": 118,
   "metadata": {
    "collapsed": true
   },
   "outputs": [],
   "source": [
    "laplacian_norm = sparse.csr_matrix(laplacian_norm)"
   ]
  },
  {
   "cell_type": "markdown",
   "metadata": {},
   "source": [
    "#### 5.2 Compute the Fourier basis ####"
   ]
  },
  {
   "cell_type": "markdown",
   "metadata": {},
   "source": [
    "With pygsp"
   ]
  },
  {
   "cell_type": "code",
   "execution_count": 119,
   "metadata": {},
   "outputs": [
    {
     "data": {
      "image/png": "[encoded data removed]",
      "text/plain": [
       "<matplotlib.figure.Figure at 0x1716af60>"
      ]
     },
     "metadata": {},
     "output_type": "display_data"
    }
   ],
   "source": [
    "G.compute_fourier_basis(recompute=True)\n",
    "plt.plot(G.e[0:10]);"
   ]
  },
  {
   "cell_type": "markdown",
   "metadata": {},
   "source": [
    "Normally"
   ]
  },
  {
   "cell_type": "code",
   "execution_count": 120,
   "metadata": {
    "collapsed": true
   },
   "outputs": [],
   "source": [
    "eigenvalues, eigenvectors =  sparse.linalg.eigsh(laplacian_norm, k = 10, which = 'SM') "
   ]
  },
  {
   "cell_type": "code",
   "execution_count": 121,
   "metadata": {},
   "outputs": [
    {
     "data": {
      "image/png": "[encoded data removed]",
      "text/plain": [
       "<matplotlib.figure.Figure at 0x36971470>"
      ]
     },
     "metadata": {},
     "output_type": "display_data"
    }
   ],
   "source": [
    "plt.plot(eigenvalues, '.-', markersize=15);\n",
    "plt.xlabel('')\n",
    "plt.ylabel('Eigenvalues')\n",
    "plt.show()"
   ]
  },
  {
   "cell_type": "markdown",
   "metadata": {},
   "source": [
    "#### 5.3 Graph embedding ####"
   ]
  },
  {
   "cell_type": "code",
   "execution_count": 122,
   "metadata": {},
   "outputs": [
    {
     "data": {
      "image/png": "[encoded data removed]",
      "text/plain": [
       "<matplotlib.figure.Figure at 0xf9a1a90>"
      ]
     },
     "metadata": {},
     "output_type": "display_data"
    }
   ],
   "source": [
    "genres = preprocessing.LabelEncoder().fit_transform(df['success'])\n",
    "\n",
    "x = eigenvectors[:, 1] \n",
    "y = eigenvectors[:, 2] \n",
    "plt.scatter(x, y, c=genres, cmap='RdBu', alpha=0.5);"
   ]
  },
  {
   "cell_type": "code",
   "execution_count": 123,
   "metadata": {},
   "outputs": [
    {
     "data": {
      "image/png": "[encoded data removed]",
      "text/plain": [
       "<matplotlib.figure.Figure at 0x36964588>"
      ]
     },
     "metadata": {},
     "output_type": "display_data"
    }
   ],
   "source": [
    "G.set_coordinates(G.U[:, 1:3])\n",
    "G.plot()"
   ]
  },
  {
   "cell_type": "code",
   "execution_count": 124,
   "metadata": {},
   "outputs": [
    {
     "data": {
      "image/png": "[encoded data removed]",
      "text/plain": [
       "<matplotlib.figure.Figure at 0x16e63860>"
      ]
     },
     "metadata": {},
     "output_type": "display_data"
    }
   ],
   "source": [
    "G.plot_signal(genres, vertex_size=20)"
   ]
  },
  {
   "cell_type": "markdown",
   "metadata": {},
   "source": [
    "### 6. Graph Laplacian and Embedding for gaussian normalization ###"
   ]
  },
  {
   "cell_type": "markdown",
   "metadata": {},
   "source": [
    "#### 6.1. Sparsification of the graph ###\n",
    "\n",
    "Keep only a certain number of the weights"
   ]
  },
  {
   "cell_type": "code",
   "execution_count": 125,
   "metadata": {
    "collapsed": true
   },
   "outputs": [],
   "source": [
    "NEIGHBORS = 300\n",
    "\n",
    "#sort the order of the weights\n",
    "sort_order = np.argsort(Wgauss, axis = 1)\n",
    "\n",
    "#declaration of a sorted weight matrix\n",
    "sorted_weights = np.zeros((len(Wgauss), len(Wgauss)))\n",
    "\n",
    "for i in range (0, len(Wgauss)):  \n",
    "    for j in range(0, len(Wgauss)):\n",
    "        if (j >= len(Wgauss) - NEIGHBORS):\n",
    "            #copy the k strongest edges for each node\n",
    "            sorted_weights[i, sort_order[i,j]] = Wgauss[i,sort_order[i,j]]\n",
    "        else:\n",
    "            #set the other edges to zero\n",
    "            sorted_weights[i, sort_order[i,j]] = 0\n",
    "\n",
    "#ensure the matrix is symmetric\n",
    "bigger = sorted_weights.transpose() > sorted_weights\n",
    "sorted_weights = sorted_weights - sorted_weights*bigger + sorted_weights.transpose()*bigger"
   ]
  },
  {
   "cell_type": "code",
   "execution_count": 126,
   "metadata": {},
   "outputs": [
    {
     "data": {
      "text/plain": [
       "<matplotlib.image.AxesImage at 0x1087bef0>"
      ]
     },
     "execution_count": 126,
     "metadata": {},
     "output_type": "execute_result"
    },
    {
     "data": {
      "image/png": "[encoded data removed]",
      "text/plain": [
       "<matplotlib.figure.Figure at 0x1ed4ce48>"
      ]
     },
     "metadata": {},
     "output_type": "display_data"
    }
   ],
   "source": [
    "plt.spy(sorted_weights)"
   ]
  },
  {
   "cell_type": "code",
   "execution_count": 127,
   "metadata": {},
   "outputs": [
    {
     "data": {
      "image/png": "[encoded data removed]",
      "text/plain": [
       "<matplotlib.figure.Figure at 0x3697aa20>"
      ]
     },
     "metadata": {},
     "output_type": "display_data"
    }
   ],
   "source": [
    "plt.hist(sorted_weights.reshape(-1), bins=50);"
   ]
  },
  {
   "cell_type": "markdown",
   "metadata": {},
   "source": [
    "#### 6.1. Save the sparsed dataset ####"
   ]
  },
  {
   "cell_type": "code",
   "execution_count": 128,
   "metadata": {},
   "outputs": [
    {
     "data": {
      "text/html": [
       "<div>\n",
       "<style>\n",
       "    .dataframe thead tr:only-child th {\n",
       "        text-align: right;\n",
       "    }\n",
       "\n",
       "    .dataframe thead th {\n",
       "        text-align: left;\n",
       "    }\n",
       "\n",
       "    .dataframe tbody tr th {\n",
       "        vertical-align: top;\n",
       "    }\n",
       "</style>\n",
       "<table border=\"1\" class=\"dataframe\">\n",
       "  <thead>\n",
       "    <tr style=\"text-align: right;\">\n",
       "      <th></th>\n",
       "      <th>0</th>\n",
       "      <th>1</th>\n",
       "      <th>2</th>\n",
       "      <th>3</th>\n",
       "      <th>4</th>\n",
       "      <th>5</th>\n",
       "      <th>6</th>\n",
       "      <th>7</th>\n",
       "      <th>8</th>\n",
       "      <th>9</th>\n",
       "      <th>...</th>\n",
       "      <th>2611</th>\n",
       "      <th>2612</th>\n",
       "      <th>2613</th>\n",
       "      <th>2614</th>\n",
       "      <th>2615</th>\n",
       "      <th>2616</th>\n",
       "      <th>2617</th>\n",
       "      <th>2618</th>\n",
       "      <th>2619</th>\n",
       "      <th>2620</th>\n",
       "    </tr>\n",
       "  </thead>\n",
       "  <tbody>\n",
       "    <tr>\n",
       "      <th>0</th>\n",
       "      <td>0.0</td>\n",
       "      <td>0.0</td>\n",
       "      <td>0.0</td>\n",
       "      <td>0.0</td>\n",
       "      <td>0.0</td>\n",
       "      <td>0.0</td>\n",
       "      <td>0.0</td>\n",
       "      <td>0.0</td>\n",
       "      <td>0.0</td>\n",
       "      <td>0.0</td>\n",
       "      <td>...</td>\n",
       "      <td>0.0</td>\n",
       "      <td>0.0</td>\n",
       "      <td>0.0</td>\n",
       "      <td>0.0</td>\n",
       "      <td>0.0</td>\n",
       "      <td>0.893341</td>\n",
       "      <td>0.0</td>\n",
       "      <td>0.0</td>\n",
       "      <td>0.0</td>\n",
       "      <td>0.000000</td>\n",
       "    </tr>\n",
       "    <tr>\n",
       "      <th>1</th>\n",
       "      <td>0.0</td>\n",
       "      <td>0.0</td>\n",
       "      <td>0.0</td>\n",
       "      <td>0.0</td>\n",
       "      <td>0.0</td>\n",
       "      <td>0.0</td>\n",
       "      <td>0.0</td>\n",
       "      <td>0.0</td>\n",
       "      <td>0.0</td>\n",
       "      <td>0.0</td>\n",
       "      <td>...</td>\n",
       "      <td>0.0</td>\n",
       "      <td>0.0</td>\n",
       "      <td>0.0</td>\n",
       "      <td>0.0</td>\n",
       "      <td>0.0</td>\n",
       "      <td>0.000000</td>\n",
       "      <td>0.0</td>\n",
       "      <td>0.0</td>\n",
       "      <td>0.0</td>\n",
       "      <td>0.893341</td>\n",
       "    </tr>\n",
       "    <tr>\n",
       "      <th>2</th>\n",
       "      <td>0.0</td>\n",
       "      <td>0.0</td>\n",
       "      <td>0.0</td>\n",
       "      <td>0.0</td>\n",
       "      <td>0.0</td>\n",
       "      <td>0.0</td>\n",
       "      <td>0.0</td>\n",
       "      <td>0.0</td>\n",
       "      <td>0.0</td>\n",
       "      <td>0.0</td>\n",
       "      <td>...</td>\n",
       "      <td>0.0</td>\n",
       "      <td>0.0</td>\n",
       "      <td>0.0</td>\n",
       "      <td>0.0</td>\n",
       "      <td>0.0</td>\n",
       "      <td>0.000000</td>\n",
       "      <td>0.0</td>\n",
       "      <td>0.0</td>\n",
       "      <td>0.0</td>\n",
       "      <td>0.000000</td>\n",
       "    </tr>\n",
       "    <tr>\n",
       "      <th>3</th>\n",
       "      <td>0.0</td>\n",
       "      <td>0.0</td>\n",
       "      <td>0.0</td>\n",
       "      <td>0.0</td>\n",
       "      <td>0.0</td>\n",
       "      <td>0.0</td>\n",
       "      <td>0.0</td>\n",
       "      <td>0.0</td>\n",
       "      <td>0.0</td>\n",
       "      <td>0.0</td>\n",
       "      <td>...</td>\n",
       "      <td>0.0</td>\n",
       "      <td>0.0</td>\n",
       "      <td>0.0</td>\n",
       "      <td>0.0</td>\n",
       "      <td>0.0</td>\n",
       "      <td>0.000000</td>\n",
       "      <td>0.0</td>\n",
       "      <td>0.0</td>\n",
       "      <td>0.0</td>\n",
       "      <td>0.000000</td>\n",
       "    </tr>\n",
       "    <tr>\n",
       "      <th>4</th>\n",
       "      <td>0.0</td>\n",
       "      <td>0.0</td>\n",
       "      <td>0.0</td>\n",
       "      <td>0.0</td>\n",
       "      <td>0.0</td>\n",
       "      <td>0.0</td>\n",
       "      <td>0.0</td>\n",
       "      <td>0.0</td>\n",
       "      <td>0.0</td>\n",
       "      <td>0.0</td>\n",
       "      <td>...</td>\n",
       "      <td>0.0</td>\n",
       "      <td>0.0</td>\n",
       "      <td>0.0</td>\n",
       "      <td>0.0</td>\n",
       "      <td>0.0</td>\n",
       "      <td>0.000000</td>\n",
       "      <td>0.0</td>\n",
       "      <td>0.0</td>\n",
       "      <td>0.0</td>\n",
       "      <td>0.893341</td>\n",
       "    </tr>\n",
       "  </tbody>\n",
       "</table>\n",
       "<p>5 rows × 2621 columns</p>\n",
       "</div>"
      ],
      "text/plain": [
       "   0     1     2     3     4     5     6     7     8     9       ...     2611  \\\n",
       "0   0.0   0.0   0.0   0.0   0.0   0.0   0.0   0.0   0.0   0.0    ...      0.0   \n",
       "1   0.0   0.0   0.0   0.0   0.0   0.0   0.0   0.0   0.0   0.0    ...      0.0   \n",
       "2   0.0   0.0   0.0   0.0   0.0   0.0   0.0   0.0   0.0   0.0    ...      0.0   \n",
       "3   0.0   0.0   0.0   0.0   0.0   0.0   0.0   0.0   0.0   0.0    ...      0.0   \n",
       "4   0.0   0.0   0.0   0.0   0.0   0.0   0.0   0.0   0.0   0.0    ...      0.0   \n",
       "\n",
       "   2612  2613  2614  2615      2616  2617  2618  2619      2620  \n",
       "0   0.0   0.0   0.0   0.0  0.893341   0.0   0.0   0.0  0.000000  \n",
       "1   0.0   0.0   0.0   0.0  0.000000   0.0   0.0   0.0  0.893341  \n",
       "2   0.0   0.0   0.0   0.0  0.000000   0.0   0.0   0.0  0.000000  \n",
       "3   0.0   0.0   0.0   0.0  0.000000   0.0   0.0   0.0  0.000000  \n",
       "4   0.0   0.0   0.0   0.0  0.000000   0.0   0.0   0.0  0.893341  \n",
       "\n",
       "[5 rows x 2621 columns]"
      ]
     },
     "execution_count": 128,
     "metadata": {},
     "output_type": "execute_result"
    }
   ],
   "source": [
    "NormW = pd.DataFrame(sorted_weights)\n",
    "NormW.head()"
   ]
  },
  {
   "cell_type": "code",
   "execution_count": 129,
   "metadata": {
    "collapsed": true
   },
   "outputs": [],
   "source": [
    "NormW.to_csv('Saved_Datasets/NormalizedGenreWSparse.csv', index=False)"
   ]
  },
  {
   "cell_type": "markdown",
   "metadata": {},
   "source": [
    "#### 6.2. Laplacian and graph embedding ####"
   ]
  },
  {
   "cell_type": "markdown",
   "metadata": {},
   "source": [
    "With pygsp"
   ]
  },
  {
   "cell_type": "code",
   "execution_count": 130,
   "metadata": {
    "collapsed": true
   },
   "outputs": [],
   "source": [
    "G = graphs.Graph(sorted_weights)\n",
    "G.compute_laplacian('normalized')"
   ]
  },
  {
   "cell_type": "markdown",
   "metadata": {},
   "source": [
    "Other"
   ]
  },
  {
   "cell_type": "code",
   "execution_count": 131,
   "metadata": {},
   "outputs": [
    {
     "data": {
      "image/png": "[encoded data removed]",
      "text/plain": [
       "<matplotlib.figure.Figure at 0x10702198>"
      ]
     },
     "metadata": {},
     "output_type": "display_data"
    }
   ],
   "source": [
    "#reminder: L = D - W for weighted graphs\n",
    "laplacian = np.diag(degrees) - sorted_weights\n",
    "\n",
    "#computation of the normalized Laplacian\n",
    "laplacian_norm = scipy.sparse.csgraph.laplacian(sorted_weights, normed = True)\n",
    "\n",
    "plt.spy(laplacian_norm);"
   ]
  },
  {
   "cell_type": "code",
   "execution_count": 132,
   "metadata": {},
   "outputs": [
    {
     "data": {
      "image/png": "[encoded data removed]",
      "text/plain": [
       "<matplotlib.figure.Figure at 0x17164b38>"
      ]
     },
     "metadata": {},
     "output_type": "display_data"
    }
   ],
   "source": [
    "G.compute_fourier_basis(recompute=True)\n",
    "plt.plot(G.e[0:10]);"
   ]
  },
  {
   "cell_type": "code",
   "execution_count": 133,
   "metadata": {},
   "outputs": [
    {
     "data": {
      "image/png": "[encoded data removed]",
      "text/plain": [
       "<matplotlib.figure.Figure at 0x1089ada0>"
      ]
     },
     "metadata": {},
     "output_type": "display_data"
    }
   ],
   "source": [
    "G.set_coordinates(G.U[:, 1:3])\n",
    "G.plot()"
   ]
  },
  {
   "cell_type": "code",
   "execution_count": 134,
   "metadata": {},
   "outputs": [
    {
     "data": {
      "image/png": "[encoded data removed]",
      "text/plain": [
       "<matplotlib.figure.Figure at 0x1d304a58>"
      ]
     },
     "metadata": {},
     "output_type": "display_data"
    }
   ],
   "source": [
    "G.plot_signal(genres, vertex_size=20)"
   ]
  },
  {
   "cell_type": "code",
   "execution_count": null,
   "metadata": {
    "collapsed": true
   },
   "outputs": [],
   "source": []
  }
 ],
 "metadata": {
  "kernelspec": {
   "display_name": "Python 3",
   "language": "python",
   "name": "python3"
  },
  "language_info": {
   "codemirror_mode": {
    "name": "ipython",
    "version": 3
   },
   "file_extension": ".py",
   "mimetype": "text/x-python",
   "name": "python",
   "nbconvert_exporter": "python",
   "pygments_lexer": "ipython3",
   "version": "3.6.2"
  }
 },
 "nbformat": 4,
 "nbformat_minor": 2
}
