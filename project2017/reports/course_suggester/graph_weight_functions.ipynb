{
 "cells": [
  {
   "cell_type": "markdown",
   "metadata": {},
   "source": [
    "This notebook contains a set of helper functions used to create graphs in a generic way\n",
    "\n",
    "## Import the libraries :"
   ]
  },
  {
   "cell_type": "code",
   "execution_count": 1,
   "metadata": {},
   "outputs": [
    {
     "name": "stderr",
     "output_type": "stream",
     "text": [
      "2017-12-27 13:14:21,382:[WARNING](pygsp.graphs.nngraphs.nngraph.<module>): Cannot import pyflann (used for faster kNN computations): Traceback (most recent call last):\n",
      "  File \"C:\\Users\\Thomas\\Anaconda3\\lib\\site-packages\\pygsp\\graphs\\nngraphs\\nngraph.py\", line 14, in <module>\n",
      "    import pyflann as pfl\n",
      "  File \"C:\\Users\\Thomas\\Anaconda3\\lib\\site-packages\\pyflann\\__init__.py\", line 27, in <module>\n",
      "    from pyflann.index import *\n",
      "  File \"C:\\Users\\Thomas\\Anaconda3\\lib\\site-packages\\pyflann\\index.py\", line 27, in <module>\n",
      "    from pyflann.bindings.flann_ctypes import *\n",
      "  File \"C:\\Users\\Thomas\\Anaconda3\\lib\\site-packages\\pyflann\\bindings\\__init__.py\", line 30, in <module>\n",
      "    from pyflann.bindings.flann_ctypes import *\n",
      "  File \"C:\\Users\\Thomas\\Anaconda3\\lib\\site-packages\\pyflann\\bindings\\flann_ctypes.py\", line 171, in <module>\n",
      "    raise ImportError('Cannot load dynamic library. Did you compile FLANN?')\n",
      "ImportError: Cannot load dynamic library. Did you compile FLANN?\n",
      "\n"
     ]
    }
   ],
   "source": [
    "# Useful starting lines\n",
    "%matplotlib inline\n",
    "\n",
    "import numpy as np\n",
    "import scipy\n",
    "import scipy.sparse as sp\n",
    "import matplotlib.pyplot as plt\n",
    "import pandas as pd\n",
    "import re\n",
    "import networkx as nx\n",
    "import itertools\n",
    "from pygsp import graphs, filters, plotting\n",
    "\n",
    "%load_ext autoreload\n",
    "%autoreload 2"
   ]
  },
  {
   "cell_type": "code",
   "execution_count": 5,
   "metadata": {
    "collapsed": true
   },
   "outputs": [],
   "source": [
    "# Argument 1: Dictionary course -> topics\n",
    "# Return: weight matrix\n",
    "def old_thomas_compute_weight_matrix(courses_dict):\n",
    "    # Initialize the weight matrix and the list of the values.\n",
    "    weight_mat=np.zeros((len(courses_dict),len(courses_dict)))\n",
    "    values_for_each_course = list(courses_dict.values())\n",
    "    \n",
    "    # Create a list containing all the unique values.\n",
    "    unique_values = []\n",
    "    for i in range(0,len(values_for_each_course)):\n",
    "        unique_values.extend(values_for_each_course[i])\n",
    "    unique_values = list(set(unique_values))\n",
    "    \n",
    "    # Loop on the values: Find every courses that have the same value v. Then add a weight between them.\n",
    "    for i in range(0,len(unique_values)):\n",
    "        # Variable to store the index of the courses that have the value i in common\n",
    "        courses_index_with_value_i = []\n",
    "        for j,lst in enumerate(values_for_each_course):\n",
    "            for k,value in enumerate(lst):\n",
    "                if value == unique_values[i]:\n",
    "                    courses_index_with_value_i.append(j)\n",
    "        # Add weight between the courses.\n",
    "        for j in range(0,len(courses_index_with_value_i)):\n",
    "            for k in range(j+1,len(courses_index_with_value_i)):\n",
    "                weight_mat[courses_index_with_value_i[j],courses_index_with_value_i[k]] += 1\n",
    "                weight_mat[courses_index_with_value_i[k],courses_index_with_value_i[j]] += 1        \n",
    "    return weight_mat"
   ]
  },
  {
   "cell_type": "code",
   "execution_count": 6,
   "metadata": {},
   "outputs": [],
   "source": [
    "# Argument 1: dictionary topic -> course (topic = StudyPlans or Professors..)\n",
    "# Argument 2 (optional): dictionary course -> index\n",
    "# Argument 3 (optional): weight added for one link between two edges. Default = 1\n",
    "# Return tuple: (weight_matrix) if argument 2 given\n",
    "#               (weight_matrix, dictionary course -> index) if argument 2 not given\n",
    "\n",
    "def compute_weight_matrix(*args):\n",
    "    # Initialize the dictionaries depending on the inputs\n",
    "    topic_dict = args[0]\n",
    "    if(len(args) > 1):\n",
    "        courses_index_dict = args[1]\n",
    "    else:\n",
    "        # The index have to be determined\n",
    "        unique_courses = []\n",
    "        courses_index_dict = {}\n",
    "        # Find each courses\n",
    "        for i in range(0,len(list(topic_dict.values()))):\n",
    "            unique_courses.extend(list(topic_dict.values())[i])\n",
    "        unique_courses = list(set(unique_courses))\n",
    "        # Create dictionary courses -> index\n",
    "        courses_index_dict=dict(zip(unique_courses, np.arange(len(unique_courses))))\n",
    "    # Initialize the weight matrix\n",
    "    weight_mat=np.zeros((len(courses_index_dict),len(courses_index_dict)))\n",
    "    # Define the weights for each edges\n",
    "    if(len(args) > 2):\n",
    "        w = args[2]\n",
    "    else:\n",
    "        w = 1      \n",
    "    # For all topics, find links between courses\n",
    "    for topic in topic_dict.keys():\n",
    "        for course1, course2 in itertools.combinations(topic_dict[topic], 2):\n",
    "            weight_mat[courses_index_dict[course1],courses_index_dict[course2]]+=w\n",
    "            weight_mat[courses_index_dict[course2],courses_index_dict[course1]]+=w\n",
    "    # Return the weight matrix and the index dictionary if it was not given as an input.\n",
    "    if(len(args) > 1):\n",
    "        return (weight_mat)\n",
    "    else:\n",
    "        return (weight_mat, courses_index_dict)"
   ]
  },
  {
   "cell_type": "code",
   "execution_count": 7,
   "metadata": {
    "collapsed": true
   },
   "outputs": [],
   "source": [
    "def compute_graph(weight_mat):\n",
    "    # Create the graph: nx -> weight matrix\n",
    "    Graph = nx.from_numpy_matrix(weight_mat)\n",
    "    # Initialize the plot and the position of the nodes.\n",
    "    plt.figure(1,figsize=(16,16)) \n",
    "    pos = nx.spring_layout(Graph)\n",
    "    # Draw and plot the nodes, labels and edges.\n",
    "    nx.draw_networkx_nodes(Graph, pos, cmap=plt.get_cmap('jet'))\n",
    "    nx.draw_networkx_labels(Graph, pos)\n",
    "    nx.draw_networkx_edges(Graph, pos)\n",
    "    plt.show()\n",
    "    return Graph"
   ]
  }
 ],
 "metadata": {
  "kernelspec": {
   "display_name": "Python [default]",
   "language": "python",
   "name": "python3"
  },
  "language_info": {
   "codemirror_mode": {
    "name": "ipython",
    "version": 3
   },
   "file_extension": ".py",
   "mimetype": "text/x-python",
   "name": "python",
   "nbconvert_exporter": "python",
   "pygments_lexer": "ipython3",
   "version": "3.6.2"
  }
 },
 "nbformat": 4,
 "nbformat_minor": 2
}
