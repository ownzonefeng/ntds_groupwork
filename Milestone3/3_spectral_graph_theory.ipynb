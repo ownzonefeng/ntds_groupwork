{
 "cells": [
  {
   "cell_type": "markdown",
   "metadata": {},
   "source": [
    "# [NTDS'18] milestone 3: spectral graph theory\n",
    "[ntds'18]: https://github.com/mdeff/ntds_2018\n",
    "\n",
    "[Michaël Defferrard](http://deff.ch), [EPFL LTS2](https://lts2.epfl.ch)"
   ]
  },
  {
   "cell_type": "markdown",
   "metadata": {},
   "source": [
    "## Students\n",
    "\n",
    "* Team: `<05>`\n",
    "* Students: `<Wentao Feng, Yunbei Wang, Yan Fu, Zhaodong Sun>`\n",
    "* Dataset: `<Flight route>`"
   ]
  },
  {
   "cell_type": "markdown",
   "metadata": {},
   "source": [
    "## Rules\n",
    "\n",
    "* Milestones have to be completed by teams. No collaboration between teams is allowed.\n",
    "* Textual answers shall be short. Typically one to two sentences.\n",
    "* Code has to be clean.\n",
    "* You cannot import any other library than we imported.\n",
    "* When submitting, the notebook is executed and the results are stored. I.e., if you open the notebook again it should show numerical results and plots. We won't be able to execute your notebooks.\n",
    "* The notebook is re-executed from a blank state before submission. That is to be sure it is reproducible. You can click \"Kernel\" then \"Restart & Run All\" in Jupyter."
   ]
  },
  {
   "cell_type": "markdown",
   "metadata": {},
   "source": [
    "## Objective\n",
    "\n",
    "The goal of this milestone is to get familiar with the graph Laplacian and its spectral decomposition."
   ]
  },
  {
   "cell_type": "markdown",
   "metadata": {},
   "source": [
    "## 0 Load your network"
   ]
  },
  {
   "cell_type": "code",
   "execution_count": 2,
   "metadata": {},
   "outputs": [],
   "source": [
    "%matplotlib inline"
   ]
  },
  {
   "cell_type": "markdown",
   "metadata": {},
   "source": [
    "If you get a `No module named 'sklearn'` error when running the below cell, install [scikit-learn](https://scikit-learn.org) with `conda install scikit-learn` (after activating the `ntds_2018` environment)."
   ]
  },
  {
   "cell_type": "code",
   "execution_count": 3,
   "metadata": {},
   "outputs": [],
   "source": [
    "import numpy as np\n",
    "from scipy import sparse\n",
    "import scipy.sparse.linalg\n",
    "import matplotlib.pyplot as plt\n",
    "from sklearn.cluster import KMeans\n",
    "import networkx as nx\n",
    "import pandas as pd\n",
    "import time"
   ]
  },
  {
   "cell_type": "markdown",
   "metadata": {},
   "source": [
    "Let's denote your graph as $\\mathcal{G} = (\\mathcal{V}, \\mathcal{E}, A)$, where $\\mathcal{V}$ is the set of nodes, $\\mathcal{E}$ is the set of edges, $A \\in \\mathbb{R}^{N \\times N}$ is the (weighted) adjacency matrix, and $N = |\\mathcal{V}|$ is the number of nodes.\n",
    "\n",
    "Import the adjacency matrix $A$ that you constructed in the first milestone.\n",
    "(You're allowed to update it between milestones if you want to.)"
   ]
  },
  {
   "cell_type": "markdown",
   "metadata": {},
   "source": [
    "** In former milestone we converted the graph into symmetric and unweighted matrix. And this time we use the unsymmetric and weighted matrix. So some parameters (eg. n_nodes, n_edges) will be different from before.**"
   ]
  },
  {
   "cell_type": "code",
   "execution_count": 4,
   "metadata": {},
   "outputs": [],
   "source": [
    "adjacency =  np.load('symm_adj.npy')# the adjacency matrix"
   ]
  },
  {
   "cell_type": "code",
   "execution_count": 5,
   "metadata": {},
   "outputs": [],
   "source": [
    "weighted_adj = np.load('weighted_adj.npy')\n",
    "n_nodes =  weighted_adj.shape[0]# the number of nodes in the network"
   ]
  },
  {
   "cell_type": "markdown",
   "metadata": {},
   "source": [
    "## 1 Graph Laplacian"
   ]
  },
  {
   "cell_type": "markdown",
   "metadata": {},
   "source": [
    "### Question 1\n",
    "\n",
    "From the (weighted) adjacency matrix $A$, compute both the combinatorial (also called unnormalized) and the normalized graph Laplacian matrices.\n",
    "\n",
    "Note: if your graph is weighted, use the weighted adjacency matrix. If not, use the binary adjacency matrix.\n",
    "\n",
    "For efficient storage and computation, store these sparse matrices in a [compressed sparse row (CSR) format](https://en.wikipedia.org/wiki/Sparse_matrix#Compressed_sparse_row_.28CSR.2C_CRS_or_Yale_format.29)."
   ]
  },
  {
   "cell_type": "markdown",
   "metadata": {},
   "source": [
    "** For weighted graph we have L = D - W, where L denotes unnormalized Laplacian of graph, D = diag(degree), W is the symmetric weighted matrix.\n",
    "**\n",
    "\n",
    "$$L_{comb} = D - W$$\n",
    "\n",
    "$$L_{norm} = D^{-1/2}*L*D^{-1/2}$$"
   ]
  },
  {
   "cell_type": "code",
   "execution_count": 6,
   "metadata": {},
   "outputs": [],
   "source": [
    "# convert the weighted matrix to a symmetric one\n",
    "W = weighted_adj + weighted_adj.T\n",
    "#W = adjacency"
   ]
  },
  {
   "cell_type": "code",
   "execution_count": 7,
   "metadata": {},
   "outputs": [],
   "source": [
    "W_sparse = sparse.csr_matrix(W)"
   ]
  },
  {
   "cell_type": "code",
   "execution_count": 8,
   "metadata": {},
   "outputs": [],
   "source": [
    "# calculate the degree for each starting points\n",
    "# and convert the matrix into array\n",
    "n_degree = np.sum(W_sparse.A,axis=0)"
   ]
  },
  {
   "cell_type": "code",
   "execution_count": 9,
   "metadata": {},
   "outputs": [
    {
     "data": {
      "text/plain": [
       "(array([], dtype=int64),)"
      ]
     },
     "execution_count": 9,
     "metadata": {},
     "output_type": "execute_result"
    }
   ],
   "source": [
    "np.where(n_degree==0)"
   ]
  },
  {
   "cell_type": "markdown",
   "metadata": {},
   "source": [
    "Since there are no isolated points in our graph we can move on without dropping any point here."
   ]
  },
  {
   "cell_type": "code",
   "execution_count": 10,
   "metadata": {},
   "outputs": [],
   "source": [
    "# Your code here.\n",
    "D = sparse.diags(n_degree)\n",
    "laplacian_combinatorial = D - W_sparse\n",
    "\n",
    "# Your code here.\n",
    "D_root_inv = sparse.diags(np.sqrt(1/n_degree))\n",
    "laplacian_normalized =  D_root_inv.dot(laplacian_combinatorial.dot(D_root_inv))"
   ]
  },
  {
   "cell_type": "markdown",
   "metadata": {},
   "source": [
    "Use one of them as the graph Laplacian $L$ for the rest of the milestone.\n",
    "We however encourage you to run the code with both to get a sense of the difference!"
   ]
  },
  {
   "cell_type": "code",
   "execution_count": 11,
   "metadata": {},
   "outputs": [],
   "source": [
    "laplacian = laplacian_normalized# Either laplacian_combinatorial or laplacian_normalized."
   ]
  },
  {
   "cell_type": "markdown",
   "metadata": {},
   "source": [
    "### Question 2\n",
    "\n",
    "Compute the eigendecomposition of the Laplacian $L = U \\Lambda U^\\top$, where the columns $u_k \\in \\mathbb{R}^N$ of $U = [u_1, \\dots, u_N] \\in \\mathbb{R}^{N \\times N}$ are the eigenvectors and the diagonal elements $\\lambda_k = \\Lambda_{kk}$ are the corresponding eigenvalues.\n",
    "\n",
    "Make sure that the eigenvalues are ordered, i.e., $0 = \\lambda_1 \\leq \\lambda_2 \\leq \\dots \\leq \\lambda_N$."
   ]
  },
  {
   "cell_type": "code",
   "execution_count": 12,
   "metadata": {},
   "outputs": [],
   "source": [
    "# Your code here. \n",
    "eigenvalues,eigenvectors = np.linalg.eigh(laplacian.A)\n",
    "assert eigenvectors.shape == (n_nodes, n_nodes)"
   ]
  },
  {
   "cell_type": "code",
   "execution_count": 13,
   "metadata": {},
   "outputs": [],
   "source": [
    "U = eigenvectors\n",
    "lambda_ = np.diag(eigenvalues)\n",
    "L_reconstruct = np.dot(U,np.dot(lambda_,U.T))"
   ]
  },
  {
   "cell_type": "code",
   "execution_count": 14,
   "metadata": {},
   "outputs": [
    {
     "name": "stdout",
     "output_type": "stream",
     "text": [
      "The difference of reconstructed Laplacian and the original Laplacian is: 5.190479068646598e-10\n"
     ]
    }
   ],
   "source": [
    "diff_reconstruct = sum(sum(abs(laplacian.A-L_reconstruct)))\n",
    "print('The difference of reconstructed Laplacian and the original Laplacian is:',diff_reconstruct)"
   ]
  },
  {
   "cell_type": "markdown",
   "metadata": {},
   "source": [
    "Justify your choice of eigensolver."
   ]
  },
  {
   "cell_type": "markdown",
   "metadata": {},
   "source": [
    "**Your answer here.**\n",
    "\n",
    "We do not use sparse.linalg.eigsh() because it is impossible to calculate all eigenvectors in a matrix for this function.\n",
    "\n",
    "Here we use `np.linalg.eigh()` which returns the eigenvalues and eigenvectors in **ascending** order of a **symmetric** matrix.\n",
    "\n",
    "And from the reconstructed Laplacian, we can see that the difference to original Laplacian is near to zero, meaning that the solution of eigenvalues and eigenvactors are correctly chosen."
   ]
  },
  {
   "cell_type": "markdown",
   "metadata": {},
   "source": [
    "### Question 3\n",
    "\n",
    "We can write $L = S S^\\top$. What is the matrix $S$? What does $S^\\top x$, with $x \\in \\mathbb{R}^N$, compute?"
   ]
  },
  {
   "cell_type": "markdown",
   "metadata": {},
   "source": [
    "**Your answer here.**\n",
    "\n",
    "Matrix $ S $ is incidence matrix with size nodes*edges, where $s(i,j)$=1 means link j starts from node i, $s(i,j)$=-1 means link j ends in node i, and zero means link j does not link to node i.\n",
    "\n",
    "$S^\\top x$[j] = x[i] - x[k]  computes gradient of x along edges j. And $S^\\top x$ computes gradient of x along all edges in the graph separatively.\n"
   ]
  },
  {
   "cell_type": "markdown",
   "metadata": {},
   "source": [
    "### Question 4\n",
    "\n",
    "Show that $\\lambda_k = \\| S^\\top u_k \\|_2^2$, where $\\| \\cdot \\|_2^2$ denotes the squared Euclidean norm (a.k.a. squared $L^2$ norm)."
   ]
  },
  {
   "cell_type": "markdown",
   "metadata": {},
   "source": [
    "**Your answer here.**"
   ]
  },
  {
   "cell_type": "markdown",
   "metadata": {},
   "source": [
    "From definition we have:\n",
    "\n",
    "$$L = S S^\\top, L u_k = \\lambda_k u_k$$\n",
    "\n",
    "And we can rewrite $\\lambda_k = \\| S^\\top u_k \\|_2^2$ as:\n",
    "\n",
    "$$\\lambda_k = \\| S^\\top u_k \\|_2^2 = u_k^\\top S S^\\top u_k = u_k^\\top L u_k $$\n",
    "\n",
    "The right hand side $ u_k^\\top L u_k = u_k^\\top \\lambda_k u_k = \\lambda_k u_k^\\top u_k = \\lambda_k$, for $\\lambda_k$ is scalar and $u_k^\\top u_k=1$.\n",
    "\n",
    "So we have $\\lambda_k = \\| S^\\top u_k \\|_2^2$."
   ]
  },
  {
   "cell_type": "markdown",
   "metadata": {},
   "source": [
    "What does the quantity $\\| S^\\top x \\|_2^2$ tell us about $x$?"
   ]
  },
  {
   "cell_type": "markdown",
   "metadata": {},
   "source": [
    "**Your answer here.**\n",
    "\n",
    "$\\| S^\\top x \\|_2^2$ measures how smooth the graph signal x is."
   ]
  },
  {
   "cell_type": "markdown",
   "metadata": {},
   "source": [
    "### Question 5\n",
    "\n",
    "What is the value of $u_0$, both for the combinatorial and normalized Laplacians?"
   ]
  },
  {
   "cell_type": "markdown",
   "metadata": {},
   "source": [
    "**Your annswer here.**\n",
    "\n",
    "Theoretically, for connected graph the eigenvector of first eigenvalue should be a constant vector. As our graph is not a connected one we can see many 'outliers' in $u_0$, because $u_0$ is actually the indicator vectors of the component.\n"
   ]
  },
  {
   "cell_type": "code",
   "execution_count": 15,
   "metadata": {},
   "outputs": [],
   "source": [
    "eigenvalues_comb,eigenvectors_comb = np.linalg.eigh(laplacian_combinatorial.A)\n",
    "eigenvalues_norm,eigenvectors_norm = np.linalg.eigh(laplacian_normalized.A)"
   ]
  },
  {
   "cell_type": "code",
   "execution_count": 20,
   "metadata": {},
   "outputs": [
    {
     "data": {
      "image/png": "[encoded data removed]",
      "text/plain": [
       "<Figure size 1440x360 with 3 Axes>"
      ]
     },
     "metadata": {},
     "output_type": "display_data"
    }
   ],
   "source": [
    "i = 0\n",
    "fig,ax = plt.subplots(1,3,figsize=(20,5))\n",
    "ax[0].scatter(x=np.arange(0,n_nodes),y=eigenvectors_comb[:,i])\n",
    "ax[0].set_title('Plot for u0 of combinatorial Laplacians')\n",
    "ax[1].scatter(x=np.arange(0,n_nodes),y=eigenvectors_norm[:,i])\n",
    "ax[1].set_title('Plot for u0 of normalized Laplacians')\n",
    "ax[2].scatter(x=np.arange(0,n_nodes),y=np.dot(D_root_inv.A,eigenvectors_norm[:,i]))\n",
    "ax[2].set_title('Plot for re-normalized u0 of normalized Laplacians')\n",
    "for i in range(len(ax)):\n",
    "    ax[i].set_xlabel('index of elements in u0')\n",
    "    ax[i].set_ylabel('eigenvalue')"
   ]
  },
  {
   "cell_type": "markdown",
   "metadata": {},
   "source": [
    "### Question 6\n",
    "\n",
    "Look at the spectrum of the Laplacian by plotting the eigenvalues.\n",
    "Comment on what you observe."
   ]
  },
  {
   "cell_type": "code",
   "execution_count": 17,
   "metadata": {},
   "outputs": [
    {
     "data": {
      "text/plain": [
       "Text(0,0.5,'Eigen value')"
      ]
     },
     "execution_count": 17,
     "metadata": {},
     "output_type": "execute_result"
    },
    {
     "data": {
      "image/png": "[encoded data removed]",
      "text/plain": [
       "<Figure size 720x432 with 1 Axes>"
      ]
     },
     "metadata": {},
     "output_type": "display_data"
    }
   ],
   "source": [
    "# Your code here.\n",
    "plt.figure(figsize=(10, 6))\n",
    "plt.plot(np.sort(eigenvalues))\n",
    "plt.title('The spectrum plot of the Laplacian')\n",
    "plt.xlabel('Index of eigenvalues')\n",
    "plt.ylabel('Eigen value')"
   ]
  },
  {
   "cell_type": "markdown",
   "metadata": {},
   "source": [
    "**Your answer here.**\n",
    "\n",
    "The eignvalues of graph is the Fourier spectrum value. In this plot, we can see steep growing gap after k-th eigenvalues, which mean our graph may contain k clusters."
   ]
  },
  {
   "cell_type": "markdown",
   "metadata": {},
   "source": [
    "How many connected components are there in your graph? Answer using the eigenvalues only."
   ]
  },
  {
   "cell_type": "code",
   "execution_count": 22,
   "metadata": {},
   "outputs": [
    {
     "data": {
      "text/plain": [
       "(array([0, 1, 2, 3, 4, 5, 6, 7]),)"
      ]
     },
     "execution_count": 22,
     "metadata": {},
     "output_type": "execute_result"
    }
   ],
   "source": [
    "# Your code here.\n",
    "np.where(np.round(eigenvalues,3)==0)"
   ]
  },
  {
   "cell_type": "markdown",
   "metadata": {},
   "source": [
    "Is there an upper bound on the eigenvalues, i.e., what is the largest possible eigenvalue? Answer for both the combinatorial and normalized Laplacians."
   ]
  },
  {
   "cell_type": "markdown",
   "metadata": {},
   "source": [
    "**Your answer here.**\n",
    "\n",
    "There are 8 zero eignvalues in our graph, implying that there are 8 components, which corresponds to previous milestone result."
   ]
  },
  {
   "cell_type": "code",
   "execution_count": 23,
   "metadata": {},
   "outputs": [
    {
     "name": "stdout",
     "output_type": "stream",
     "text": [
      "Theoretical maximum eigenvalue of combinatorial Laplacians is  3652.0\n"
     ]
    }
   ],
   "source": [
    "max_theore = max(np.sum(abs(laplacian_combinatorial.A),axis=0))\n",
    "print('Theoretical maximum eigenvalue of combinatorial Laplacians is ',max_theore)"
   ]
  },
  {
   "cell_type": "markdown",
   "metadata": {},
   "source": [
    "Theoretically, the possible largest eigenvalue for normalized Laplacian is 2, denoting bipartite graph. \n",
    "\n",
    "As for combinatorial Laplacian, according to [Gershgorin circle theorem](https://en.wikipedia.org/wiki/Gershgorin_circle_theorem) the upper bound of maximum eigenvalue should be bounded by the maximum of the largest sum of absolute row, in our case, it is 3652."
   ]
  },
  {
   "cell_type": "code",
   "execution_count": 26,
   "metadata": {},
   "outputs": [
    {
     "name": "stdout",
     "output_type": "stream",
     "text": [
      "The maximum eigenvalue of normalized Laplacians is  2.0\n"
     ]
    }
   ],
   "source": [
    "max_norm = max(np.round(eigenvalues_norm,3))\n",
    "print('The maximum eigenvalue of normalized Laplacians is ',max_norm)"
   ]
  },
  {
   "cell_type": "code",
   "execution_count": 24,
   "metadata": {},
   "outputs": [
    {
     "name": "stdout",
     "output_type": "stream",
     "text": [
      "The maximum eigenvalue of combinatorial Laplacians is  1839.658\n"
     ]
    }
   ],
   "source": [
    "max_comb = max(np.round(eigenvalues_comb,3))\n",
    "print('The maximum eigenvalue of combinatorial Laplacians is ',max_comb)"
   ]
  },
  {
   "cell_type": "markdown",
   "metadata": {},
   "source": [
    "We can check that our eigenvalues are all bellow the theoretical upper bound."
   ]
  },
  {
   "cell_type": "markdown",
   "metadata": {},
   "source": [
    "## 3 Laplacian eigenmaps\n",
    "\n",
    "*Laplacian eigenmaps* is a method to embed a graph $\\mathcal{G}$ in a $d$-dimensional Euclidean space.\n",
    "That is, it associates a vector $z_i \\in \\mathbb{R}^d$ to every node $v_i \\in \\mathcal{V}$.\n",
    "The graph $\\mathcal{G}$ is thus embedded as $Z \\in \\mathbb{R}^{N \\times d}$."
   ]
  },
  {
   "cell_type": "markdown",
   "metadata": {},
   "source": [
    "### Question 7\n",
    "\n",
    "What do we use Laplacian eigenmaps for? (Or more generally, graph embeddings.)"
   ]
  },
  {
   "cell_type": "markdown",
   "metadata": {},
   "source": [
    "**Your answer here.**\n",
    "\n",
    "We can reduce the dimension of our data points without losing too much information. The resulting modified data is similar to the original data. "
   ]
  },
  {
   "cell_type": "markdown",
   "metadata": {},
   "source": [
    "### Question 8\n",
    "\n",
    "Embed your graph in $d=2$ dimensions with Laplacian eigenmaps.\n",
    "Try with and without re-normalizing the eigenvectors by the degrees, then keep the one your prefer.\n",
    "\n",
    "**Recompute** the eigenvectors you need with a partial eigendecomposition method for sparse matrices.\n",
    "When $k \\ll N$ eigenvectors are needed, partial eigendecompositions are much more efficient than complete eigendecompositions.\n",
    "A partial eigendecomposition scales as $\\Omega(k |\\mathcal{E}|$), while a complete eigendecomposition costs $\\mathcal{O}(N^3)$ operations."
   ]
  },
  {
   "cell_type": "code",
   "execution_count": 21,
   "metadata": {},
   "outputs": [],
   "source": [
    "# load the largest component index\n",
    "idx_largest_com = np.load(\"idx_largest_component.npy\")\n",
    "laplacian_largest = laplacian[idx_largest_com, :]\n",
    "laplacian_largest = laplacian_largest[:, idx_largest_com]\n",
    "n_degree_largest = n_degree[idx_largest_com]"
   ]
  },
  {
   "cell_type": "code",
   "execution_count": 22,
   "metadata": {},
   "outputs": [],
   "source": [
    "laplacian_largest = np.array(laplacian_largest.todense())"
   ]
  },
  {
   "cell_type": "code",
   "execution_count": 23,
   "metadata": {},
   "outputs": [
    {
     "name": "stdout",
     "output_type": "stream",
     "text": [
      "full eigendecomposition 2.98s\n"
     ]
    }
   ],
   "source": [
    "# Your code here.\n",
    "t1 = time.time();\n",
    "eigenvalues_laplacian_largest,eigenvectors_laplacian_largest = np.linalg.eigh(laplacian_largest) # full eigenvaluedecomposition\n",
    "print(\"full eigendecomposition %1.2fs\"%(time.time()-t1))\n",
    "idx2 = (np.argsort(eigenvalues)[1], np.argsort(eigenvalues)[2]) # find the smallest 2 eigenvalues except 0\n",
    "Z = eigenvectors_laplacian_largest[:,idx2] # corresponding eigenvectors\n",
    "Z_n = np.dot(np.diag(n_degree_largest**(-1/2)), Z) # renormalize"
   ]
  },
  {
   "cell_type": "code",
   "execution_count": 24,
   "metadata": {},
   "outputs": [
    {
     "name": "stdout",
     "output_type": "stream",
     "text": [
      "partial (k=3) eigendecomposition 0.05s\n"
     ]
    }
   ],
   "source": [
    "# recompute eigenvectors\n",
    "laplacian_largest_sparse = sparse.csr_matrix(laplacian_largest) # convert to csr format\n",
    "t1 = time.time();\n",
    "eigenvalues_partial, eigenvectors_partial = sparse.linalg.eigsh(laplacian_largest_sparse, k = 3, which=\"SA\"); # partial eigendecomposition\n",
    "print(\"partial (k=3) eigendecomposition %1.2fs\"%(time.time()-t1))\n",
    "Z_recompute = eigenvectors_partial[:,1:3] # corresponding eigenvectors\n",
    "Z_recompute_n = np.dot(np.diag(n_degree_largest**(-1/2)), Z_recompute) # renormalize"
   ]
  },
  {
   "cell_type": "markdown",
   "metadata": {},
   "source": [
    "Plot the nodes embedded in 2D. Comment on what you see."
   ]
  },
  {
   "cell_type": "code",
   "execution_count": 25,
   "metadata": {},
   "outputs": [
    {
     "data": {
      "text/plain": [
       "<matplotlib.collections.PathCollection at 0x1a38deacf8>"
      ]
     },
     "execution_count": 25,
     "metadata": {},
     "output_type": "execute_result"
    },
    {
     "data": {
      "image/png": "[encoded data removed]",
      "text/plain": [
       "<Figure size 432x288 with 1 Axes>"
      ]
     },
     "metadata": {},
     "output_type": "display_data"
    }
   ],
   "source": [
    "port_name = np.load(\"port_name.npy\")\n",
    "port_name = port_name[idx_largest_com]\n",
    "fig, ax = plt.subplots();\n",
    "ax.scatter(Z_n[:,0], Z_n[:,1]) # renormalize"
   ]
  },
  {
   "cell_type": "code",
   "execution_count": 26,
   "metadata": {},
   "outputs": [
    {
     "data": {
      "text/plain": [
       "array(['SFJ', 'GOH', 'JAV', 'JEG', 'JHS', 'JSU', 'KUS', 'UAK', 'JFR',\n",
       "       'RKV', 'JQA', 'JUV', 'AGM', 'CNP', 'JJU', 'JNS', 'AEY', 'EGS',\n",
       "       'IFJ', 'UMD', 'AOQ', 'IUI', 'KGQ', 'KHQ', 'NAQ', 'NSQ', 'TQA',\n",
       "       'UPK', 'IOQ', 'KUZ', 'SGG', 'TQI', 'OBY', 'JNN', 'LLU', 'QFG',\n",
       "       'QJH', 'QOQ', 'QUW', 'QFX', 'IKE', 'IOT', 'JUK', 'JUU', 'NIQ',\n",
       "       'SAE', 'SRK', 'THU', 'QFN', 'XEQ', 'SVR', 'QUV'], dtype=object)"
      ]
     },
     "execution_count": 26,
     "metadata": {},
     "output_type": "execute_result"
    }
   ],
   "source": [
    "cluster1 = np.where(Z[:, 0]>0.02)\n",
    "port_name[cluster1]"
   ]
  },
  {
   "cell_type": "code",
   "execution_count": 27,
   "metadata": {},
   "outputs": [
    {
     "data": {
      "text/plain": [
       "array(['SCZ', 'HIR', 'ATD', ..., 'YSO', 'WSX', 'LPS'], dtype=object)"
      ]
     },
     "execution_count": 27,
     "metadata": {},
     "output_type": "execute_result"
    }
   ],
   "source": [
    "cluster2 = np.where(Z[:, 0]<0.02)\n",
    "port_name[cluster2]"
   ]
  },
  {
   "cell_type": "markdown",
   "metadata": {},
   "source": [
    "**Your answer here.**"
   ]
  },
  {
   "cell_type": "markdown",
   "metadata": {},
   "source": [
    "We can see two clusters in the nodes embedded in 2D. The upper right cluster is very small regioanl airport mainly in Greenland and some are heliports. The left cluster is remaining airports.Therefore, the left cluster can be some airports which are strongly connected. The upper right cluster can be some very small regional airports(mainly in Greenland) which are connected among them but only a few of them connect to airports in another cluster."
   ]
  },
  {
   "cell_type": "markdown",
   "metadata": {},
   "source": [
    "### Question 9"
   ]
  },
  {
   "cell_type": "markdown",
   "metadata": {},
   "source": [
    "What does the embedding $Z \\in \\mathbb{R}^{N \\times d}$ preserve?"
   ]
  },
  {
   "cell_type": "markdown",
   "metadata": {},
   "source": [
    "**Your answer here.**\n",
    "\n",
    "It preserves main features of each node in a d-dimensional feature vector. Similar nodes are clustered in the 𝑑 -dimensional Euclidean space. "
   ]
  },
  {
   "cell_type": "markdown",
   "metadata": {},
   "source": [
    "## 2 Spectral clustering\n",
    "\n",
    "*Spectral clustering* is a method to partition a graph into distinct clusters.\n",
    "The method associates a feature vector $z_i \\in \\mathbb{R}^d$ to every node $v_i \\in \\mathcal{V}$, then runs [$k$-means](https://en.wikipedia.org/wiki/K-means_clustering) in the embedding space $\\mathbb{R}^d$ to assign each node $v_i \\in \\mathcal{V}$ to a cluster $c_j \\in \\mathcal{C}$, where $k = |\\mathcal{C}|$ is the number of desired clusters."
   ]
  },
  {
   "cell_type": "markdown",
   "metadata": {},
   "source": [
    "### Question 10\n",
    "\n",
    "Choose $k$ and $d$. How did you get to those numbers?"
   ]
  },
  {
   "cell_type": "markdown",
   "metadata": {},
   "source": [
    "**Answer**\n",
    "If data has k clear clusters, there will be a gap in the Laplacian spectrum after the k-th eigenvalue. So, we choose k such that the gap between $\\lambda_k$ and $\\lambda_{k+1}$ is distinct. And, we should choose $d = k$ smallest eigen vectors."
   ]
  },
  {
   "cell_type": "markdown",
   "metadata": {},
   "source": [
    "### Question 11\n",
    "\n",
    "1. Embed your graph in $\\mathbb{R}^d$ as $Z \\in \\mathbb{R}^{N \\times d}$.\n",
    "   Try with and without re-normalizing the eigenvectors by the degrees, then keep the one your prefer.\n",
    "1. If you want $k=2$ clusters, partition with the Fiedler vector. For $k > 2$ clusters, run $k$-means on $Z$. Don't implement $k$-means, use the `KMeans` class imported from scikit-learn."
   ]
  },
  {
   "cell_type": "code",
   "execution_count": 28,
   "metadata": {},
   "outputs": [],
   "source": [
    "# Compute partial eigen vectors\n",
    "eigenvalues_cluster, eigenvectors_cluster = sparse.linalg.eigsh(laplacian_largest_sparse, k = 10, which=\"SA\");"
   ]
  },
  {
   "cell_type": "markdown",
   "metadata": {},
   "source": [
    "### Discover $k$"
   ]
  },
  {
   "cell_type": "code",
   "execution_count": 29,
   "metadata": {},
   "outputs": [
    {
     "data": {
      "text/plain": [
       "[<matplotlib.lines.Line2D at 0x1a38f57e10>]"
      ]
     },
     "execution_count": 29,
     "metadata": {},
     "output_type": "execute_result"
    },
    {
     "data": {
      "image/png": "[encoded data removed]",
      "text/plain": [
       "<Figure size 432x288 with 1 Axes>"
      ]
     },
     "metadata": {},
     "output_type": "display_data"
    }
   ],
   "source": [
    "diff = eigenvalues_cluster[1::] - eigenvalues_cluster[0:-1] # Compute first order difference of eigen values\n",
    "fig1, ax1 = plt.subplots()\n",
    "ax1.tick_params(labelsize = 16)\n",
    "fig1.tight_layout()\n",
    "ax1.set_xlabel('The index of eigen values', fontdict={'fontsize':15})\n",
    "ax1.set_ylabel('Eigen values',fontdict={'fontsize':15})\n",
    "ax1.plot(np.arange(eigenvalues_cluster.shape[0]) + 1, eigenvalues_cluster, marker='*')"
   ]
  },
  {
   "cell_type": "code",
   "execution_count": 30,
   "metadata": {},
   "outputs": [
    {
     "data": {
      "text/plain": [
       "<BarContainer object of 7 artists>"
      ]
     },
     "execution_count": 30,
     "metadata": {},
     "output_type": "execute_result"
    },
    {
     "data": {
      "image/png": "[encoded data removed]",
      "text/plain": [
       "<Figure size 432x288 with 1 Axes>"
      ]
     },
     "metadata": {},
     "output_type": "display_data"
    }
   ],
   "source": [
    "fig2, ax2 = plt.subplots()\n",
    "ax2.tick_params(labelsize = 14)\n",
    "fig2.tight_layout()\n",
    "ax2.set_xlabel('The index of eigen values', fontdict={'fontsize':15})\n",
    "ax2.set_ylabel('Difference',fontdict={'fontsize':15})\n",
    "ax2.set_title('Difference between current eigen value and previous one',fontdict={'fontsize':14})\n",
    "ax2.bar(np.arange(diff.shape[0])[1:-1] + 2, diff[1:-1])"
   ]
  },
  {
   "cell_type": "code",
   "execution_count": 31,
   "metadata": {},
   "outputs": [],
   "source": [
    "k = 2"
   ]
  },
  {
   "cell_type": "markdown",
   "metadata": {},
   "source": [
    "**The reason why we choose k = 2:** As we know in spectral clustering, we should choose the k when the gap between $\\lambda_{k+1}$ and $\\lambda_k$ is relatively large. Here, since the clusters in our graph are not very distinct, it is difficult to find an absolutely good $k$. We have two possible choices: $k=2$ and $k=6$. Considering the graph is the flight route in the world, most of the airports are strongly connected with each other except those who are located in the Arctic area. So, our graph is most likely to have a giant cluster and a small cluster."
   ]
  },
  {
   "cell_type": "markdown",
   "metadata": {},
   "source": [
    "### Fiedler vector partition - normalized"
   ]
  },
  {
   "cell_type": "code",
   "execution_count": 32,
   "metadata": {},
   "outputs": [],
   "source": [
    "eig_vector_kmeans = eigenvectors_cluster[:,0:k] # extract eigen vectors corresponding k smallest eigen values"
   ]
  },
  {
   "cell_type": "code",
   "execution_count": 33,
   "metadata": {},
   "outputs": [
    {
     "name": "stdout",
     "output_type": "stream",
     "text": [
      "Labels are [0. 1.]\n"
     ]
    }
   ],
   "source": [
    "labels_norm = np.zeros_like(eig_vector_kmeans[:,1])\n",
    "labels_norm[eig_vector_kmeans[:,1] > 0] = 1 # Normalized partition\n",
    "print('Labels are',np.unique(labels_norm))"
   ]
  },
  {
   "cell_type": "markdown",
   "metadata": {},
   "source": [
    "### Fiedler vector partition - unnormalized"
   ]
  },
  {
   "cell_type": "code",
   "execution_count": 34,
   "metadata": {},
   "outputs": [],
   "source": [
    "D_root_inv_dense = np.array(D_root_inv.todense())\n",
    "D_root_inv_cluster = D_root_inv_dense[idx_largest_com, :][:, idx_largest_com]"
   ]
  },
  {
   "cell_type": "code",
   "execution_count": 35,
   "metadata": {},
   "outputs": [],
   "source": [
    "F = D_root_inv_cluster @ eig_vector_kmeans # Compute F vector"
   ]
  },
  {
   "cell_type": "code",
   "execution_count": 36,
   "metadata": {},
   "outputs": [
    {
     "name": "stdout",
     "output_type": "stream",
     "text": [
      "Labels are [0. 1.]\n"
     ]
    }
   ],
   "source": [
    "labels_unnorm = np.zeros_like(F[:,1])\n",
    "labels_unnorm[F[:,1] > 0] = 1 # Unnormalized clustering\n",
    "print('Labels are', np.unique(labels_unnorm))"
   ]
  },
  {
   "cell_type": "markdown",
   "metadata": {},
   "source": [
    "### Question 12\n",
    "\n",
    "Use the computed cluster assignment to reorder the adjacency matrix $A$.\n",
    "What do you expect? What do you observe?"
   ]
  },
  {
   "cell_type": "code",
   "execution_count": 37,
   "metadata": {},
   "outputs": [],
   "source": [
    "adj_gc = adjacency[idx_largest_com, :][:, idx_largest_com] # largest component adjacency matrix"
   ]
  },
  {
   "cell_type": "code",
   "execution_count": 38,
   "metadata": {},
   "outputs": [
    {
     "data": {
      "text/plain": [
       "<matplotlib.lines.Line2D at 0x102d0deb8>"
      ]
     },
     "execution_count": 38,
     "metadata": {},
     "output_type": "execute_result"
    },
    {
     "data": {
      "image/png": "[encoded data removed]",
      "text/plain": [
       "<Figure size 432x288 with 1 Axes>"
      ]
     },
     "metadata": {},
     "output_type": "display_data"
    }
   ],
   "source": [
    "plt.spy(adj_gc, markersize=1) # adjacency matrix - largest component"
   ]
  },
  {
   "cell_type": "code",
   "execution_count": 39,
   "metadata": {},
   "outputs": [],
   "source": [
    "reorder_idx_norm = np.argsort(labels_norm, kind = 'quicksort') # reorder index\n",
    "reorder_idx_unnorm = np.argsort(labels_unnorm, kind = 'quicksort')"
   ]
  },
  {
   "cell_type": "code",
   "execution_count": 40,
   "metadata": {},
   "outputs": [
    {
     "data": {
      "image/png": "[encoded data removed]",
      "text/plain": [
       "<Figure size 432x288 with 1 Axes>"
      ]
     },
     "metadata": {},
     "output_type": "display_data"
    }
   ],
   "source": [
    "# reorder adjacency matrix with the assignment from normalized clustering\n",
    "adj_gc_norm = adj_gc[:, reorder_idx_norm][reorder_idx_norm, :]\n",
    "plt.spy(adj_gc_norm, markersize=1) \n",
    "# reorder adjacency matrix with the assignment from unnormalized clustering\n",
    "adj_gc_unnorm = adj_gc[:, reorder_idx_unnorm][reorder_idx_unnorm, :]"
   ]
  },
  {
   "cell_type": "code",
   "execution_count": 41,
   "metadata": {},
   "outputs": [
    {
     "data": {
      "text/plain": [
       "<matplotlib.lines.Line2D at 0x102c54f98>"
      ]
     },
     "execution_count": 41,
     "metadata": {},
     "output_type": "execute_result"
    },
    {
     "data": {
      "image/png": "[encoded data removed]",
      "text/plain": [
       "<Figure size 432x288 with 1 Axes>"
      ]
     },
     "metadata": {},
     "output_type": "display_data"
    }
   ],
   "source": [
    "# reorder adjacency matrix with the assignment from unnormalized clustering\n",
    "adj_gc_unnorm = adj_gc[:, reorder_idx_unnorm][reorder_idx_unnorm, :]\n",
    "plt.spy(adj_gc_unnorm, markersize=1)"
   ]
  },
  {
   "cell_type": "markdown",
   "metadata": {},
   "source": [
    "**Answer** Reordering the adjacency matrix by clustering assignment can gather the points around the diagonal on the spy plot and make the points in the other places more sparse because the links in each cluster are more than the inter-clusters links. The points around the diagonal represent the inner links of clusters and the points that are off the diagonal represents inter-cluster links.\n",
    "\n",
    "From the plots, we can see that many points gather in the left-upper and right-lower spaces. Moreover, points, which stand for inter clusters link, in other spaces are sparse."
   ]
  },
  {
   "cell_type": "markdown",
   "metadata": {},
   "source": [
    "### Question 13\n",
    "\n",
    "If you have ground truth clusters for your dataset, compare the cluster assignment from spectral clustering to the ground truth.\n",
    "A simple quantitative measure is to compute the percentage of nodes that have been correctly categorized.\n",
    "If you don't have a ground truth, qualitatively assess the quality of the clustering.\n",
    "\n",
    "Ground truth clusters are the \"real clusters\".\n",
    "For example, the genre of musical tracks in FMA, the category of Wikipedia articles, the spammer status of individuals, etc.\n",
    "Look for the `labels` in the [dataset descriptions](https://github.com/mdeff/ntds_2018/tree/master/projects/README.md)."
   ]
  },
  {
   "cell_type": "code",
   "execution_count": 42,
   "metadata": {},
   "outputs": [],
   "source": [
    "# reoder airports name and labels by cluster assignment\n",
    "port_name_norm = port_name[reorder_idx_norm]\n",
    "port_name_unnorm = port_name[reorder_idx_unnorm]\n",
    "labels_norm_ordered = labels_norm[reorder_idx_norm]\n",
    "labels_unnorm_ordered = labels_unnorm[reorder_idx_unnorm]"
   ]
  },
  {
   "cell_type": "code",
   "execution_count": 43,
   "metadata": {},
   "outputs": [],
   "source": [
    "airports = pd.read_csv(\"airports.txt\",names = ['Airport_ID','Name','City','Country','IATA','ICAO','Latitude','Longitude',\n",
    "                                               'Altitude','Timezone','DST','TZ database','Type','Source'])"
   ]
  },
  {
   "cell_type": "code",
   "execution_count": 44,
   "metadata": {},
   "outputs": [],
   "source": [
    "country_dict_norm = {}\n",
    "country_dict_unnorm = {}\n",
    "# initial dictionary to store countries in each cluster\n",
    "for i in range(k):\n",
    "    country_dict_norm[i] = []\n",
    "    country_dict_unnorm[i] = []"
   ]
  },
  {
   "cell_type": "code",
   "execution_count": 45,
   "metadata": {},
   "outputs": [],
   "source": [
    "# find the country in each cluster\n",
    "for idx, j in enumerate(labels_norm_ordered):\n",
    "    try:\n",
    "        # try to find the corresponding coutry of airports in each cluster\n",
    "        country_name = airports.Country[airports.IATA == port_name_norm[idx]].values[0]\n",
    "    except:\n",
    "        continue\n",
    "        \n",
    "    # if the country has not been tag, add it to the list\n",
    "    if country_name not in country_dict_norm[j]:\n",
    "        country_dict_norm[j].append(country_name)"
   ]
  },
  {
   "cell_type": "code",
   "execution_count": 46,
   "metadata": {},
   "outputs": [
    {
     "data": {
      "text/plain": [
       "{0: ['Greenland', 'Iceland', 'Denmark'],\n",
       " 1: ['Puerto Rico',\n",
       "  'United States',\n",
       "  'Peru',\n",
       "  'Grenada',\n",
       "  'Dominican Republic',\n",
       "  'Mexico',\n",
       "  'Guyana',\n",
       "  'Saint Kitts and Nevis',\n",
       "  'Virgin Islands',\n",
       "  'Cayman Islands',\n",
       "  'Bahamas',\n",
       "  'Costa Rica',\n",
       "  'Solomon Islands',\n",
       "  'Brazil',\n",
       "  'Canada',\n",
       "  'Argentina',\n",
       "  'Cuba',\n",
       "  'Paraguay',\n",
       "  'Bolivia',\n",
       "  'Haiti',\n",
       "  'Algeria',\n",
       "  'France',\n",
       "  'Greece',\n",
       "  'Ghana',\n",
       "  'Indonesia',\n",
       "  'Australia',\n",
       "  'Liberia',\n",
       "  'Poland',\n",
       "  'Isle of Man',\n",
       "  'Lithuania',\n",
       "  'United Kingdom',\n",
       "  'Ireland',\n",
       "  'Spain',\n",
       "  'United Arab Emirates',\n",
       "  'Morocco',\n",
       "  'Italy',\n",
       "  'Western Sahara',\n",
       "  'Mauritania',\n",
       "  'Guinea-Bissau',\n",
       "  'India',\n",
       "  'South Africa',\n",
       "  'Tanzania',\n",
       "  'Sweden',\n",
       "  'Germany',\n",
       "  'Iran',\n",
       "  'Somalia',\n",
       "  'Gambia',\n",
       "  'Panama',\n",
       "  'Honduras',\n",
       "  'Anguilla',\n",
       "  'Venezuela',\n",
       "  'Turks and Caicos Islands',\n",
       "  'British Virgin Islands',\n",
       "  'Saint Pierre and Miquelon',\n",
       "  'Dominica',\n",
       "  'Madagascar',\n",
       "  'Mongolia',\n",
       "  'Switzerland',\n",
       "  'Austria',\n",
       "  'Slovakia',\n",
       "  'Laos',\n",
       "  'Burma',\n",
       "  'Vietnam',\n",
       "  'Russia',\n",
       "  'Czech Republic',\n",
       "  'China',\n",
       "  'Israel',\n",
       "  'Ukraine',\n",
       "  'Bosnia and Herzegovina',\n",
       "  'Saudi Arabia',\n",
       "  'Malaysia',\n",
       "  'Thailand',\n",
       "  'Norway',\n",
       "  'Romania',\n",
       "  'Colombia',\n",
       "  'Oman',\n",
       "  'Maldives',\n",
       "  'Nepal',\n",
       "  'Gibraltar',\n",
       "  'Croatia',\n",
       "  'Belgium',\n",
       "  'South Korea',\n",
       "  'Cambodia',\n",
       "  'Mayotte',\n",
       "  'Kenya',\n",
       "  'Comoros',\n",
       "  'Belize',\n",
       "  'Guatemala',\n",
       "  'Trinidad and Tobago',\n",
       "  'Bermuda',\n",
       "  'Jamaica',\n",
       "  'Northern Mariana Islands',\n",
       "  'Micronesia',\n",
       "  'Saint Lucia',\n",
       "  'Nicaragua',\n",
       "  'Libya',\n",
       "  'Senegal',\n",
       "  'Portugal',\n",
       "  'Congo (Kinshasa)',\n",
       "  'Turkey',\n",
       "  'Japan',\n",
       "  'Tunisia',\n",
       "  'Marshall Islands',\n",
       "  'Vanuatu',\n",
       "  'Philippines',\n",
       "  'French Polynesia',\n",
       "  'Taiwan',\n",
       "  'Seychelles',\n",
       "  'Cocos (Keeling) Islands',\n",
       "  'Yemen',\n",
       "  'Rwanda',\n",
       "  'Sudan',\n",
       "  'Angola',\n",
       "  'Georgia',\n",
       "  'Sao Tome and Principe',\n",
       "  'Uganda',\n",
       "  'Mauritius',\n",
       "  'Reunion',\n",
       "  'Pakistan',\n",
       "  'Nigeria',\n",
       "  'Zambia',\n",
       "  'Estonia',\n",
       "  'Netherlands Antilles',\n",
       "  'Hungary',\n",
       "  'French Guiana',\n",
       "  'Cape Verde',\n",
       "  'Bulgaria',\n",
       "  'Saint Vincent and the Grenadines',\n",
       "  'Namibia',\n",
       "  'Mozambique',\n",
       "  'Sri Lanka',\n",
       "  'Eritrea',\n",
       "  'Egypt',\n",
       "  'Guadeloupe',\n",
       "  'Uruguay',\n",
       "  'Ecuador',\n",
       "  'Chile',\n",
       "  'Falkland Islands',\n",
       "  'Netherlands',\n",
       "  'Guernsey',\n",
       "  'Finland',\n",
       "  'Cameroon',\n",
       "  'Ethiopia',\n",
       "  'Burkina Faso',\n",
       "  'Kazakhstan',\n",
       "  'Denmark',\n",
       "  'East Timor',\n",
       "  'El Salvador',\n",
       "  'Iraq',\n",
       "  'Tajikistan',\n",
       "  'Armenia',\n",
       "  'Kyrgyzstan',\n",
       "  'Lebanon',\n",
       "  'Turkmenistan',\n",
       "  'Serbia',\n",
       "  'Azerbaijan',\n",
       "  'North Korea',\n",
       "  'Christmas Island',\n",
       "  'Palau',\n",
       "  'Malta',\n",
       "  'Macedonia',\n",
       "  'Djibouti',\n",
       "  'South Sudan',\n",
       "  'Afghanistan',\n",
       "  'Cyprus',\n",
       "  'American Samoa',\n",
       "  'Bangladesh',\n",
       "  'New Zealand',\n",
       "  'Niue',\n",
       "  'Papua New Guinea',\n",
       "  'Brunei',\n",
       "  'Cook Islands',\n",
       "  'Jordan',\n",
       "  'Bahrain',\n",
       "  'Hong Kong',\n",
       "  'Samoa',\n",
       "  'Fiji',\n",
       "  'Kiribati',\n",
       "  'Tonga',\n",
       "  'Wallis and Futuna',\n",
       "  'Norfolk Island',\n",
       "  'Nauru',\n",
       "  'New Caledonia',\n",
       "  'Singapore',\n",
       "  'Guam',\n",
       "  'Macau',\n",
       "  'Kuwait',\n",
       "  'Uzbekistan',\n",
       "  'Faroe Islands',\n",
       "  'Moldova',\n",
       "  'Bhutan',\n",
       "  \"Cote d'Ivoire\",\n",
       "  'Burundi',\n",
       "  'Sierra Leone',\n",
       "  'Guinea',\n",
       "  'Martinique',\n",
       "  'Central African Republic',\n",
       "  'Montenegro',\n",
       "  'Botswana',\n",
       "  'Zimbabwe',\n",
       "  'Lesotho',\n",
       "  'Swaziland',\n",
       "  'Albania',\n",
       "  'Antigua and Barbuda',\n",
       "  'Barbados',\n",
       "  'Gabon',\n",
       "  'Togo',\n",
       "  'Malawi',\n",
       "  'Chad',\n",
       "  'Niger',\n",
       "  'Congo (Brazzaville)',\n",
       "  'Equatorial Guinea',\n",
       "  'Mali',\n",
       "  'Benin',\n",
       "  'Tuvalu',\n",
       "  'Suriname',\n",
       "  'Latvia',\n",
       "  'Aruba',\n",
       "  'Slovenia',\n",
       "  'Luxembourg',\n",
       "  'Belarus',\n",
       "  'Jersey']}"
      ]
     },
     "execution_count": 46,
     "metadata": {},
     "output_type": "execute_result"
    }
   ],
   "source": [
    "country_dict_norm"
   ]
  },
  {
   "cell_type": "code",
   "execution_count": 47,
   "metadata": {},
   "outputs": [],
   "source": [
    "# similar procedure with the previous for-loop but using the labels coming from unnormalized partition\n",
    "for idx, j in enumerate(labels_unnorm_ordered):\n",
    "    try:\n",
    "        country_name = airports.Country[airports.IATA == port_name_unnorm[idx]].values[0]\n",
    "    except:\n",
    "        continue\n",
    "    if country_name not in country_dict_unnorm[j]:\n",
    "        country_dict_unnorm[j].append(country_name)"
   ]
  },
  {
   "cell_type": "code",
   "execution_count": 48,
   "metadata": {},
   "outputs": [
    {
     "data": {
      "text/plain": [
       "{0: ['Greenland', 'Iceland', 'Denmark'],\n",
       " 1: ['Puerto Rico',\n",
       "  'United States',\n",
       "  'Peru',\n",
       "  'Grenada',\n",
       "  'Dominican Republic',\n",
       "  'Mexico',\n",
       "  'Guyana',\n",
       "  'Saint Kitts and Nevis',\n",
       "  'Virgin Islands',\n",
       "  'Cayman Islands',\n",
       "  'Bahamas',\n",
       "  'Costa Rica',\n",
       "  'Solomon Islands',\n",
       "  'Brazil',\n",
       "  'Canada',\n",
       "  'Argentina',\n",
       "  'Cuba',\n",
       "  'Paraguay',\n",
       "  'Bolivia',\n",
       "  'Haiti',\n",
       "  'Algeria',\n",
       "  'France',\n",
       "  'Greece',\n",
       "  'Ghana',\n",
       "  'Indonesia',\n",
       "  'Australia',\n",
       "  'Liberia',\n",
       "  'Poland',\n",
       "  'Isle of Man',\n",
       "  'Lithuania',\n",
       "  'United Kingdom',\n",
       "  'Ireland',\n",
       "  'Spain',\n",
       "  'United Arab Emirates',\n",
       "  'Morocco',\n",
       "  'Italy',\n",
       "  'Western Sahara',\n",
       "  'Mauritania',\n",
       "  'Guinea-Bissau',\n",
       "  'India',\n",
       "  'South Africa',\n",
       "  'Tanzania',\n",
       "  'Sweden',\n",
       "  'Germany',\n",
       "  'Iran',\n",
       "  'Somalia',\n",
       "  'Gambia',\n",
       "  'Panama',\n",
       "  'Honduras',\n",
       "  'Anguilla',\n",
       "  'Venezuela',\n",
       "  'Turks and Caicos Islands',\n",
       "  'British Virgin Islands',\n",
       "  'Saint Pierre and Miquelon',\n",
       "  'Dominica',\n",
       "  'Madagascar',\n",
       "  'Mongolia',\n",
       "  'Switzerland',\n",
       "  'Austria',\n",
       "  'Slovakia',\n",
       "  'Laos',\n",
       "  'Burma',\n",
       "  'Vietnam',\n",
       "  'Russia',\n",
       "  'Czech Republic',\n",
       "  'China',\n",
       "  'Israel',\n",
       "  'Ukraine',\n",
       "  'Bosnia and Herzegovina',\n",
       "  'Saudi Arabia',\n",
       "  'Malaysia',\n",
       "  'Thailand',\n",
       "  'Norway',\n",
       "  'Romania',\n",
       "  'Colombia',\n",
       "  'Oman',\n",
       "  'Maldives',\n",
       "  'Nepal',\n",
       "  'Gibraltar',\n",
       "  'Croatia',\n",
       "  'Belgium',\n",
       "  'South Korea',\n",
       "  'Cambodia',\n",
       "  'Mayotte',\n",
       "  'Kenya',\n",
       "  'Comoros',\n",
       "  'Belize',\n",
       "  'Guatemala',\n",
       "  'Trinidad and Tobago',\n",
       "  'Bermuda',\n",
       "  'Jamaica',\n",
       "  'Northern Mariana Islands',\n",
       "  'Micronesia',\n",
       "  'Saint Lucia',\n",
       "  'Nicaragua',\n",
       "  'Libya',\n",
       "  'Senegal',\n",
       "  'Portugal',\n",
       "  'Congo (Kinshasa)',\n",
       "  'Turkey',\n",
       "  'Japan',\n",
       "  'Tunisia',\n",
       "  'Marshall Islands',\n",
       "  'Vanuatu',\n",
       "  'Philippines',\n",
       "  'French Polynesia',\n",
       "  'Taiwan',\n",
       "  'Seychelles',\n",
       "  'Cocos (Keeling) Islands',\n",
       "  'Yemen',\n",
       "  'Rwanda',\n",
       "  'Sudan',\n",
       "  'Angola',\n",
       "  'Georgia',\n",
       "  'Sao Tome and Principe',\n",
       "  'Uganda',\n",
       "  'Mauritius',\n",
       "  'Reunion',\n",
       "  'Pakistan',\n",
       "  'Nigeria',\n",
       "  'Zambia',\n",
       "  'Estonia',\n",
       "  'Netherlands Antilles',\n",
       "  'Hungary',\n",
       "  'French Guiana',\n",
       "  'Cape Verde',\n",
       "  'Bulgaria',\n",
       "  'Saint Vincent and the Grenadines',\n",
       "  'Namibia',\n",
       "  'Mozambique',\n",
       "  'Sri Lanka',\n",
       "  'Eritrea',\n",
       "  'Egypt',\n",
       "  'Guadeloupe',\n",
       "  'Uruguay',\n",
       "  'Ecuador',\n",
       "  'Chile',\n",
       "  'Falkland Islands',\n",
       "  'Netherlands',\n",
       "  'Guernsey',\n",
       "  'Finland',\n",
       "  'Cameroon',\n",
       "  'Ethiopia',\n",
       "  'Burkina Faso',\n",
       "  'Kazakhstan',\n",
       "  'Denmark',\n",
       "  'East Timor',\n",
       "  'El Salvador',\n",
       "  'Iraq',\n",
       "  'Tajikistan',\n",
       "  'Armenia',\n",
       "  'Kyrgyzstan',\n",
       "  'Lebanon',\n",
       "  'Turkmenistan',\n",
       "  'Serbia',\n",
       "  'Azerbaijan',\n",
       "  'North Korea',\n",
       "  'Christmas Island',\n",
       "  'Palau',\n",
       "  'Malta',\n",
       "  'Macedonia',\n",
       "  'Djibouti',\n",
       "  'South Sudan',\n",
       "  'Afghanistan',\n",
       "  'Cyprus',\n",
       "  'American Samoa',\n",
       "  'Bangladesh',\n",
       "  'New Zealand',\n",
       "  'Niue',\n",
       "  'Papua New Guinea',\n",
       "  'Brunei',\n",
       "  'Cook Islands',\n",
       "  'Jordan',\n",
       "  'Bahrain',\n",
       "  'Hong Kong',\n",
       "  'Samoa',\n",
       "  'Fiji',\n",
       "  'Kiribati',\n",
       "  'Tonga',\n",
       "  'Wallis and Futuna',\n",
       "  'Norfolk Island',\n",
       "  'Nauru',\n",
       "  'New Caledonia',\n",
       "  'Singapore',\n",
       "  'Guam',\n",
       "  'Macau',\n",
       "  'Kuwait',\n",
       "  'Uzbekistan',\n",
       "  'Faroe Islands',\n",
       "  'Moldova',\n",
       "  'Bhutan',\n",
       "  \"Cote d'Ivoire\",\n",
       "  'Burundi',\n",
       "  'Sierra Leone',\n",
       "  'Guinea',\n",
       "  'Martinique',\n",
       "  'Central African Republic',\n",
       "  'Montenegro',\n",
       "  'Botswana',\n",
       "  'Zimbabwe',\n",
       "  'Lesotho',\n",
       "  'Swaziland',\n",
       "  'Albania',\n",
       "  'Antigua and Barbuda',\n",
       "  'Barbados',\n",
       "  'Gabon',\n",
       "  'Togo',\n",
       "  'Malawi',\n",
       "  'Chad',\n",
       "  'Niger',\n",
       "  'Congo (Brazzaville)',\n",
       "  'Equatorial Guinea',\n",
       "  'Mali',\n",
       "  'Benin',\n",
       "  'Tuvalu',\n",
       "  'Suriname',\n",
       "  'Latvia',\n",
       "  'Aruba',\n",
       "  'Slovenia',\n",
       "  'Luxembourg',\n",
       "  'Belarus',\n",
       "  'Jersey']}"
      ]
     },
     "execution_count": 48,
     "metadata": {},
     "output_type": "execute_result"
    }
   ],
   "source": [
    "country_dict_unnorm"
   ]
  },
  {
   "cell_type": "markdown",
   "metadata": {},
   "source": [
    "**Answer** From the results, we can see some airports in Denmark, Greenland, Iceland are clustered together. Firstly, these three countries(regions) are close geometrically. Moreover, some of their airports are located in the Arctic Circle. So, it is possible that they have some airports that have few routes to the rest of the regions. For this point, we believe the clustering results are reasonable. From the error rate that we acquire in the next question, the error rate is critically low(0.15%)."
   ]
  },
  {
   "cell_type": "markdown",
   "metadata": {},
   "source": [
    "### Question 14\n",
    "\n",
    "Plot the cluster assignment (one color per cluster) on the 2D embedding you computed above with Laplacian eigenmaps."
   ]
  },
  {
   "cell_type": "code",
   "execution_count": 49,
   "metadata": {},
   "outputs": [],
   "source": [
    "color = np.random.rand(k, 3)"
   ]
  },
  {
   "cell_type": "code",
   "execution_count": 50,
   "metadata": {},
   "outputs": [
    {
     "data": {
      "image/png": "[encoded data removed]",
      "text/plain": [
       "<Figure size 432x288 with 1 Axes>"
      ]
     },
     "metadata": {},
     "output_type": "display_data"
    }
   ],
   "source": [
    "fig_c, ax_c = plt.subplots()\n",
    "ax_c.set_title('2-D display on unnormalized partition')\n",
    "for i in range(k):\n",
    "    ax_c.scatter(F[np.where(labels_unnorm == i),0], F[np.where(labels_unnorm == i),1], c = color[i,:])"
   ]
  },
  {
   "cell_type": "code",
   "execution_count": 51,
   "metadata": {},
   "outputs": [
    {
     "name": "stdout",
     "output_type": "stream",
     "text": [
      "The rate of wrong clustering for unnormalized partition:0.15%\n"
     ]
    }
   ],
   "source": [
    "error_rate_unnorm = np.sum(F[np.where(labels_unnorm == 0),1] > -0.025) / labels_norm.shape[0]\n",
    "print('The rate of wrong clustering for unnormalized partition:{:2.2%}'.format(error_rate_unnorm))"
   ]
  },
  {
   "cell_type": "code",
   "execution_count": 52,
   "metadata": {},
   "outputs": [
    {
     "data": {
      "image/png": "[encoded data removed]",
      "text/plain": [
       "<Figure size 432x288 with 1 Axes>"
      ]
     },
     "metadata": {},
     "output_type": "display_data"
    }
   ],
   "source": [
    "fig_c2, ax_c2 = plt.subplots()\n",
    "ax_c2.set_title('2-D display on normalized partition (Preferred)')\n",
    "for i in range(k):\n",
    "    ax_c2.scatter(eigenvectors_cluster[np.where(labels_norm == i),0], eigenvectors_cluster[np.where(labels_norm == i),1], c = color[i,:])"
   ]
  },
  {
   "cell_type": "code",
   "execution_count": 53,
   "metadata": {},
   "outputs": [
    {
     "name": "stdout",
     "output_type": "stream",
     "text": [
      "The rate of wrong clustering for normalized partition:0.15%\n"
     ]
    }
   ],
   "source": [
    "error_rate_norm = np.sum(eigenvectors_cluster[np.where(labels_norm == 0),1] > -0.025) / labels_norm.shape[0]\n",
    "print('The rate of wrong clustering for normalized partition:{:2.2%}'.format(error_rate_norm))"
   ]
  },
  {
   "cell_type": "markdown",
   "metadata": {},
   "source": [
    "**Comment** In the two plots, we can intuitively discover two clusters. Moreover, two clusters are mostly dyed correctly. However, some points are dyed incorrectly. That means there may exist some errors in our algorithms.\n",
    "\n",
    "Meanwhile, normalized partition has better effect of display. Hencen, we prefer normalized partition."
   ]
  },
  {
   "cell_type": "markdown",
   "metadata": {},
   "source": [
    "### Question 15\n",
    "\n",
    "Why did we use the eigenvectors of the graph Laplacian as features? Could we use other features for clustering?"
   ]
  },
  {
   "cell_type": "markdown",
   "metadata": {},
   "source": [
    "**Answer** Each row of eigenvectors(features) stands for whether the point belongs to each component. As we are working on a fully connected component, the assignment is not exactly 1 or 0. So, we utilize k-means to cluster all points. Absolutely, we can also cluster based on the adjacency matrix, and each row is the feature of every node. The number of links between current nodes and other nodes can also represent the connectivity."
   ]
  }
 ],
 "metadata": {
  "kernelspec": {
   "display_name": "Python 3",
   "language": "python",
   "name": "python3"
  },
  "language_info": {
   "codemirror_mode": {
    "name": "ipython",
    "version": 3
   },
   "file_extension": ".py",
   "mimetype": "text/x-python",
   "name": "python",
   "nbconvert_exporter": "python",
   "pygments_lexer": "ipython3",
   "version": "3.6.5"
  }
 },
 "nbformat": 4,
 "nbformat_minor": 2
}
