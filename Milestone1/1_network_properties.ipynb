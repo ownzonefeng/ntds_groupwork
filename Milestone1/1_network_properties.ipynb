{
 "cells": [
  {
   "cell_type": "markdown",
   "metadata": {},
   "source": [
    "# NTDS'18 milestone 1: network collection and properties\n",
    "[Effrosyni Simou](https://lts4.epfl.ch/simou), [EPFL LTS4](https://lts4.epfl.ch)"
   ]
  },
  {
   "cell_type": "markdown",
   "metadata": {},
   "source": [
    "## Students\n",
    "\n",
    "* Team: `<05>`\n",
    "* Students: `<Wentao Feng, Yunbei Wang, Yan Fu, Zhaodong Sun>`\n",
    "* Dataset: `<Flight route>`"
   ]
  },
  {
   "cell_type": "markdown",
   "metadata": {},
   "source": [
    "## Rules\n",
    "\n",
    "* Milestones have to be completed by teams. No collaboration between teams is allowed.\n",
    "* Textual answers shall be short. Typically one to three sentences.\n",
    "* Code has to be clean.\n",
    "* You cannot import any other library than we imported.\n",
    "* When submitting, the notebook is executed and the results are stored. I.e., if you open the notebook again it should show numerical results and plots. We won't be able to execute your notebooks.\n",
    "* The notebook is re-executed from a blank state before submission. That is to be sure it is reproducible. You can click \"Kernel\" then \"Restart & Run All\" in Jupyter."
   ]
  },
  {
   "cell_type": "markdown",
   "metadata": {},
   "source": [
    "## Objective "
   ]
  },
  {
   "cell_type": "markdown",
   "metadata": {},
   "source": [
    "The purpose of this milestone is to start getting acquainted to the network that you will use for this class. In the first part of the milestone you will import your data using [Pandas](http://pandas.pydata.org) and you will create the adjacency matrix using [Numpy](http://www.numpy.org). This part is project specific. In the second part you will have to compute some basic properties of your network. **For the computation of the properties you are only allowed to use the packages that have been imported in the cell below.** You are not allowed to use any graph-specific toolboxes for this milestone (such as networkx and PyGSP). Furthermore, the aim is not to blindly compute the network properties, but to also start to think about what kind of network you will be working with this semester. "
   ]
  },
  {
   "cell_type": "code",
<<<<<<< HEAD
   "execution_count": 1,
=======
   "execution_count": 219,
>>>>>>> YF
   "metadata": {},
   "outputs": [],
   "source": [
    "import numpy as np\n",
    "import pandas as pd\n",
    "import matplotlib.pyplot as plt\n",
    "import time"
   ]
  },
  {
   "cell_type": "markdown",
   "metadata": {},
   "source": [
    "## Part 1 - Import your data and manipulate them. "
   ]
  },
  {
   "cell_type": "markdown",
   "metadata": {},
   "source": [
    "###  A. Load your data in a Panda dataframe."
   ]
  },
  {
   "cell_type": "markdown",
   "metadata": {},
   "source": [
    "First, you should define and understand what are your nodes, what features you have and what are your labels. Please provide below a Panda dataframe where each row corresponds to a node with its features and labels. For example, in the the case of the Free Music Archive (FMA) Project, each row of the dataframe would be of the following form:\n",
    "\n",
    "\n",
    "| Track   |  Feature 1  | Feature 2 | . . . | Feature 518|  Label 1 |  Label 2 |. . .|Label 16|\n",
    "|:-------:|:-----------:|:---------:|:-----:|:----------:|:--------:|:--------:|:---:|:------:|\n",
    "|         |             |           |       |            |          |          |     |        |\n",
    "\n",
    "It is possible that in some of the projects either the features or the labels are not available. This is OK, in that case just make sure that you create a dataframe where each of the rows corresponds to a node and its associated features or labels."
   ]
  },
  {
   "cell_type": "code",
<<<<<<< HEAD
   "execution_count": 42,
=======
   "execution_count": 220,
>>>>>>> YF
   "metadata": {},
   "outputs": [],
   "source": [
    "routes = pd.read_csv(\"routes.dat\", names = ['Airline', 'Airline_ID', 'S_Port', 'S_ID', \n",
    "                                            'D_Port', 'D_ID', 'Codeshare', 'Stops', 'Equipment'])\n",
    "# S_Port*D_Port = 3407*3448\n",
    "\n",
    "airlines = pd.read_csv(\"airlines.dat\",names = ['Airline_ID','Name','Alias','IATA','ICAO','Callsign','Country','Active'])\n",
    "\n",
    "airports = pd.read_csv(\"airports.txt\",names = ['Airport_ID','Name','City','Country','IATA','ICAO','Latitude','Longitude',\n",
    "                                               'Altitude','Timezone','DST','TZ database','Type','Source'])\n",
<<<<<<< HEAD
    "#S stands for source; D stands for destination\n"
=======
    "#S stands for source; D stands for destination"
   ]
  },
  {
   "cell_type": "code",
   "execution_count": 221,
   "metadata": {},
   "outputs": [
    {
     "name": "stdout",
     "output_type": "stream",
     "text": [
      "<class 'pandas.core.frame.DataFrame'>\n",
      "RangeIndex: 67663 entries, 0 to 67662\n",
      "Data columns (total 9 columns):\n",
      "Airline       67663 non-null object\n",
      "Airline_ID    67663 non-null object\n",
      "S_Port        67663 non-null object\n",
      "S_ID          67663 non-null object\n",
      "D_Port        67663 non-null object\n",
      "D_ID          67663 non-null object\n",
      "Codeshare     14597 non-null object\n",
      "Stops         67663 non-null int64\n",
      "Equipment     67645 non-null object\n",
      "dtypes: int64(1), object(8)\n",
      "memory usage: 4.6+ MB\n"
     ]
    }
   ],
   "source": [
    "routes.info()"
   ]
  },
  {
   "cell_type": "code",
   "execution_count": 222,
   "metadata": {},
   "outputs": [
    {
     "data": {
      "text/plain": [
       "(3425,)"
      ]
     },
     "execution_count": 222,
     "metadata": {},
     "output_type": "execute_result"
    }
   ],
   "source": [
    "port1 = pd.concat([routes.S_Port,routes.D_Port],axis=0).drop_duplicates()#.sort_values().get_values()\n",
    "port1.shape"
   ]
  },
  {
   "cell_type": "code",
   "execution_count": 223,
   "metadata": {},
   "outputs": [
    {
     "data": {
      "text/plain": [
       "(3418,)"
      ]
     },
     "execution_count": 223,
     "metadata": {},
     "output_type": "execute_result"
    }
   ],
   "source": [
    "routes.D_Port.drop_duplicates().shape"
>>>>>>> YF
   ]
  },
  {
   "cell_type": "code",
   "execution_count": 224,
   "metadata": {
    "scrolled": true
   },
   "outputs": [
    {
<<<<<<< HEAD
=======
     "name": "stdout",
     "output_type": "stream",
     "text": [
      "<class 'pandas.core.frame.DataFrame'>\n",
      "RangeIndex: 6162 entries, 0 to 6161\n",
      "Data columns (total 8 columns):\n",
      "Airline_ID    6162 non-null int64\n",
      "Name          6162 non-null object\n",
      "Alias         5656 non-null object\n",
      "IATA          1535 non-null object\n",
      "ICAO          6075 non-null object\n",
      "Callsign      5354 non-null object\n",
      "Country       6147 non-null object\n",
      "Active        6162 non-null object\n",
      "dtypes: int64(1), object(7)\n",
      "memory usage: 385.2+ KB\n"
     ]
    }
   ],
   "source": [
    "airlines.info()"
   ]
  },
  {
   "cell_type": "code",
   "execution_count": 225,
   "metadata": {},
   "outputs": [
    {
>>>>>>> YF
     "data": {
      "text/plain": [
       "312      3H\n",
       "1000     4E\n",
       "1692     4W\n",
       "2099     5U\n",
       "2356     6L\n",
       "2957     7S\n",
       "3558     9D\n",
       "3691     9M\n",
       "22805    EB\n",
       "31114    HS\n",
       "44079    O4\n",
       "45214    P1\n",
       "45224    P2\n",
       "45260    P6\n",
       "45314    PB\n",
       "64909    WT\n",
       "65390    X4\n",
       "65551    XU\n",
       "66114    YJ\n",
       "66188    YN\n",
       "66593    ZD\n",
       "Name: Airline, dtype: object"
      ]
     },
<<<<<<< HEAD
     "execution_count": 7,
=======
     "execution_count": 225,
>>>>>>> YF
     "metadata": {},
     "output_type": "execute_result"
    }
   ],
   "source": [
    "# find out routes without Airline_ID, which then could not determine their activeness\n",
    "noID = routes.loc[(routes.Airline_ID=='\\\\N')].copy()\n",
    "noID.Airline.drop_duplicates()"
   ]
  },
  {
   "cell_type": "code",
<<<<<<< HEAD
   "execution_count": 8,
=======
   "execution_count": 226,
>>>>>>> YF
   "metadata": {},
   "outputs": [
    {
     "name": "stdout",
     "output_type": "stream",
     "text": [
      "<class 'pandas.core.frame.DataFrame'>\n",
      "RangeIndex: 67663 entries, 0 to 67662\n",
      "Data columns (total 9 columns):\n",
      "Airline       67663 non-null object\n",
      "Airline_ID    67184 non-null float64\n",
      "S_Port        67663 non-null object\n",
      "S_ID          67663 non-null object\n",
      "D_Port        67663 non-null object\n",
      "D_ID          67663 non-null object\n",
      "Codeshare     14597 non-null object\n",
      "Stops         67663 non-null int64\n",
      "Equipment     67645 non-null object\n",
      "dtypes: float64(1), int64(1), object(7)\n",
      "memory usage: 4.6+ MB\n"
     ]
    }
   ],
   "source": [
    "# replace '\\N' in Airline_ID with NaN and then turn the Airline_ID into numbers\n",
    "# '\\N' is escape character, so we need to add '\\' before to refer to it\n",
    "routes_ = routes.copy()\n",
    "routes_.Airline_ID = pd.to_numeric(routes_.Airline_ID.replace(['\\\\N'],value=[np.nan]))#.value_counts()#.sort_index()\n",
<<<<<<< HEAD
    "#routes.info()"
=======
    "routes_.info()"
>>>>>>> YF
   ]
  },
  {
   "cell_type": "code",
<<<<<<< HEAD
   "execution_count": 9,
=======
   "execution_count": 227,
>>>>>>> YF
   "metadata": {},
   "outputs": [
    {
     "data": {
      "text/html": [
       "<div>\n",
       "<style scoped>\n",
       "    .dataframe tbody tr th:only-of-type {\n",
       "        vertical-align: middle;\n",
       "    }\n",
       "\n",
       "    .dataframe tbody tr th {\n",
       "        vertical-align: top;\n",
       "    }\n",
       "\n",
       "    .dataframe thead th {\n",
       "        text-align: right;\n",
       "    }\n",
       "</style>\n",
       "<table border=\"1\" class=\"dataframe\">\n",
       "  <thead>\n",
       "    <tr style=\"text-align: right;\">\n",
       "      <th></th>\n",
       "      <th>Airline</th>\n",
       "      <th>Airline_ID</th>\n",
       "      <th>S_Port</th>\n",
       "      <th>S_ID</th>\n",
       "      <th>D_Port</th>\n",
       "      <th>D_ID</th>\n",
       "      <th>Codeshare</th>\n",
       "      <th>Stops</th>\n",
       "      <th>Equipment</th>\n",
       "      <th>Active</th>\n",
       "    </tr>\n",
       "  </thead>\n",
       "  <tbody>\n",
       "    <tr>\n",
       "      <th>0</th>\n",
       "      <td>2B</td>\n",
       "      <td>410.0</td>\n",
       "      <td>AER</td>\n",
       "      <td>2965</td>\n",
       "      <td>KZN</td>\n",
       "      <td>2990</td>\n",
       "      <td>NaN</td>\n",
       "      <td>0</td>\n",
       "      <td>CR2</td>\n",
       "      <td>Y</td>\n",
       "    </tr>\n",
       "    <tr>\n",
       "      <th>1</th>\n",
       "      <td>2B</td>\n",
       "      <td>410.0</td>\n",
       "      <td>ASF</td>\n",
       "      <td>2966</td>\n",
       "      <td>KZN</td>\n",
       "      <td>2990</td>\n",
       "      <td>NaN</td>\n",
       "      <td>0</td>\n",
       "      <td>CR2</td>\n",
       "      <td>Y</td>\n",
       "    </tr>\n",
       "    <tr>\n",
       "      <th>2</th>\n",
       "      <td>2B</td>\n",
       "      <td>410.0</td>\n",
       "      <td>ASF</td>\n",
       "      <td>2966</td>\n",
       "      <td>MRV</td>\n",
       "      <td>2962</td>\n",
       "      <td>NaN</td>\n",
       "      <td>0</td>\n",
       "      <td>CR2</td>\n",
       "      <td>Y</td>\n",
       "    </tr>\n",
       "    <tr>\n",
       "      <th>3</th>\n",
       "      <td>2B</td>\n",
       "      <td>410.0</td>\n",
       "      <td>CEK</td>\n",
       "      <td>2968</td>\n",
       "      <td>KZN</td>\n",
       "      <td>2990</td>\n",
       "      <td>NaN</td>\n",
       "      <td>0</td>\n",
       "      <td>CR2</td>\n",
       "      <td>Y</td>\n",
       "    </tr>\n",
       "    <tr>\n",
       "      <th>4</th>\n",
       "      <td>2B</td>\n",
       "      <td>410.0</td>\n",
       "      <td>CEK</td>\n",
       "      <td>2968</td>\n",
       "      <td>OVB</td>\n",
       "      <td>4078</td>\n",
       "      <td>NaN</td>\n",
       "      <td>0</td>\n",
       "      <td>CR2</td>\n",
       "      <td>Y</td>\n",
       "    </tr>\n",
       "  </tbody>\n",
       "</table>\n",
       "</div>"
      ],
      "text/plain": [
       "  Airline  Airline_ID S_Port  S_ID D_Port  D_ID Codeshare  Stops Equipment  \\\n",
       "0      2B       410.0    AER  2965    KZN  2990       NaN      0       CR2   \n",
       "1      2B       410.0    ASF  2966    KZN  2990       NaN      0       CR2   \n",
       "2      2B       410.0    ASF  2966    MRV  2962       NaN      0       CR2   \n",
       "3      2B       410.0    CEK  2968    KZN  2990       NaN      0       CR2   \n",
       "4      2B       410.0    CEK  2968    OVB  4078       NaN      0       CR2   \n",
       "\n",
       "  Active  \n",
       "0      Y  \n",
       "1      Y  \n",
       "2      Y  \n",
       "3      Y  \n",
       "4      Y  "
      ]
     },
<<<<<<< HEAD
     "execution_count": 9,
=======
     "execution_count": 227,
>>>>>>> YF
     "metadata": {},
     "output_type": "execute_result"
    }
   ],
   "source": [
    "# merge routes_ with airlines on Airline_ID and connect every Aieline with 'Active' info\n",
    "# We are cleaning out the routes that the Airline is no longer active any more\n",
    "#( in this case, we just select the routes with Active == 'Y')\n",
    "route1 = pd.merge(routes_,airlines[['Airline_ID','Active']].copy().drop_duplicates('Airline_ID'))\n",
    "route_active = route1.loc[(route1.Active=='Y')].copy()\n",
    "# route_active = pd.concat([route_active,noID],axis=0) \n",
    "# This step adds routes that is ambigious about the activeness due to the lack of Airline_ID\n",
    "# If it is commented out, it means that we don't take these routes into consideration\n",
    "route_active.head()"
   ]
  },
  {
   "cell_type": "markdown",
   "metadata": {},
   "source": [
    "### B. Create the adjacency matrix of your network."
   ]
  },
  {
   "cell_type": "markdown",
   "metadata": {},
   "source": [
    "Remember that there are edges connecting the attributed nodes that you organized in the dataframe above. The connectivity of the network is captured by the adjacency matrix $W$. If $N$ is the number of nodes, the adjacency matrix is an $N \\times N$ matrix where the value of $W(i,j)$ is the weight of the edge connecting node $i$ to node $j$.  \n",
    "\n",
    "There are two possible scenarios for your adjacency matrix construction, as you already learned in the tutorial by Benjamin:\n",
    "\n",
    "1) The edges are given to you explicitly. In this case you should simply load the file containing the edge information and parse it in order to create your adjacency matrix. See how to do that in the  [graph from edge list]() demo.\n",
    "\n",
    "2) The edges are not given to you. In that case you will have to create a feature graph. In order to do that you will have to chose a distance that will quantify how similar two nodes are based on the values in their corresponding feature vectors. In the [graph from features]() demo Benjamin showed you how to build feature graphs when using Euclidean distances between feature vectors. Be curious and explore other distances as well! For instance, in the case of high-dimensional feature vectors, you might want to consider using the cosine distance. Once you compute the distances between your nodes you will have a fully connected network. Do not forget to sparsify by keeping the most important edges in your network.\n",
    "\n",
    "Follow the appropriate steps for the construction of the adjacency matrix of your network and provide it in the Numpy array ``adjacency`` below: "
   ]
  },
  {
   "cell_type": "code",
   "execution_count": 228,
   "metadata": {},
   "outputs": [],
   "source": [
    "# find out unique airports of active routes\n",
    "port = pd.concat([route_active.S_Port,route_active.D_Port],axis=0).drop_duplicates()#.sort_values().get_values()"
   ]
  },
  {
   "cell_type": "code",
<<<<<<< HEAD
   "execution_count": 21,
=======
   "execution_count": 229,
>>>>>>> YF
   "metadata": {},
   "outputs": [
    {
     "data": {
      "text/html": [
       "<div>\n",
       "<style scoped>\n",
       "    .dataframe tbody tr th:only-of-type {\n",
       "        vertical-align: middle;\n",
       "    }\n",
       "\n",
       "    .dataframe tbody tr th {\n",
       "        vertical-align: top;\n",
       "    }\n",
       "\n",
       "    .dataframe thead th {\n",
       "        text-align: right;\n",
       "    }\n",
       "</style>\n",
       "<table border=\"1\" class=\"dataframe\">\n",
       "  <thead>\n",
       "    <tr style=\"text-align: right;\">\n",
       "      <th></th>\n",
       "      <th>index</th>\n",
       "      <th>Port</th>\n",
       "    </tr>\n",
       "  </thead>\n",
       "  <tbody>\n",
       "    <tr>\n",
       "      <th>0</th>\n",
       "      <td>0</td>\n",
       "      <td>AAE</td>\n",
       "    </tr>\n",
       "    <tr>\n",
       "      <th>1</th>\n",
       "      <td>1</td>\n",
       "      <td>AAL</td>\n",
       "    </tr>\n",
       "    <tr>\n",
       "      <th>2</th>\n",
       "      <td>2</td>\n",
       "      <td>AAN</td>\n",
       "    </tr>\n",
       "    <tr>\n",
       "      <th>3</th>\n",
       "      <td>3</td>\n",
       "      <td>AAQ</td>\n",
       "    </tr>\n",
       "    <tr>\n",
       "      <th>4</th>\n",
       "      <td>4</td>\n",
       "      <td>AAR</td>\n",
       "    </tr>\n",
       "  </tbody>\n",
       "</table>\n",
       "</div>"
      ],
      "text/plain": [
<<<<<<< HEAD
       "array([2], dtype=int64)"
      ]
     },
     "execution_count": 21,
=======
       "   index Port\n",
       "0      0  AAE\n",
       "1      1  AAL\n",
       "2      2  AAN\n",
       "3      3  AAQ\n",
       "4      4  AAR"
      ]
     },
     "execution_count": 229,
>>>>>>> YF
     "metadata": {},
     "output_type": "execute_result"
    }
   ],
   "source": [
    "# number the ports starts with 0, which can then be used as adjacency matrix index\n",
    "port_idx = port.sort_values().reset_index().drop('index',axis=1).copy()\n",
    "port_idx.rename(columns={0:'Port'},inplace=True)\n",
    "port_idx.index.names = ['index']\n",
    "port_idx.set_index('Port')\n",
    "port_idx = port_idx.reset_index()\n",
    "port_idx.head()"
   ]
  },
  {
   "cell_type": "code",
   "execution_count": 235,
   "metadata": {},
   "outputs": [],
   "source": [
    "merge1 = pd.merge(route_active[['S_Port','D_Port']],port_idx,left_on = 'S_Port',right_on = 'Port').rename(columns={'index':'S_index'}).drop('Port',axis=1)\n",
    "merge2 = pd.merge(merge1,port_idx,left_on = 'D_Port',right_on = 'Port').rename(columns={'index':'D_index'}).drop('Port',axis=1)"
   ]
  },
  {
   "cell_type": "code",
   "execution_count": 236,
   "metadata": {
    "scrolled": true
   },
   "outputs": [],
   "source": [
    "# calculate the weights of every routes in terms of airport index\n",
    "resultidx = merge2.groupby(['S_index','D_index']).size().reset_index().rename(columns={0:'counts'})"
   ]
  },
  {
   "cell_type": "code",
<<<<<<< HEAD
   "execution_count": 78,
=======
   "execution_count": 241,
   "metadata": {
    "scrolled": true
   },
   "outputs": [],
   "source": [
    "# number of nodes equal to number of unique airport\n",
    "n_nodes = len(port)\n",
    "adj_matrix = np.zeros([n_nodes, n_nodes])\n",
    "#start = time.clock()\n",
    "# looping time is 1.47s\n",
    "for i in range(len(resultidx)):\n",
    "    adj_matrix[resultidx.S_index[i]][resultidx.D_index[i]] = resultidx.counts[i] \n",
    "#end = time.clock()\n",
    "#print(end-start)"
   ]
  },
  {
   "cell_type": "code",
   "execution_count": 174,
>>>>>>> YF
   "metadata": {},
   "outputs": [
    {
     "data": {
      "text/plain": [
       "66511.0"
      ]
     },
     "execution_count": 174,
     "metadata": {},
     "output_type": "execute_result"
    }
   ],
   "source": [
<<<<<<< HEAD
    "# Your code here\n",
    "adjacency = np.zeros([3287, 3287]) # the adjacency matrix\n",
    "port_index = np.array(port) # array containing airpot strings\n",
    "for s, d in np.array(route_active[['S_Port', 'D_Port']]) : # iterate over the S_Port and the D_Port\n",
    "    adjacency[np.where(port_index==s)[0], np.where(port_index==d)[0]]  += 1;\n",
    "    \n",
    "n_nodes = 3287# the number of nodes in the network"
=======
    "adj_matrix.sum()"
>>>>>>> YF
   ]
  },
  {
   "cell_type": "markdown",
   "metadata": {},
   "source": [
    "## Part 2"
   ]
  },
  {
   "cell_type": "markdown",
   "metadata": {},
   "source": [
    "Execute the cell below to plot the (weighted) adjacency matrix of your network."
   ]
  },
  {
   "cell_type": "code",
<<<<<<< HEAD
   "execution_count": 79,
=======
   "execution_count": 242,
>>>>>>> YF
   "metadata": {},
   "outputs": [
    {
     "data": {
      "text/plain": [
       "Text(0.5,1.05,'adjacency matrix')"
      ]
     },
<<<<<<< HEAD
     "execution_count": 79,
=======
     "execution_count": 242,
>>>>>>> YF
     "metadata": {},
     "output_type": "execute_result"
    },
    {
     "data": {
<<<<<<< HEAD
      "image/png": "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\n",
=======
      "image/png": "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\n",
>>>>>>> YF
      "text/plain": [
       "<Figure size 432x288 with 1 Axes>"
      ]
     },
     "metadata": {},
     "output_type": "display_data"
    }
   ],
   "source": [
    "#plot the adjacency matrix\n",
    "# Warning: this plot does not show the weights of every links\n",
    "plt.spy(adj_matrix, markersize=1)\n",
    "plt.title('adjacency matrix')"
   ]
  },
  {
   "cell_type": "markdown",
   "metadata": {},
   "source": [
    "## 1 - 5: WANG Yunbei"
   ]
  },
  {
   "cell_type": "markdown",
   "metadata": {},
   "source": [
    "### Question 1\n",
    "\n",
    "What is the maximum number of links $L_{max}$ in a network with $N$ nodes (where $N$ is the number of nodes in your network)? How many links $L$ are there in your collected network? Comment on the sparsity of your network."
   ]
  },
  {
   "cell_type": "code",
   "execution_count": 81,
   "metadata": {},
   "outputs": [
    {
     "data": {
      "text/plain": [
       "66511.0"
      ]
     },
     "execution_count": 81,
     "metadata": {},
     "output_type": "execute_result"
    }
   ],
   "source": [
    "# Your code here.\n",
    "L = np.sum(adjacency);\n",
    "L"
   ]
  },
  {
   "cell_type": "markdown",
   "metadata": {},
   "source": [
    "**Your answer here.**"
   ]
  },
  {
   "cell_type": "markdown",
   "metadata": {},
   "source": [
    "### Question 2\n",
    "\n",
    "Is your graph directed or undirected? If it is directed, convert it to an undirected graph by symmetrizing the adjacency matrix."
   ]
  },
  {
   "cell_type": "markdown",
   "metadata": {},
   "source": [
    "**Your answer here.**"
   ]
  },
  {
   "cell_type": "code",
   "execution_count": null,
   "metadata": {},
   "outputs": [],
   "source": [
    "# Your code here.\n"
   ]
  },
  {
   "cell_type": "markdown",
   "metadata": {},
   "source": [
    "### Question 3\n",
    "\n",
    "In the cell below save the features dataframe and the **symmetrized** adjacency matrix. You can use the Pandas ``to_csv`` to save the ``features`` and Numpy's ``save`` to save the ``adjacency``. We will reuse those in the following milestones."
   ]
  },
  {
   "cell_type": "code",
   "execution_count": null,
   "metadata": {},
   "outputs": [],
   "source": [
    "# Your code here."
   ]
  },
  {
   "cell_type": "markdown",
   "metadata": {},
   "source": [
    "### Question 4\n",
    "\n",
    "Are the edges of your graph weighted?"
   ]
  },
  {
   "cell_type": "markdown",
   "metadata": {},
   "source": [
    "**Your answer here.**"
   ]
  },
  {
   "cell_type": "markdown",
   "metadata": {},
   "source": [
    "### Question 5\n",
    "\n",
    "What is the degree distibution of your network? "
   ]
  },
  {
   "cell_type": "code",
   "execution_count": null,
   "metadata": {},
   "outputs": [],
   "source": [
    "degree =  # Your code here. It should be a numpy array.\n",
    "\n",
    "assert len(degree) == n_nodes"
   ]
  },
  {
   "cell_type": "markdown",
   "metadata": {},
   "source": [
    "Execute the cell below to see the histogram of the degree distribution."
   ]
  },
  {
   "cell_type": "code",
   "execution_count": null,
   "metadata": {},
   "outputs": [],
   "source": [
    "weights = np.ones_like(degree) / float(n_nodes)\n",
    "plt.hist(degree, weights=weights);"
   ]
  },
  {
   "cell_type": "markdown",
   "metadata": {},
   "source": [
    "What is the average degree?"
   ]
  },
  {
   "cell_type": "code",
   "execution_count": 64,
   "metadata": {},
   "outputs": [],
   "source": [
    "# Your code here."
   ]
  },
  {
   "cell_type": "markdown",
   "metadata": {},
   "source": [
    "## 6 - 8: FU Yan"
   ]
  },
  {
   "cell_type": "markdown",
   "metadata": {},
   "source": [
    "### Question 6\n",
    "\n",
    "Comment on the degree distribution of your network."
   ]
  },
  {
   "cell_type": "markdown",
   "metadata": {},
   "source": [
    "**Your answer here.**"
   ]
  },
  {
   "cell_type": "markdown",
   "metadata": {},
   "source": [
    "### Question 7\n",
    "\n",
    "Write a function that takes as input the adjacency matrix of a graph and determines whether the graph is connected or not."
   ]
  },
  {
   "cell_type": "code",
   "execution_count": null,
   "metadata": {},
   "outputs": [],
   "source": [
    "def connected_graph(adjacency):\n",
    "    \"\"\"Determines whether a graph is connected.\n",
    "    \n",
    "    Parameters\n",
    "    ----------\n",
    "    adjacency: numpy array\n",
    "        The (weighted) adjacency matrix of a graph.\n",
    "    \n",
    "    Returns\n",
    "    -------\n",
    "    bool\n",
    "        True if the graph is connected, False otherwise.\n",
    "    \"\"\"\n",
    "    \n",
    "    # Your code here.\n",
    "    \n",
    "    return connected"
   ]
  },
  {
   "cell_type": "markdown",
   "metadata": {},
   "source": [
    "Is your graph connected? Run the ``connected_graph`` function to determine your answer."
   ]
  },
  {
   "cell_type": "code",
   "execution_count": null,
   "metadata": {},
   "outputs": [],
   "source": [
    "# Your code here."
   ]
  },
  {
   "cell_type": "markdown",
   "metadata": {},
   "source": [
    "### Question 8\n",
    "\n",
    "Write a function that extracts the connected components of a graph."
   ]
  },
  {
   "cell_type": "code",
   "execution_count": null,
   "metadata": {},
   "outputs": [],
   "source": [
    "def find_components(adjacency):\n",
    "    \"\"\"Find the connected components of a graph.\n",
    "    \n",
    "    Parameters\n",
    "    ----------\n",
    "    adjacency: numpy array\n",
    "        The (weighted) adjacency matrix of a graph.\n",
    "    \n",
    "    Returns\n",
    "    -------\n",
    "    list of numpy arrays\n",
    "        A list of adjacency matrices, one per connected component.\n",
    "    \"\"\"\n",
    "    \n",
    "    # Your code here.\n",
    "    \n",
    "    return components"
   ]
  },
  {
   "cell_type": "markdown",
   "metadata": {},
   "source": [
    "How many connected components is your network composed of? What is the size of the largest connected component? Run the ``find_components`` function to determine your answer. "
   ]
  },
  {
   "cell_type": "code",
   "execution_count": null,
   "metadata": {},
   "outputs": [],
   "source": [
    "# Your code here."
   ]
  },
  {
   "cell_type": "markdown",
   "metadata": {},
   "source": [
    "## 9 - 10: FENG Wentao"
   ]
  },
  {
   "cell_type": "markdown",
   "metadata": {},
   "source": [
    "### Question 9\n",
    "\n",
    "Write a function that takes as input the adjacency matrix and a node (`source`) and returns the length of the shortest path between that node and all nodes in the graph using Dijkstra's algorithm. **For the purposes of this assignment we are interested in the hop distance between nodes, not in the sum of weights. **\n",
    "\n",
    "Hint: You might want to mask the adjacency matrix in the function ``compute_shortest_path_lengths`` in order to make sure you obtain a binary adjacency matrix. "
   ]
  },
  {
   "cell_type": "code",
   "execution_count": null,
   "metadata": {},
   "outputs": [],
   "source": [
    "def compute_shortest_path_lengths(adjacency, source):\n",
    "    \"\"\"Compute the shortest path length between a source node and all nodes.\n",
    "    \n",
    "    Parameters\n",
    "    ----------\n",
    "    adjacency: numpy array\n",
    "        The (weighted) adjacency matrix of a graph.\n",
    "    source: int\n",
    "        The source node. A number between 0 and n_nodes-1.\n",
    "    \n",
    "    Returns\n",
    "    -------\n",
    "    list of ints\n",
    "        The length of the shortest path from source to all nodes. Returned list should be of length n_nodes.\n",
    "    \"\"\"\n",
    "    \n",
    "    # Your code here.\n",
    "    \n",
    "    ## mycode\n",
    "    \n",
    "    return shortest_path_lengths"
   ]
  },
  {
   "cell_type": "markdown",
   "metadata": {},
   "source": [
    "### Question 10\n",
    "\n",
    "The diameter of the graph is the length of the longest shortest path between any pair of nodes. Use the above developed function to compute the diameter of the graph (or the diameter of the largest connected component of the graph if the graph is not connected). If your graph (or largest connected component) is very large, computing the diameter will take very long. In that case downsample your graph so that it has 1.000 nodes. There are many ways to reduce the size of a graph. For the purposes of this milestone you can chose to randomly select 1.000 nodes. "
   ]
  },
  {
   "cell_type": "code",
   "execution_count": null,
   "metadata": {},
   "outputs": [],
   "source": [
    "# Your code here."
   ]
  },
  {
   "cell_type": "markdown",
   "metadata": {},
   "source": [
    "## 11 - 13: SUN Zhaodong"
   ]
  },
  {
   "cell_type": "markdown",
   "metadata": {},
   "source": [
    "### Question 11\n",
    "\n",
    "Write a function that takes as input the adjacency matrix, a path length, and two nodes (`source` and `target`), and returns the number of paths of the given length between them."
   ]
  },
  {
   "cell_type": "code",
   "execution_count": null,
   "metadata": {},
   "outputs": [],
   "source": [
    "def compute_paths(adjacency, source, target, length):\n",
    "    \"\"\"Compute the number of paths of a given length between a source and target node.\n",
    "    \n",
    "    Parameters\n",
    "    ----------\n",
    "    adjacency: numpy array\n",
    "        The (weighted) adjacency matrix of a graph.\n",
    "    source: int\n",
    "        The source node. A number between 0 and n_nodes-1.\n",
    "    target: int\n",
    "        The target node. A number between 0 and n_nodes-1.\n",
    "    length: int\n",
    "        The path length to be considered.\n",
    "    \n",
    "    Returns\n",
    "    -------\n",
    "    int\n",
    "        The number of paths.\n",
    "    \"\"\"\n",
    "    \n",
    "    # Your code here.\n",
    "    \n",
    "    return n_paths"
   ]
  },
  {
   "cell_type": "markdown",
   "metadata": {},
   "source": [
    "Test your function on 5 pairs of nodes, with different lengths."
   ]
  },
  {
   "cell_type": "code",
   "execution_count": null,
   "metadata": {},
   "outputs": [],
   "source": [
    "print(compute_paths(adjacency, 0, 10, 1))\n",
    "print(compute_paths(adjacency, 0, 10, 2))\n",
    "print(compute_paths(adjacency, 0, 10, 3))\n",
    "print(compute_paths(adjacency, 23, 67, 2))\n",
    "print(compute_paths(adjacency, 15, 93, 4))"
   ]
  },
  {
   "cell_type": "markdown",
   "metadata": {},
   "source": [
    "### Question 12\n",
    "\n",
    "How many paths of length 3 are there in your graph? Hint: calling the `compute_paths` function on every pair of node is not an efficient way to do it."
   ]
  },
  {
   "cell_type": "code",
   "execution_count": null,
   "metadata": {},
   "outputs": [],
   "source": [
    "# Your code here."
   ]
  },
  {
   "cell_type": "markdown",
   "metadata": {},
   "source": [
    "### Question 13\n",
    "\n",
    "Write a function that takes as input the adjacency matrix of your graph (or of the largest connected component of your graph) and a node and returns the clustering coefficient of that node. "
   ]
  },
  {
   "cell_type": "code",
   "execution_count": null,
   "metadata": {},
   "outputs": [],
   "source": [
    "def compute_clustering_coefficient(adjacency, node):\n",
    "    \"\"\"Compute the clustering coefficient of a node.\n",
    "    \n",
    "    Parameters\n",
    "    ----------\n",
    "    adjacency: numpy array\n",
    "        The (weighted) adjacency matrix of a graph.\n",
    "    node: int\n",
    "        The node whose clustering coefficient will be computed. A number between 0 and n_nodes-1.\n",
    "    \n",
    "    Returns\n",
    "    -------\n",
    "    float\n",
    "        The clustering coefficient of the node. A number between 0 and 1.\n",
    "    \"\"\"\n",
    "    \n",
    "    # Your code here.\n",
    "    \n",
    "    return clustering_coefficient"
   ]
  },
  {
   "cell_type": "markdown",
   "metadata": {},
   "source": [
    "### Question 14\n",
    "\n",
    "What is the average clustering coefficient of your graph (or of the largest connected component of your graph if your graph is disconnected)? Use the function ``compute_clustering_coefficient`` to determine your answer."
   ]
  },
  {
   "cell_type": "code",
   "execution_count": null,
   "metadata": {},
   "outputs": [],
   "source": [
    "# Your code here."
   ]
  }
 ],
 "metadata": {
  "kernelspec": {
   "display_name": "Python 3",
   "language": "python",
   "name": "python3"
  },
  "language_info": {
   "codemirror_mode": {
    "name": "ipython",
    "version": 3
   },
   "file_extension": ".py",
   "mimetype": "text/x-python",
   "name": "python",
   "nbconvert_exporter": "python",
   "pygments_lexer": "ipython3",
   "version": "3.6.5"
  }
 },
 "nbformat": 4,
 "nbformat_minor": 2
}
