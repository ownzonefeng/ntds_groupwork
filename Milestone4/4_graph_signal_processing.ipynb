{
 "cells": [
  {
   "cell_type": "markdown",
   "metadata": {},
   "source": [
    "# [NTDS'18] milestone 4: graph signal processing\n",
    "[ntds'18]: https://github.com/mdeff/ntds_2018\n",
    "\n",
    "[Rodrigo Pena](https://people.epfl.ch/254838), [EPFL LTS2](http://lts2.epfl.ch)"
   ]
  },
  {
   "cell_type": "markdown",
   "metadata": {},
   "source": [
    "## Students\n",
    "\n",
    "* Team: `<05>`\n",
    "* Students: `<Wentao Feng, Yunbei Wang, Yan Fu, Zhaodong Sun>`\n",
    "* Dataset: `<Flight route>`"
   ]
  },
  {
   "cell_type": "markdown",
   "metadata": {},
   "source": [
    "## Rules\n",
    "\n",
    "* Milestones have to be completed by teams. No collaboration between teams is allowed.\n",
    "* Textual answers shall be short. Typically one to two sentences.\n",
    "* Code has to be clean.\n",
    "* You cannot import any other library than we imported.\n",
    "* When submitting, the notebook is executed and the results are stored. I.e., if you open the notebook again it should show numerical results and plots. We won't be able to execute your notebooks.\n",
    "* The notebook is re-executed from a blank state before submission. That is to be sure it is reproducible. You can click \"Kernel\" then \"Restart & Run All\" in Jupyter."
   ]
  },
  {
   "cell_type": "markdown",
   "metadata": {},
   "source": [
    "## Objective\n",
    "\n",
    "The goal of this milestone is to do some Graph Signal Processing (GSP) on the data of your project.\n",
    "\n",
    "### A note about plotting\n",
    "\n",
    "There are several questions in this milestone that ask you to plot a signal on your network.\n",
    "There are several ways from which you could approach it.\n",
    "In all cases, compute the position of the nodes a single time at the beginning, as this is likely to be a costly operation.\n",
    "Using a single layout for all the graph plots will also make it easier to compare the plots.\n",
    "Indeed, the only thing changing between plots is the signal displayed.\n",
    "You can represent the features/labels lying on the graph via node **colors**.\n",
    "To do so, make sure to have a consistent color map throughout and remember to display a colorbar and scale in all plots, so that we can tell what numbers the colors represent.\n",
    "\n",
    "* An option is to use the **Laplacian eigenmaps** that you have seen in the previous milestone to embed your graph on the plane. For example:\n",
    "  ```\n",
    "  from matplotlib import pyplot as plt\n",
    "  plt.scatter(eigenvectors[:, 1], eigenvectors[:, 2], c=signal, alpha=0.5)\n",
    "  plt.colorbar()\n",
    "  ```\n",
    "* Another option is to use the plotting capabilities of **[NetworkX](https://networkx.github.io)**.\n",
    "  See the documentation of its [drawing methods](https://networkx.github.io/documentation/stable/reference/drawing.html).\n",
    "  For example:\n",
    "  ```\n",
    "  import networkx as nx\n",
    "  graph = nx.from_scipy_sparse_matrix(adjacency)\n",
    "  coords = nx.spring_layout(graph)  # Force-directed layout.\n",
    "  coords = eigenvectors[:, 1:3]  # Laplacian eigenmaps.\n",
    "  nx.draw_networkx_nodes(graph, coords, node_size=60, node_color=signal)\n",
    "  nx.draw_networkx_edges(graph, coords, alpha=0.3)\n",
    "  ```\n",
    "* Another option is to use the plotting capabilities of the **[PyGSP](https://github.com/epfl-lts2/pygsp)**, a Python package for Graph Signal Processing.\n",
    "  **Note that your are forbidden to use the PyGSP for anything else than plotting.**\n",
    "  See the documentation of its [plotting utilities](https://pygsp.readthedocs.io/en/stable/reference/plotting.html).\n",
    "  For example:\n",
    "  ```\n",
    "  import pygsp as pg\n",
    "  graph = pg.graphs.Graph(adjacency)\n",
    "  graph.set_coordinates('spring')  # Force-directed layout.\n",
    "  graph.set_coordinates(eigenvectors[:, 1:3])  # Laplacian eigenmaps.\n",
    "  graph.plot_signal(signal)\n",
    "  ```\n",
    "* Yet another option is to save your graph on disk, use **[Gephi](https://gephi.org)** externally, to visualize the graph, save the graph with the Gephi coordinates and finally load the nodes coordinates back into the notebook.\n",
    "\n",
    "We encourage you to try all the above methods before making your choice. Then be consistent and use only one throughout the milestone.\n",
    "NetworkX and PyGSP should already be installed in your environement. If that's not the case, install with `conda install networkx pygsp` (after activating the `ntds_2018` environment)."
   ]
  },
  {
   "cell_type": "markdown",
   "metadata": {},
   "source": [
    "## 0 - Load your network"
   ]
  },
  {
   "cell_type": "code",
   "execution_count": 2,
   "metadata": {},
   "outputs": [],
   "source": [
    "%matplotlib inline"
   ]
  },
  {
   "cell_type": "markdown",
   "metadata": {},
   "source": [
    "If you get a `No module named 'pyunlocbox'` error when running the below cell, install the [pyunlocbox](https://github.com/epfl-lts2/pyunlocbox) with `conda install pyunlocbox` (after activating the `ntds_2018` environment)."
   ]
  },
  {
   "cell_type": "code",
   "execution_count": 3,
   "metadata": {},
   "outputs": [],
   "source": [
    "import numpy as np\n",
    "from scipy import sparse\n",
    "import scipy.sparse.linalg\n",
    "from matplotlib import pyplot as plt\n",
    "from pyunlocbox import functions, solvers\n",
    "import networkx as nx\n",
    "import pygsp as pg"
   ]
  },
  {
   "cell_type": "markdown",
   "metadata": {},
   "source": [
    "For this milestone, all we will need is a set of features/labels for each of the nodes on the network, as well as the Laplacian, $L,$ and Gradient, $\\nabla_G,$ matrices that you have computed for your network while working on milestone 3.\n",
    "\n",
    "Import those objects in the cell below (or recompute the Laplacian and Gradient from your stored adjacency matrix, if you wish).\n",
    "\n",
    "_Note_: If your features/labels are not floating-point numbers, please convert them. For example, if your data has labels \"cat\" and \"dog\" for nodes that represent cats or dogs, respectively, you may assign the number `1.0` for the label \"cat\" and the number `-1.0` for the label \"dog\".  "
   ]
  },
  {
   "cell_type": "code",
   "execution_count": 4,
   "metadata": {},
   "outputs": [],
   "source": [
    "adjacency =  np.load('symm_adj.npy')\n",
    "weighted_adj = np.load('weighted_adj.npy')\n",
    "W = weighted_adj + weighted_adj.T"
   ]
  },
  {
   "cell_type": "code",
   "execution_count": 5,
   "metadata": {},
   "outputs": [],
   "source": [
    "idx_GC = np.load(\"idx_largest_component.npy\")\n",
    "GC = adjacency[idx_GC, :]\n",
    "GC = GC[:, idx_GC]"
   ]
  },
  {
   "cell_type": "code",
   "execution_count": 6,
   "metadata": {},
   "outputs": [],
   "source": [
    "mygraph = nx.from_numpy_array(GC);"
   ]
  },
  {
   "cell_type": "code",
   "execution_count": 44,
   "metadata": {},
   "outputs": [],
   "source": [
    "#laplacian = laplacian_normalized# Your code here.\n",
    "laplacian = nx.laplacian_matrix(mygraph).todense();\n",
    "gradient = nx.incidence_matrix(mygraph).todense().T# Your code here. ?S.T @ x\n",
    "labels = np.load(\"longtitude.npy\")# Your code here.s\n",
    "labels[labels>0] = 1;\n",
    "labels[labels<0] = -1;\n",
    "n_nodes = GC.shape[0]# Your code here.\n",
    "labels = np.reshape(labels, [-1, 1])"
   ]
  },
  {
   "cell_type": "code",
   "execution_count": 15,
   "metadata": {},
   "outputs": [],
   "source": [
    "labeld = {key:int(labels[key]) for key in range(n_nodes)}\n",
    "\n",
    "hd = np.load(\"heat_denoise.npy\");\n",
    "hd[hd>=0] = 1;\n",
    "hd[hd<0] = -1;\n",
    "hdd = {key:int(hd[key]) for key in range(n_nodes)}\n",
    "\n",
    "id_ = np.load(\"inverse_denoise.npy\");\n",
    "id_[id_>=0] = 1;\n",
    "id_[id_<0] = -1;\n",
    "idd = {key:int(id_[key]) for key in range(n_nodes)}\n",
    "\n",
    "rd = np.load(\"rec_denoise.npy\");\n",
    "rd[rd>=0] = 1;\n",
    "rd[rd<0] = -1;\n",
    "rdd = {key:int(rd[key]) for key in range(n_nodes)}"
   ]
  },
  {
   "cell_type": "code",
   "execution_count": 16,
   "metadata": {},
   "outputs": [],
   "source": [
    "nx.set_node_attributes(mygraph, labeld, 'labelll')\n",
    "nx.set_node_attributes(mygraph, hdd, 'heat_denoise')\n",
    "nx.set_node_attributes(mygraph, idd, 'inverse_denoise')\n",
    "nx.set_node_attributes(mygraph, rdd, 'rec_denoise')"
   ]
  },
  {
   "cell_type": "code",
   "execution_count": 17,
   "metadata": {},
   "outputs": [],
   "source": [
    "nx.write_gexf(mygraph,'mygraph.gexf')"
   ]
  },
  {
   "cell_type": "code",
   "execution_count": 18,
   "metadata": {},
   "outputs": [
    {
     "data": {
      "text/plain": [
       "{'label': -1,\n",
       " 'heat_denoise': -1,\n",
       " 'inverse_denoise': -1,\n",
       " 'rec_denoise': -1,\n",
       " 'labelll': -1}"
      ]
     },
     "execution_count": 18,
     "metadata": {},
     "output_type": "execute_result"
    }
   ],
   "source": [
    "mygraph.node[156]"
   ]
  },
  {
   "cell_type": "code",
   "execution_count": 19,
   "metadata": {},
   "outputs": [
    {
     "data": {
      "text/plain": [
       "0.5020795905802808"
      ]
     },
     "execution_count": 19,
     "metadata": {},
     "output_type": "execute_result"
    }
   ],
   "source": [
    "np.mean(labels!=hd)"
   ]
  },
  {
   "cell_type": "code",
   "execution_count": 20,
   "metadata": {},
   "outputs": [
    {
     "data": {
      "text/plain": [
       "0.5020795905802808"
      ]
     },
     "execution_count": 20,
     "metadata": {},
     "output_type": "execute_result"
    }
   ],
   "source": [
    "np.mean(labels!=id_)"
   ]
  },
  {
   "cell_type": "code",
   "execution_count": 21,
   "metadata": {},
   "outputs": [
    {
     "data": {
      "text/plain": [
       "0.4997536503111124"
      ]
     },
     "execution_count": 21,
     "metadata": {},
     "output_type": "execute_result"
    }
   ],
   "source": [
    "np.mean(labels!=rd)"
   ]
  },
  {
   "cell_type": "markdown",
   "metadata": {},
   "source": [
    "## 1 - Graph Fourier Transform\n",
    "\n",
    "In this section we will observe how your feature/label vector looks like in the \"Graph Fourier\" domain."
   ]
  },
  {
   "cell_type": "markdown",
   "metadata": {
    "inputHidden": false,
    "outputHidden": false
   },
   "source": [
    "### Question 1\n",
    "\n",
    "Compute the Fourier basis vectors and the Laplacian eigenvalues. Make sure to order those from smaller to larger, $\\lambda_0 \\leq \\lambda_1 \\leq \\dots \\leq \\lambda_{N-1},$ and use the same ordering for the Fourier basis vectors."
   ]
  },
  {
   "cell_type": "code",
   "execution_count": 22,
   "metadata": {
    "inputHidden": false,
    "outputHidden": false
   },
   "outputs": [],
   "source": [
    "e, U = np.linalg.eigh(laplacian)\n",
    "#e = # Ordered Laplacian eigenvalues.\n",
    "#U = # Ordered graph Fourier basis."
   ]
  },
  {
   "cell_type": "markdown",
   "metadata": {},
   "source": [
    "Plot the first 3 and the last Fourier basis vectors as signals on your graph. Clearly indicate which plot belongs to which basis vector."
   ]
  },
  {
   "cell_type": "code",
   "execution_count": 47,
   "metadata": {},
   "outputs": [
    {
     "ename": "ValueError",
     "evalue": "'c' argument has 3259 elements, which is not acceptable for use with 'x' with size 3259, 'y' with size 3259.",
     "output_type": "error",
     "traceback": [
      "\u001b[1;31m---------------------------------------------------------------------------\u001b[0m",
      "\u001b[1;31mTypeError\u001b[0m                                 Traceback (most recent call last)",
      "\u001b[1;32mc:\\users\\67009\\appdata\\local\\programs\\python\\python36\\lib\\site-packages\\matplotlib\\colors.py\u001b[0m in \u001b[0;36mto_rgba\u001b[1;34m(c, alpha)\u001b[0m\n\u001b[0;32m    157\u001b[0m     \u001b[1;32mtry\u001b[0m\u001b[1;33m:\u001b[0m\u001b[1;33m\u001b[0m\u001b[0m\n\u001b[1;32m--> 158\u001b[1;33m         \u001b[0mrgba\u001b[0m \u001b[1;33m=\u001b[0m \u001b[0m_colors_full_map\u001b[0m\u001b[1;33m.\u001b[0m\u001b[0mcache\u001b[0m\u001b[1;33m[\u001b[0m\u001b[0mc\u001b[0m\u001b[1;33m,\u001b[0m \u001b[0malpha\u001b[0m\u001b[1;33m]\u001b[0m\u001b[1;33m\u001b[0m\u001b[0m\n\u001b[0m\u001b[0;32m    159\u001b[0m     \u001b[1;32mexcept\u001b[0m \u001b[1;33m(\u001b[0m\u001b[0mKeyError\u001b[0m\u001b[1;33m,\u001b[0m \u001b[0mTypeError\u001b[0m\u001b[1;33m)\u001b[0m\u001b[1;33m:\u001b[0m  \u001b[1;31m# Not in cache, or unhashable.\u001b[0m\u001b[1;33m\u001b[0m\u001b[0m\n",
      "\u001b[1;31mTypeError\u001b[0m: unhashable type: 'numpy.ndarray'",
      "\nDuring handling of the above exception, another exception occurred:\n",
      "\u001b[1;31mValueError\u001b[0m                                Traceback (most recent call last)",
      "\u001b[1;32mc:\\users\\67009\\appdata\\local\\programs\\python\\python36\\lib\\site-packages\\matplotlib\\axes\\_axes.py\u001b[0m in \u001b[0;36mscatter\u001b[1;34m(self, x, y, s, c, marker, cmap, norm, vmin, vmax, alpha, linewidths, verts, edgecolors, **kwargs)\u001b[0m\n\u001b[0;32m   4209\u001b[0m             \u001b[1;32mtry\u001b[0m\u001b[1;33m:\u001b[0m  \u001b[1;31m# Then is 'c' acceptable as PathCollection facecolors?\u001b[0m\u001b[1;33m\u001b[0m\u001b[0m\n\u001b[1;32m-> 4210\u001b[1;33m                 \u001b[0mcolors\u001b[0m \u001b[1;33m=\u001b[0m \u001b[0mmcolors\u001b[0m\u001b[1;33m.\u001b[0m\u001b[0mto_rgba_array\u001b[0m\u001b[1;33m(\u001b[0m\u001b[0mc\u001b[0m\u001b[1;33m)\u001b[0m\u001b[1;33m\u001b[0m\u001b[0m\n\u001b[0m\u001b[0;32m   4211\u001b[0m                 \u001b[0mn_elem\u001b[0m \u001b[1;33m=\u001b[0m \u001b[0mcolors\u001b[0m\u001b[1;33m.\u001b[0m\u001b[0mshape\u001b[0m\u001b[1;33m[\u001b[0m\u001b[1;36m0\u001b[0m\u001b[1;33m]\u001b[0m\u001b[1;33m\u001b[0m\u001b[0m\n",
      "\u001b[1;32mc:\\users\\67009\\appdata\\local\\programs\\python\\python36\\lib\\site-packages\\matplotlib\\colors.py\u001b[0m in \u001b[0;36mto_rgba_array\u001b[1;34m(c, alpha)\u001b[0m\n\u001b[0;32m    258\u001b[0m     \u001b[1;32mfor\u001b[0m \u001b[0mi\u001b[0m\u001b[1;33m,\u001b[0m \u001b[0mcc\u001b[0m \u001b[1;32min\u001b[0m \u001b[0menumerate\u001b[0m\u001b[1;33m(\u001b[0m\u001b[0mc\u001b[0m\u001b[1;33m)\u001b[0m\u001b[1;33m:\u001b[0m\u001b[1;33m\u001b[0m\u001b[0m\n\u001b[1;32m--> 259\u001b[1;33m         \u001b[0mresult\u001b[0m\u001b[1;33m[\u001b[0m\u001b[0mi\u001b[0m\u001b[1;33m]\u001b[0m \u001b[1;33m=\u001b[0m \u001b[0mto_rgba\u001b[0m\u001b[1;33m(\u001b[0m\u001b[0mcc\u001b[0m\u001b[1;33m,\u001b[0m \u001b[0malpha\u001b[0m\u001b[1;33m)\u001b[0m\u001b[1;33m\u001b[0m\u001b[0m\n\u001b[0m\u001b[0;32m    260\u001b[0m     \u001b[1;32mreturn\u001b[0m \u001b[0mresult\u001b[0m\u001b[1;33m\u001b[0m\u001b[0m\n",
      "\u001b[1;32mc:\\users\\67009\\appdata\\local\\programs\\python\\python36\\lib\\site-packages\\matplotlib\\colors.py\u001b[0m in \u001b[0;36mto_rgba\u001b[1;34m(c, alpha)\u001b[0m\n\u001b[0;32m    159\u001b[0m     \u001b[1;32mexcept\u001b[0m \u001b[1;33m(\u001b[0m\u001b[0mKeyError\u001b[0m\u001b[1;33m,\u001b[0m \u001b[0mTypeError\u001b[0m\u001b[1;33m)\u001b[0m\u001b[1;33m:\u001b[0m  \u001b[1;31m# Not in cache, or unhashable.\u001b[0m\u001b[1;33m\u001b[0m\u001b[0m\n\u001b[1;32m--> 160\u001b[1;33m         \u001b[0mrgba\u001b[0m \u001b[1;33m=\u001b[0m \u001b[0m_to_rgba_no_colorcycle\u001b[0m\u001b[1;33m(\u001b[0m\u001b[0mc\u001b[0m\u001b[1;33m,\u001b[0m \u001b[0malpha\u001b[0m\u001b[1;33m)\u001b[0m\u001b[1;33m\u001b[0m\u001b[0m\n\u001b[0m\u001b[0;32m    161\u001b[0m         \u001b[1;32mtry\u001b[0m\u001b[1;33m:\u001b[0m\u001b[1;33m\u001b[0m\u001b[0m\n",
      "\u001b[1;32mc:\\users\\67009\\appdata\\local\\programs\\python\\python36\\lib\\site-packages\\matplotlib\\colors.py\u001b[0m in \u001b[0;36m_to_rgba_no_colorcycle\u001b[1;34m(c, alpha)\u001b[0m\n\u001b[0;32m    214\u001b[0m     \u001b[1;32mif\u001b[0m \u001b[0mlen\u001b[0m\u001b[1;33m(\u001b[0m\u001b[0mc\u001b[0m\u001b[1;33m)\u001b[0m \u001b[1;32mnot\u001b[0m \u001b[1;32min\u001b[0m \u001b[1;33m[\u001b[0m\u001b[1;36m3\u001b[0m\u001b[1;33m,\u001b[0m \u001b[1;36m4\u001b[0m\u001b[1;33m]\u001b[0m\u001b[1;33m:\u001b[0m\u001b[1;33m\u001b[0m\u001b[0m\n\u001b[1;32m--> 215\u001b[1;33m         \u001b[1;32mraise\u001b[0m \u001b[0mValueError\u001b[0m\u001b[1;33m(\u001b[0m\u001b[1;34m\"RGBA sequence should have length 3 or 4\"\u001b[0m\u001b[1;33m)\u001b[0m\u001b[1;33m\u001b[0m\u001b[0m\n\u001b[0m\u001b[0;32m    216\u001b[0m     \u001b[1;32mif\u001b[0m \u001b[0mlen\u001b[0m\u001b[1;33m(\u001b[0m\u001b[0mc\u001b[0m\u001b[1;33m)\u001b[0m \u001b[1;33m==\u001b[0m \u001b[1;36m3\u001b[0m \u001b[1;32mand\u001b[0m \u001b[0malpha\u001b[0m \u001b[1;32mis\u001b[0m \u001b[1;32mNone\u001b[0m\u001b[1;33m:\u001b[0m\u001b[1;33m\u001b[0m\u001b[0m\n",
      "\u001b[1;31mValueError\u001b[0m: RGBA sequence should have length 3 or 4",
      "\nDuring handling of the above exception, another exception occurred:\n",
      "\u001b[1;31mValueError\u001b[0m                                Traceback (most recent call last)",
      "\u001b[1;32m<ipython-input-47-7b355e685655>\u001b[0m in \u001b[0;36m<module>\u001b[1;34m\u001b[0m\n\u001b[0;32m      1\u001b[0m \u001b[0mu_k\u001b[0m \u001b[1;33m=\u001b[0m \u001b[0mnp\u001b[0m\u001b[1;33m.\u001b[0m\u001b[0mround\u001b[0m\u001b[1;33m(\u001b[0m\u001b[0mU\u001b[0m\u001b[1;33m[\u001b[0m\u001b[1;33m:\u001b[0m\u001b[1;33m,\u001b[0m\u001b[1;36m0\u001b[0m\u001b[1;33m]\u001b[0m\u001b[1;33m,\u001b[0m\u001b[1;36m2\u001b[0m\u001b[1;33m)\u001b[0m\u001b[1;33m\u001b[0m\u001b[0m\n\u001b[1;32m----> 2\u001b[1;33m \u001b[0mnx\u001b[0m\u001b[1;33m.\u001b[0m\u001b[0mdraw\u001b[0m\u001b[1;33m(\u001b[0m\u001b[0mmygraph\u001b[0m\u001b[1;33m,\u001b[0m \u001b[0mpos\u001b[0m\u001b[1;33m=\u001b[0m\u001b[0mnx\u001b[0m\u001b[1;33m.\u001b[0m\u001b[0mspring_layout\u001b[0m\u001b[1;33m(\u001b[0m\u001b[0mmygraph\u001b[0m\u001b[1;33m)\u001b[0m\u001b[1;33m,\u001b[0m \u001b[0mnode_color\u001b[0m\u001b[1;33m=\u001b[0m\u001b[0mu_k\u001b[0m\u001b[1;33m)\u001b[0m\u001b[1;33m\u001b[0m\u001b[0m\n\u001b[0m",
      "\u001b[1;32mc:\\users\\67009\\appdata\\local\\programs\\python\\python36\\lib\\site-packages\\networkx\\drawing\\nx_pylab.py\u001b[0m in \u001b[0;36mdraw\u001b[1;34m(G, pos, ax, **kwds)\u001b[0m\n\u001b[0;32m    124\u001b[0m \u001b[1;33m\u001b[0m\u001b[0m\n\u001b[0;32m    125\u001b[0m     \u001b[1;32mtry\u001b[0m\u001b[1;33m:\u001b[0m\u001b[1;33m\u001b[0m\u001b[0m\n\u001b[1;32m--> 126\u001b[1;33m         \u001b[0mdraw_networkx\u001b[0m\u001b[1;33m(\u001b[0m\u001b[0mG\u001b[0m\u001b[1;33m,\u001b[0m \u001b[0mpos\u001b[0m\u001b[1;33m=\u001b[0m\u001b[0mpos\u001b[0m\u001b[1;33m,\u001b[0m \u001b[0max\u001b[0m\u001b[1;33m=\u001b[0m\u001b[0max\u001b[0m\u001b[1;33m,\u001b[0m \u001b[1;33m**\u001b[0m\u001b[0mkwds\u001b[0m\u001b[1;33m)\u001b[0m\u001b[1;33m\u001b[0m\u001b[0m\n\u001b[0m\u001b[0;32m    127\u001b[0m         \u001b[0max\u001b[0m\u001b[1;33m.\u001b[0m\u001b[0mset_axis_off\u001b[0m\u001b[1;33m(\u001b[0m\u001b[1;33m)\u001b[0m\u001b[1;33m\u001b[0m\u001b[0m\n\u001b[0;32m    128\u001b[0m         \u001b[0mplt\u001b[0m\u001b[1;33m.\u001b[0m\u001b[0mdraw_if_interactive\u001b[0m\u001b[1;33m(\u001b[0m\u001b[1;33m)\u001b[0m\u001b[1;33m\u001b[0m\u001b[0m\n",
      "\u001b[1;32mc:\\users\\67009\\appdata\\local\\programs\\python\\python36\\lib\\site-packages\\networkx\\drawing\\nx_pylab.py\u001b[0m in \u001b[0;36mdraw_networkx\u001b[1;34m(G, pos, arrows, with_labels, **kwds)\u001b[0m\n\u001b[0;32m    275\u001b[0m         \u001b[0mpos\u001b[0m \u001b[1;33m=\u001b[0m \u001b[0mnx\u001b[0m\u001b[1;33m.\u001b[0m\u001b[0mdrawing\u001b[0m\u001b[1;33m.\u001b[0m\u001b[0mspring_layout\u001b[0m\u001b[1;33m(\u001b[0m\u001b[0mG\u001b[0m\u001b[1;33m)\u001b[0m  \u001b[1;31m# default to spring layout\u001b[0m\u001b[1;33m\u001b[0m\u001b[0m\n\u001b[0;32m    276\u001b[0m \u001b[1;33m\u001b[0m\u001b[0m\n\u001b[1;32m--> 277\u001b[1;33m     \u001b[0mnode_collection\u001b[0m \u001b[1;33m=\u001b[0m \u001b[0mdraw_networkx_nodes\u001b[0m\u001b[1;33m(\u001b[0m\u001b[0mG\u001b[0m\u001b[1;33m,\u001b[0m \u001b[0mpos\u001b[0m\u001b[1;33m,\u001b[0m \u001b[1;33m**\u001b[0m\u001b[0mkwds\u001b[0m\u001b[1;33m)\u001b[0m\u001b[1;33m\u001b[0m\u001b[0m\n\u001b[0m\u001b[0;32m    278\u001b[0m     \u001b[0medge_collection\u001b[0m \u001b[1;33m=\u001b[0m \u001b[0mdraw_networkx_edges\u001b[0m\u001b[1;33m(\u001b[0m\u001b[0mG\u001b[0m\u001b[1;33m,\u001b[0m \u001b[0mpos\u001b[0m\u001b[1;33m,\u001b[0m \u001b[0marrows\u001b[0m\u001b[1;33m=\u001b[0m\u001b[0marrows\u001b[0m\u001b[1;33m,\u001b[0m \u001b[1;33m**\u001b[0m\u001b[0mkwds\u001b[0m\u001b[1;33m)\u001b[0m\u001b[1;33m\u001b[0m\u001b[0m\n\u001b[0;32m    279\u001b[0m     \u001b[1;32mif\u001b[0m \u001b[0mwith_labels\u001b[0m\u001b[1;33m:\u001b[0m\u001b[1;33m\u001b[0m\u001b[0m\n",
      "\u001b[1;32mc:\\users\\67009\\appdata\\local\\programs\\python\\python36\\lib\\site-packages\\networkx\\drawing\\nx_pylab.py\u001b[0m in \u001b[0;36mdraw_networkx_nodes\u001b[1;34m(G, pos, nodelist, node_size, node_color, node_shape, alpha, cmap, vmin, vmax, ax, linewidths, edgecolors, label, **kwds)\u001b[0m\n\u001b[0;32m    412\u001b[0m                                  \u001b[0mlinewidths\u001b[0m\u001b[1;33m=\u001b[0m\u001b[0mlinewidths\u001b[0m\u001b[1;33m,\u001b[0m\u001b[1;33m\u001b[0m\u001b[0m\n\u001b[0;32m    413\u001b[0m                                  \u001b[0medgecolors\u001b[0m\u001b[1;33m=\u001b[0m\u001b[0medgecolors\u001b[0m\u001b[1;33m,\u001b[0m\u001b[1;33m\u001b[0m\u001b[0m\n\u001b[1;32m--> 414\u001b[1;33m                                  label=label)\n\u001b[0m\u001b[0;32m    415\u001b[0m \u001b[1;33m\u001b[0m\u001b[0m\n\u001b[0;32m    416\u001b[0m     \u001b[0mnode_collection\u001b[0m\u001b[1;33m.\u001b[0m\u001b[0mset_zorder\u001b[0m\u001b[1;33m(\u001b[0m\u001b[1;36m2\u001b[0m\u001b[1;33m)\u001b[0m\u001b[1;33m\u001b[0m\u001b[0m\n",
      "\u001b[1;32mc:\\users\\67009\\appdata\\local\\programs\\python\\python36\\lib\\site-packages\\matplotlib\\__init__.py\u001b[0m in \u001b[0;36minner\u001b[1;34m(ax, data, *args, **kwargs)\u001b[0m\n\u001b[0;32m   1783\u001b[0m                         \u001b[1;34m\"the Matplotlib list!)\"\u001b[0m \u001b[1;33m%\u001b[0m \u001b[1;33m(\u001b[0m\u001b[0mlabel_namer\u001b[0m\u001b[1;33m,\u001b[0m \u001b[0mfunc\u001b[0m\u001b[1;33m.\u001b[0m\u001b[0m__name__\u001b[0m\u001b[1;33m)\u001b[0m\u001b[1;33m,\u001b[0m\u001b[1;33m\u001b[0m\u001b[0m\n\u001b[0;32m   1784\u001b[0m                         RuntimeWarning, stacklevel=2)\n\u001b[1;32m-> 1785\u001b[1;33m             \u001b[1;32mreturn\u001b[0m \u001b[0mfunc\u001b[0m\u001b[1;33m(\u001b[0m\u001b[0max\u001b[0m\u001b[1;33m,\u001b[0m \u001b[1;33m*\u001b[0m\u001b[0margs\u001b[0m\u001b[1;33m,\u001b[0m \u001b[1;33m**\u001b[0m\u001b[0mkwargs\u001b[0m\u001b[1;33m)\u001b[0m\u001b[1;33m\u001b[0m\u001b[0m\n\u001b[0m\u001b[0;32m   1786\u001b[0m \u001b[1;33m\u001b[0m\u001b[0m\n\u001b[0;32m   1787\u001b[0m         inner.__doc__ = _add_data_doc(inner.__doc__,\n",
      "\u001b[1;32mc:\\users\\67009\\appdata\\local\\programs\\python\\python36\\lib\\site-packages\\matplotlib\\axes\\_axes.py\u001b[0m in \u001b[0;36mscatter\u001b[1;34m(self, x, y, s, c, marker, cmap, norm, vmin, vmax, alpha, linewidths, verts, edgecolors, **kwargs)\u001b[0m\n\u001b[0;32m   4221\u001b[0m                         \u001b[1;34m\"acceptable for use with 'x' with size {xs}, \"\u001b[0m\u001b[1;33m\u001b[0m\u001b[0m\n\u001b[0;32m   4222\u001b[0m                         \u001b[1;34m\"'y' with size {ys}.\"\u001b[0m\u001b[1;33m\u001b[0m\u001b[0m\n\u001b[1;32m-> 4223\u001b[1;33m                         \u001b[1;33m.\u001b[0m\u001b[0mformat\u001b[0m\u001b[1;33m(\u001b[0m\u001b[0mnc\u001b[0m\u001b[1;33m=\u001b[0m\u001b[0mn_elem\u001b[0m\u001b[1;33m,\u001b[0m \u001b[0mxs\u001b[0m\u001b[1;33m=\u001b[0m\u001b[0mx\u001b[0m\u001b[1;33m.\u001b[0m\u001b[0msize\u001b[0m\u001b[1;33m,\u001b[0m \u001b[0mys\u001b[0m\u001b[1;33m=\u001b[0m\u001b[0my\u001b[0m\u001b[1;33m.\u001b[0m\u001b[0msize\u001b[0m\u001b[1;33m)\u001b[0m\u001b[1;33m\u001b[0m\u001b[0m\n\u001b[0m\u001b[0;32m   4224\u001b[0m                     )\n\u001b[0;32m   4225\u001b[0m                 \u001b[1;31m# Both the mapping *and* the RGBA conversion failed: pretty\u001b[0m\u001b[1;33m\u001b[0m\u001b[1;33m\u001b[0m\u001b[0m\n",
      "\u001b[1;31mValueError\u001b[0m: 'c' argument has 3259 elements, which is not acceptable for use with 'x' with size 3259, 'y' with size 3259."
     ]
    },
    {
     "data": {
      "image/png": "[encoded data removed]",
      "text/plain": [
       "<Figure size 432x288 with 1 Axes>"
      ]
     },
     "metadata": {},
     "output_type": "display_data"
    }
   ],
   "source": [
    "u_k = np.round(U[:,0],2)\n",
    "nx.draw(mygraph, pos=nx.spring_layout(mygraph), node_color=u_k)"
   ]
  },
  {
   "cell_type": "code",
   "execution_count": 25,
   "metadata": {
    "inputHidden": false,
    "outputHidden": false
   },
   "outputs": [
    {
     "data": {
      "image/png": "[encoded data removed]",
      "text/plain": [
       "<Figure size 432x288 with 1 Axes>"
      ]
     },
     "metadata": {},
     "output_type": "display_data"
    }
   ],
   "source": [
    "# Your code here.\n",
    "u_k = U[:,1]\n",
    "nx.draw(mygraph, pos=nx.spring_layout(mygraph), node_color=u_k)"
   ]
  },
  {
   "cell_type": "code",
   "execution_count": 26,
   "metadata": {},
   "outputs": [
    {
     "data": {
      "image/png": "[encoded data removed]",
      "text/plain": [
       "<Figure size 432x288 with 1 Axes>"
      ]
     },
     "metadata": {},
     "output_type": "display_data"
    }
   ],
   "source": [
    "u_k = U[:,2]\n",
    "nx.draw(mygraph, pos=nx.spring_layout(mygraph), node_color=u_k)"
   ]
  },
  {
   "cell_type": "code",
   "execution_count": 32,
   "metadata": {},
   "outputs": [
    {
     "data": {
      "image/png": "[encoded data removed]",
      "text/plain": [
       "<Figure size 432x288 with 1 Axes>"
      ]
     },
     "metadata": {},
     "output_type": "display_data"
    }
   ],
   "source": [
    "u_k = U[:,-2]\n",
    "nx.draw(mygraph, pos=nx.spring_layout(mygraph), node_color=u_k)"
   ]
  },
  {
   "cell_type": "code",
   "execution_count": null,
   "metadata": {},
   "outputs": [],
   "source": [
    "nx.draw(mygraph, pos=nx.spring_layout(mygraph), node_color=labels)"
   ]
  },
  {
   "cell_type": "markdown",
   "metadata": {},
   "source": [
    "### Question 2\n",
    "\n",
    "What can you observe in terms of local variations when comparing the basis vectors corresponding to the smallest eigenvalues to those corresponding to the largest eigenvalue? How would this justify the interpretation of the eigenvalues as \"graph frequencies\"?"
   ]
  },
  {
   "cell_type": "markdown",
   "metadata": {},
   "source": [
    "**Your answer here.**\n",
    "\n",
    "The graph Laplacian eigenvectors associated with low frequencies $\\lambda_0$ vary slowly across the graph; i.e., if two vertices with similar values are connected by an edge with a large weight, the values of the eigenvector at those locations are likely to be similar. The eigenvectors associated with larger eigenvalues oscillate more rapidly and are more likely to have dissimilar values on vertices connected by an edge with high weight.\n",
    "\n",
    "The higher index the eigenvalue is, the more zero passings there are.\n",
    "\n",
    "$\\lambda_1$ Fiedler vector.\n",
    "\n",
    "$\\lambda_l$ = $min {f L f} $ f is perpendicular to a span space ${u_0,...,u_{l-1}}$"
   ]
  },
  {
   "cell_type": "markdown",
   "metadata": {},
   "source": [
    "### Question 3\n",
    "\n",
    "Implement a function that returns the Graph Fourier Transform (GFT) of a given vector $x \\in \\mathbb{R}^{N},$ with respect to your graph, and a function that computes the corresponding inverse GFT (iGFT)."
   ]
  },
  {
   "cell_type": "code",
   "execution_count": 23,
   "metadata": {
    "inputHidden": false,
    "outputHidden": false
   },
   "outputs": [],
   "source": [
    "def GFT(x):\n",
    "    return np.linalg.inv(U).dot(x)# Your code here.\n",
    "\n",
    "def iGFT(x):\n",
    "    return U.dot(x)# Your code here."
   ]
  },
  {
   "cell_type": "markdown",
   "metadata": {},
   "source": [
    "### Question 4\n",
    "\n",
    "Plot your feature/label vector as a signal on your graph"
   ]
  },
  {
   "cell_type": "code",
   "execution_count": 46,
   "metadata": {},
   "outputs": [],
   "source": [
    "e = np.reshape(e, [-1,1])"
   ]
  },
  {
   "cell_type": "code",
   "execution_count": 47,
   "metadata": {
    "inputHidden": false,
    "outputHidden": false,
    "scrolled": true
   },
   "outputs": [
    {
     "data": {
      "text/plain": [
       "Text(0.5, 1.0, 'iGFT')"
      ]
     },
     "execution_count": 47,
     "metadata": {},
     "output_type": "execute_result"
    },
    {
     "data": {
      "image/png": "[encoded data removed]",
      "text/plain": [
       "<Figure size 1440x360 with 3 Axes>"
      ]
     },
     "metadata": {
      "needs_background": "light"
     },
     "output_type": "display_data"
    }
   ],
   "source": [
    "# Your code here.\n",
    "#test_label = np.ones(laplacian.shape[0])\n",
    "GFT_x = GFT(labels)\n",
    "iGFT_x = iGFT(GFT_x)\n",
    "fig,ax = plt.subplots(1,3,figsize=(20,5))\n",
    "ax[0].plot(labels)\n",
    "ax[0].set_title('Label')\n",
    "ax[1].plot(e ,GFT_x)\n",
    "ax[1].set_title('GFT')\n",
    "ax[2].plot(iGFT_x)\n",
    "ax[2].set_title('iGFT')\n",
    "# test_label = U[:,0]\n",
    "# plt.scatter(x=np.arange(0,n_nodes),y=np.dot(D_root_inv.A,test_label))"
   ]
  },
  {
   "cell_type": "markdown",
   "metadata": {},
   "source": [
    "Plot the absolute values of the GFT of your feature/label signal as a function of the graph eigenvalues. Make sure to add a marker indicating the position of each graph eigenvalue, and remember to properly name the axes."
   ]
  },
  {
   "cell_type": "markdown",
   "metadata": {},
   "source": [
    "### Question 5\n",
    "\n",
    "Discuss the behavior of the GFT that you plotted in the last question via comparing the plot of your label signal and those of the Fourier basis of Question 1. Would you consider your labels a \"low-pass\" or \"high-pass\" signal, or yet something else entirely?"
   ]
  },
  {
   "cell_type": "markdown",
   "metadata": {},
   "source": [
    "**Your answer here.**\n",
    "\n",
    "It is a low-pass signal, and has similar function as $u_0$ does."
   ]
  },
  {
   "cell_type": "markdown",
   "metadata": {
    "code_folding": []
   },
   "source": [
    "## 2 - Filtering on graphs\n",
    "\n",
    "In this section we will check how filtered Dirac impulses diffuse on your graph."
   ]
  },
  {
   "cell_type": "markdown",
   "metadata": {
    "inputHidden": false,
    "outputHidden": false
   },
   "source": [
    "### Question 6 \n",
    "\n",
    "Implement the following three filter kernels and the graph filtering operation.\n",
    "\n",
    "- The **heat kernel** is supposed to take in a vector of eigenvalues `e` and a parameter `t` and output a vector of evaluations of the heat kernel at those eigenvalues (see the course slides for help).\n",
    "- The **inverse filter** kernel is supposed to take in a vector of eigenvalues `e` and a parameter `t` and implement spectrally the  filter defined in the node domain by $f_{out}  = (I + t L)^{-1} f_{in},$ where $f_{in}, f_{out} \\in \\mathbb{R}^{N}$ are, repectively, the input and output signals to the filter.\n",
    "- The **rectangle kernel** takes in a vector of eigenvalues `e` and parameters `l_min` and `l_max` and returns `1.0` at coordinates satisfying $(e[l] \\geq l_{min}) \\wedge (e[l] \\leq l_{max}),$ and `0.0` otherwise.\n",
    "- The **graph filtering** operation takes a graph signal $x \\in \\mathbb{R}^{N}$, a spectral graph `kernel` and a set of keyworded variables, and returns the corresponding filtered signal.\n",
    "    - _Hint:_ Remember that you have implemented the `GFT` and `iGFT` operations in Question 3.\n",
    "    - The `**kwargs` is a placeholder to collect supplementary pairs of keyword-values that are not known by the implementation before execution time.\n",
    "      The `kwargs` variable is a dictionary whose keyes and values are the parameter names and values.\n",
    "      This is useful to allow both `graph_filter(x, heat_kernel, tau=1.0)` and `graph_filter(x, rectangle_kernel, lambda_min=0.0, lambda_max=1.0)` to be valid calls from the same implementation.\n",
    "      One can then defer the keyword-value assignment to the `kernel` call: `foo = kernel(bar, **kwargs)`."
   ]
  },
  {
   "cell_type": "code",
   "execution_count": 38,
   "metadata": {
    "inputHidden": false,
    "outputHidden": false
   },
   "outputs": [],
   "source": [
    "def heat_kernel(e, t):\n",
    "    return np.exp(-t*e)# Your code here.\n",
    "\n",
    "def inverse_kernel(e, t):\n",
    "    return U.T @ np.linalg.inv(np.eye(U.shape[0]) + t * laplacian) @ U# Your code here.\n",
    "\n",
    "def rectangle_kernel(e, l_min, l_max):\n",
    "    idx = np.where((e>=l_min)&(e<=l_max))[0]\n",
    "    rec_kernel = np.zeros(e.shape[0])\n",
    "    rec_kernel[idx] = 1\n",
    "    return rec_kernel# Your code here.\n",
    "\n",
    "def graph_filter(x, kernel, **kwargs):\n",
    "    if  kernel==inverse_kernel:\n",
    "        return kernel(**kwargs).dot(GFT(x).reshape([-1,1]))# Your code here.\n",
    "    else:\n",
    "        return kernel(**kwargs)*GFT(x)"
   ]
  },
  {
   "cell_type": "markdown",
   "metadata": {},
   "source": [
    "### Question 7\n",
    "\n",
    "Plot all three filter kernels in the spectral domain. Remember to properly name the axes and title the plots. Choose filter parameters that best approximate the behavior of the GFT of your feature/label signal (as seen in Question 4)."
   ]
  },
  {
   "cell_type": "code",
   "execution_count": 48,
   "metadata": {},
   "outputs": [
    {
     "data": {
      "text/plain": [
       "[<matplotlib.lines.Line2D at 0x17e88795160>]"
      ]
     },
     "execution_count": 48,
     "metadata": {},
     "output_type": "execute_result"
    },
    {
     "data": {
      "image/png": "[encoded data removed]",
      "text/plain": [
       "<Figure size 432x288 with 1 Axes>"
      ]
     },
     "metadata": {
      "needs_background": "light"
     },
     "output_type": "display_data"
    }
   ],
   "source": [
    "plt.plot(e, abs(GFT(labels)))"
   ]
  },
  {
   "cell_type": "code",
   "execution_count": 49,
   "metadata": {
    "inputHidden": false,
    "outputHidden": false
   },
   "outputs": [
    {
     "data": {
      "text/plain": [
       "Text(0.5, 1.0, 'iGFT')"
      ]
     },
     "execution_count": 49,
     "metadata": {},
     "output_type": "execute_result"
    },
    {
     "data": {
      "image/png": "[encoded data removed]",
      "text/plain": [
       "<Figure size 1440x360 with 3 Axes>"
      ]
     },
     "metadata": {
      "needs_background": "light"
     },
     "output_type": "display_data"
    }
   ],
   "source": [
    "graph_kernel = graph_filter(x=labels, kernel=inverse_kernel, e=e, t=1)\n",
    "fig,ax = plt.subplots(1,3,figsize=(20,5))\n",
    "ax[0].plot(labels)\n",
    "ax[0].set_title('Label')\n",
    "ax[1].plot(e,abs(graph_kernel))\n",
    "ax[1].set_title('GFT')\n",
    "ax[2].plot(iGFT(graph_kernel))\n",
    "ax[2].set_title('iGFT')"
   ]
  },
  {
   "cell_type": "markdown",
   "metadata": {},
   "source": [
    "### Question 8\n",
    "\n",
    "Consider two Dirac impulses arbitrarily placed on your graph. Plot their filtered versions by the three filter kernels implemented in Question 6."
   ]
  },
  {
   "cell_type": "code",
   "execution_count": null,
   "metadata": {
    "inputHidden": false,
    "outputHidden": false
   },
   "outputs": [],
   "source": [
    "# Your code here."
   ]
  },
  {
   "cell_type": "markdown",
   "metadata": {},
   "source": [
    "Comment on the \"diffusion\" of the Diracs induced by the filters. What does it say about the \"communication\" of information across your network? Relate that to the network connectivity measures that you analyzed during the previous milestones."
   ]
  },
  {
   "cell_type": "markdown",
   "metadata": {
    "inputHidden": false,
    "outputHidden": false
   },
   "source": [
    "**Your answer here.**"
   ]
  },
  {
   "cell_type": "markdown",
   "metadata": {},
   "source": [
    "## 3 - De-noising\n",
    "\n",
    "In this section we will add some centered Gaussian noise to your feature/label signal and attempt to recover it."
   ]
  },
  {
   "cell_type": "markdown",
   "metadata": {},
   "source": [
    "### Question 9\n",
    "\n",
    "In the cell below, set the noise variance $\\sigma^2$ by making sure that the signal-to-noise ratio $SNR = \\frac{\\operatorname{Var}(\\text{labels})}{\\sigma^2}$ is about  $1.5$.\n",
    "\n",
    "_Note:_ Actually, you might want to play with the noise variance here and set it to different values and see how the denoising filters behave."
   ]
  },
  {
   "cell_type": "code",
   "execution_count": 50,
   "metadata": {
    "inputHidden": false,
    "outputHidden": false
   },
   "outputs": [
    {
     "data": {
      "text/plain": [
       "[<matplotlib.lines.Line2D at 0x17e88860588>,\n",
       " <matplotlib.lines.Line2D at 0x17e88860a20>,\n",
       " <matplotlib.lines.Line2D at 0x17e88860b70>,\n",
       " <matplotlib.lines.Line2D at 0x17e88860cc0>,\n",
       " <matplotlib.lines.Line2D at 0x17e88860e10>,\n",
       " <matplotlib.lines.Line2D at 0x17e88860f60>,\n",
       " <matplotlib.lines.Line2D at 0x17e8886a0f0>,\n",
       " <matplotlib.lines.Line2D at 0x17e8886a240>,\n",
       " <matplotlib.lines.Line2D at 0x17e8886a390>,\n",
       " <matplotlib.lines.Line2D at 0x17e8886a4e0>,\n",
       " <matplotlib.lines.Line2D at 0x17e8883df60>,\n",
       " <matplotlib.lines.Line2D at 0x17e8886a748>,\n",
       " <matplotlib.lines.Line2D at 0x17e8886a898>,\n",
       " <matplotlib.lines.Line2D at 0x17e8886a9e8>,\n",
       " <matplotlib.lines.Line2D at 0x17e8886ab38>,\n",
       " <matplotlib.lines.Line2D at 0x17e8886ac88>,\n",
       " <matplotlib.lines.Line2D at 0x17e8886add8>,\n",
       " <matplotlib.lines.Line2D at 0x17e8886af28>,\n",
       " <matplotlib.lines.Line2D at 0x17e888710b8>,\n",
       " <matplotlib.lines.Line2D at 0x17e88871208>,\n",
       " <matplotlib.lines.Line2D at 0x17e88871358>,\n",
       " <matplotlib.lines.Line2D at 0x17e888714a8>,\n",
       " <matplotlib.lines.Line2D at 0x17e888715f8>,\n",
       " <matplotlib.lines.Line2D at 0x17e88871748>,\n",
       " <matplotlib.lines.Line2D at 0x17e88871898>,\n",
       " <matplotlib.lines.Line2D at 0x17e888719e8>,\n",
       " <matplotlib.lines.Line2D at 0x17e88871b38>,\n",
       " <matplotlib.lines.Line2D at 0x17e88871c88>,\n",
       " <matplotlib.lines.Line2D at 0x17e88871dd8>,\n",
       " <matplotlib.lines.Line2D at 0x17e88871f28>,\n",
       " <matplotlib.lines.Line2D at 0x17e888750b8>,\n",
       " <matplotlib.lines.Line2D at 0x17e88875208>,\n",
       " <matplotlib.lines.Line2D at 0x17e88875358>,\n",
       " <matplotlib.lines.Line2D at 0x17e888754a8>,\n",
       " <matplotlib.lines.Line2D at 0x17e888755f8>,\n",
       " <matplotlib.lines.Line2D at 0x17e88875748>,\n",
       " <matplotlib.lines.Line2D at 0x17e88875898>,\n",
       " <matplotlib.lines.Line2D at 0x17e888759e8>,\n",
       " <matplotlib.lines.Line2D at 0x17e88875b38>,\n",
       " <matplotlib.lines.Line2D at 0x17e88875c88>,\n",
       " <matplotlib.lines.Line2D at 0x17e88875dd8>,\n",
       " <matplotlib.lines.Line2D at 0x17e88875f28>,\n",
       " <matplotlib.lines.Line2D at 0x17e8887b0b8>,\n",
       " <matplotlib.lines.Line2D at 0x17e8887b208>,\n",
       " <matplotlib.lines.Line2D at 0x17e8887b358>,\n",
       " <matplotlib.lines.Line2D at 0x17e8887b4a8>,\n",
       " <matplotlib.lines.Line2D at 0x17e8887b5f8>,\n",
       " <matplotlib.lines.Line2D at 0x17e8887b748>,\n",
       " <matplotlib.lines.Line2D at 0x17e8887b898>,\n",
       " <matplotlib.lines.Line2D at 0x17e8887b9e8>,\n",
       " <matplotlib.lines.Line2D at 0x17e8887bb38>,\n",
       " <matplotlib.lines.Line2D at 0x17e8887bc88>,\n",
       " <matplotlib.lines.Line2D at 0x17e8887bdd8>,\n",
       " <matplotlib.lines.Line2D at 0x17e8887bf28>,\n",
       " <matplotlib.lines.Line2D at 0x17e888810b8>,\n",
       " <matplotlib.lines.Line2D at 0x17e88881208>,\n",
       " <matplotlib.lines.Line2D at 0x17e88881358>,\n",
       " <matplotlib.lines.Line2D at 0x17e888814a8>,\n",
       " <matplotlib.lines.Line2D at 0x17e888815f8>,\n",
       " <matplotlib.lines.Line2D at 0x17e88881748>,\n",
       " <matplotlib.lines.Line2D at 0x17e88881898>,\n",
       " <matplotlib.lines.Line2D at 0x17e888819e8>,\n",
       " <matplotlib.lines.Line2D at 0x17e88881b38>,\n",
       " <matplotlib.lines.Line2D at 0x17e88881c88>,\n",
       " <matplotlib.lines.Line2D at 0x17e88881dd8>,\n",
       " <matplotlib.lines.Line2D at 0x17e88881f28>,\n",
       " <matplotlib.lines.Line2D at 0x17e888870b8>,\n",
       " <matplotlib.lines.Line2D at 0x17e88887208>,\n",
       " <matplotlib.lines.Line2D at 0x17e88887358>,\n",
       " <matplotlib.lines.Line2D at 0x17e888874a8>,\n",
       " <matplotlib.lines.Line2D at 0x17e888875f8>,\n",
       " <matplotlib.lines.Line2D at 0x17e88887748>,\n",
       " <matplotlib.lines.Line2D at 0x17e88887898>,\n",
       " <matplotlib.lines.Line2D at 0x17e888879e8>,\n",
       " <matplotlib.lines.Line2D at 0x17e88887b38>,\n",
       " <matplotlib.lines.Line2D at 0x17e88887c88>,\n",
       " <matplotlib.lines.Line2D at 0x17e88887dd8>,\n",
       " <matplotlib.lines.Line2D at 0x17e88887f28>,\n",
       " <matplotlib.lines.Line2D at 0x17e8888b0b8>,\n",
       " <matplotlib.lines.Line2D at 0x17e8888b208>,\n",
       " <matplotlib.lines.Line2D at 0x17e8888b358>,\n",
       " <matplotlib.lines.Line2D at 0x17e8888b4a8>,\n",
       " <matplotlib.lines.Line2D at 0x17e8888b5f8>,\n",
       " <matplotlib.lines.Line2D at 0x17e8888b748>,\n",
       " <matplotlib.lines.Line2D at 0x17e8888b898>,\n",
       " <matplotlib.lines.Line2D at 0x17e8888b9e8>,\n",
       " <matplotlib.lines.Line2D at 0x17e8888bb38>,\n",
       " <matplotlib.lines.Line2D at 0x17e8888bc88>,\n",
       " <matplotlib.lines.Line2D at 0x17e8888bdd8>,\n",
       " <matplotlib.lines.Line2D at 0x17e8888bf28>,\n",
       " <matplotlib.lines.Line2D at 0x17e888920b8>,\n",
       " <matplotlib.lines.Line2D at 0x17e88892208>,\n",
       " <matplotlib.lines.Line2D at 0x17e88892358>,\n",
       " <matplotlib.lines.Line2D at 0x17e888924a8>,\n",
       " <matplotlib.lines.Line2D at 0x17e888925f8>,\n",
       " <matplotlib.lines.Line2D at 0x17e88892748>,\n",
       " <matplotlib.lines.Line2D at 0x17e88892898>,\n",
       " <matplotlib.lines.Line2D at 0x17e888929e8>,\n",
       " <matplotlib.lines.Line2D at 0x17e88892b38>,\n",
       " <matplotlib.lines.Line2D at 0x17e88892c88>,\n",
       " <matplotlib.lines.Line2D at 0x17e88892dd8>,\n",
       " <matplotlib.lines.Line2D at 0x17e88892f28>,\n",
       " <matplotlib.lines.Line2D at 0x17e888970b8>,\n",
       " <matplotlib.lines.Line2D at 0x17e88897208>,\n",
       " <matplotlib.lines.Line2D at 0x17e88897358>,\n",
       " <matplotlib.lines.Line2D at 0x17e888974a8>,\n",
       " <matplotlib.lines.Line2D at 0x17e888975f8>,\n",
       " <matplotlib.lines.Line2D at 0x17e88897748>,\n",
       " <matplotlib.lines.Line2D at 0x17e88897898>,\n",
       " <matplotlib.lines.Line2D at 0x17e888979e8>,\n",
       " <matplotlib.lines.Line2D at 0x17e88897b38>,\n",
       " <matplotlib.lines.Line2D at 0x17e88897c88>,\n",
       " <matplotlib.lines.Line2D at 0x17e88897dd8>,\n",
       " <matplotlib.lines.Line2D at 0x17e88897f28>,\n",
       " <matplotlib.lines.Line2D at 0x17e8889d0b8>,\n",
       " <matplotlib.lines.Line2D at 0x17e8889d208>,\n",
       " <matplotlib.lines.Line2D at 0x17e8889d358>,\n",
       " <matplotlib.lines.Line2D at 0x17e8889d4a8>,\n",
       " <matplotlib.lines.Line2D at 0x17e8889d5f8>,\n",
       " <matplotlib.lines.Line2D at 0x17e8889d748>,\n",
       " <matplotlib.lines.Line2D at 0x17e8889d898>,\n",
       " <matplotlib.lines.Line2D at 0x17e8889d9e8>,\n",
       " <matplotlib.lines.Line2D at 0x17e8889db38>,\n",
       " <matplotlib.lines.Line2D at 0x17e8889dc88>,\n",
       " <matplotlib.lines.Line2D at 0x17e8889ddd8>,\n",
       " <matplotlib.lines.Line2D at 0x17e8889df28>,\n",
       " <matplotlib.lines.Line2D at 0x17e888a20b8>,\n",
       " <matplotlib.lines.Line2D at 0x17e888a2208>,\n",
       " <matplotlib.lines.Line2D at 0x17e888a2358>,\n",
       " <matplotlib.lines.Line2D at 0x17e888a24a8>,\n",
       " <matplotlib.lines.Line2D at 0x17e888a25f8>,\n",
       " <matplotlib.lines.Line2D at 0x17e888a2748>,\n",
       " <matplotlib.lines.Line2D at 0x17e888a2898>,\n",
       " <matplotlib.lines.Line2D at 0x17e888a29e8>,\n",
       " <matplotlib.lines.Line2D at 0x17e888a2b38>,\n",
       " <matplotlib.lines.Line2D at 0x17e888a2c88>,\n",
       " <matplotlib.lines.Line2D at 0x17e888a2dd8>,\n",
       " <matplotlib.lines.Line2D at 0x17e888a2f28>,\n",
       " <matplotlib.lines.Line2D at 0x17e888a80b8>,\n",
       " <matplotlib.lines.Line2D at 0x17e888a8208>,\n",
       " <matplotlib.lines.Line2D at 0x17e888a8358>,\n",
       " <matplotlib.lines.Line2D at 0x17e888a84a8>,\n",
       " <matplotlib.lines.Line2D at 0x17e888a85f8>,\n",
       " <matplotlib.lines.Line2D at 0x17e888a8748>,\n",
       " <matplotlib.lines.Line2D at 0x17e888a8898>,\n",
       " <matplotlib.lines.Line2D at 0x17e888a89e8>,\n",
       " <matplotlib.lines.Line2D at 0x17e888a8b38>,\n",
       " <matplotlib.lines.Line2D at 0x17e888a8c88>,\n",
       " <matplotlib.lines.Line2D at 0x17e888a8dd8>,\n",
       " <matplotlib.lines.Line2D at 0x17e888a8f28>,\n",
       " <matplotlib.lines.Line2D at 0x17e888ad0b8>,\n",
       " <matplotlib.lines.Line2D at 0x17e888ad208>,\n",
       " <matplotlib.lines.Line2D at 0x17e888ad358>,\n",
       " <matplotlib.lines.Line2D at 0x17e888ad4a8>,\n",
       " <matplotlib.lines.Line2D at 0x17e888ad5f8>,\n",
       " <matplotlib.lines.Line2D at 0x17e888ad748>,\n",
       " <matplotlib.lines.Line2D at 0x17e888ad898>,\n",
       " <matplotlib.lines.Line2D at 0x17e888ad9e8>,\n",
       " <matplotlib.lines.Line2D at 0x17e888adb38>,\n",
       " <matplotlib.lines.Line2D at 0x17e888adc88>,\n",
       " <matplotlib.lines.Line2D at 0x17e888addd8>,\n",
       " <matplotlib.lines.Line2D at 0x17e888adf28>,\n",
       " <matplotlib.lines.Line2D at 0x17e888b40b8>,\n",
       " <matplotlib.lines.Line2D at 0x17e888b4208>,\n",
       " <matplotlib.lines.Line2D at 0x17e888b4358>,\n",
       " <matplotlib.lines.Line2D at 0x17e888b44a8>,\n",
       " <matplotlib.lines.Line2D at 0x17e888b45f8>,\n",
       " <matplotlib.lines.Line2D at 0x17e888b4748>,\n",
       " <matplotlib.lines.Line2D at 0x17e888b4898>,\n",
       " <matplotlib.lines.Line2D at 0x17e888b49e8>,\n",
       " <matplotlib.lines.Line2D at 0x17e888b4b38>,\n",
       " <matplotlib.lines.Line2D at 0x17e888b4c88>,\n",
       " <matplotlib.lines.Line2D at 0x17e888b4dd8>,\n",
       " <matplotlib.lines.Line2D at 0x17e888b4f28>,\n",
       " <matplotlib.lines.Line2D at 0x17e888b80b8>,\n",
       " <matplotlib.lines.Line2D at 0x17e888b8208>,\n",
       " <matplotlib.lines.Line2D at 0x17e888b8358>,\n",
       " <matplotlib.lines.Line2D at 0x17e888b84a8>,\n",
       " <matplotlib.lines.Line2D at 0x17e888b85f8>,\n",
       " <matplotlib.lines.Line2D at 0x17e888b8748>,\n",
       " <matplotlib.lines.Line2D at 0x17e888b8898>,\n",
       " <matplotlib.lines.Line2D at 0x17e888b89e8>,\n",
       " <matplotlib.lines.Line2D at 0x17e888b8b38>,\n",
       " <matplotlib.lines.Line2D at 0x17e888b8c88>,\n",
       " <matplotlib.lines.Line2D at 0x17e888b8dd8>,\n",
       " <matplotlib.lines.Line2D at 0x17e888b8f28>,\n",
       " <matplotlib.lines.Line2D at 0x17e888bd0b8>,\n",
       " <matplotlib.lines.Line2D at 0x17e888bd208>,\n",
       " <matplotlib.lines.Line2D at 0x17e888bd358>,\n",
       " <matplotlib.lines.Line2D at 0x17e888bd4a8>,\n",
       " <matplotlib.lines.Line2D at 0x17e888bd5f8>,\n",
       " <matplotlib.lines.Line2D at 0x17e888bd748>,\n",
       " <matplotlib.lines.Line2D at 0x17e888bd898>,\n",
       " <matplotlib.lines.Line2D at 0x17e888bd9e8>,\n",
       " <matplotlib.lines.Line2D at 0x17e888bdb38>,\n",
       " <matplotlib.lines.Line2D at 0x17e888bdc88>,\n",
       " <matplotlib.lines.Line2D at 0x17e888bddd8>,\n",
       " <matplotlib.lines.Line2D at 0x17e888bdf28>,\n",
       " <matplotlib.lines.Line2D at 0x17e889040b8>,\n",
       " <matplotlib.lines.Line2D at 0x17e88904208>,\n",
       " <matplotlib.lines.Line2D at 0x17e88904358>,\n",
       " <matplotlib.lines.Line2D at 0x17e889044a8>,\n",
       " <matplotlib.lines.Line2D at 0x17e889045f8>,\n",
       " <matplotlib.lines.Line2D at 0x17e88904748>,\n",
       " <matplotlib.lines.Line2D at 0x17e88904898>,\n",
       " <matplotlib.lines.Line2D at 0x17e889049e8>,\n",
       " <matplotlib.lines.Line2D at 0x17e88904b38>,\n",
       " <matplotlib.lines.Line2D at 0x17e88904c88>,\n",
       " <matplotlib.lines.Line2D at 0x17e88904dd8>,\n",
       " <matplotlib.lines.Line2D at 0x17e88904f28>,\n",
       " <matplotlib.lines.Line2D at 0x17e889090b8>,\n",
       " <matplotlib.lines.Line2D at 0x17e88909208>,\n",
       " <matplotlib.lines.Line2D at 0x17e88909358>,\n",
       " <matplotlib.lines.Line2D at 0x17e889094a8>,\n",
       " <matplotlib.lines.Line2D at 0x17e889095f8>,\n",
       " <matplotlib.lines.Line2D at 0x17e88909748>,\n",
       " <matplotlib.lines.Line2D at 0x17e88909898>,\n",
       " <matplotlib.lines.Line2D at 0x17e889099e8>,\n",
       " <matplotlib.lines.Line2D at 0x17e88909b38>,\n",
       " <matplotlib.lines.Line2D at 0x17e88909c88>,\n",
       " <matplotlib.lines.Line2D at 0x17e88909dd8>,\n",
       " <matplotlib.lines.Line2D at 0x17e88909f28>,\n",
       " <matplotlib.lines.Line2D at 0x17e8890e0b8>,\n",
       " <matplotlib.lines.Line2D at 0x17e8890e208>,\n",
       " <matplotlib.lines.Line2D at 0x17e8890e358>,\n",
       " <matplotlib.lines.Line2D at 0x17e8890e4a8>,\n",
       " <matplotlib.lines.Line2D at 0x17e8890e5f8>,\n",
       " <matplotlib.lines.Line2D at 0x17e8890e748>,\n",
       " <matplotlib.lines.Line2D at 0x17e8890e898>,\n",
       " <matplotlib.lines.Line2D at 0x17e8890e9e8>,\n",
       " <matplotlib.lines.Line2D at 0x17e8890eb38>,\n",
       " <matplotlib.lines.Line2D at 0x17e8890ec88>,\n",
       " <matplotlib.lines.Line2D at 0x17e8890edd8>,\n",
       " <matplotlib.lines.Line2D at 0x17e8890ef28>,\n",
       " <matplotlib.lines.Line2D at 0x17e889140b8>,\n",
       " <matplotlib.lines.Line2D at 0x17e88914208>,\n",
       " <matplotlib.lines.Line2D at 0x17e88914358>,\n",
       " <matplotlib.lines.Line2D at 0x17e889144a8>,\n",
       " <matplotlib.lines.Line2D at 0x17e889145f8>,\n",
       " <matplotlib.lines.Line2D at 0x17e88914748>,\n",
       " <matplotlib.lines.Line2D at 0x17e88914898>,\n",
       " <matplotlib.lines.Line2D at 0x17e889149e8>,\n",
       " <matplotlib.lines.Line2D at 0x17e88914b38>,\n",
       " <matplotlib.lines.Line2D at 0x17e88914c88>,\n",
       " <matplotlib.lines.Line2D at 0x17e88914dd8>,\n",
       " <matplotlib.lines.Line2D at 0x17e88914f28>,\n",
       " <matplotlib.lines.Line2D at 0x17e8891a0b8>,\n",
       " <matplotlib.lines.Line2D at 0x17e8891a208>,\n",
       " <matplotlib.lines.Line2D at 0x17e8891a358>,\n",
       " <matplotlib.lines.Line2D at 0x17e8891a4a8>,\n",
       " <matplotlib.lines.Line2D at 0x17e8891a5f8>,\n",
       " <matplotlib.lines.Line2D at 0x17e8891a748>,\n",
       " <matplotlib.lines.Line2D at 0x17e8891a898>,\n",
       " <matplotlib.lines.Line2D at 0x17e8891a9e8>,\n",
       " <matplotlib.lines.Line2D at 0x17e8891ab38>,\n",
       " <matplotlib.lines.Line2D at 0x17e8891ac88>,\n",
       " <matplotlib.lines.Line2D at 0x17e8891add8>,\n",
       " <matplotlib.lines.Line2D at 0x17e8891af28>,\n",
       " <matplotlib.lines.Line2D at 0x17e8891f0b8>,\n",
       " <matplotlib.lines.Line2D at 0x17e8891f208>,\n",
       " <matplotlib.lines.Line2D at 0x17e8891f358>,\n",
       " <matplotlib.lines.Line2D at 0x17e8891f4a8>,\n",
       " <matplotlib.lines.Line2D at 0x17e8891f5f8>,\n",
       " <matplotlib.lines.Line2D at 0x17e8891f748>,\n",
       " <matplotlib.lines.Line2D at 0x17e8891f898>,\n",
       " <matplotlib.lines.Line2D at 0x17e8891f9e8>,\n",
       " <matplotlib.lines.Line2D at 0x17e8891fb38>,\n",
       " <matplotlib.lines.Line2D at 0x17e8891fc88>,\n",
       " <matplotlib.lines.Line2D at 0x17e8891fdd8>,\n",
       " <matplotlib.lines.Line2D at 0x17e8891ff28>,\n",
       " <matplotlib.lines.Line2D at 0x17e889260b8>,\n",
       " <matplotlib.lines.Line2D at 0x17e88926208>,\n",
       " <matplotlib.lines.Line2D at 0x17e88926358>,\n",
       " <matplotlib.lines.Line2D at 0x17e889264a8>,\n",
       " <matplotlib.lines.Line2D at 0x17e889265f8>,\n",
       " <matplotlib.lines.Line2D at 0x17e88926748>,\n",
       " <matplotlib.lines.Line2D at 0x17e88926898>,\n",
       " <matplotlib.lines.Line2D at 0x17e889269e8>,\n",
       " <matplotlib.lines.Line2D at 0x17e88926b38>,\n",
       " <matplotlib.lines.Line2D at 0x17e88926c88>,\n",
       " <matplotlib.lines.Line2D at 0x17e88926dd8>,\n",
       " <matplotlib.lines.Line2D at 0x17e88926f28>,\n",
       " <matplotlib.lines.Line2D at 0x17e8892a0b8>,\n",
       " <matplotlib.lines.Line2D at 0x17e8892a208>,\n",
       " <matplotlib.lines.Line2D at 0x17e8892a358>,\n",
       " <matplotlib.lines.Line2D at 0x17e8892a4a8>,\n",
       " <matplotlib.lines.Line2D at 0x17e8892a5f8>,\n",
       " <matplotlib.lines.Line2D at 0x17e8892a748>,\n",
       " <matplotlib.lines.Line2D at 0x17e8892a898>,\n",
       " <matplotlib.lines.Line2D at 0x17e8892a9e8>,\n",
       " <matplotlib.lines.Line2D at 0x17e8892ab38>,\n",
       " <matplotlib.lines.Line2D at 0x17e8892ac88>,\n",
       " <matplotlib.lines.Line2D at 0x17e8892add8>,\n",
       " <matplotlib.lines.Line2D at 0x17e8892af28>,\n",
       " <matplotlib.lines.Line2D at 0x17e889300b8>,\n",
       " <matplotlib.lines.Line2D at 0x17e88930208>,\n",
       " <matplotlib.lines.Line2D at 0x17e88930358>,\n",
       " <matplotlib.lines.Line2D at 0x17e889304a8>,\n",
       " <matplotlib.lines.Line2D at 0x17e889305f8>,\n",
       " <matplotlib.lines.Line2D at 0x17e88930748>,\n",
       " <matplotlib.lines.Line2D at 0x17e88930898>,\n",
       " <matplotlib.lines.Line2D at 0x17e889309e8>,\n",
       " <matplotlib.lines.Line2D at 0x17e88930b38>,\n",
       " <matplotlib.lines.Line2D at 0x17e88930c88>,\n",
       " <matplotlib.lines.Line2D at 0x17e88930dd8>,\n",
       " <matplotlib.lines.Line2D at 0x17e88930f28>,\n",
       " <matplotlib.lines.Line2D at 0x17e889360b8>,\n",
       " <matplotlib.lines.Line2D at 0x17e88936208>,\n",
       " <matplotlib.lines.Line2D at 0x17e88936358>,\n",
       " <matplotlib.lines.Line2D at 0x17e889364a8>,\n",
       " <matplotlib.lines.Line2D at 0x17e889365f8>,\n",
       " <matplotlib.lines.Line2D at 0x17e88936748>,\n",
       " <matplotlib.lines.Line2D at 0x17e88936898>,\n",
       " <matplotlib.lines.Line2D at 0x17e889369e8>,\n",
       " <matplotlib.lines.Line2D at 0x17e88936b38>,\n",
       " <matplotlib.lines.Line2D at 0x17e88936c88>,\n",
       " <matplotlib.lines.Line2D at 0x17e88936dd8>,\n",
       " <matplotlib.lines.Line2D at 0x17e88936f28>,\n",
       " <matplotlib.lines.Line2D at 0x17e8893c0b8>,\n",
       " <matplotlib.lines.Line2D at 0x17e8893c208>,\n",
       " <matplotlib.lines.Line2D at 0x17e8893c358>,\n",
       " <matplotlib.lines.Line2D at 0x17e8893c4a8>,\n",
       " <matplotlib.lines.Line2D at 0x17e8893c5f8>,\n",
       " <matplotlib.lines.Line2D at 0x17e8893c748>,\n",
       " <matplotlib.lines.Line2D at 0x17e8893c898>,\n",
       " <matplotlib.lines.Line2D at 0x17e8893c9e8>,\n",
       " <matplotlib.lines.Line2D at 0x17e8893cb38>,\n",
       " <matplotlib.lines.Line2D at 0x17e8893cc88>,\n",
       " <matplotlib.lines.Line2D at 0x17e8893cdd8>,\n",
       " <matplotlib.lines.Line2D at 0x17e8893cf28>,\n",
       " <matplotlib.lines.Line2D at 0x17e889400b8>,\n",
       " <matplotlib.lines.Line2D at 0x17e88940208>,\n",
       " <matplotlib.lines.Line2D at 0x17e88940358>,\n",
       " <matplotlib.lines.Line2D at 0x17e889404a8>,\n",
       " <matplotlib.lines.Line2D at 0x17e889405f8>,\n",
       " <matplotlib.lines.Line2D at 0x17e88940748>,\n",
       " <matplotlib.lines.Line2D at 0x17e88940898>,\n",
       " <matplotlib.lines.Line2D at 0x17e889409e8>,\n",
       " <matplotlib.lines.Line2D at 0x17e88940b38>,\n",
       " <matplotlib.lines.Line2D at 0x17e88940c88>,\n",
       " <matplotlib.lines.Line2D at 0x17e88940dd8>,\n",
       " <matplotlib.lines.Line2D at 0x17e88940f28>,\n",
       " <matplotlib.lines.Line2D at 0x17e889470b8>,\n",
       " <matplotlib.lines.Line2D at 0x17e88947208>,\n",
       " <matplotlib.lines.Line2D at 0x17e88947358>,\n",
       " <matplotlib.lines.Line2D at 0x17e889474a8>,\n",
       " <matplotlib.lines.Line2D at 0x17e889475f8>,\n",
       " <matplotlib.lines.Line2D at 0x17e88947748>,\n",
       " <matplotlib.lines.Line2D at 0x17e88947898>,\n",
       " <matplotlib.lines.Line2D at 0x17e889479e8>,\n",
       " <matplotlib.lines.Line2D at 0x17e88947b38>,\n",
       " <matplotlib.lines.Line2D at 0x17e88947c88>,\n",
       " <matplotlib.lines.Line2D at 0x17e88947dd8>,\n",
       " <matplotlib.lines.Line2D at 0x17e88947f28>,\n",
       " <matplotlib.lines.Line2D at 0x17e8894c0b8>,\n",
       " <matplotlib.lines.Line2D at 0x17e8894c208>,\n",
       " <matplotlib.lines.Line2D at 0x17e8894c358>,\n",
       " <matplotlib.lines.Line2D at 0x17e8894c4a8>,\n",
       " <matplotlib.lines.Line2D at 0x17e8894c5f8>,\n",
       " <matplotlib.lines.Line2D at 0x17e8894c748>,\n",
       " <matplotlib.lines.Line2D at 0x17e8894c898>,\n",
       " <matplotlib.lines.Line2D at 0x17e8894c9e8>,\n",
       " <matplotlib.lines.Line2D at 0x17e8894cb38>,\n",
       " <matplotlib.lines.Line2D at 0x17e8894cc88>,\n",
       " <matplotlib.lines.Line2D at 0x17e8894cdd8>,\n",
       " <matplotlib.lines.Line2D at 0x17e8894cf28>,\n",
       " <matplotlib.lines.Line2D at 0x17e889520b8>,\n",
       " <matplotlib.lines.Line2D at 0x17e88952208>,\n",
       " <matplotlib.lines.Line2D at 0x17e88952358>,\n",
       " <matplotlib.lines.Line2D at 0x17e889524a8>,\n",
       " <matplotlib.lines.Line2D at 0x17e889525f8>,\n",
       " <matplotlib.lines.Line2D at 0x17e88952748>,\n",
       " <matplotlib.lines.Line2D at 0x17e88952898>,\n",
       " <matplotlib.lines.Line2D at 0x17e889529e8>,\n",
       " <matplotlib.lines.Line2D at 0x17e88952b38>,\n",
       " <matplotlib.lines.Line2D at 0x17e88952c88>,\n",
       " <matplotlib.lines.Line2D at 0x17e88952dd8>,\n",
       " <matplotlib.lines.Line2D at 0x17e88952f28>,\n",
       " <matplotlib.lines.Line2D at 0x17e889570b8>,\n",
       " <matplotlib.lines.Line2D at 0x17e88957208>,\n",
       " <matplotlib.lines.Line2D at 0x17e88957358>,\n",
       " <matplotlib.lines.Line2D at 0x17e889574a8>,\n",
       " <matplotlib.lines.Line2D at 0x17e889575f8>,\n",
       " <matplotlib.lines.Line2D at 0x17e88957748>,\n",
       " <matplotlib.lines.Line2D at 0x17e88957898>,\n",
       " <matplotlib.lines.Line2D at 0x17e889579e8>,\n",
       " <matplotlib.lines.Line2D at 0x17e88957b38>,\n",
       " <matplotlib.lines.Line2D at 0x17e88957c88>,\n",
       " <matplotlib.lines.Line2D at 0x17e88957dd8>,\n",
       " <matplotlib.lines.Line2D at 0x17e88957f28>,\n",
       " <matplotlib.lines.Line2D at 0x17e8895d0b8>,\n",
       " <matplotlib.lines.Line2D at 0x17e8895d208>,\n",
       " <matplotlib.lines.Line2D at 0x17e8895d358>,\n",
       " <matplotlib.lines.Line2D at 0x17e8895d4a8>,\n",
       " <matplotlib.lines.Line2D at 0x17e8895d5f8>,\n",
       " <matplotlib.lines.Line2D at 0x17e8895d748>,\n",
       " <matplotlib.lines.Line2D at 0x17e8895d898>,\n",
       " <matplotlib.lines.Line2D at 0x17e8895d9e8>,\n",
       " <matplotlib.lines.Line2D at 0x17e8895db38>,\n",
       " <matplotlib.lines.Line2D at 0x17e8895dc88>,\n",
       " <matplotlib.lines.Line2D at 0x17e8895ddd8>,\n",
       " <matplotlib.lines.Line2D at 0x17e8895df28>,\n",
       " <matplotlib.lines.Line2D at 0x17e889620b8>,\n",
       " <matplotlib.lines.Line2D at 0x17e88962208>,\n",
       " <matplotlib.lines.Line2D at 0x17e88962358>,\n",
       " <matplotlib.lines.Line2D at 0x17e889624a8>,\n",
       " <matplotlib.lines.Line2D at 0x17e889625f8>,\n",
       " <matplotlib.lines.Line2D at 0x17e88962748>,\n",
       " <matplotlib.lines.Line2D at 0x17e88962898>,\n",
       " <matplotlib.lines.Line2D at 0x17e889629e8>,\n",
       " <matplotlib.lines.Line2D at 0x17e88962b38>,\n",
       " <matplotlib.lines.Line2D at 0x17e88962c88>,\n",
       " <matplotlib.lines.Line2D at 0x17e88962dd8>,\n",
       " <matplotlib.lines.Line2D at 0x17e88962f28>,\n",
       " <matplotlib.lines.Line2D at 0x17e889680b8>,\n",
       " <matplotlib.lines.Line2D at 0x17e88968208>,\n",
       " <matplotlib.lines.Line2D at 0x17e88968358>,\n",
       " <matplotlib.lines.Line2D at 0x17e889684a8>,\n",
       " <matplotlib.lines.Line2D at 0x17e889685f8>,\n",
       " <matplotlib.lines.Line2D at 0x17e88968748>,\n",
       " <matplotlib.lines.Line2D at 0x17e88968898>,\n",
       " <matplotlib.lines.Line2D at 0x17e889689e8>,\n",
       " <matplotlib.lines.Line2D at 0x17e88968b38>,\n",
       " <matplotlib.lines.Line2D at 0x17e88968c88>,\n",
       " <matplotlib.lines.Line2D at 0x17e88968dd8>,\n",
       " <matplotlib.lines.Line2D at 0x17e88968f28>,\n",
       " <matplotlib.lines.Line2D at 0x17e8896d0b8>,\n",
       " <matplotlib.lines.Line2D at 0x17e8896d208>,\n",
       " <matplotlib.lines.Line2D at 0x17e8896d358>,\n",
       " <matplotlib.lines.Line2D at 0x17e8896d4a8>,\n",
       " <matplotlib.lines.Line2D at 0x17e8896d5f8>,\n",
       " <matplotlib.lines.Line2D at 0x17e8896d748>,\n",
       " <matplotlib.lines.Line2D at 0x17e8896d898>,\n",
       " <matplotlib.lines.Line2D at 0x17e8896d9e8>,\n",
       " <matplotlib.lines.Line2D at 0x17e8896db38>,\n",
       " <matplotlib.lines.Line2D at 0x17e8896dc88>,\n",
       " <matplotlib.lines.Line2D at 0x17e8896ddd8>,\n",
       " <matplotlib.lines.Line2D at 0x17e8896df28>,\n",
       " <matplotlib.lines.Line2D at 0x17e889730b8>,\n",
       " <matplotlib.lines.Line2D at 0x17e88973208>,\n",
       " <matplotlib.lines.Line2D at 0x17e88973358>,\n",
       " <matplotlib.lines.Line2D at 0x17e889734a8>,\n",
       " <matplotlib.lines.Line2D at 0x17e889735f8>,\n",
       " <matplotlib.lines.Line2D at 0x17e88973748>,\n",
       " <matplotlib.lines.Line2D at 0x17e88973898>,\n",
       " <matplotlib.lines.Line2D at 0x17e889739e8>,\n",
       " <matplotlib.lines.Line2D at 0x17e88973b38>,\n",
       " <matplotlib.lines.Line2D at 0x17e88973c88>,\n",
       " <matplotlib.lines.Line2D at 0x17e88973dd8>,\n",
       " <matplotlib.lines.Line2D at 0x17e88973f28>,\n",
       " <matplotlib.lines.Line2D at 0x17e889790b8>,\n",
       " <matplotlib.lines.Line2D at 0x17e88979208>,\n",
       " <matplotlib.lines.Line2D at 0x17e88979358>,\n",
       " <matplotlib.lines.Line2D at 0x17e889794a8>,\n",
       " <matplotlib.lines.Line2D at 0x17e889795f8>,\n",
       " <matplotlib.lines.Line2D at 0x17e88979748>,\n",
       " <matplotlib.lines.Line2D at 0x17e88979898>,\n",
       " <matplotlib.lines.Line2D at 0x17e889799e8>,\n",
       " <matplotlib.lines.Line2D at 0x17e88979b38>,\n",
       " <matplotlib.lines.Line2D at 0x17e88979c88>,\n",
       " <matplotlib.lines.Line2D at 0x17e88979dd8>,\n",
       " <matplotlib.lines.Line2D at 0x17e88979f28>,\n",
       " <matplotlib.lines.Line2D at 0x17e8897e0b8>,\n",
       " <matplotlib.lines.Line2D at 0x17e8897e208>,\n",
       " <matplotlib.lines.Line2D at 0x17e8897e358>,\n",
       " <matplotlib.lines.Line2D at 0x17e8897e4a8>,\n",
       " <matplotlib.lines.Line2D at 0x17e8897e5f8>,\n",
       " <matplotlib.lines.Line2D at 0x17e8897e748>,\n",
       " <matplotlib.lines.Line2D at 0x17e8897e898>,\n",
       " <matplotlib.lines.Line2D at 0x17e8897e9e8>,\n",
       " <matplotlib.lines.Line2D at 0x17e8897eb38>,\n",
       " <matplotlib.lines.Line2D at 0x17e8897ec88>,\n",
       " <matplotlib.lines.Line2D at 0x17e8897edd8>,\n",
       " <matplotlib.lines.Line2D at 0x17e8897ef28>,\n",
       " <matplotlib.lines.Line2D at 0x17e889830b8>,\n",
       " <matplotlib.lines.Line2D at 0x17e88983208>,\n",
       " <matplotlib.lines.Line2D at 0x17e88983358>,\n",
       " <matplotlib.lines.Line2D at 0x17e889834a8>,\n",
       " <matplotlib.lines.Line2D at 0x17e889835f8>,\n",
       " <matplotlib.lines.Line2D at 0x17e88983748>,\n",
       " <matplotlib.lines.Line2D at 0x17e88983898>,\n",
       " <matplotlib.lines.Line2D at 0x17e889839e8>,\n",
       " <matplotlib.lines.Line2D at 0x17e88983b38>,\n",
       " <matplotlib.lines.Line2D at 0x17e88983c88>,\n",
       " <matplotlib.lines.Line2D at 0x17e88983dd8>,\n",
       " <matplotlib.lines.Line2D at 0x17e88983f28>,\n",
       " <matplotlib.lines.Line2D at 0x17e889890b8>,\n",
       " <matplotlib.lines.Line2D at 0x17e88989208>,\n",
       " <matplotlib.lines.Line2D at 0x17e88989358>,\n",
       " <matplotlib.lines.Line2D at 0x17e889894a8>,\n",
       " <matplotlib.lines.Line2D at 0x17e889895f8>,\n",
       " <matplotlib.lines.Line2D at 0x17e88989748>,\n",
       " <matplotlib.lines.Line2D at 0x17e88989898>,\n",
       " <matplotlib.lines.Line2D at 0x17e889899e8>,\n",
       " <matplotlib.lines.Line2D at 0x17e88989b38>,\n",
       " <matplotlib.lines.Line2D at 0x17e88989c88>,\n",
       " <matplotlib.lines.Line2D at 0x17e88989dd8>,\n",
       " <matplotlib.lines.Line2D at 0x17e88989f28>,\n",
       " <matplotlib.lines.Line2D at 0x17e8898f0b8>,\n",
       " <matplotlib.lines.Line2D at 0x17e8898f208>,\n",
       " <matplotlib.lines.Line2D at 0x17e8898f358>,\n",
       " <matplotlib.lines.Line2D at 0x17e8898f4a8>,\n",
       " <matplotlib.lines.Line2D at 0x17e8898f5f8>,\n",
       " <matplotlib.lines.Line2D at 0x17e8898f748>,\n",
       " <matplotlib.lines.Line2D at 0x17e8898f898>,\n",
       " <matplotlib.lines.Line2D at 0x17e8898f9e8>,\n",
       " <matplotlib.lines.Line2D at 0x17e8898fb38>,\n",
       " <matplotlib.lines.Line2D at 0x17e8898fc88>,\n",
       " <matplotlib.lines.Line2D at 0x17e8898fdd8>,\n",
       " <matplotlib.lines.Line2D at 0x17e8898ff28>,\n",
       " <matplotlib.lines.Line2D at 0x17e889940b8>,\n",
       " <matplotlib.lines.Line2D at 0x17e88994208>,\n",
       " <matplotlib.lines.Line2D at 0x17e88994358>,\n",
       " <matplotlib.lines.Line2D at 0x17e889944a8>,\n",
       " <matplotlib.lines.Line2D at 0x17e889945f8>,\n",
       " <matplotlib.lines.Line2D at 0x17e88994748>,\n",
       " <matplotlib.lines.Line2D at 0x17e88994898>,\n",
       " <matplotlib.lines.Line2D at 0x17e889949e8>,\n",
       " <matplotlib.lines.Line2D at 0x17e88994b38>,\n",
       " <matplotlib.lines.Line2D at 0x17e88994c88>,\n",
       " <matplotlib.lines.Line2D at 0x17e88994dd8>,\n",
       " <matplotlib.lines.Line2D at 0x17e88994f28>,\n",
       " <matplotlib.lines.Line2D at 0x17e8899b0b8>,\n",
       " <matplotlib.lines.Line2D at 0x17e8899b208>,\n",
       " <matplotlib.lines.Line2D at 0x17e8899b358>,\n",
       " <matplotlib.lines.Line2D at 0x17e8899b4a8>,\n",
       " <matplotlib.lines.Line2D at 0x17e8899b5f8>,\n",
       " <matplotlib.lines.Line2D at 0x17e8899b748>,\n",
       " <matplotlib.lines.Line2D at 0x17e8899b898>,\n",
       " <matplotlib.lines.Line2D at 0x17e8899b9e8>,\n",
       " <matplotlib.lines.Line2D at 0x17e8899bb38>,\n",
       " <matplotlib.lines.Line2D at 0x17e8899bc88>,\n",
       " <matplotlib.lines.Line2D at 0x17e8899bdd8>,\n",
       " <matplotlib.lines.Line2D at 0x17e8899bf28>,\n",
       " <matplotlib.lines.Line2D at 0x17e8899f0b8>,\n",
       " <matplotlib.lines.Line2D at 0x17e8899f208>,\n",
       " <matplotlib.lines.Line2D at 0x17e8899f358>,\n",
       " <matplotlib.lines.Line2D at 0x17e8899f4a8>,\n",
       " <matplotlib.lines.Line2D at 0x17e8899f5f8>,\n",
       " <matplotlib.lines.Line2D at 0x17e8899f748>,\n",
       " <matplotlib.lines.Line2D at 0x17e8899f898>,\n",
       " <matplotlib.lines.Line2D at 0x17e8899f9e8>,\n",
       " <matplotlib.lines.Line2D at 0x17e8899fb38>,\n",
       " <matplotlib.lines.Line2D at 0x17e8899fc88>,\n",
       " <matplotlib.lines.Line2D at 0x17e8899fdd8>,\n",
       " <matplotlib.lines.Line2D at 0x17e8899ff28>,\n",
       " <matplotlib.lines.Line2D at 0x17e889a50b8>,\n",
       " <matplotlib.lines.Line2D at 0x17e889a5208>,\n",
       " <matplotlib.lines.Line2D at 0x17e889a5358>,\n",
       " <matplotlib.lines.Line2D at 0x17e889a54a8>,\n",
       " <matplotlib.lines.Line2D at 0x17e889a55f8>,\n",
       " <matplotlib.lines.Line2D at 0x17e889a5748>,\n",
       " <matplotlib.lines.Line2D at 0x17e889a5898>,\n",
       " <matplotlib.lines.Line2D at 0x17e889a59e8>,\n",
       " <matplotlib.lines.Line2D at 0x17e889a5b38>,\n",
       " <matplotlib.lines.Line2D at 0x17e889a5c88>,\n",
       " <matplotlib.lines.Line2D at 0x17e889a5dd8>,\n",
       " <matplotlib.lines.Line2D at 0x17e889a5f28>,\n",
       " <matplotlib.lines.Line2D at 0x17e889ab0b8>,\n",
       " <matplotlib.lines.Line2D at 0x17e889ab208>,\n",
       " <matplotlib.lines.Line2D at 0x17e889ab358>,\n",
       " <matplotlib.lines.Line2D at 0x17e889ab4a8>,\n",
       " <matplotlib.lines.Line2D at 0x17e889ab5f8>,\n",
       " <matplotlib.lines.Line2D at 0x17e889ab748>,\n",
       " <matplotlib.lines.Line2D at 0x17e889ab898>,\n",
       " <matplotlib.lines.Line2D at 0x17e889ab9e8>,\n",
       " <matplotlib.lines.Line2D at 0x17e889abb38>,\n",
       " <matplotlib.lines.Line2D at 0x17e889abc88>,\n",
       " <matplotlib.lines.Line2D at 0x17e889abdd8>,\n",
       " <matplotlib.lines.Line2D at 0x17e889abf28>,\n",
       " <matplotlib.lines.Line2D at 0x17e889b10b8>,\n",
       " <matplotlib.lines.Line2D at 0x17e889b1208>,\n",
       " <matplotlib.lines.Line2D at 0x17e889b1358>,\n",
       " <matplotlib.lines.Line2D at 0x17e889b14a8>,\n",
       " <matplotlib.lines.Line2D at 0x17e889b15f8>,\n",
       " <matplotlib.lines.Line2D at 0x17e889b1748>,\n",
       " <matplotlib.lines.Line2D at 0x17e889b1898>,\n",
       " <matplotlib.lines.Line2D at 0x17e889b19e8>,\n",
       " <matplotlib.lines.Line2D at 0x17e889b1b38>,\n",
       " <matplotlib.lines.Line2D at 0x17e889b1c88>,\n",
       " <matplotlib.lines.Line2D at 0x17e889b1dd8>,\n",
       " <matplotlib.lines.Line2D at 0x17e889b1f28>,\n",
       " <matplotlib.lines.Line2D at 0x17e889b50b8>,\n",
       " <matplotlib.lines.Line2D at 0x17e889b5208>,\n",
       " <matplotlib.lines.Line2D at 0x17e889b5358>,\n",
       " <matplotlib.lines.Line2D at 0x17e889b54a8>,\n",
       " <matplotlib.lines.Line2D at 0x17e889b55f8>,\n",
       " <matplotlib.lines.Line2D at 0x17e889b5748>,\n",
       " <matplotlib.lines.Line2D at 0x17e889b5898>,\n",
       " <matplotlib.lines.Line2D at 0x17e889b59e8>,\n",
       " <matplotlib.lines.Line2D at 0x17e889b5b38>,\n",
       " <matplotlib.lines.Line2D at 0x17e889b5c88>,\n",
       " <matplotlib.lines.Line2D at 0x17e889b5dd8>,\n",
       " <matplotlib.lines.Line2D at 0x17e889b5f28>,\n",
       " <matplotlib.lines.Line2D at 0x17e889bc0b8>,\n",
       " <matplotlib.lines.Line2D at 0x17e889bc208>,\n",
       " <matplotlib.lines.Line2D at 0x17e889bc358>,\n",
       " <matplotlib.lines.Line2D at 0x17e889bc4a8>,\n",
       " <matplotlib.lines.Line2D at 0x17e889bc5f8>,\n",
       " <matplotlib.lines.Line2D at 0x17e889bc748>,\n",
       " <matplotlib.lines.Line2D at 0x17e889bc898>,\n",
       " <matplotlib.lines.Line2D at 0x17e889bc9e8>,\n",
       " <matplotlib.lines.Line2D at 0x17e889bcb38>,\n",
       " <matplotlib.lines.Line2D at 0x17e889bcc88>,\n",
       " <matplotlib.lines.Line2D at 0x17e889bcdd8>,\n",
       " <matplotlib.lines.Line2D at 0x17e889bcf28>,\n",
       " <matplotlib.lines.Line2D at 0x17e889c10b8>,\n",
       " <matplotlib.lines.Line2D at 0x17e889c1208>,\n",
       " <matplotlib.lines.Line2D at 0x17e889c1358>,\n",
       " <matplotlib.lines.Line2D at 0x17e889c14a8>,\n",
       " <matplotlib.lines.Line2D at 0x17e889c15f8>,\n",
       " <matplotlib.lines.Line2D at 0x17e889c1748>,\n",
       " <matplotlib.lines.Line2D at 0x17e889c1898>,\n",
       " <matplotlib.lines.Line2D at 0x17e889c19e8>,\n",
       " <matplotlib.lines.Line2D at 0x17e889c1b38>,\n",
       " <matplotlib.lines.Line2D at 0x17e889c1c88>,\n",
       " <matplotlib.lines.Line2D at 0x17e889c1dd8>,\n",
       " <matplotlib.lines.Line2D at 0x17e889c1f28>,\n",
       " <matplotlib.lines.Line2D at 0x17e889c70b8>,\n",
       " <matplotlib.lines.Line2D at 0x17e889c7208>,\n",
       " <matplotlib.lines.Line2D at 0x17e889c7358>,\n",
       " <matplotlib.lines.Line2D at 0x17e889c74a8>,\n",
       " <matplotlib.lines.Line2D at 0x17e889c75f8>,\n",
       " <matplotlib.lines.Line2D at 0x17e889c7748>,\n",
       " <matplotlib.lines.Line2D at 0x17e889c7898>,\n",
       " <matplotlib.lines.Line2D at 0x17e889c79e8>,\n",
       " <matplotlib.lines.Line2D at 0x17e889c7b38>,\n",
       " <matplotlib.lines.Line2D at 0x17e889c7c88>,\n",
       " <matplotlib.lines.Line2D at 0x17e889c7dd8>,\n",
       " <matplotlib.lines.Line2D at 0x17e889c7f28>,\n",
       " <matplotlib.lines.Line2D at 0x17e889cc0b8>,\n",
       " <matplotlib.lines.Line2D at 0x17e889cc208>,\n",
       " <matplotlib.lines.Line2D at 0x17e889cc358>,\n",
       " <matplotlib.lines.Line2D at 0x17e889cc4a8>,\n",
       " <matplotlib.lines.Line2D at 0x17e889cc5f8>,\n",
       " <matplotlib.lines.Line2D at 0x17e889cc748>,\n",
       " <matplotlib.lines.Line2D at 0x17e889cc898>,\n",
       " <matplotlib.lines.Line2D at 0x17e889cc9e8>,\n",
       " <matplotlib.lines.Line2D at 0x17e889ccb38>,\n",
       " <matplotlib.lines.Line2D at 0x17e889ccc88>,\n",
       " <matplotlib.lines.Line2D at 0x17e889ccdd8>,\n",
       " <matplotlib.lines.Line2D at 0x17e889ccf28>,\n",
       " <matplotlib.lines.Line2D at 0x17e889d20b8>,\n",
       " <matplotlib.lines.Line2D at 0x17e889d2208>,\n",
       " <matplotlib.lines.Line2D at 0x17e889d2358>,\n",
       " <matplotlib.lines.Line2D at 0x17e889d24a8>,\n",
       " <matplotlib.lines.Line2D at 0x17e889d25f8>,\n",
       " <matplotlib.lines.Line2D at 0x17e889d2748>,\n",
       " <matplotlib.lines.Line2D at 0x17e889d2898>,\n",
       " <matplotlib.lines.Line2D at 0x17e889d29e8>,\n",
       " <matplotlib.lines.Line2D at 0x17e889d2b38>,\n",
       " <matplotlib.lines.Line2D at 0x17e889d2c88>,\n",
       " <matplotlib.lines.Line2D at 0x17e889d2dd8>,\n",
       " <matplotlib.lines.Line2D at 0x17e889d2f28>,\n",
       " <matplotlib.lines.Line2D at 0x17e889d70b8>,\n",
       " <matplotlib.lines.Line2D at 0x17e889d7208>,\n",
       " <matplotlib.lines.Line2D at 0x17e889d7358>,\n",
       " <matplotlib.lines.Line2D at 0x17e889d74a8>,\n",
       " <matplotlib.lines.Line2D at 0x17e889d75f8>,\n",
       " <matplotlib.lines.Line2D at 0x17e889d7748>,\n",
       " <matplotlib.lines.Line2D at 0x17e889d7898>,\n",
       " <matplotlib.lines.Line2D at 0x17e889d79e8>,\n",
       " <matplotlib.lines.Line2D at 0x17e889d7b38>,\n",
       " <matplotlib.lines.Line2D at 0x17e889d7c88>,\n",
       " <matplotlib.lines.Line2D at 0x17e889d7dd8>,\n",
       " <matplotlib.lines.Line2D at 0x17e889d7f28>,\n",
       " <matplotlib.lines.Line2D at 0x17e889dd0b8>,\n",
       " <matplotlib.lines.Line2D at 0x17e889dd208>,\n",
       " <matplotlib.lines.Line2D at 0x17e889dd358>,\n",
       " <matplotlib.lines.Line2D at 0x17e889dd4a8>,\n",
       " <matplotlib.lines.Line2D at 0x17e889dd5f8>,\n",
       " <matplotlib.lines.Line2D at 0x17e889dd748>,\n",
       " <matplotlib.lines.Line2D at 0x17e889dd898>,\n",
       " <matplotlib.lines.Line2D at 0x17e889dd9e8>,\n",
       " <matplotlib.lines.Line2D at 0x17e889ddb38>,\n",
       " <matplotlib.lines.Line2D at 0x17e889ddc88>,\n",
       " <matplotlib.lines.Line2D at 0x17e889dddd8>,\n",
       " <matplotlib.lines.Line2D at 0x17e889ddf28>,\n",
       " <matplotlib.lines.Line2D at 0x17e889e20b8>,\n",
       " <matplotlib.lines.Line2D at 0x17e889e2208>,\n",
       " <matplotlib.lines.Line2D at 0x17e889e2358>,\n",
       " <matplotlib.lines.Line2D at 0x17e889e24a8>,\n",
       " <matplotlib.lines.Line2D at 0x17e889e25f8>,\n",
       " <matplotlib.lines.Line2D at 0x17e889e2748>,\n",
       " <matplotlib.lines.Line2D at 0x17e889e2898>,\n",
       " <matplotlib.lines.Line2D at 0x17e889e29e8>,\n",
       " <matplotlib.lines.Line2D at 0x17e889e2b38>,\n",
       " <matplotlib.lines.Line2D at 0x17e889e2c88>,\n",
       " <matplotlib.lines.Line2D at 0x17e889e2dd8>,\n",
       " <matplotlib.lines.Line2D at 0x17e889e2f28>,\n",
       " <matplotlib.lines.Line2D at 0x17e889e80b8>,\n",
       " <matplotlib.lines.Line2D at 0x17e889e8208>,\n",
       " <matplotlib.lines.Line2D at 0x17e889e8358>,\n",
       " <matplotlib.lines.Line2D at 0x17e889e84a8>,\n",
       " <matplotlib.lines.Line2D at 0x17e889e85f8>,\n",
       " <matplotlib.lines.Line2D at 0x17e889e8748>,\n",
       " <matplotlib.lines.Line2D at 0x17e889e8898>,\n",
       " <matplotlib.lines.Line2D at 0x17e889e89e8>,\n",
       " <matplotlib.lines.Line2D at 0x17e889e8b38>,\n",
       " <matplotlib.lines.Line2D at 0x17e889e8c88>,\n",
       " <matplotlib.lines.Line2D at 0x17e889e8dd8>,\n",
       " <matplotlib.lines.Line2D at 0x17e889e8f28>,\n",
       " <matplotlib.lines.Line2D at 0x17e889ee0b8>,\n",
       " <matplotlib.lines.Line2D at 0x17e889ee208>,\n",
       " <matplotlib.lines.Line2D at 0x17e889ee358>,\n",
       " <matplotlib.lines.Line2D at 0x17e889ee4a8>,\n",
       " <matplotlib.lines.Line2D at 0x17e889ee5f8>,\n",
       " <matplotlib.lines.Line2D at 0x17e889ee748>,\n",
       " <matplotlib.lines.Line2D at 0x17e889ee898>,\n",
       " <matplotlib.lines.Line2D at 0x17e889ee9e8>,\n",
       " <matplotlib.lines.Line2D at 0x17e889eeb38>,\n",
       " <matplotlib.lines.Line2D at 0x17e889eec88>,\n",
       " <matplotlib.lines.Line2D at 0x17e889eedd8>,\n",
       " <matplotlib.lines.Line2D at 0x17e889eef28>,\n",
       " <matplotlib.lines.Line2D at 0x17e889f30b8>,\n",
       " <matplotlib.lines.Line2D at 0x17e889f3208>,\n",
       " <matplotlib.lines.Line2D at 0x17e889f3358>,\n",
       " <matplotlib.lines.Line2D at 0x17e889f34a8>,\n",
       " <matplotlib.lines.Line2D at 0x17e889f35f8>,\n",
       " <matplotlib.lines.Line2D at 0x17e889f3748>,\n",
       " <matplotlib.lines.Line2D at 0x17e889f3898>,\n",
       " <matplotlib.lines.Line2D at 0x17e889f39e8>,\n",
       " <matplotlib.lines.Line2D at 0x17e889f3b38>,\n",
       " <matplotlib.lines.Line2D at 0x17e889f3c88>,\n",
       " <matplotlib.lines.Line2D at 0x17e889f3dd8>,\n",
       " <matplotlib.lines.Line2D at 0x17e889f3f28>,\n",
       " <matplotlib.lines.Line2D at 0x17e889f80b8>,\n",
       " <matplotlib.lines.Line2D at 0x17e889f8208>,\n",
       " <matplotlib.lines.Line2D at 0x17e889f8358>,\n",
       " <matplotlib.lines.Line2D at 0x17e889f84a8>,\n",
       " <matplotlib.lines.Line2D at 0x17e889f85f8>,\n",
       " <matplotlib.lines.Line2D at 0x17e889f8748>,\n",
       " <matplotlib.lines.Line2D at 0x17e889f8898>,\n",
       " <matplotlib.lines.Line2D at 0x17e889f89e8>,\n",
       " <matplotlib.lines.Line2D at 0x17e889f8b38>,\n",
       " <matplotlib.lines.Line2D at 0x17e889f8c88>,\n",
       " <matplotlib.lines.Line2D at 0x17e889f8dd8>,\n",
       " <matplotlib.lines.Line2D at 0x17e889f8f28>,\n",
       " <matplotlib.lines.Line2D at 0x17e889ff0b8>,\n",
       " <matplotlib.lines.Line2D at 0x17e889ff208>,\n",
       " <matplotlib.lines.Line2D at 0x17e889ff358>,\n",
       " <matplotlib.lines.Line2D at 0x17e889ff4a8>,\n",
       " <matplotlib.lines.Line2D at 0x17e889ff5f8>,\n",
       " <matplotlib.lines.Line2D at 0x17e889ff748>,\n",
       " <matplotlib.lines.Line2D at 0x17e889ff898>,\n",
       " <matplotlib.lines.Line2D at 0x17e889ff9e8>,\n",
       " <matplotlib.lines.Line2D at 0x17e889ffb38>,\n",
       " <matplotlib.lines.Line2D at 0x17e889ffc88>,\n",
       " <matplotlib.lines.Line2D at 0x17e889ffdd8>,\n",
       " <matplotlib.lines.Line2D at 0x17e889fff28>,\n",
       " <matplotlib.lines.Line2D at 0x17e88a440b8>,\n",
       " <matplotlib.lines.Line2D at 0x17e88a44208>,\n",
       " <matplotlib.lines.Line2D at 0x17e88a44358>,\n",
       " <matplotlib.lines.Line2D at 0x17e88a444a8>,\n",
       " <matplotlib.lines.Line2D at 0x17e88a445f8>,\n",
       " <matplotlib.lines.Line2D at 0x17e88a44748>,\n",
       " <matplotlib.lines.Line2D at 0x17e88a44898>,\n",
       " <matplotlib.lines.Line2D at 0x17e88a449e8>,\n",
       " <matplotlib.lines.Line2D at 0x17e88a44b38>,\n",
       " <matplotlib.lines.Line2D at 0x17e88a44c88>,\n",
       " <matplotlib.lines.Line2D at 0x17e88a44dd8>,\n",
       " <matplotlib.lines.Line2D at 0x17e88a44f28>,\n",
       " <matplotlib.lines.Line2D at 0x17e88a490b8>,\n",
       " <matplotlib.lines.Line2D at 0x17e88a49208>,\n",
       " <matplotlib.lines.Line2D at 0x17e88a49358>,\n",
       " <matplotlib.lines.Line2D at 0x17e88a494a8>,\n",
       " <matplotlib.lines.Line2D at 0x17e88a495f8>,\n",
       " <matplotlib.lines.Line2D at 0x17e88a49748>,\n",
       " <matplotlib.lines.Line2D at 0x17e88a49898>,\n",
       " <matplotlib.lines.Line2D at 0x17e88a499e8>,\n",
       " <matplotlib.lines.Line2D at 0x17e88a49b38>,\n",
       " <matplotlib.lines.Line2D at 0x17e88a49c88>,\n",
       " <matplotlib.lines.Line2D at 0x17e88a49dd8>,\n",
       " <matplotlib.lines.Line2D at 0x17e88a49f28>,\n",
       " <matplotlib.lines.Line2D at 0x17e88a500b8>,\n",
       " <matplotlib.lines.Line2D at 0x17e88a50208>,\n",
       " <matplotlib.lines.Line2D at 0x17e88a50358>,\n",
       " <matplotlib.lines.Line2D at 0x17e88a504a8>,\n",
       " <matplotlib.lines.Line2D at 0x17e88a505f8>,\n",
       " <matplotlib.lines.Line2D at 0x17e88a50748>,\n",
       " <matplotlib.lines.Line2D at 0x17e88a50898>,\n",
       " <matplotlib.lines.Line2D at 0x17e88a509e8>,\n",
       " <matplotlib.lines.Line2D at 0x17e88a50b38>,\n",
       " <matplotlib.lines.Line2D at 0x17e88a50c88>,\n",
       " <matplotlib.lines.Line2D at 0x17e88a50dd8>,\n",
       " <matplotlib.lines.Line2D at 0x17e88a50f28>,\n",
       " <matplotlib.lines.Line2D at 0x17e88a540b8>,\n",
       " <matplotlib.lines.Line2D at 0x17e88a54208>,\n",
       " <matplotlib.lines.Line2D at 0x17e88a54358>,\n",
       " <matplotlib.lines.Line2D at 0x17e88a544a8>,\n",
       " <matplotlib.lines.Line2D at 0x17e88a545f8>,\n",
       " <matplotlib.lines.Line2D at 0x17e88a54748>,\n",
       " <matplotlib.lines.Line2D at 0x17e88a54898>,\n",
       " <matplotlib.lines.Line2D at 0x17e88a549e8>,\n",
       " <matplotlib.lines.Line2D at 0x17e88a54b38>,\n",
       " <matplotlib.lines.Line2D at 0x17e88a54c88>,\n",
       " <matplotlib.lines.Line2D at 0x17e88a54dd8>,\n",
       " <matplotlib.lines.Line2D at 0x17e88a54f28>,\n",
       " <matplotlib.lines.Line2D at 0x17e88a5a0b8>,\n",
       " <matplotlib.lines.Line2D at 0x17e88a5a208>,\n",
       " <matplotlib.lines.Line2D at 0x17e88a5a358>,\n",
       " <matplotlib.lines.Line2D at 0x17e88a5a4a8>,\n",
       " <matplotlib.lines.Line2D at 0x17e88a5a5f8>,\n",
       " <matplotlib.lines.Line2D at 0x17e88a5a748>,\n",
       " <matplotlib.lines.Line2D at 0x17e88a5a898>,\n",
       " <matplotlib.lines.Line2D at 0x17e88a5a9e8>,\n",
       " <matplotlib.lines.Line2D at 0x17e88a5ab38>,\n",
       " <matplotlib.lines.Line2D at 0x17e88a5ac88>,\n",
       " <matplotlib.lines.Line2D at 0x17e88a5add8>,\n",
       " <matplotlib.lines.Line2D at 0x17e88a5af28>,\n",
       " <matplotlib.lines.Line2D at 0x17e88a600b8>,\n",
       " <matplotlib.lines.Line2D at 0x17e88a60208>,\n",
       " <matplotlib.lines.Line2D at 0x17e88a60358>,\n",
       " <matplotlib.lines.Line2D at 0x17e88a604a8>,\n",
       " <matplotlib.lines.Line2D at 0x17e88a605f8>,\n",
       " <matplotlib.lines.Line2D at 0x17e88a60748>,\n",
       " <matplotlib.lines.Line2D at 0x17e88a60898>,\n",
       " <matplotlib.lines.Line2D at 0x17e88a609e8>,\n",
       " <matplotlib.lines.Line2D at 0x17e88a60b38>,\n",
       " <matplotlib.lines.Line2D at 0x17e88a60c88>,\n",
       " <matplotlib.lines.Line2D at 0x17e88a60dd8>,\n",
       " <matplotlib.lines.Line2D at 0x17e88a60f28>,\n",
       " <matplotlib.lines.Line2D at 0x17e88a660b8>,\n",
       " <matplotlib.lines.Line2D at 0x17e88a66208>,\n",
       " <matplotlib.lines.Line2D at 0x17e88a66358>,\n",
       " <matplotlib.lines.Line2D at 0x17e88a664a8>,\n",
       " <matplotlib.lines.Line2D at 0x17e88a665f8>,\n",
       " <matplotlib.lines.Line2D at 0x17e88a66748>,\n",
       " <matplotlib.lines.Line2D at 0x17e88a66898>,\n",
       " <matplotlib.lines.Line2D at 0x17e88a669e8>,\n",
       " <matplotlib.lines.Line2D at 0x17e88a66b38>,\n",
       " <matplotlib.lines.Line2D at 0x17e88a66c88>,\n",
       " <matplotlib.lines.Line2D at 0x17e88a66dd8>,\n",
       " <matplotlib.lines.Line2D at 0x17e88a66f28>,\n",
       " <matplotlib.lines.Line2D at 0x17e88a6a0b8>,\n",
       " <matplotlib.lines.Line2D at 0x17e88a6a208>,\n",
       " <matplotlib.lines.Line2D at 0x17e88a6a358>,\n",
       " <matplotlib.lines.Line2D at 0x17e88a6a4a8>,\n",
       " <matplotlib.lines.Line2D at 0x17e88a6a5f8>,\n",
       " <matplotlib.lines.Line2D at 0x17e88a6a748>,\n",
       " <matplotlib.lines.Line2D at 0x17e88a6a898>,\n",
       " <matplotlib.lines.Line2D at 0x17e88a6a9e8>,\n",
       " <matplotlib.lines.Line2D at 0x17e88a6ab38>,\n",
       " <matplotlib.lines.Line2D at 0x17e88a6ac88>,\n",
       " <matplotlib.lines.Line2D at 0x17e88a6add8>,\n",
       " <matplotlib.lines.Line2D at 0x17e88a6af28>,\n",
       " <matplotlib.lines.Line2D at 0x17e88a710b8>,\n",
       " <matplotlib.lines.Line2D at 0x17e88a71208>,\n",
       " <matplotlib.lines.Line2D at 0x17e88a71358>,\n",
       " <matplotlib.lines.Line2D at 0x17e88a714a8>,\n",
       " <matplotlib.lines.Line2D at 0x17e88a715f8>,\n",
       " <matplotlib.lines.Line2D at 0x17e88a71748>,\n",
       " <matplotlib.lines.Line2D at 0x17e88a71898>,\n",
       " <matplotlib.lines.Line2D at 0x17e88a719e8>,\n",
       " <matplotlib.lines.Line2D at 0x17e88a71b38>,\n",
       " <matplotlib.lines.Line2D at 0x17e88a71c88>,\n",
       " <matplotlib.lines.Line2D at 0x17e88a71dd8>,\n",
       " <matplotlib.lines.Line2D at 0x17e88a71f28>,\n",
       " <matplotlib.lines.Line2D at 0x17e88a760b8>,\n",
       " <matplotlib.lines.Line2D at 0x17e88a76208>,\n",
       " <matplotlib.lines.Line2D at 0x17e88a76358>,\n",
       " <matplotlib.lines.Line2D at 0x17e88a764a8>,\n",
       " <matplotlib.lines.Line2D at 0x17e88a765f8>,\n",
       " <matplotlib.lines.Line2D at 0x17e88a76748>,\n",
       " <matplotlib.lines.Line2D at 0x17e88a76898>,\n",
       " <matplotlib.lines.Line2D at 0x17e88a769e8>,\n",
       " <matplotlib.lines.Line2D at 0x17e88a76b38>,\n",
       " <matplotlib.lines.Line2D at 0x17e88a76c88>,\n",
       " <matplotlib.lines.Line2D at 0x17e88a76dd8>,\n",
       " <matplotlib.lines.Line2D at 0x17e88a76f28>,\n",
       " <matplotlib.lines.Line2D at 0x17e88a7c0b8>,\n",
       " <matplotlib.lines.Line2D at 0x17e88a7c208>,\n",
       " <matplotlib.lines.Line2D at 0x17e88a7c358>,\n",
       " <matplotlib.lines.Line2D at 0x17e88a7c4a8>,\n",
       " <matplotlib.lines.Line2D at 0x17e88a7c5f8>,\n",
       " <matplotlib.lines.Line2D at 0x17e88a7c748>,\n",
       " <matplotlib.lines.Line2D at 0x17e88a7c898>,\n",
       " <matplotlib.lines.Line2D at 0x17e88a7c9e8>,\n",
       " <matplotlib.lines.Line2D at 0x17e88a7cb38>,\n",
       " <matplotlib.lines.Line2D at 0x17e88a7cc88>,\n",
       " <matplotlib.lines.Line2D at 0x17e88a7cdd8>,\n",
       " <matplotlib.lines.Line2D at 0x17e88a7cf28>,\n",
       " <matplotlib.lines.Line2D at 0x17e88a810b8>,\n",
       " <matplotlib.lines.Line2D at 0x17e88a81208>,\n",
       " <matplotlib.lines.Line2D at 0x17e88a81358>,\n",
       " <matplotlib.lines.Line2D at 0x17e88a814a8>,\n",
       " <matplotlib.lines.Line2D at 0x17e88a815f8>,\n",
       " <matplotlib.lines.Line2D at 0x17e88a81748>,\n",
       " <matplotlib.lines.Line2D at 0x17e88a81898>,\n",
       " <matplotlib.lines.Line2D at 0x17e88a819e8>,\n",
       " <matplotlib.lines.Line2D at 0x17e88a81b38>,\n",
       " <matplotlib.lines.Line2D at 0x17e88a81c88>,\n",
       " <matplotlib.lines.Line2D at 0x17e88a81dd8>,\n",
       " <matplotlib.lines.Line2D at 0x17e88a81f28>,\n",
       " <matplotlib.lines.Line2D at 0x17e88a870b8>,\n",
       " <matplotlib.lines.Line2D at 0x17e88a87208>,\n",
       " <matplotlib.lines.Line2D at 0x17e88a87358>,\n",
       " <matplotlib.lines.Line2D at 0x17e88a874a8>,\n",
       " <matplotlib.lines.Line2D at 0x17e88a875f8>,\n",
       " <matplotlib.lines.Line2D at 0x17e88a87748>,\n",
       " <matplotlib.lines.Line2D at 0x17e88a87898>,\n",
       " <matplotlib.lines.Line2D at 0x17e88a879e8>,\n",
       " <matplotlib.lines.Line2D at 0x17e88a87b38>,\n",
       " <matplotlib.lines.Line2D at 0x17e88a87c88>,\n",
       " <matplotlib.lines.Line2D at 0x17e88a87dd8>,\n",
       " <matplotlib.lines.Line2D at 0x17e88a87f28>,\n",
       " <matplotlib.lines.Line2D at 0x17e88a8c0b8>,\n",
       " <matplotlib.lines.Line2D at 0x17e88a8c208>,\n",
       " <matplotlib.lines.Line2D at 0x17e88a8c358>,\n",
       " <matplotlib.lines.Line2D at 0x17e88a8c4a8>,\n",
       " <matplotlib.lines.Line2D at 0x17e88a8c5f8>,\n",
       " <matplotlib.lines.Line2D at 0x17e88a8c748>,\n",
       " <matplotlib.lines.Line2D at 0x17e88a8c898>,\n",
       " <matplotlib.lines.Line2D at 0x17e88a8c9e8>,\n",
       " <matplotlib.lines.Line2D at 0x17e88a8cb38>,\n",
       " <matplotlib.lines.Line2D at 0x17e88a8cc88>,\n",
       " <matplotlib.lines.Line2D at 0x17e88a8cdd8>,\n",
       " <matplotlib.lines.Line2D at 0x17e88a8cf28>,\n",
       " <matplotlib.lines.Line2D at 0x17e88a920b8>,\n",
       " <matplotlib.lines.Line2D at 0x17e88a92208>,\n",
       " <matplotlib.lines.Line2D at 0x17e88a92358>,\n",
       " <matplotlib.lines.Line2D at 0x17e88a924a8>,\n",
       " <matplotlib.lines.Line2D at 0x17e88a925f8>,\n",
       " <matplotlib.lines.Line2D at 0x17e88a92748>,\n",
       " <matplotlib.lines.Line2D at 0x17e88a92898>,\n",
       " <matplotlib.lines.Line2D at 0x17e88a929e8>,\n",
       " <matplotlib.lines.Line2D at 0x17e88a92b38>,\n",
       " <matplotlib.lines.Line2D at 0x17e88a92c88>,\n",
       " <matplotlib.lines.Line2D at 0x17e88a92dd8>,\n",
       " <matplotlib.lines.Line2D at 0x17e88a92f28>,\n",
       " <matplotlib.lines.Line2D at 0x17e88a970b8>,\n",
       " <matplotlib.lines.Line2D at 0x17e88a97208>,\n",
       " <matplotlib.lines.Line2D at 0x17e88a97358>,\n",
       " <matplotlib.lines.Line2D at 0x17e88a974a8>,\n",
       " <matplotlib.lines.Line2D at 0x17e88a975f8>,\n",
       " <matplotlib.lines.Line2D at 0x17e88a97748>,\n",
       " <matplotlib.lines.Line2D at 0x17e88a97898>,\n",
       " <matplotlib.lines.Line2D at 0x17e88a979e8>,\n",
       " <matplotlib.lines.Line2D at 0x17e88a97b38>,\n",
       " <matplotlib.lines.Line2D at 0x17e88a97c88>,\n",
       " <matplotlib.lines.Line2D at 0x17e88a97dd8>,\n",
       " <matplotlib.lines.Line2D at 0x17e88a97f28>,\n",
       " <matplotlib.lines.Line2D at 0x17e88a9d0b8>,\n",
       " <matplotlib.lines.Line2D at 0x17e88a9d208>,\n",
       " <matplotlib.lines.Line2D at 0x17e88a9d358>,\n",
       " <matplotlib.lines.Line2D at 0x17e88a9d4a8>,\n",
       " <matplotlib.lines.Line2D at 0x17e88a9d5f8>,\n",
       " <matplotlib.lines.Line2D at 0x17e88a9d748>,\n",
       " <matplotlib.lines.Line2D at 0x17e88a9d898>,\n",
       " <matplotlib.lines.Line2D at 0x17e88a9d9e8>,\n",
       " <matplotlib.lines.Line2D at 0x17e88a9db38>,\n",
       " <matplotlib.lines.Line2D at 0x17e88a9dc88>,\n",
       " <matplotlib.lines.Line2D at 0x17e88a9ddd8>,\n",
       " <matplotlib.lines.Line2D at 0x17e88a9df28>,\n",
       " <matplotlib.lines.Line2D at 0x17e88aa30b8>,\n",
       " <matplotlib.lines.Line2D at 0x17e88aa3208>,\n",
       " <matplotlib.lines.Line2D at 0x17e88aa3358>,\n",
       " <matplotlib.lines.Line2D at 0x17e88aa34a8>,\n",
       " <matplotlib.lines.Line2D at 0x17e88aa35f8>,\n",
       " <matplotlib.lines.Line2D at 0x17e88aa3748>,\n",
       " <matplotlib.lines.Line2D at 0x17e88aa3898>,\n",
       " <matplotlib.lines.Line2D at 0x17e88aa39e8>,\n",
       " <matplotlib.lines.Line2D at 0x17e88aa3b38>,\n",
       " <matplotlib.lines.Line2D at 0x17e88aa3c88>,\n",
       " <matplotlib.lines.Line2D at 0x17e88aa3dd8>,\n",
       " <matplotlib.lines.Line2D at 0x17e88aa3f28>,\n",
       " <matplotlib.lines.Line2D at 0x17e88aa80b8>,\n",
       " <matplotlib.lines.Line2D at 0x17e88aa8208>,\n",
       " <matplotlib.lines.Line2D at 0x17e88aa8358>,\n",
       " <matplotlib.lines.Line2D at 0x17e88aa84a8>,\n",
       " <matplotlib.lines.Line2D at 0x17e88aa85f8>,\n",
       " <matplotlib.lines.Line2D at 0x17e88aa8748>,\n",
       " <matplotlib.lines.Line2D at 0x17e88aa8898>,\n",
       " <matplotlib.lines.Line2D at 0x17e88aa89e8>,\n",
       " <matplotlib.lines.Line2D at 0x17e88aa8b38>,\n",
       " <matplotlib.lines.Line2D at 0x17e88aa8c88>,\n",
       " <matplotlib.lines.Line2D at 0x17e88aa8dd8>,\n",
       " <matplotlib.lines.Line2D at 0x17e88aa8f28>,\n",
       " <matplotlib.lines.Line2D at 0x17e88aad0b8>,\n",
       " <matplotlib.lines.Line2D at 0x17e88aad208>,\n",
       " <matplotlib.lines.Line2D at 0x17e88aad358>,\n",
       " <matplotlib.lines.Line2D at 0x17e88aad4a8>,\n",
       " <matplotlib.lines.Line2D at 0x17e88aad5f8>,\n",
       " <matplotlib.lines.Line2D at 0x17e88aad748>,\n",
       " <matplotlib.lines.Line2D at 0x17e88aad898>,\n",
       " <matplotlib.lines.Line2D at 0x17e88aad9e8>,\n",
       " <matplotlib.lines.Line2D at 0x17e88aadb38>,\n",
       " <matplotlib.lines.Line2D at 0x17e88aadc88>,\n",
       " <matplotlib.lines.Line2D at 0x17e88aaddd8>,\n",
       " <matplotlib.lines.Line2D at 0x17e88aadf28>,\n",
       " <matplotlib.lines.Line2D at 0x17e88ab40b8>,\n",
       " <matplotlib.lines.Line2D at 0x17e88ab4208>,\n",
       " <matplotlib.lines.Line2D at 0x17e88ab4358>,\n",
       " <matplotlib.lines.Line2D at 0x17e88ab44a8>,\n",
       " <matplotlib.lines.Line2D at 0x17e88ab45f8>,\n",
       " <matplotlib.lines.Line2D at 0x17e88ab4748>,\n",
       " <matplotlib.lines.Line2D at 0x17e88ab4898>,\n",
       " <matplotlib.lines.Line2D at 0x17e88ab49e8>,\n",
       " <matplotlib.lines.Line2D at 0x17e88ab4b38>,\n",
       " <matplotlib.lines.Line2D at 0x17e88ab4c88>,\n",
       " ...]"
      ]
     },
     "execution_count": 50,
     "metadata": {},
     "output_type": "execute_result"
    },
    {
     "data": {
      "image/png": "[encoded data removed]",
      "text/plain": [
       "<Figure size 1440x360 with 2 Axes>"
      ]
     },
     "metadata": {
      "needs_background": "light"
     },
     "output_type": "display_data"
    }
   ],
   "source": [
    "SNR = 0.1\n",
    "noise_variance = np.var(labels)/SNR# Your code here.\n",
    "noisy_measurements = labels + np.sqrt(noise_variance) * np.random.randn(n_nodes)\n",
    "fig, ax = plt.subplots(1,2,figsize=(20,5))\n",
    "ax[0].plot(e, abs(GFT(labels)))\n",
    "ax[1].plot(e, abs(GFT(noisy_measurements)))"
   ]
  },
  {
   "cell_type": "markdown",
   "metadata": {},
   "source": [
    "### Question 10\n",
    "\n",
    "In the denoising setting, a common graph signal processing assumption is that the signal $z$ that we want to recover is \"smooth\", in the sense that $\\|\\nabla_G z\\|_2 = \\sqrt{z^{\\top} L z}$ is small, while remaining \"close\" to the measurements that we start with. This leads to denoising by solving the following optimization problem:\n",
    "\n",
    "$$\n",
    "z^\\star = \\text{arg} \\, \\underset{z \\in \\mathbb{R}^{N}}{\\min} \\, \\|z - y\\|_2^2 + \\gamma z^{\\top} L z, \n",
    "$$\n",
    "\n",
    "where $y \\in \\mathbb{R}^{N}$ is the vector of noisy measurements.\n",
    "\n",
    "Derive the close form solution to this problem giving $z^\\star$ as a function of $y$, $\\gamma$ and $L$. Does this solution correspond to any graph filtering operation that you know?"
   ]
  },
  {
   "cell_type": "markdown",
   "metadata": {},
   "source": [
    "**Your answer here.**\n",
    "\n",
    "Compute the gradient of optimizationproblem and set the gradient to zero. Because we can easily find out that the optimization problem is convex, thus $z^\\star$ making gradient to zero is the solution.\n",
    "\n",
    "$$z^\\star = (1 + \\gamma L)^{-1} y$$\n",
    "\n",
    "It has a similar form to inverse filter."
   ]
  },
  {
   "cell_type": "markdown",
   "metadata": {},
   "source": [
    "### Question 11\n",
    "\n",
    "Now, denoise the noisy measurements by passing them through the filters that you implemented in Question 6. Choose the filter parameters based on the behavior of the GFT of your original label signal (this is the prior knowledge that you input to the problem)."
   ]
  },
  {
   "cell_type": "code",
   "execution_count": 135,
   "metadata": {},
   "outputs": [
    {
     "data": {
      "text/plain": [
       "[<matplotlib.lines.Line2D at 0x17710dbb048>]"
      ]
     },
     "execution_count": 135,
     "metadata": {},
     "output_type": "execute_result"
    },
    {
     "data": {
      "image/png": "[encoded data removed]",
      "text/plain": [
       "<Figure size 1440x360 with 2 Axes>"
      ]
     },
     "metadata": {
      "needs_background": "light"
     },
     "output_type": "display_data"
    }
   ],
   "source": [
    "# z_heat_denoised = iGFT(graph_filter(x=GFT(noisy_measurements),kernel=heat_kernel, e=e,t=5))# Your code here.\n",
    "z_inverse_denoised = graph_filter(x=noisy_measurements,kernel=inverse_kernel, e=e,t=5)\n",
    "fig, ax = plt.subplots(1,2,figsize=(20,5))\n",
    "ax[0].plot(e, abs(z_inverse_denoised))\n",
    "ax[1].plot(iGFT(z_inverse_denoised))"
   ]
  },
  {
   "cell_type": "code",
   "execution_count": 105,
   "metadata": {},
   "outputs": [
    {
     "data": {
      "text/plain": [
       "[<matplotlib.lines.Line2D at 0x103c17aef0>]"
      ]
     },
     "execution_count": 105,
     "metadata": {},
     "output_type": "execute_result"
    },
    {
     "data": {
      "image/png": "[encoded data removed]",
      "text/plain": [
       "<Figure size 432x288 with 1 Axes>"
      ]
     },
     "metadata": {},
     "output_type": "display_data"
    }
   ],
   "source": [
    "z_rect_denoised = iGFT(graph_filter(x=noisy_measurements,kernel=rectangle_kernel, e=e,l_min=0, l_max=0.1))\n",
    "plt.plot(z_rect_denoised)"
   ]
  },
  {
   "cell_type": "code",
   "execution_count": 72,
   "metadata": {
    "inputHidden": false,
    "outputHidden": false
   },
   "outputs": [
    {
     "ename": "SyntaxError",
     "evalue": "invalid syntax (<ipython-input-72-90fe8124ba03>, line 2)",
     "output_type": "error",
     "traceback": [
      "\u001b[0;36m  File \u001b[0;32m\"<ipython-input-72-90fe8124ba03>\"\u001b[0;36m, line \u001b[0;32m2\u001b[0m\n\u001b[0;31m    z_inv_denoised = # Your code here.\u001b[0m\n\u001b[0m                                      ^\u001b[0m\n\u001b[0;31mSyntaxError\u001b[0m\u001b[0;31m:\u001b[0m invalid syntax\n"
     ]
    }
   ],
   "source": [
    "z_heat_denoised = iGFT(graph_filter(x=GFT(noisy_measurements),kernel=heat_kernel, e=e,t=5))# Your code here.\n",
    "z_inv_denoised = # Your code here.\n",
    "z_rect_denoised = iGFT(graph_filter(x=noisy_measurements,kernel=rectangle_kernel, e=e,l_min=0, l_max=0.1))# Your code here."
   ]
  },
  {
   "cell_type": "markdown",
   "metadata": {},
   "source": [
    "Plot, on your graph, the original label signal, the noisy measurements, and the three denoised version obtained above. Report on each plot the value of the corresponding relative error \n",
    "$$\n",
    "\\text{rel-err} = \\frac{\\|\\text{labels} - z \\|_2}{\\|\\text{labels}\\|_2},\n",
    "$$\n",
    "where $z$ is the plotted signal."
   ]
  },
  {
   "cell_type": "code",
   "execution_count": null,
   "metadata": {
    "inputHidden": false,
    "outputHidden": false
   },
   "outputs": [],
   "source": [
    "# Your code here."
   ]
  },
  {
   "cell_type": "markdown",
   "metadata": {},
   "source": [
    "Finally, overlay on the same plot the GFT of all five signals above."
   ]
  },
  {
   "cell_type": "code",
   "execution_count": null,
   "metadata": {
    "inputHidden": false,
    "outputHidden": false
   },
   "outputs": [],
   "source": [
    "# Your code here."
   ]
  },
  {
   "cell_type": "markdown",
   "metadata": {},
   "source": [
    "### Question 12\n",
    "\n",
    "Comment on which denoised version seems to best match the original label signal. What is the underlying assumption behind the three filtering approaches? Do you think it holds for your label signal? Why?"
   ]
  },
  {
   "cell_type": "markdown",
   "metadata": {},
   "source": [
    "**Your answer here.**"
   ]
  },
  {
   "cell_type": "markdown",
   "metadata": {
    "ExecuteTime": {
     "end_time": "2018-08-31T13:05:59.301384Z",
     "start_time": "2018-08-31T13:05:59.297336Z"
    }
   },
   "source": [
    "## 4 - Transductive learning\n",
    "\n",
    "It is often the case in large networks that we can only afford to query properties/labels on a small subset of nodes. Nonetheless, if the underlying labels signal is \"regular\" enough, we might still be able to recover a good approximation of it by solving an offline variational problem, with constraints on the values of the measured nodes. \n",
    "\n",
    "In this section, we will be interested in solving such transductive learning problems by minimizing a (semi-) p-norm of the graph gradient applied to the signal of interest:\n",
    "\n",
    "$$\n",
    "\\text{arg} \\, \\underset{z|_S = y}{\\min} \\|\\nabla_G z\\|_p^p,\n",
    "$$\n",
    "\n",
    "where $S$ is the set of measured nodes.\n",
    "\n",
    "In English, we can say that we are looking for solutions with small \"aggregated local variations\", as measured by $\\|\\nabla_G z\\|_p^p = \\sum_{i=1}^{n} \\sum_{j=1}^{n} \\left( \\sqrt{W_{ij}} |z[i] - z[j]| \\right)^p,$ while satisfying the measurement constraints $z[i] = y[i]$ for $i \\in S.$\n",
    "\n",
    "We will work with two cases, according to the choices $p=1$ or $p=2.$ For $p=1,$ the problem is known as \"interpolation by graph total-variation minimization,\" whereas for $p=2$ it is sometimes called \"interpolation by Tikhonov regularization\".\n",
    "\n",
    "In order to solve these variational problems with the black-box solver provided to you, you will use the [pyunlocbox](https://pyunlocbox.readthedocs.io). This toolbox implements iterative solvers based on so-called [\"proximal-splitting\"](https://en.wikipedia.org/wiki/Proximal_gradient_method) methods."
   ]
  },
  {
   "cell_type": "markdown",
   "metadata": {},
   "source": [
    "### Question 13\n",
    "\n",
    "Throughout this section, we will consider only a binarized version of your label signal. If your variable `labels` currently has values other than $\\{-1, 1\\},$ threshold them so that those are the only values taken in this vector. This can be done for example by choosing a number $t \\in \\mathbb{R}$ and then setting $\\text{labels_bin}[i] = 1$ if $\\text{labels}[i] \\geq t$ and $\\text{labels_bin}[i] = 0$ otherwise."
   ]
  },
  {
   "cell_type": "code",
   "execution_count": null,
   "metadata": {
    "inputHidden": false,
    "outputHidden": false
   },
   "outputs": [],
   "source": [
    "labels_bin = # Your code here."
   ]
  },
  {
   "cell_type": "markdown",
   "metadata": {},
   "source": [
    "Now, subsample this binarized label signal by $70\\%$ by choosing, uniformly at random, $30\\%$ of the nodes whose labels we will keep.\n",
    "\n",
    "You will do this by computing a \"measurement mask\" vector `w` with `1.0`'s at the measured coordinates, and $0.0$'s otherwise."
   ]
  },
  {
   "cell_type": "code",
   "execution_count": null,
   "metadata": {
    "inputHidden": false,
    "outputHidden": false
   },
   "outputs": [],
   "source": [
    "mn_ratio = 0.3\n",
    "m = int(mn_ratio * n_nodes)  # Number of measurements.\n",
    "\n",
    "w = # Your code here."
   ]
  },
  {
   "cell_type": "markdown",
   "metadata": {},
   "source": [
    "Plot the subsampled signal on the graph. _Hint:_ you might want to set to `numpy.nan` the values of the un-measured nodes for a cleaner plot."
   ]
  },
  {
   "cell_type": "code",
   "execution_count": null,
   "metadata": {
    "inputHidden": false,
    "outputHidden": false
   },
   "outputs": [],
   "source": [
    "# Your code here."
   ]
  },
  {
   "cell_type": "markdown",
   "metadata": {},
   "source": [
    "### Interlude\n",
    "\n",
    "For the solution of the variational problems you can use the following function as a \"black-box\". \n",
    "\n",
    "You will just need to provide a `gradient` matrix (which you should already have from Section 0), and an orthogonal projection operator `P` onto the span of the measured coordinates (made precise in the next question)."
   ]
  },
  {
   "cell_type": "code",
   "execution_count": null,
   "metadata": {},
   "outputs": [],
   "source": [
    "def graph_pnorm_interpolation(gradient, P, x0=None, p=1., **kwargs):\n",
    "    r\"\"\"\n",
    "    Solve an interpolation problem via gradient p-norm minimization.\n",
    "\n",
    "    A signal :math:`x` is estimated from its measurements :math:`y = A(x)` by solving\n",
    "    :math:`\\text{arg}\\underset{z \\in \\mathbb{R}^n}{\\min}\n",
    "    \\| \\nabla_G z \\|_p^p \\text{ subject to } Az = y` \n",
    "    via a primal-dual, forward-backward-forward algorithm.\n",
    "\n",
    "    Parameters\n",
    "    ----------\n",
    "    gradient : array_like\n",
    "        A matrix representing the graph gradient operator\n",
    "    P : callable\n",
    "        Orthogonal projection operator mapping points in :math:`z \\in \\mathbb{R}^n` \n",
    "        onto the set satisfying :math:`A P(z) = A z`.\n",
    "    x0 : array_like, optional\n",
    "        Initial point of the iteration. Must be of dimension n.\n",
    "        (Default is `numpy.random.randn(n)`)\n",
    "    p : {1., 2.}\n",
    "    kwargs :\n",
    "        Additional solver parameters, such as maximum number of iterations\n",
    "        (maxit), relative tolerance on the objective (rtol), and verbosity\n",
    "        level (verbosity). See :func:`pyunlocbox.solvers.solve` for the full\n",
    "        list of options.\n",
    "\n",
    "    Returns\n",
    "    -------\n",
    "    x : array_like\n",
    "        The solution to the optimization problem.\n",
    "\n",
    "    \"\"\"\n",
    "    \n",
    "    grad = lambda z: gradient.dot(z)\n",
    "    div = lambda z: gradient.transpose().dot(z)\n",
    "\n",
    "    # Indicator function of the set satisfying :math:`y = A(z)`\n",
    "    f = functions.func()\n",
    "    f._eval = lambda z: 0\n",
    "    f._prox = lambda z, gamma: P(z)\n",
    "\n",
    "    # :math:`\\ell_1` norm of the dual variable :math:`d = \\nabla_G z`\n",
    "    g = functions.func()\n",
    "    g._eval = lambda z: np.sum(np.abs(grad(z)))\n",
    "    g._prox = lambda d, gamma: functions._soft_threshold(d, gamma)\n",
    "\n",
    "    # :math:`\\ell_2` norm of the gradient (for the smooth case)\n",
    "    h = functions.norm_l2(A=grad, At=div)\n",
    "\n",
    "    stepsize = (0.9 / (1. + scipy.sparse.linalg.norm(gradient, ord='fro'))) ** p\n",
    "\n",
    "    solver = solvers.mlfbf(L=grad, Lt=div, step=stepsize)\n",
    "\n",
    "    if p == 1.:\n",
    "        problem = solvers.solve([f, g, functions.dummy()], x0=x0, solver=solver, **kwargs)\n",
    "        return problem['sol']\n",
    "    if p == 2.:\n",
    "        problem = solvers.solve([f, functions.dummy(), h], x0=x0, solver=solver, **kwargs)\n",
    "        return problem['sol']\n",
    "    else:\n",
    "        return x0"
   ]
  },
  {
   "cell_type": "markdown",
   "metadata": {},
   "source": [
    "### Question 14\n",
    "\n",
    "During the iterations of the algorithm used for solving the variational problem, we have to make sure that the labels at the measured nodes stay the same. We will do this by means of an operator `P` which, given a vector $a \\in \\mathbb{R}^{N},$ returns another vector $b \\in \\mathbb{R}^{N}$ satisfying $b[i] = \\text{labels_bin}[i]$ for every node $i$ in the set $S$ of known labels, and $b[i] = a[i]$ otherwise. Write in the cell below the function for this orthogonal projection operator `P`.\n",
    "\n",
    "_Hint:_ remember you have already computed the mask `w`."
   ]
  },
  {
   "cell_type": "code",
   "execution_count": null,
   "metadata": {
    "inputHidden": false,
    "outputHidden": false
   },
   "outputs": [],
   "source": [
    "def P(a):\n",
    "    # Your code here.\n",
    "    return b"
   ]
  },
  {
   "cell_type": "markdown",
   "metadata": {
    "inputHidden": false,
    "outputHidden": false
   },
   "source": [
    "### Question 15\n",
    "\n",
    "Solve the variational problems for $p = 1$ and $p = 2$. Record the solution for the $1-$norm minimization under `sol_1norm_min` and the one for $2-$norm minimization under `sol_2norm_min`.\n",
    "\n",
    "Compute also binarized versions of these solutions by thresholding the values with respect to $0$, that is, non-negative values become `1.0`, while negative values become `-1.0`. Store those binarized versions under `sol_1norm_bin` and `sol_2norm_bin`, respectively."
   ]
  },
  {
   "cell_type": "code",
   "execution_count": null,
   "metadata": {
    "inputHidden": false,
    "outputHidden": false
   },
   "outputs": [],
   "source": [
    "sol_1norm_min = # Your code here.\n",
    "\n",
    "sol_2norm_min = # Your code here.\n",
    "\n",
    "threshold = 0\n",
    "\n",
    "sol_1norm_bin = # Your code here.\n",
    "\n",
    "sol_2norm_bin = # Your code here."
   ]
  },
  {
   "cell_type": "markdown",
   "metadata": {
    "inputHidden": false,
    "outputHidden": false
   },
   "source": [
    "Plot, on your graph, the original `labels_bin` signal, as well as the solutions to the variational problems (both binarized and otherwise). Indicate on each plot the value of the relative error $\\text{rel-err} = \\frac{\\|\\text{labels_bin} - z\\|_2}{\\|\\text{labels_bin}\\|_2}$, where $z$ is the signal in the corresponding plot."
   ]
  },
  {
   "cell_type": "markdown",
   "metadata": {},
   "source": [
    "### Question 16\n",
    "\n",
    "Now that you have got a feeling for the sort of solutions that the transductive learning problems studied can give, we will see what is the effect of the number of measurements on the accuracy of both $p-$norm minimization problems.\n",
    "\n",
    "Towards this goal, you will write a `phase_transition()` function. This function will basically go over all the procedures that you have implemented in this section, but for varying numbers of measurements and thresholding values. It will also compute the relative error, $\\text{rel-err},$ of the solutions and average them over a number of trials.\n",
    "\n",
    "The output of the `phase_transition()` function has to be a matrix with `len(mn_ratios)` columns and `len(thresholds)` rows. Each pixel $(i,j)$ in the output matrix has to contain the average, over `n_trials` trials, of the relative error $\\text{rel-err}$ in the binarized (with threshold `thresholds[i]`) solution given by `graph_pnorm_interpolation()` from observing an `mn_ratios[j]` fraction of nodes. The randomness comes from a different choice of mask `w` at each trial, hence the averaging.\n",
    "\n",
    "The interest of this phase transition matrix is to assess what level of recovery error one could expect for a certain fraction of measurements and a certain threshold level."
   ]
  },
  {
   "cell_type": "code",
   "execution_count": null,
   "metadata": {
    "inputHidden": false,
    "outputHidden": false
   },
   "outputs": [],
   "source": [
    "def phase_transition(mn_ratios, thresholds, n_trials, labels_bin, p):\n",
    "\n",
    "    # Create sample mask.\n",
    "    \n",
    "    # Solve p-norm interpolation.\n",
    "    \n",
    "    # Aggregate.\n",
    "    \n",
    "    return pt_matrix"
   ]
  },
  {
   "cell_type": "markdown",
   "metadata": {},
   "source": [
    "### Question 17\n",
    "\n",
    "Pick 5 \"m/n\" ratios in $(0, 1)$ and 5 threshold levels in $(-1, 1)$ and run the `phase_transition()` function with `n_trials` = 20, for both $p = 1$ and $p = 2$."
   ]
  },
  {
   "cell_type": "code",
   "execution_count": null,
   "metadata": {
    "inputHidden": false,
    "outputHidden": false
   },
   "outputs": [],
   "source": [
    "mn_ratios = # Your code here.\n",
    "\n",
    "thresholds = # Your code here.\n",
    "\n",
    "pt_matrix_1norm = # Your code here.\n",
    "\n",
    "pt_matrix_2norm = # Your code here."
   ]
  },
  {
   "cell_type": "markdown",
   "metadata": {},
   "source": [
    "Plot both phase transition matrices as images with a colorbar. Make sure to properly name the axes and title the images. "
   ]
  },
  {
   "cell_type": "code",
   "execution_count": null,
   "metadata": {
    "inputHidden": false,
    "outputHidden": false
   },
   "outputs": [],
   "source": [
    "# Your code here."
   ]
  },
  {
   "cell_type": "markdown",
   "metadata": {},
   "source": [
    "### Question 18\n",
    "\n",
    "Do the phase transition plots above provide any justification for choosing one $p-$norm interpolation over the other? Why?"
   ]
  },
  {
   "cell_type": "markdown",
   "metadata": {},
   "source": [
    "**Your answer here.**"
   ]
  }
 ],
 "metadata": {
  "kernel_info": {
   "name": "python3"
  },
  "kernelspec": {
   "display_name": "Python 3",
   "language": "python",
   "name": "python3"
  },
  "language_info": {
   "codemirror_mode": {
    "name": "ipython",
    "version": 3
   },
   "file_extension": ".py",
   "mimetype": "text/x-python",
   "name": "python",
   "nbconvert_exporter": "python",
   "pygments_lexer": "ipython3",
   "version": "3.6.6"
  },
  "latex_envs": {
   "LaTeX_envs_menu_present": true,
   "autoclose": true,
   "autocomplete": true,
   "bibliofile": "biblio.bib",
   "cite_by": "apalike",
   "current_citInitial": 1,
   "eqLabelWithNumbers": true,
   "eqNumInitial": 1,
   "hotkeys": {
    "equation": "Ctrl-E",
    "itemize": "Ctrl-I"
   },
   "labels_anchors": false,
   "latex_user_defs": false,
   "report_style_numbering": false,
   "user_envs_cfg": false
  },
  "nteract": {
   "version": "0.12.3"
  },
  "varInspector": {
   "cols": {
    "lenName": 16,
    "lenType": 16,
    "lenVar": 40
   },
   "kernels_config": {
    "python": {
     "delete_cmd_postfix": "",
     "delete_cmd_prefix": "del ",
     "library": "var_list.py",
     "varRefreshCmd": "print(var_dic_list())"
    },
    "r": {
     "delete_cmd_postfix": ") ",
     "delete_cmd_prefix": "rm(",
     "library": "var_list.r",
     "varRefreshCmd": "cat(var_dic_list()) "
    }
   },
   "types_to_exclude": [
    "module",
    "function",
    "builtin_function_or_method",
    "instance",
    "_Feature"
   ],
   "window_display": false
  }
 },
 "nbformat": 4,
 "nbformat_minor": 2
}
