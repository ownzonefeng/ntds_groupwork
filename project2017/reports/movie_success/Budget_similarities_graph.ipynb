{
 "cells": [
  {
   "cell_type": "code",
   "execution_count": 2,
   "metadata": {
    "collapsed": true
   },
   "outputs": [],
   "source": [
    "%matplotlib inline\n",
    "\n",
    "import configparser\n",
    "import os\n",
    "\n",
    "import requests\n",
    "from tqdm import tqdm\n",
    "import numpy as np\n",
    "import pandas as pd\n",
    "import matplotlib.pyplot as plt\n",
    "from scipy import sparse, stats, spatial\n",
    "import scipy.sparse.linalg\n",
    "from sklearn import preprocessing, decomposition\n",
    "import librosa\n",
    "import IPython.display as ipd\n",
    "import json\n",
    "import nltk\n",
    "from nltk.corpus import stopwords\n",
    "from nltk.tokenize import sent_tokenize, word_tokenize \n",
    "from nltk.stem import WordNetLemmatizer, PorterStemmer \n",
    "from collections import OrderedDict\n",
    "from pygsp import graphs, filters, plotting\n",
    "from IPython.display import Image\n",
    "\n",
    "plt.rcParams['figure.figsize'] = (17, 5)\n",
    "plotting.BACKEND = 'matplotlib'"
   ]
  },
  {
   "cell_type": "code",
   "execution_count": 3,
   "metadata": {},
   "outputs": [],
   "source": [
    "dataset = pd.read_csv('Saved_Datasets/NewFeaturesDataset.csv')"
   ]
  },
  {
   "cell_type": "code",
   "execution_count": 4,
   "metadata": {},
   "outputs": [
    {
     "data": {
      "text/html": [
       "<div>\n",
       "<style>\n",
       "    .dataframe thead tr:only-child th {\n",
       "        text-align: right;\n",
       "    }\n",
       "\n",
       "    .dataframe thead th {\n",
       "        text-align: left;\n",
       "    }\n",
       "\n",
       "    .dataframe tbody tr th {\n",
       "        vertical-align: top;\n",
       "    }\n",
       "</style>\n",
       "<table border=\"1\" class=\"dataframe\">\n",
       "  <thead>\n",
       "    <tr style=\"text-align: right;\">\n",
       "      <th></th>\n",
       "      <th>id</th>\n",
       "      <th>budget</th>\n",
       "      <th>genres</th>\n",
       "      <th>imdb_id</th>\n",
       "      <th>overview</th>\n",
       "      <th>production_companies</th>\n",
       "      <th>release_date</th>\n",
       "      <th>revenue</th>\n",
       "      <th>title</th>\n",
       "      <th>director_name</th>\n",
       "      <th>actor_names</th>\n",
       "      <th>actors_ids</th>\n",
       "      <th>actors_tenures</th>\n",
       "      <th>total_tenure</th>\n",
       "      <th>average_tenure</th>\n",
       "      <th>Metacritic</th>\n",
       "      <th>ROI</th>\n",
       "      <th>success</th>\n",
       "    </tr>\n",
       "  </thead>\n",
       "  <tbody>\n",
       "    <tr>\n",
       "      <th>0</th>\n",
       "      <td>12</td>\n",
       "      <td>94000000</td>\n",
       "      <td>Animation|Family</td>\n",
       "      <td>266543</td>\n",
       "      <td>Nemo, an adventurous young clownfish, is unexp...</td>\n",
       "      <td>Pixar Animation Studios</td>\n",
       "      <td>2003-05-30</td>\n",
       "      <td>940335536</td>\n",
       "      <td>Finding Nemo</td>\n",
       "      <td>Andrew Stanton</td>\n",
       "      <td>['Albert Brooks', 'Ellen DeGeneres', 'Alexande...</td>\n",
       "      <td>[14, 5293, 12, 13, 18]</td>\n",
       "      <td>[18, 24, 2, 28, 14]</td>\n",
       "      <td>86</td>\n",
       "      <td>17.2</td>\n",
       "      <td>90</td>\n",
       "      <td>2.639</td>\n",
       "      <td>4</td>\n",
       "    </tr>\n",
       "    <tr>\n",
       "      <th>1</th>\n",
       "      <td>16</td>\n",
       "      <td>12800000</td>\n",
       "      <td>Drama|Crime|Music</td>\n",
       "      <td>168629</td>\n",
       "      <td>Selma, a Czech immigrant on the verge of blind...</td>\n",
       "      <td>Fine Line Features</td>\n",
       "      <td>2000-05-17</td>\n",
       "      <td>40031879</td>\n",
       "      <td>Dancer in the Dark</td>\n",
       "      <td>Lars von Trier</td>\n",
       "      <td>['Björk', 'Catherine Deneuve', 'David Morse', ...</td>\n",
       "      <td>[6748, 47, 52, 50, 53]</td>\n",
       "      <td>[49, 19, 21, 44, 15]</td>\n",
       "      <td>148</td>\n",
       "      <td>29.6</td>\n",
       "      <td>61</td>\n",
       "      <td>2.127</td>\n",
       "      <td>3</td>\n",
       "    </tr>\n",
       "    <tr>\n",
       "      <th>2</th>\n",
       "      <td>22</td>\n",
       "      <td>140000000</td>\n",
       "      <td>Adventure|Fantasy|Action</td>\n",
       "      <td>325980</td>\n",
       "      <td>Jack Sparrow, a freewheeling 17th-century pira...</td>\n",
       "      <td>Walt Disney Pictures</td>\n",
       "      <td>2003-09-07</td>\n",
       "      <td>655011224</td>\n",
       "      <td>Pirates of the Caribbean: The Curse of the Bla...</td>\n",
       "      <td>Gore Verbinski</td>\n",
       "      <td>['Johnny Depp', 'Geoffrey Rush', 'Orlando Bloo...</td>\n",
       "      <td>[1709, 116, 114, 118, 85]</td>\n",
       "      <td>[7, 9, 7, 22, 20]</td>\n",
       "      <td>65</td>\n",
       "      <td>13.0</td>\n",
       "      <td>63</td>\n",
       "      <td>2.639</td>\n",
       "      <td>4</td>\n",
       "    </tr>\n",
       "  </tbody>\n",
       "</table>\n",
       "</div>"
      ],
      "text/plain": [
       "   id     budget                    genres  imdb_id  \\\n",
       "0  12   94000000          Animation|Family   266543   \n",
       "1  16   12800000         Drama|Crime|Music   168629   \n",
       "2  22  140000000  Adventure|Fantasy|Action   325980   \n",
       "\n",
       "                                            overview     production_companies  \\\n",
       "0  Nemo, an adventurous young clownfish, is unexp...  Pixar Animation Studios   \n",
       "1  Selma, a Czech immigrant on the verge of blind...       Fine Line Features   \n",
       "2  Jack Sparrow, a freewheeling 17th-century pira...     Walt Disney Pictures   \n",
       "\n",
       "  release_date    revenue                                              title  \\\n",
       "0   2003-05-30  940335536                                       Finding Nemo   \n",
       "1   2000-05-17   40031879                                 Dancer in the Dark   \n",
       "2   2003-09-07  655011224  Pirates of the Caribbean: The Curse of the Bla...   \n",
       "\n",
       "    director_name                                        actor_names  \\\n",
       "0  Andrew Stanton  ['Albert Brooks', 'Ellen DeGeneres', 'Alexande...   \n",
       "1  Lars von Trier  ['Björk', 'Catherine Deneuve', 'David Morse', ...   \n",
       "2  Gore Verbinski  ['Johnny Depp', 'Geoffrey Rush', 'Orlando Bloo...   \n",
       "\n",
       "                  actors_ids        actors_tenures  total_tenure  \\\n",
       "0     [14, 5293, 12, 13, 18]   [18, 24, 2, 28, 14]            86   \n",
       "1     [6748, 47, 52, 50, 53]  [49, 19, 21, 44, 15]           148   \n",
       "2  [1709, 116, 114, 118, 85]     [7, 9, 7, 22, 20]            65   \n",
       "\n",
       "   average_tenure  Metacritic    ROI  success  \n",
       "0            17.2          90  2.639        4  \n",
       "1            29.6          61  2.127        3  \n",
       "2            13.0          63  2.639        4  "
      ]
     },
     "execution_count": 4,
     "metadata": {},
     "output_type": "execute_result"
    }
   ],
   "source": [
    "dataset.head(3)"
   ]
  },
  {
   "cell_type": "code",
   "execution_count": 5,
   "metadata": {
    "collapsed": true
   },
   "outputs": [],
   "source": [
    "dataset['Profitability'] = dataset['revenue']-dataset['budget']"
   ]
  },
  {
   "cell_type": "code",
   "execution_count": 6,
   "metadata": {},
   "outputs": [
    {
     "data": {
      "text/html": [
       "<div>\n",
       "<style>\n",
       "    .dataframe thead tr:only-child th {\n",
       "        text-align: right;\n",
       "    }\n",
       "\n",
       "    .dataframe thead th {\n",
       "        text-align: left;\n",
       "    }\n",
       "\n",
       "    .dataframe tbody tr th {\n",
       "        vertical-align: top;\n",
       "    }\n",
       "</style>\n",
       "<table border=\"1\" class=\"dataframe\">\n",
       "  <thead>\n",
       "    <tr style=\"text-align: right;\">\n",
       "      <th></th>\n",
       "      <th>id</th>\n",
       "      <th>budget</th>\n",
       "      <th>genres</th>\n",
       "      <th>imdb_id</th>\n",
       "      <th>overview</th>\n",
       "      <th>production_companies</th>\n",
       "      <th>release_date</th>\n",
       "      <th>revenue</th>\n",
       "      <th>title</th>\n",
       "      <th>director_name</th>\n",
       "      <th>actor_names</th>\n",
       "      <th>actors_ids</th>\n",
       "      <th>actors_tenures</th>\n",
       "      <th>total_tenure</th>\n",
       "      <th>average_tenure</th>\n",
       "      <th>Metacritic</th>\n",
       "      <th>ROI</th>\n",
       "      <th>success</th>\n",
       "      <th>Profitability</th>\n",
       "    </tr>\n",
       "  </thead>\n",
       "  <tbody>\n",
       "    <tr>\n",
       "      <th>0</th>\n",
       "      <td>12</td>\n",
       "      <td>94000000</td>\n",
       "      <td>Animation|Family</td>\n",
       "      <td>266543</td>\n",
       "      <td>Nemo, an adventurous young clownfish, is unexp...</td>\n",
       "      <td>Pixar Animation Studios</td>\n",
       "      <td>2003-05-30</td>\n",
       "      <td>940335536</td>\n",
       "      <td>Finding Nemo</td>\n",
       "      <td>Andrew Stanton</td>\n",
       "      <td>['Albert Brooks', 'Ellen DeGeneres', 'Alexande...</td>\n",
       "      <td>[14, 5293, 12, 13, 18]</td>\n",
       "      <td>[18, 24, 2, 28, 14]</td>\n",
       "      <td>86</td>\n",
       "      <td>17.2</td>\n",
       "      <td>90</td>\n",
       "      <td>2.639</td>\n",
       "      <td>4</td>\n",
       "      <td>846335536</td>\n",
       "    </tr>\n",
       "    <tr>\n",
       "      <th>1</th>\n",
       "      <td>16</td>\n",
       "      <td>12800000</td>\n",
       "      <td>Drama|Crime|Music</td>\n",
       "      <td>168629</td>\n",
       "      <td>Selma, a Czech immigrant on the verge of blind...</td>\n",
       "      <td>Fine Line Features</td>\n",
       "      <td>2000-05-17</td>\n",
       "      <td>40031879</td>\n",
       "      <td>Dancer in the Dark</td>\n",
       "      <td>Lars von Trier</td>\n",
       "      <td>['Björk', 'Catherine Deneuve', 'David Morse', ...</td>\n",
       "      <td>[6748, 47, 52, 50, 53]</td>\n",
       "      <td>[49, 19, 21, 44, 15]</td>\n",
       "      <td>148</td>\n",
       "      <td>29.6</td>\n",
       "      <td>61</td>\n",
       "      <td>2.127</td>\n",
       "      <td>3</td>\n",
       "      <td>27231879</td>\n",
       "    </tr>\n",
       "    <tr>\n",
       "      <th>2</th>\n",
       "      <td>22</td>\n",
       "      <td>140000000</td>\n",
       "      <td>Adventure|Fantasy|Action</td>\n",
       "      <td>325980</td>\n",
       "      <td>Jack Sparrow, a freewheeling 17th-century pira...</td>\n",
       "      <td>Walt Disney Pictures</td>\n",
       "      <td>2003-09-07</td>\n",
       "      <td>655011224</td>\n",
       "      <td>Pirates of the Caribbean: The Curse of the Bla...</td>\n",
       "      <td>Gore Verbinski</td>\n",
       "      <td>['Johnny Depp', 'Geoffrey Rush', 'Orlando Bloo...</td>\n",
       "      <td>[1709, 116, 114, 118, 85]</td>\n",
       "      <td>[7, 9, 7, 22, 20]</td>\n",
       "      <td>65</td>\n",
       "      <td>13.0</td>\n",
       "      <td>63</td>\n",
       "      <td>2.639</td>\n",
       "      <td>4</td>\n",
       "      <td>515011224</td>\n",
       "    </tr>\n",
       "  </tbody>\n",
       "</table>\n",
       "</div>"
      ],
      "text/plain": [
       "   id     budget                    genres  imdb_id  \\\n",
       "0  12   94000000          Animation|Family   266543   \n",
       "1  16   12800000         Drama|Crime|Music   168629   \n",
       "2  22  140000000  Adventure|Fantasy|Action   325980   \n",
       "\n",
       "                                            overview     production_companies  \\\n",
       "0  Nemo, an adventurous young clownfish, is unexp...  Pixar Animation Studios   \n",
       "1  Selma, a Czech immigrant on the verge of blind...       Fine Line Features   \n",
       "2  Jack Sparrow, a freewheeling 17th-century pira...     Walt Disney Pictures   \n",
       "\n",
       "  release_date    revenue                                              title  \\\n",
       "0   2003-05-30  940335536                                       Finding Nemo   \n",
       "1   2000-05-17   40031879                                 Dancer in the Dark   \n",
       "2   2003-09-07  655011224  Pirates of the Caribbean: The Curse of the Bla...   \n",
       "\n",
       "    director_name                                        actor_names  \\\n",
       "0  Andrew Stanton  ['Albert Brooks', 'Ellen DeGeneres', 'Alexande...   \n",
       "1  Lars von Trier  ['Björk', 'Catherine Deneuve', 'David Morse', ...   \n",
       "2  Gore Verbinski  ['Johnny Depp', 'Geoffrey Rush', 'Orlando Bloo...   \n",
       "\n",
       "                  actors_ids        actors_tenures  total_tenure  \\\n",
       "0     [14, 5293, 12, 13, 18]   [18, 24, 2, 28, 14]            86   \n",
       "1     [6748, 47, 52, 50, 53]  [49, 19, 21, 44, 15]           148   \n",
       "2  [1709, 116, 114, 118, 85]     [7, 9, 7, 22, 20]            65   \n",
       "\n",
       "   average_tenure  Metacritic    ROI  success  Profitability  \n",
       "0            17.2          90  2.639        4      846335536  \n",
       "1            29.6          61  2.127        3       27231879  \n",
       "2            13.0          63  2.639        4      515011224  "
      ]
     },
     "execution_count": 6,
     "metadata": {},
     "output_type": "execute_result"
    }
   ],
   "source": [
    "dataset.head(3)"
   ]
  },
  {
   "cell_type": "markdown",
   "metadata": {},
   "source": [
    "## Data exploration ###"
   ]
  },
  {
   "cell_type": "code",
   "execution_count": 23,
   "metadata": {},
   "outputs": [
    {
     "data": {
      "image/png": "[encoded data removed]",
      "text/plain": [
       "<matplotlib.figure.Figure at 0x13b10c8d0>"
      ]
     },
     "metadata": {},
     "output_type": "display_data"
    }
   ],
   "source": [
    "plt.hist(dataset['budget'],bins=100);\n",
    "plt.xlabel('Budget of movies')\n",
    "plt.ylabel('Number of movies [$]')\n",
    "plt.savefig('images/movies_budget.png', dpi=300, bbox_inches='tight')"
   ]
  },
  {
   "cell_type": "code",
   "execution_count": 18,
   "metadata": {},
   "outputs": [
    {
     "data": {
      "image/png": "[encoded data removed]",
      "text/plain": [
       "<matplotlib.figure.Figure at 0x13086cc88>"
      ]
     },
     "metadata": {},
     "output_type": "display_data"
    }
   ],
   "source": [
    "plt.bar(dataset['ROI'],dataset['budget'], align='center',width=0.03);\n",
    "plt.setp(plt.gca().get_xticklabels(), rotation=0, horizontalalignment='right');\n",
    "plt.xlabel('ROI');\n",
    "plt.ylabel('Budget of movies [$]');\n",
    "plt.savefig('images/budget_ROI.png', dpi=300, bbox_inches='tight')"
   ]
  },
  {
   "cell_type": "code",
   "execution_count": 20,
   "metadata": {},
   "outputs": [
    {
     "data": {
      "image/png": "[encoded data removed]",
      "text/plain": [
       "<matplotlib.figure.Figure at 0x136bc8630>"
      ]
     },
     "metadata": {},
     "output_type": "display_data"
    }
   ],
   "source": [
    "#print(profi)\n",
    "#print(bud)\n",
    "plt.stem(dataset['Profitability'], dataset['budget']);\n",
    "#plt.setp(plt.gca().get_xticklabels(), rotation=0, horizontalalignment='right');\n",
    "#plt.xlabel('ROI');\n",
    "#plt.ylabel('Budget of movies');\n",
    "plt.xlabel('Profitability of movies[$]')\n",
    "plt.ylabel('Budget of movies [$]')\n",
    "plt.savefig('images/budget_Profitability.png', dpi=300, bbox_inches='tight')"
   ]
  },
  {
   "cell_type": "code",
   "execution_count": 15,
   "metadata": {},
   "outputs": [
    {
     "data": {
      "image/png": "[encoded data removed]",
      "text/plain": [
       "<matplotlib.figure.Figure at 0x129f484e0>"
      ]
     },
     "metadata": {},
     "output_type": "display_data"
    }
   ],
   "source": [
    "plt.stem(dataset['budget'],dataset['Profitability']);"
   ]
  },
  {
   "cell_type": "code",
   "execution_count": 16,
   "metadata": {},
   "outputs": [
    {
     "data": {
      "text/plain": [
       "1000"
      ]
     },
     "execution_count": 16,
     "metadata": {},
     "output_type": "execute_result"
    }
   ],
   "source": [
    "min(dataset['budget'])"
   ]
  },
  {
   "cell_type": "code",
   "execution_count": 12,
   "metadata": {},
   "outputs": [
    {
     "name": "stdout",
     "output_type": "stream",
     "text": [
      "1000\n",
      "-165710090\n"
     ]
    }
   ],
   "source": [
    "#min(dataset['budget'])\n",
    "print(min(test))\n",
    "print(min(prof))"
   ]
  },
  {
   "cell_type": "code",
   "execution_count": null,
   "metadata": {
    "collapsed": true
   },
   "outputs": [],
   "source": [
    "plt.bar(tt,vv)"
   ]
  },
  {
   "cell_type": "code",
   "execution_count": null,
   "metadata": {
    "collapsed": true
   },
   "outputs": [],
   "source": [
    "dataset['budget'][:]"
   ]
  },
  {
   "cell_type": "code",
   "execution_count": null,
   "metadata": {
    "collapsed": true
   },
   "outputs": [],
   "source": []
  },
  {
   "cell_type": "markdown",
   "metadata": {},
   "source": [
    "## Difference of budget between movies ##"
   ]
  },
  {
   "cell_type": "code",
   "execution_count": null,
   "metadata": {
    "collapsed": true
   },
   "outputs": [],
   "source": [
    "#W = np.ndarray(shape=(10, 10), dtype=int)\n",
    "W_diff = np.zeros(shape=(len(dataset), len(dataset)), dtype=int)\n",
    "for i in range(0,len(dataset)):\n",
    "    for j in range(i,len(dataset)):\n",
    "        W_diff[i][j] = abs(dataset['budget'][i]-dataset['budget'][j])"
   ]
  },
  {
   "cell_type": "code",
   "execution_count": null,
   "metadata": {
    "collapsed": true
   },
   "outputs": [],
   "source": [
    "plt.spy(W_diff)"
   ]
  },
  {
   "cell_type": "code",
   "execution_count": null,
   "metadata": {
    "collapsed": true
   },
   "outputs": [],
   "source": [
    "bigger = W_diff.transpose() > W_diff\n",
    "W_diff = W_diff - W_diff*bigger + W_diff.transpose()*bigger\n",
    "np.fill_diagonal(W_diff, 0)"
   ]
  },
  {
   "cell_type": "code",
   "execution_count": null,
   "metadata": {
    "collapsed": true
   },
   "outputs": [],
   "source": [
    "plt.hist(W_diff.reshape(-1),bins=50);"
   ]
  },
  {
   "cell_type": "markdown",
   "metadata": {},
   "source": [
    "### Weights Normalization ###"
   ]
  },
  {
   "cell_type": "code",
   "execution_count": null,
   "metadata": {
    "collapsed": true
   },
   "outputs": [],
   "source": [
    "val_75 = np.percentile(W_diff,75)\n",
    "print(val_75)"
   ]
  },
  {
   "cell_type": "code",
   "execution_count": null,
   "metadata": {
    "collapsed": true
   },
   "outputs": [],
   "source": [
    "W_diff_norm = np.zeros(shape=(len(dataset), len(dataset)), dtype=float)\n",
    "for i in range(0,len(dataset)):\n",
    "    for j in range(i,len(dataset)):\n",
    "        if W_diff[i][j] == 0:\n",
    "            W_diff_norm[i][j] = 1\n",
    "        elif W_diff[i][j] <= val_75:  \n",
    "            W_diff_norm[i][j] = 1-(W_diff[i][j])/(val_75)\n",
    "        else:\n",
    "            W_diff_norm[i][j] = 0"
   ]
  },
  {
   "cell_type": "code",
   "execution_count": null,
   "metadata": {
    "collapsed": true
   },
   "outputs": [],
   "source": [
    "max_W_diff = W_diff.max()\n",
    "W_diff_norm = np.zeros(shape=(len(dataset), len(dataset)), dtype=float)\n",
    "for i in range(0,len(dataset)):\n",
    "    for j in range(i,len(dataset)):\n",
    "        if W_diff[i][j] == 0:\n",
    "            W_diff_norm[i][j] = 1\n",
    "        else:  \n",
    "            W_diff_norm[i][j] = 1-(W_diff[i][j])/(max_W_diff)"
   ]
  },
  {
   "cell_type": "code",
   "execution_count": null,
   "metadata": {
    "collapsed": true
   },
   "outputs": [],
   "source": [
    "bigger = W_diff_norm.transpose() > W_diff_norm\n",
    "W_diff_norm = W_diff_norm - W_diff_norm*bigger + W_diff_norm.transpose()*bigger\n",
    "np.fill_diagonal(W_diff_norm, 0)"
   ]
  },
  {
   "cell_type": "code",
   "execution_count": null,
   "metadata": {
    "collapsed": true
   },
   "outputs": [],
   "source": [
    "plt.spy(W_diff_norm)"
   ]
  },
  {
   "cell_type": "code",
   "execution_count": null,
   "metadata": {
    "collapsed": true
   },
   "outputs": [],
   "source": [
    "DiffNormW = pd.DataFrame(W_diff_norm)\n",
    "DiffNormW.head()"
   ]
  },
  {
   "cell_type": "code",
   "execution_count": null,
   "metadata": {
    "collapsed": true
   },
   "outputs": [],
   "source": [
    "plt.hist(W_diff_norm.reshape(-1),bins=50);"
   ]
  },
  {
   "cell_type": "code",
   "execution_count": null,
   "metadata": {
    "collapsed": true
   },
   "outputs": [],
   "source": [
    "#Compute degree distribution \n",
    "degrees = np.zeros(len(W_diff_norm)) \n",
    "for i in range(0, len(W_diff_norm)):\n",
    "    degrees[i] = sum(W_diff_norm[i])\n",
    "\n",
    "plt.hist(degrees, bins=50);"
   ]
  },
  {
   "cell_type": "code",
   "execution_count": null,
   "metadata": {
    "collapsed": true
   },
   "outputs": [],
   "source": [
    "DiffNormW.to_csv('Saved_Datasets/DiffNormBudgW.csv', index=False)"
   ]
  },
  {
   "cell_type": "code",
   "execution_count": null,
   "metadata": {
    "collapsed": true
   },
   "outputs": [],
   "source": [
    "G = graphs.Graph(W_diff_norm)\n",
    "G.compute_laplacian('normalized')\n",
    "G.compute_fourier_basis(recompute=True)\n",
    "plt.plot(G.e[0:10]);"
   ]
  },
  {
   "cell_type": "code",
   "execution_count": null,
   "metadata": {
    "collapsed": true
   },
   "outputs": [],
   "source": [
    "labels = preprocessing.LabelEncoder().fit_transform(dataset['success'])\n",
    "G.set_coordinates(G.U[:,1:3])"
   ]
  },
  {
   "cell_type": "code",
   "execution_count": null,
   "metadata": {
    "collapsed": true
   },
   "outputs": [],
   "source": [
    "G.plot_signal(labels, vertex_size=20)"
   ]
  },
  {
   "cell_type": "markdown",
   "metadata": {},
   "source": [
    "### Weight matrix sparsification "
   ]
  },
  {
   "cell_type": "code",
   "execution_count": null,
   "metadata": {
    "collapsed": true
   },
   "outputs": [],
   "source": [
    "NEIGHBORS = 300\n",
    "\n",
    "#sort the order of the weights\n",
    "sort_order = np.argsort(W_diff_norm, axis = 1)\n",
    "\n",
    "#declaration of a sorted weight matrix\n",
    "sorted_weights = np.zeros((len(W_diff_norm), len(W_diff_norm)))\n",
    "\n",
    "for i in range (0, len(W_diff_norm)):  \n",
    "    for j in range(0, len(W_diff_norm)):\n",
    "        if (j >= len(W_diff_norm) - NEIGHBORS):\n",
    "            #copy the k strongest edges for each node\n",
    "            sorted_weights[i, sort_order[i,j]] = W_diff_norm[i,sort_order[i,j]]\n",
    "        else:\n",
    "            #set the other edges to zero\n",
    "            sorted_weights[i, sort_order[i,j]] = 0\n",
    "\n",
    "#ensure the matrix is symmetric\n",
    "bigger = sorted_weights.transpose() > sorted_weights\n",
    "sorted_weights = sorted_weights - sorted_weights*bigger + sorted_weights.transpose()*bigger"
   ]
  },
  {
   "cell_type": "code",
   "execution_count": null,
   "metadata": {
    "collapsed": true
   },
   "outputs": [],
   "source": [
    "plt.spy(sorted_weights)"
   ]
  },
  {
   "cell_type": "code",
   "execution_count": null,
   "metadata": {
    "collapsed": true
   },
   "outputs": [],
   "source": [
    "DiffSparsW = pd.DataFrame(sorted_weights)\n",
    "DiffSparsW.head()"
   ]
  },
  {
   "cell_type": "code",
   "execution_count": null,
   "metadata": {
    "collapsed": true
   },
   "outputs": [],
   "source": [
    "DiffSparsW.to_csv('Saved_Datasets/DiffNormSparsBudgW.csv', index=False)"
   ]
  },
  {
   "cell_type": "code",
   "execution_count": null,
   "metadata": {
    "collapsed": true
   },
   "outputs": [],
   "source": [
    "G = graphs.Graph(sorted_weights)\n",
    "G.compute_laplacian('normalized')\n",
    "G.compute_fourier_basis(recompute=True)\n",
    "plt.plot(G.e[0:10]);"
   ]
  },
  {
   "cell_type": "code",
   "execution_count": null,
   "metadata": {
    "collapsed": true
   },
   "outputs": [],
   "source": [
    "labels = preprocessing.LabelEncoder().fit_transform(dataset['success'])\n",
    "G.set_coordinates(G.U[:,1:3])"
   ]
  },
  {
   "cell_type": "code",
   "execution_count": null,
   "metadata": {
    "collapsed": true
   },
   "outputs": [],
   "source": [
    "G.plot_signal(labels, vertex_size=20)"
   ]
  },
  {
   "cell_type": "code",
   "execution_count": null,
   "metadata": {
    "collapsed": true
   },
   "outputs": [],
   "source": []
  }
 ],
 "metadata": {
  "kernelspec": {
   "display_name": "Python 3",
   "language": "python",
   "name": "python3"
  },
  "language_info": {
   "codemirror_mode": {
    "name": "ipython",
    "version": 3
   },
   "file_extension": ".py",
   "mimetype": "text/x-python",
   "name": "python",
   "nbconvert_exporter": "python",
   "pygments_lexer": "ipython3",
   "version": "3.6.1"
  }
 },
 "nbformat": 4,
 "nbformat_minor": 2
}
