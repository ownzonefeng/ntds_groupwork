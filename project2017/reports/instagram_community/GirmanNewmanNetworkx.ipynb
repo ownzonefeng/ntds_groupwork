{
 "cells": [
  {
   "cell_type": "code",
   "execution_count": 1,
   "metadata": {
    "collapsed": true
   },
   "outputs": [],
   "source": [
    "from GraphDatabase import Database\n",
    "import itertools\n",
    "import networkx as nx\n",
    "from networkx.algorithms import community\n"
   ]
  },
  {
   "cell_type": "code",
   "execution_count": 2,
   "metadata": {
    "collapsed": true
   },
   "outputs": [],
   "source": [
    "db = Database()\n",
    "graph = db.get_community(17) #Community with id 17 is obtained to be clustered with Girman-Newman Method."
   ]
  },
  {
   "cell_type": "code",
   "execution_count": 3,
   "metadata": {},
   "outputs": [],
   "source": [
    "c1= community.girvan_newman(graph) #Generator is created, which is iterated and desired number of clusters are obtained.\n",
    "k = 7 # 7 clusters will be generated.\n",
    "\n",
    "iters = itertools.takewhile(lambda comm: len(comm) <= k, c1) #Every iteration is printed here.\n",
    "for communities in iters:\n",
    "    tuple(sorted(comm) for comm in communities)"
   ]
  },
  {
   "cell_type": "code",
   "execution_count": 7,
   "metadata": {},
   "outputs": [],
   "source": [
    "from comparison import partitions_normalizer\n",
    "partitions=partitions_normalizer(communities) #Here, the results are stored in a different way in order to compare similarities later."
   ]
  }
 ],
 "metadata": {
  "kernelspec": {
   "display_name": "Python 3",
   "language": "python",
   "name": "python3"
  },
  "language_info": {
   "codemirror_mode": {
    "name": "ipython",
    "version": 3
   },
   "file_extension": ".py",
   "mimetype": "text/x-python",
   "name": "python",
   "nbconvert_exporter": "python",
   "pygments_lexer": "ipython3",
   "version": "3.6.2"
  }
 },
 "nbformat": 4,
 "nbformat_minor": 2
}
