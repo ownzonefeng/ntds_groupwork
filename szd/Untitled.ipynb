{
 "cells": [
  {
   "cell_type": "code",
   "execution_count": 1,
   "metadata": {},
   "outputs": [],
   "source": [
    "import pandas as pd\n",
    "import numpy as np\n",
    "import matplotlib.pyplot as plt\n",
    "import networkx as nx\n",
    "import pygsp as pg\n",
    "from sklearn.cluster import KMeans"
   ]
  },
  {
   "cell_type": "code",
   "execution_count": 2,
   "metadata": {},
   "outputs": [],
   "source": [
    "airlines = pd.read_csv(\"airlines.csv\")\n",
    "airports = pd.read_csv(\"airports.csv\")\n",
    "flights_clean = pd.read_csv(\"flights_clean.csv\")\n",
    "\n",
    "adj = np.zeros((322, 322)) # weights are the number of flights\n",
    "adj_delay = np.zeros((322, 322)) # weights are the average delays\n",
    "iata = np.array(airports.IATA_CODE);\n",
    "sub_flights = flights_clean[flights_clean.MONTH==1]\n",
    "for i in range(sub_flights.shape[0]):\n",
    "    orig = sub_flights.ORIGIN_AIRPORT.iloc[i]\n",
    "    dest = sub_flights.DESTINATION_AIRPORT.iloc[i]\n",
    "    delay = sub_flights.DEPARTURE_DELAY.iloc[i]\n",
    "    idx1 = np.where(iata==orig)[0]\n",
    "    idx2 = np.where(iata==dest)[0]\n",
    "    adj[idx1, idx2] += 1\n",
    "    adj[idx2, idx1] += 1\n",
    "    adj_delay[idx1, idx2] += delay\n",
    "    adj_delay[idx2, idx1] += delay\n",
    "    \n",
    "idx = np.where(adj!=0)\n",
    "adj_delay[idx] = adj_delay[idx] / adj[idx]"
   ]
  },
  {
   "cell_type": "code",
   "execution_count": 3,
   "metadata": {},
   "outputs": [],
   "source": [
    "adj_delay[adj_delay<=0]=0"
   ]
  },
  {
   "cell_type": "code",
   "execution_count": 12,
   "metadata": {},
   "outputs": [],
   "source": [
    "G = pg.graphs.Graph(adj)\n",
    "G_delay =pg.graphs.Graph(adj_delay)"
   ]
  },
  {
   "cell_type": "code",
   "execution_count": 16,
   "metadata": {},
   "outputs": [],
   "source": [
    "G_delay.compute_fourier_basis()"
   ]
  },
  {
   "cell_type": "code",
   "execution_count": 22,
   "metadata": {},
   "outputs": [
    {
     "data": {
      "text/plain": [
       "[<matplotlib.lines.Line2D at 0x266f1900978>]"
      ]
     },
     "execution_count": 22,
     "metadata": {},
     "output_type": "execute_result"
    },
    {
     "data": {
      "image/png": "[encoded data removed]",
      "text/plain": [
       "<Figure size 432x288 with 1 Axes>"
      ]
     },
     "metadata": {
      "needs_background": "light"
     },
     "output_type": "display_data"
    }
   ],
   "source": [
    "plt.plot(G_delay.U[:,22], G_delay.U[:,23],'.')"
   ]
  },
  {
   "cell_type": "code",
   "execution_count": 19,
   "metadata": {},
   "outputs": [
    {
     "data": {
      "text/plain": [
       "array([ 0.00000000e+00, -4.80813653e-14, -4.05720838e-14, -1.58368130e-14,\n",
       "       -1.16409168e-14, -9.25587851e-15, -8.51614612e-15, -8.88178420e-16,\n",
       "       -8.23700893e-16,  2.18403650e-16,  2.51117643e-15,  5.64198552e-15,\n",
       "        8.38918483e-15,  1.67242867e-14,  2.90122042e-14,  4.29560777e-14,\n",
       "        8.40972875e-14,  8.69379389e-14,  9.17298145e-14,  1.01725377e-13,\n",
       "        1.48389894e-13,  1.61708523e-13,  2.14841491e-01,  4.97400577e-01,\n",
       "        8.36628417e-01,  8.98588910e-01,  1.29528561e+00,  1.32927643e+00,\n",
       "        1.41513837e+00,  1.57655198e+00,  2.39917918e+00,  2.49167194e+00,\n",
       "        2.51462002e+00,  2.65905692e+00,  3.19472678e+00,  3.56798624e+00,\n",
       "        3.86161235e+00,  4.51681078e+00,  4.84662561e+00,  5.03302992e+00,\n",
       "        5.07964839e+00,  5.10806024e+00,  5.20491013e+00,  5.27033514e+00,\n",
       "        5.41238510e+00,  5.71465634e+00,  5.72331738e+00,  5.78939746e+00,\n",
       "        6.05680377e+00,  6.38360690e+00,  6.78077777e+00,  6.90107547e+00,\n",
       "        7.00410039e+00,  7.46057110e+00,  7.54513070e+00,  8.24143096e+00,\n",
       "        8.36960584e+00,  8.39958041e+00,  8.46283313e+00,  8.54653836e+00,\n",
       "        8.58473980e+00,  8.66916654e+00,  8.92009368e+00,  8.98129128e+00,\n",
       "        9.02583982e+00,  9.38117684e+00,  9.54392298e+00,  9.72126387e+00,\n",
       "        9.91241784e+00,  1.00313137e+01,  1.03190582e+01,  1.03876332e+01,\n",
       "        1.04621069e+01,  1.04707224e+01,  1.05125934e+01,  1.06686483e+01,\n",
       "        1.07902863e+01,  1.08772609e+01,  1.16113762e+01,  1.17065055e+01,\n",
       "        1.19005851e+01,  1.20529768e+01,  1.21494855e+01,  1.22120541e+01,\n",
       "        1.23186980e+01,  1.25205053e+01,  1.27067149e+01,  1.28633279e+01,\n",
       "        1.29678215e+01,  1.31868872e+01,  1.35027582e+01,  1.37749561e+01,\n",
       "        1.39674123e+01,  1.45663840e+01,  1.46869519e+01,  1.48814490e+01,\n",
       "        1.52809039e+01,  1.56824988e+01,  1.58108420e+01,  1.58861862e+01,\n",
       "        1.59316206e+01,  1.60695680e+01,  1.61805560e+01,  1.64901603e+01,\n",
       "        1.65958359e+01,  1.67538871e+01,  1.69554374e+01,  1.74038353e+01,\n",
       "        1.77333729e+01,  1.81421032e+01,  1.82677298e+01,  1.84304781e+01,\n",
       "        1.87769603e+01,  1.89142489e+01,  1.90627211e+01,  1.93911883e+01,\n",
       "        1.96390532e+01,  1.97803437e+01,  2.00830680e+01,  2.02023764e+01,\n",
       "        2.03567706e+01,  2.08420286e+01,  2.10664191e+01,  2.11244260e+01,\n",
       "        2.11588156e+01,  2.16229775e+01,  2.19404940e+01,  2.20540593e+01,\n",
       "        2.23428732e+01,  2.23798660e+01,  2.25263653e+01,  2.25619597e+01,\n",
       "        2.26223033e+01,  2.30552189e+01,  2.33911205e+01,  2.39690568e+01,\n",
       "        2.43430812e+01,  2.45223161e+01,  2.48166857e+01,  2.52102771e+01,\n",
       "        2.63377274e+01,  2.64653702e+01,  2.68693842e+01,  2.70634899e+01,\n",
       "        2.71551805e+01,  2.73383055e+01,  2.74521714e+01,  2.77034986e+01,\n",
       "        2.81510255e+01,  2.86005210e+01,  2.86381981e+01,  2.89976055e+01,\n",
       "        2.93646242e+01,  2.98003691e+01,  3.04228377e+01,  3.05182215e+01,\n",
       "        3.13581936e+01,  3.16778220e+01,  3.20491078e+01,  3.30281748e+01,\n",
       "        3.39082316e+01,  3.51702218e+01,  3.65616322e+01,  3.67839771e+01,\n",
       "        3.71380725e+01,  3.80566792e+01,  3.88526016e+01,  3.88969836e+01,\n",
       "        3.90916989e+01,  3.93975285e+01,  3.96467885e+01,  3.97267245e+01,\n",
       "        4.04087448e+01,  4.08229779e+01,  4.08728977e+01,  4.17079463e+01,\n",
       "        4.31649663e+01,  4.32769011e+01,  4.35292608e+01,  4.40338968e+01,\n",
       "        4.42526831e+01,  4.51136621e+01,  4.62929623e+01,  4.78884532e+01,\n",
       "        5.11425966e+01,  5.31291434e+01,  5.41485479e+01,  5.52213022e+01,\n",
       "        5.61064470e+01,  5.67395711e+01,  5.72614454e+01,  5.75613764e+01,\n",
       "        5.76304311e+01,  5.89621186e+01,  6.01280696e+01,  6.12876384e+01,\n",
       "        6.23710563e+01,  6.41606910e+01,  6.51955880e+01,  6.83131031e+01,\n",
       "        6.87512046e+01,  6.96737631e+01,  7.03581287e+01,  7.10526597e+01,\n",
       "        7.20783465e+01,  7.29484559e+01,  7.35950831e+01,  7.44060725e+01,\n",
       "        7.49056068e+01,  7.51966967e+01,  7.82240636e+01,  7.84676792e+01,\n",
       "        7.96760671e+01,  7.98168452e+01,  8.02096719e+01,  8.13812637e+01,\n",
       "        8.33804073e+01,  8.44926115e+01,  8.75632983e+01,  8.95846863e+01,\n",
       "        8.99166065e+01,  9.14985147e+01,  9.32127659e+01,  9.44470405e+01,\n",
       "        9.60460095e+01,  1.01199831e+02,  1.02346282e+02,  1.03413394e+02,\n",
       "        1.05183990e+02,  1.08461779e+02,  1.12690162e+02,  1.15302812e+02,\n",
       "        1.17940217e+02,  1.18551189e+02,  1.19837595e+02,  1.20070813e+02,\n",
       "        1.21229219e+02,  1.21833273e+02,  1.22240017e+02,  1.22964742e+02,\n",
       "        1.23912420e+02,  1.25575570e+02,  1.26959846e+02,  1.29728447e+02,\n",
       "        1.32447456e+02,  1.34123264e+02,  1.35499693e+02,  1.40408273e+02,\n",
       "        1.42115982e+02,  1.44564421e+02,  1.51321445e+02,  1.53748223e+02,\n",
       "        1.55325840e+02,  1.57964732e+02,  1.60712150e+02,  1.63670798e+02,\n",
       "        1.66572730e+02,  1.68020654e+02,  1.70813948e+02,  1.73956320e+02,\n",
       "        1.78358670e+02,  1.80571586e+02,  1.83386505e+02,  1.87240864e+02,\n",
       "        1.92643737e+02,  1.99251040e+02,  2.03179731e+02,  2.05803540e+02,\n",
       "        2.10422068e+02,  2.15545598e+02,  2.18526086e+02,  2.24112673e+02,\n",
       "        2.25819482e+02,  2.33774630e+02,  2.38049086e+02,  2.42720510e+02,\n",
       "        2.43154226e+02,  2.52678036e+02,  2.58735741e+02,  2.62113699e+02,\n",
       "        2.79639604e+02,  2.87275633e+02,  2.91976119e+02,  2.99355161e+02,\n",
       "        3.02581905e+02,  3.03313001e+02,  3.05128541e+02,  3.09124486e+02,\n",
       "        3.30381057e+02,  3.40081407e+02,  3.51717845e+02,  3.66619817e+02,\n",
       "        3.77957950e+02,  3.88821315e+02,  3.91056351e+02,  3.97800210e+02,\n",
       "        4.15636979e+02,  4.22518211e+02,  4.49889689e+02,  4.92774573e+02,\n",
       "        5.07521154e+02,  5.19752494e+02,  5.35599044e+02,  6.21402673e+02,\n",
       "        6.28391172e+02,  6.32638950e+02,  6.48179712e+02,  6.85135924e+02,\n",
       "        7.02004877e+02,  7.51729172e+02,  8.74870468e+02,  8.98029536e+02,\n",
       "        9.44906538e+02,  9.62895205e+02,  1.00210524e+03,  1.02580509e+03,\n",
       "        1.15566623e+03,  1.17383866e+03,  1.29277694e+03,  1.84817294e+03,\n",
       "        2.27092058e+03,  2.77646907e+03])"
      ]
     },
     "execution_count": 19,
     "metadata": {},
     "output_type": "execute_result"
    }
   ],
   "source": [
    "G_delay.e"
   ]
  },
  {
   "cell_type": "code",
   "execution_count": null,
   "metadata": {},
   "outputs": [],
   "source": []
  }
 ],
 "metadata": {
  "kernelspec": {
   "display_name": "Python 3",
   "language": "python",
   "name": "python3"
  },
  "language_info": {
   "codemirror_mode": {
    "name": "ipython",
    "version": 3
   },
   "file_extension": ".py",
   "mimetype": "text/x-python",
   "name": "python",
   "nbconvert_exporter": "python",
   "pygments_lexer": "ipython3",
   "version": "3.6.6"
  }
 },
 "nbformat": 4,
 "nbformat_minor": 2
}
