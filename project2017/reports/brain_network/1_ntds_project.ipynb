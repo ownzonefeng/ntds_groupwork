{
 "cells": [
  {
   "cell_type": "markdown",
   "metadata": {
    "colab_type": "text",
    "id": "i5ZTao4AmWb6"
   },
   "source": [
    "# 1) GSP on the Digital Reconstruction of the Brain\n",
    "### Stefania Ebli - Christopher Elin - Florian Roth\n",
    "\n",
    "The goal of this project is to explore a digital reconstruction of the brain through graph signal processing techniques.\n",
    "\n",
    "In 2015 the [Blue Brain Project](https://bluebrain.epfl.ch/) published the [first digital reconstruction](http://www.cell.com/cell/pdf/S0092-8674%2815%2901191-5.pdf) of the microcircuit of the somatosensory cortex of a juvenile rat. This reconstruction follows biological principles. In particular, it reproduces in detail the anatomy and the physiology of each neuron in the digital microcircuit. For example, it contains information about the electrical properties, morphological properties, synaptic properties and membrane properties of the neurons. A column (or microcolumn) of the microcircuit is\n",
    "a neocortical volume of 0.29 ± 0.01 $mm^3$ containing ~31,000 neuron. Digitally reconstructed neurons are positioned in this volume according to experimentally based estimates of their densities in the 6 layers into which each microcolumn is divided. After their allocation in the 3D space, the connectivity between the neurons is reconstructed. Lastly, different stochastic instances of this microcolumn are initiated and assembled to simulate a defined volume in the somatosensory cortex.\n",
    "\n",
    "The experimental data, the digital reconstruction, and the simulation results are available at [the Neocortical Microcircuit Collaboration\n",
    "Portal](https://bbp.epfl.ch/nmc-portal). In the section Downloads one can find the data we used for this project. The connectivity of different instances of a modeled microcircuit are available as HDF5 files. For building our network we will use one of the 7 stochastic instances of a modeled microcircuit based on averaged measurements of neuron densities, E/I balance and layer widths. In particular, we arbitraly chose the third of the seven stochastic instances. This instance is contained in the file cons_locs_pathways_mc2_Column.h5. Information about the anatomy and physiology are available in the .JSON files pathways_physiology_factsheets_simplified.json and pathways_anatomy_factsheets_simplified.json.\n",
    "\n"
   ]
  },
  {
   "cell_type": "markdown",
   "metadata": {
    "colab_type": "text",
    "id": "D38lb2nZmWb-"
   },
   "source": [
    " ## 1.1) Data Exploration\n"
   ]
  },
  {
   "cell_type": "markdown",
   "metadata": {
    "colab_type": "text",
    "id": "_69W24numWb_"
   },
   "source": [
    "Now we'll download the file  cons_locs_pathways_mc2_Column.h5 containing the infomation about the connectivity and the properties of the neurons and  we'll briefly explore its content:"
   ]
  },
  {
   "cell_type": "code",
   "execution_count": 0,
   "metadata": {
    "colab": {
     "autoexec": {
      "startup": false,
      "wait_interval": 0
     }
    },
    "colab_type": "code",
    "id": "ENqhThnLsa-s"
   },
   "outputs": [],
   "source": [
    "##force not printing\n",
    "%%capture \n",
    "%matplotlib inline\n",
    "!pip install h5py\n",
    "import numpy as np\n",
    "import h5py \n",
    "from scipy import sparse\n",
    "import IPython.display as ipd\n",
    "import matplotlib.pyplot as plt\n",
    "import re\n",
    "import networkx as nx\n",
    "import scipy as sp\n",
    "import scipy.sparse as sps\n"
   ]
  },
  {
   "cell_type": "code",
   "execution_count": 0,
   "metadata": {
    "colab": {
     "autoexec": {
      "startup": false,
      "wait_interval": 0
     }
    },
    "colab_type": "code",
    "id": "h7fHn0RtmWcB"
   },
   "outputs": [],
   "source": [
    "##read .h5 file format containing the information about the microcolumn of the averege individual. Run load_ntds_project before this cell!\n",
    "file_name='cons_locs_pathways_mc2_Column.h5'\n",
    "h5=h5py.File(file_name,'r')\n"
   ]
  },
  {
   "cell_type": "markdown",
   "metadata": {
    "colab_type": "text",
    "id": "MJmdrB-taTtZ"
   },
   "source": [
    "Inside the downloaded file two main data sources can be found : 'populations' and 'connectivity'. The source 'populations' contains information for each individual neuron in the microcircuit, like its position in 3d space, in- and out-degree of connectivity, etc. while 'connectivity' contains infromation about the connections inside the chosen volume.\n"
   ]
  },
  {
   "cell_type": "code",
   "execution_count": 3,
   "metadata": {
    "colab": {
     "autoexec": {
      "startup": false,
      "wait_interval": 0
     },
     "base_uri": "https://localhost:8080/",
     "height": 34,
     "output_extras": [
      {
       "item_id": 1
      }
     ]
    },
    "colab_type": "code",
    "executionInfo": {
     "elapsed": 599,
     "status": "ok",
     "timestamp": 1516625395903,
     "user": {
      "displayName": "Florian Roth",
      "photoUrl": "https://lh3.googleusercontent.com/a/default-user=s128",
      "userId": "111314877488456710991"
     },
     "user_tz": -60
    },
    "id": "SweCBTw4mWcI",
    "outputId": "57881690-0eaf-4599-b176-4c12d2f94c8e"
   },
   "outputs": [
    {
     "data": {
      "text/plain": [
       "['connectivity', 'populations']"
      ]
     },
     "execution_count": 3,
     "metadata": {
      "tags": []
     },
     "output_type": "execute_result"
    }
   ],
   "source": [
    "list(h5.keys())\n"
   ]
  },
  {
   "cell_type": "markdown",
   "metadata": {
    "colab_type": "text",
    "id": "XpWd8Z96b4Gj"
   },
   "source": [
    "The information is splitted into 55 groups, each one corresponding to a morphological type (m-type) used in the model (for example 'L4_PC' = layer 4 pyramidal cell). For further information about the classification of neuron in morphological type refer to ['Reconstruction and Simulation of Neocortical Microcircuitry'](http://www.cell.com/cell/pdf/S0092-8674%2815%2901191-5.pdf) (Markram et al., 2015; Cell). "
   ]
  },
  {
   "cell_type": "code",
   "execution_count": 4,
   "metadata": {
    "colab": {
     "autoexec": {
      "startup": false,
      "wait_interval": 0
     },
     "base_uri": "https://localhost:8080/",
     "height": 51,
     "output_extras": [
      {
       "item_id": 1
      }
     ]
    },
    "colab_type": "code",
    "executionInfo": {
     "elapsed": 492,
     "status": "ok",
     "timestamp": 1516625396740,
     "user": {
      "displayName": "Florian Roth",
      "photoUrl": "https://lh3.googleusercontent.com/a/default-user=s128",
      "userId": "111314877488456710991"
     },
     "user_tz": -60
    },
    "id": "Yf9pKMazgbg6",
    "outputId": "4c02ab9e-6439-450f-8e35-df14e615d17a"
   },
   "outputs": [
    {
     "name": "stdout",
     "output_type": "stream",
     "text": [
      "We have 55 different mophological types. Here there are the first 16 m-type: \n",
      "L1_DAC L1_DLAC L1_HAC L1_NGC-DA L1_NGC-SA L1_SLAC L23_BP L23_BTC L23_ChC L23_DBC L23_LBC L23_MC L23_NBC L23_NGC L23_PC "
     ]
    }
   ],
   "source": [
    "m_type=dict()\n",
    "m_type_inv=dict()\n",
    "m_values=list(h5['populations'].keys())\n",
    "nb_values_show = 16\n",
    "for i in range(0, len(m_values)):\n",
    "        m_type[i] =m_values[i] \n",
    "        m_type_inv[m_values[i]]=i\n",
    "print('We have {} different mophological types. Here there are the first {} m-type: '.format(len(m_type), nb_values_show))\n",
    "for x in range(nb_values_show-1):\n",
    "    print(m_type[x], end=' ')\n"
   ]
  },
  {
   "cell_type": "markdown",
   "metadata": {
    "colab_type": "text",
    "id": "_HiJrc4De5dq"
   },
   "source": [
    "Each of the name of the 55 different morpholagical groups contains additional information about the position and the type of the neuron. For example, we know that a neuron belonging to the group 'L4_PC' = 'layer 4 pyramidal' is an excitatory neuron in layer 4 of the microcircuit, while a neuron in the group 'L4_MC'= 'layer 4 martinotti cell' is an inhibitory neuron in layer 4. [The following](https://drive.google.com/open?id=1gJFiD1VTwheDcZPgAlD-eGD9MC-F1Q-0) is a table representing the 55 different morphological type of neurons. The numbers on the left from 1 to 6 are the 6 different layers in which the micorcircuit is divided. Inhibitory neurons are assigned to a blue label whereas excitatory neurons are assigned to a red label. For more details about this classification we refer to ['Reconstruction and Simulation of Neocortical Microcircuitry' (Markram et al., 2015; Cell)](http://www.cell.com/cell/pdf/S0092-8674%2815%2901191-5.pdf)."
   ]
  },
  {
   "cell_type": "markdown",
   "metadata": {
    "colab_type": "text",
    "id": "IS7qXZ8CwvUw"
   },
   "source": [
    "For each group, ['populations'] contains the locations (in micrometer) in the 3D space of the neurons of the given group. For example, if we want to know the 3D position of the first neuron of m-type 'L4_PC :"
   ]
  },
  {
   "cell_type": "code",
   "execution_count": 5,
   "metadata": {
    "colab": {
     "autoexec": {
      "startup": false,
      "wait_interval": 0
     },
     "base_uri": "https://localhost:8080/",
     "height": 34,
     "output_extras": [
      {
       "item_id": 1
      }
     ]
    },
    "colab_type": "code",
    "executionInfo": {
     "elapsed": 702,
     "status": "ok",
     "timestamp": 1516625397878,
     "user": {
      "displayName": "Florian Roth",
      "photoUrl": "https://lh3.googleusercontent.com/a/default-user=s128",
      "userId": "111314877488456710991"
     },
     "user_tz": -60
    },
    "id": "j7Uz3l-00Gjb",
    "outputId": "da221a3b-63bb-452c-8609-7628750d3518"
   },
   "outputs": [
    {
     "name": "stdout",
     "output_type": "stream",
     "text": [
      "The 3D position of the first L4_PC neuron is [ 313.383834 1336.086168  566.373262]\n"
     ]
    }
   ],
   "source": [
    "print('The 3D position of the first L4_PC neuron is {}'.format(list(h5['populations'][ 'L4_PC' ]['locations'])[0]))"
   ]
  },
  {
   "cell_type": "markdown",
   "metadata": {
    "colab_type": "text",
    "id": "L2OVXH0s1z50"
   },
   "source": [
    "Now, we'll build an array containing all the distances between neurons"
   ]
  },
  {
   "cell_type": "code",
   "execution_count": 0,
   "metadata": {
    "colab": {
     "autoexec": {
      "startup": false,
      "wait_interval": 0
     }
    },
    "colab_type": "code",
    "id": "-Wuqdx-Hwwsn"
   },
   "outputs": [],
   "source": [
    "pos_neuron=dict()\n",
    "pos_neuron_inv=dict()\n",
    "for i in range(0, len(m_values)):\n",
    "        pos_neuron[i] =list(h5['populations'][m_type[i]]['locations'])\n",
    "        pos_neuron_inv[m_values[i]]=list(h5['populations'][m_type[i]]['locations'])\n",
    "all_positions=pos_neuron.values()"
   ]
  },
  {
   "cell_type": "markdown",
   "metadata": {
    "colab_type": "text",
    "id": "iSjdPrYQ3NTg"
   },
   "source": [
    "How many L4_PC neurons do we have?"
   ]
  },
  {
   "cell_type": "code",
   "execution_count": 7,
   "metadata": {
    "colab": {
     "autoexec": {
      "startup": false,
      "wait_interval": 0
     },
     "base_uri": "https://localhost:8080/",
     "height": 34,
     "output_extras": [
      {
       "item_id": 1
      }
     ]
    },
    "colab_type": "code",
    "executionInfo": {
     "elapsed": 690,
     "status": "ok",
     "timestamp": 1516625406398,
     "user": {
      "displayName": "Florian Roth",
      "photoUrl": "https://lh3.googleusercontent.com/a/default-user=s128",
      "userId": "111314877488456710991"
     },
     "user_tz": -60
    },
    "id": "WZrYlwO24ZeF",
    "outputId": "41f127b3-446c-4269-e9ee-2264c03148d0"
   },
   "outputs": [
    {
     "name": "stdout",
     "output_type": "stream",
     "text": [
      "The number of L4_PC neurons is 2674\n"
     ]
    }
   ],
   "source": [
    "print('The number of L4_PC neurons is {}'.format(len(list(h5['populations'][ 'L4_PC' ]['locations']))))"
   ]
  },
  {
   "cell_type": "code",
   "execution_count": 0,
   "metadata": {
    "colab": {
     "autoexec": {
      "startup": false,
      "wait_interval": 0
     }
    },
    "colab_type": "code",
    "id": "L15fV4DN4oPE"
   },
   "outputs": [],
   "source": [
    "#calculation of the total number of neurons of the microcircuit\n",
    "num_neuron=dict()\n",
    "num_neuron_inv=dict()\n",
    "for i in range(0, len(m_values)):\n",
    "        num_neuron[i]=len(list(h5['populations'][m_type[i]]['locations']))\n",
    "        num_neuron_inv[m_values[i]]=len(list(h5['populations'][m_type[i]]['locations']))\n"
   ]
  },
  {
   "cell_type": "code",
   "execution_count": 9,
   "metadata": {
    "colab": {
     "autoexec": {
      "startup": false,
      "wait_interval": 0
     },
     "base_uri": "https://localhost:8080/",
     "height": 34,
     "output_extras": [
      {
       "item_id": 1
      }
     ]
    },
    "colab_type": "code",
    "executionInfo": {
     "elapsed": 460,
     "status": "ok",
     "timestamp": 1516625415045,
     "user": {
      "displayName": "Florian Roth",
      "photoUrl": "https://lh3.googleusercontent.com/a/default-user=s128",
      "userId": "111314877488456710991"
     },
     "user_tz": -60
    },
    "id": "sbwMJWtk5vGq",
    "outputId": "61b08804-0752-4b63-cbba-7476d672e3cf"
   },
   "outputs": [
    {
     "name": "stdout",
     "output_type": "stream",
     "text": [
      "The total number of neurons in our microcircuit is 31346\n"
     ]
    }
   ],
   "source": [
    "N=sum(num_neuron.values())\n",
    "print('The total number of neurons in our microcircuit is {}'.format(N))"
   ]
  },
  {
   "cell_type": "markdown",
   "metadata": {
    "colab_type": "text",
    "id": "UY3bks7qxJsy"
   },
   "source": [
    "Now we'll plot an histogram with the distribution of the different 55 m-types of the 31346 neurons."
   ]
  },
  {
   "cell_type": "code",
   "execution_count": 0,
   "metadata": {
    "colab": {
     "autoexec": {
      "startup": false,
      "wait_interval": 0
     }
    },
    "colab_type": "code",
    "id": "vW7ZBIwH6Aix"
   },
   "outputs": [],
   "source": [
    "##Plot histogram of m-types\n",
    "label_morphology=[]\n",
    "for i in num_neuron.keys():\n",
    "  label_morphology.extend(num_neuron[i]*[i])\n",
    "  \n"
   ]
  },
  {
   "cell_type": "code",
   "execution_count": 0,
   "metadata": {
    "colab": {
     "autoexec": {
      "startup": false,
      "wait_interval": 0
     }
    },
    "colab_type": "code",
    "id": "xeG6Tr0Hb2zP"
   },
   "outputs": [],
   "source": [
    "label_layer=[]\n",
    "label_layer_morpho=[]\n",
    "for i in m_type.keys():\n",
    "  label_layer.extend(num_neuron[i]*list(map(int, re.findall(r'^\\D*(\\d+)', m_type[i]))))\n",
    "  label_layer_morpho.extend(list(map(int, re.findall(r'^\\D*(\\d+)', m_type[i]))))\n",
    "label_layer = [x if x!= 23 else 2 for x in label_layer]\n",
    "label_layer_morpho = [x if x!= 23 else 2 for x in label_layer_morpho]\n",
    "\n"
   ]
  },
  {
   "cell_type": "code",
   "execution_count": 12,
   "metadata": {
    "colab": {
     "autoexec": {
      "startup": false,
      "wait_interval": 0
     },
     "base_uri": "https://localhost:8080/",
     "height": 504,
     "output_extras": [
      {
       "item_id": 1
      }
     ]
    },
    "colab_type": "code",
    "executionInfo": {
     "elapsed": 1305,
     "status": "ok",
     "timestamp": 1516625418137,
     "user": {
      "displayName": "Florian Roth",
      "photoUrl": "https://lh3.googleusercontent.com/a/default-user=s128",
      "userId": "111314877488456710991"
     },
     "user_tz": -60
    },
    "id": "65FiVUqEqBzC",
    "outputId": "4ffef222-3ed9-498a-ddf4-79b1fb68e3cb"
   },
   "outputs": [
    {
     "data": {
      "image/png": "[encoded data removed]",
      "text/plain": [
       "<matplotlib.figure.Figure at 0x7f134ae440f0>"
      ]
     },
     "metadata": {
      "tags": []
     },
     "output_type": "display_data"
    }
   ],
   "source": [
    "def hist_morpho(label_morpho,a,b,y,title='Histogram of m-type'):\n",
    "  fig = plt.figure(figsize=(a,b))\n",
    "  ax=fig.add_subplot(1,1,1)\n",
    "  n, my_bins, patches = ax.hist(label_morpho, bins=np.arange(-0.5,55,1), facecolor='b',edgecolor='black', linewidth=1.2)\n",
    "\n",
    "  plt.xlabel('M-type')\n",
    "  plt.ylabel('Counts')\n",
    "  plt.title(title)\n",
    "  plt.axis([-0.5, 54.5, -0.01, y])\n",
    "  plt.grid(True)\n",
    "\n",
    "  ax.set_xticks(np.linspace(0,54,55))\n",
    "  ax.set_xticklabels(m_values, rotation='vertical')\n",
    "\n",
    "\n",
    "  for i in range(0,5):\n",
    "      patches[i].set_facecolor('r')\n",
    "  for i in range(5,15):    \n",
    "    patches[i].set_facecolor('y')\n",
    "  for i in range(15,27):\n",
    "      patches[i].set_facecolor('g')\n",
    "  for i in range(27,40):\n",
    "      patches[i].set_facecolor('b')\n",
    "  for i in range(40,55):\n",
    "      patches[i].set_facecolor('purple')\n",
    "  plt.show()\n",
    "\n",
    "hist_morpho(label_morphology,a=15,b=7,y=6000)"
   ]
  },
  {
   "cell_type": "markdown",
   "metadata": {
    "colab_type": "text",
    "id": "FFHGFczbxgOA"
   },
   "source": [
    "The following is an histogram showing the distribution of the neurons in the 6 layers into which the microcolum is divided.\n",
    "\n",
    "**Note:** M-type in L2 and L3 are not separated. For example, L23_MC is the group of Martinotti cells extending both in layer 2 and 3. Our convention will be to take layer 2 as a layer-label for these neurons."
   ]
  },
  {
   "cell_type": "code",
   "execution_count": 13,
   "metadata": {
    "colab": {
     "autoexec": {
      "startup": false,
      "wait_interval": 0
     },
     "base_uri": "https://localhost:8080/",
     "height": 349,
     "output_extras": [
      {
       "item_id": 1
      }
     ]
    },
    "colab_type": "code",
    "executionInfo": {
     "elapsed": 602,
     "status": "ok",
     "timestamp": 1516625419285,
     "user": {
      "displayName": "Florian Roth",
      "photoUrl": "https://lh3.googleusercontent.com/a/default-user=s128",
      "userId": "111314877488456710991"
     },
     "user_tz": -60
    },
    "id": "NF6pnduhvCHT",
    "outputId": "b71564e7-da86-4bdd-adb0-16b22ec60ef7"
   },
   "outputs": [
    {
     "data": {
      "image/png": "[encoded data removed]",
      "text/plain": [
       "<matplotlib.figure.Figure at 0x7f134a94e4a8>"
      ]
     },
     "metadata": {
      "tags": []
     },
     "output_type": "display_data"
    }
   ],
   "source": [
    "##Distribution of neurons in the 6 lyers\n",
    "\n",
    "fig = plt.figure(figsize=(9,5))\n",
    "ax=fig.add_subplot(1,1,1)\n",
    "n, bins, patches = plt.hist(label_layer,bins=[0.5,1.5,2,3,3.5,4.5,5.5,6.5], facecolor='g',edgecolor='black', linewidth=1.2)\n",
    "plt.xlabel('Layer')\n",
    "plt.ylabel('Counts')\n",
    "plt.title('Histogram of Layer')\n",
    "plt.axis([0.5, 6.5, 0, 15000])\n",
    "\n",
    "\n",
    "\n",
    "patches[0].set_facecolor('r')\n",
    "patches[2].set_facecolor('y')\n",
    "patches[4].set_facecolor('g')\n",
    "patches[5].set_facecolor('b')\n",
    "patches[6].set_facecolor('purple')\n",
    "    \n",
    "\n",
    "plt.grid(True)\n",
    "plt.show()\n"
   ]
  },
  {
   "cell_type": "code",
   "execution_count": 14,
   "metadata": {
    "colab": {
     "autoexec": {
      "startup": false,
      "wait_interval": 0
     },
     "base_uri": "https://localhost:8080/",
     "height": 118,
     "output_extras": [
      {
       "item_id": 1
      }
     ]
    },
    "colab_type": "code",
    "executionInfo": {
     "elapsed": 543,
     "status": "ok",
     "timestamp": 1516625419979,
     "user": {
      "displayName": "Florian Roth",
      "photoUrl": "https://lh3.googleusercontent.com/a/default-user=s128",
      "userId": "111314877488456710991"
     },
     "user_tz": -60
    },
    "id": "XIho1IYgDkHb",
    "outputId": "22e0f87c-e1fc-4d86-dec0-57c90b355100"
   },
   "outputs": [
    {
     "name": "stdout",
     "output_type": "stream",
     "text": [
      "There are 338 in layer 1\n",
      "There are 0 in layer 2-3\n",
      "There are 0 in layer 4\n",
      "There are 4656 in layer 5\n",
      "There are 6114 in layer 6\n",
      "40.56% of all the neurons are located in the 6th layer.\n"
     ]
    }
   ],
   "source": [
    "print('There are {:.0f} in layer 1'.format(n[0]))\n",
    "print('There are {:.0f} in layer 2-3'.format(n[1]))\n",
    "print('There are {:.0f} in layer 4'.format(n[3]))\n",
    "print('There are {:.0f} in layer 5'.format(n[4]))\n",
    "print('There are {:.0f} in layer 6'.format(n[5]))\n",
    "print('{:.2%} of all the neurons are located in the 6th layer.'.format(n[6]/N))"
   ]
  },
  {
   "cell_type": "markdown",
   "metadata": {
    "colab_type": "text",
    "id": "VDWMFyBUNu6A"
   },
   "source": [
    "In the provided file one finds for every neuron the number of neurons which are sending and receiving signals from or to it. The number of afferent (in-degree) and efferent (out-degree) connected neurons are respectivly contained in 'nCellAff' and 'nCellEff'. Two connected neurons can form multiple connections (synapses). Therefore, for a given neuron the values 'nSynAff' and 'nSynEff' count with multiplicity the total number of afferent and efferent connections."
   ]
  },
  {
   "cell_type": "code",
   "execution_count": 15,
   "metadata": {
    "colab": {
     "autoexec": {
      "startup": false,
      "wait_interval": 0
     },
     "base_uri": "https://localhost:8080/",
     "height": 51,
     "output_extras": [
      {
       "item_id": 1
      }
     ]
    },
    "colab_type": "code",
    "executionInfo": {
     "elapsed": 617,
     "status": "ok",
     "timestamp": 1516625421029,
     "user": {
      "displayName": "Florian Roth",
      "photoUrl": "https://lh3.googleusercontent.com/a/default-user=s128",
      "userId": "111314877488456710991"
     },
     "user_tz": -60
    },
    "id": "Bu9XLswPREUI",
    "outputId": "79d6b391-9b1c-42dd-d0a7-7019b5aaafb2"
   },
   "outputs": [
    {
     "name": "stdout",
     "output_type": "stream",
     "text": [
      "The number of afferent connections of the first neuron in -L4_PC- neurons is 427\n",
      "The number of afferent synapses of the first neuron in -L4_PC- neurons is 1437\n"
     ]
    }
   ],
   "source": [
    "print('The number of afferent connections of the first neuron in -L4_PC- neurons is {}'.format(list(h5['populations'][ 'L4_PC' ]['nCellAff' ][0])[0]))\n",
    "print('The number of afferent synapses of the first neuron in -L4_PC- neurons is {}'.format(list(h5['populations'][ 'L4_PC' ][ 'nSynAff' ][0])[0]))"
   ]
  },
  {
   "cell_type": "markdown",
   "metadata": {
    "colab_type": "text",
    "id": "a0Mh74p5g4gJ"
   },
   "source": [
    "**Note:** The number of afferent and efferent connections as well as the number of afferent and efferent synapses data includes some connections from or to neurons outside the microcolum we are considering. The aim of this is to reduce the so called **'edge effect'** or **'border effect'**. That is the effect that neurons at the boundary of the given microcolum have fewer connections. The reason is that a modeled microcircuit is surrounded by other 6 microcircuits and connections from or to these microcircuits are also taken into account in this count.\n",
    "\n",
    "For example, due the border effect the number of total afferent connections as well as the number of total synapses is not equal respectively to the number of total efferent connections and synapses (in theory, for a given network, one should have total in-degree = total =out degree). Where for total in- respective out-degree we mean the sum of all in-degree over the nodes.\n"
   ]
  },
  {
   "cell_type": "code",
   "execution_count": 16,
   "metadata": {
    "colab": {
     "autoexec": {
      "startup": false,
      "wait_interval": 0
     },
     "base_uri": "https://localhost:8080/",
     "height": 84,
     "output_extras": [
      {
       "item_id": 1
      }
     ]
    },
    "colab_type": "code",
    "executionInfo": {
     "elapsed": 13411,
     "status": "ok",
     "timestamp": 1516625435191,
     "user": {
      "displayName": "Florian Roth",
      "photoUrl": "https://lh3.googleusercontent.com/a/default-user=s128",
      "userId": "111314877488456710991"
     },
     "user_tz": -60
    },
    "id": "QLTeYKlrwyep",
    "outputId": "7c72994b-143d-4d2d-de82-f7a127ff0e3f"
   },
   "outputs": [
    {
     "name": "stdout",
     "output_type": "stream",
     "text": [
      "The total number of afferent connections (counting also connection formed outside our volume) is 14132808\n",
      "The total number of efferent connections (counting also connection formed outside our volume) is 14163526\n",
      "The total number of afferent synapses (counting also synapses formed outside our volume) is 60992747\n",
      "The total number of efferent synapses (counting also synapses formed outside our volume) is 61100755\n"
     ]
    }
   ],
   "source": [
    "affconn_mtype=[]\n",
    "effconn_mtype=[]\n",
    "affsyn_mtype=[]\n",
    "effsyn_mtype=[]\n",
    "dist_affconn_mtype=[]\n",
    "dist_effconn_mtype=[]\n",
    "dist_affsyn_mtype=[]\n",
    "dist_effsyn_mtype=[]\n",
    "for x in m_values:\n",
    "  dist_affconn_mtype.extend(h5['populations'][ x ]['nCellAff'])\n",
    "  dist_effconn_mtype.extend(h5['populations'][ x ]['nCellEff'])\n",
    "  dist_affsyn_mtype.extend((h5['populations'][ x ]['nSynAff']))\n",
    "  dist_effsyn_mtype.extend((h5['populations'][ x ]['nSynEff']))\n",
    "  affconn_mtype.append(np.sum(np.array(h5['populations'][ x ]['nCellAff'])))\n",
    "  effconn_mtype.append(np.sum(np.array(h5['populations'][ x ]['nCellEff'])))\n",
    "  affsyn_mtype.append(np.sum(np.array(h5['populations'][ x ]['nSynAff'])))\n",
    "  effsyn_mtype.append(np.sum(np.array(h5['populations'][ x ]['nSynEff'])))\n",
    "tot_effconn=np.sum(effconn_mtype)\n",
    "tot_affconn=np.sum(affconn_mtype)\n",
    "tot_affsyn=np.sum(affsyn_mtype)\n",
    "tot_effsyn=np.sum(effsyn_mtype)\n",
    "print('The total number of afferent connections (counting also connection formed outside our volume) is {}'.format(tot_affconn))\n",
    "print('The total number of efferent connections (counting also connection formed outside our volume) is {}'.format(tot_effconn))\n",
    "print('The total number of afferent synapses (counting also synapses formed outside our volume) is {}'.format(tot_affsyn))\n",
    "print('The total number of efferent synapses (counting also synapses formed outside our volume) is {}'.format(tot_effsyn))\n"
   ]
  },
  {
   "cell_type": "code",
   "execution_count": 17,
   "metadata": {
    "colab": {
     "autoexec": {
      "startup": false,
      "wait_interval": 0
     },
     "base_uri": "https://localhost:8080/",
     "height": 34,
     "output_extras": [
      {
       "item_id": 1
      }
     ]
    },
    "colab_type": "code",
    "executionInfo": {
     "elapsed": 629,
     "status": "ok",
     "timestamp": 1516625435950,
     "user": {
      "displayName": "Florian Roth",
      "photoUrl": "https://lh3.googleusercontent.com/a/default-user=s128",
      "userId": "111314877488456710991"
     },
     "user_tz": -60
    },
    "id": "k2hyBStP0_Z2",
    "outputId": "3055adb5-5a56-4ebc-f1d7-a3b79a1d3b2a"
   },
   "outputs": [
    {
     "name": "stdout",
     "output_type": "stream",
     "text": [
      "On average one connection between two neuron is formed by ~4.314817906598872 synapses\n"
     ]
    }
   ],
   "source": [
    "w=(tot_affsyn/tot_affconn + tot_effsyn/tot_effconn)/2\n",
    "print('On average one connection between two neuron is formed by ~{} synapses'.format(w))"
   ]
  },
  {
   "cell_type": "markdown",
   "metadata": {
    "colab_type": "text",
    "id": "Z05CtPYLloDY"
   },
   "source": [
    "If one wants to look only at the inner connectivity of the selected microcolumn, the 'connectivity' key contains the binary connection matrix. This matrix is splitted into submatrices labeled first by the name of the morphological type of the source of the signal (pre-synaptic neurons), then to the morphological type of the sink of the signal (the post-synaptic neurons). \n",
    "\n",
    "\n",
    "\n",
    "\n",
    "\n",
    "For an example in the following we are looking at the connectivity matrix from L4_MC to L4_PC neurons:\n"
   ]
  },
  {
   "cell_type": "code",
   "execution_count": 18,
   "metadata": {
    "colab": {
     "autoexec": {
      "startup": false,
      "wait_interval": 0
     },
     "base_uri": "https://localhost:8080/",
     "height": 34,
     "output_extras": [
      {
       "item_id": 1
      }
     ]
    },
    "colab_type": "code",
    "executionInfo": {
     "elapsed": 541,
     "status": "ok",
     "timestamp": 1516625436865,
     "user": {
      "displayName": "Florian Roth",
      "photoUrl": "https://lh3.googleusercontent.com/a/default-user=s128",
      "userId": "111314877488456710991"
     },
     "user_tz": -60
    },
    "id": "Kb1FLGS9oE0b",
    "outputId": "0b255a91-4ac3-4dcb-dcba-afdaf5e3a20c"
   },
   "outputs": [
    {
     "name": "stdout",
     "output_type": "stream",
     "text": [
      "The connectivity matrix from L4_MC to L4_PC has size (118, 2674)\n"
     ]
    }
   ],
   "source": [
    "conn=np.array(h5['connectivity']['L4_MC']['L4_PC']['cMat'])\n",
    "print('The connectivity matrix from L4_MC to L4_PC has size {}'.format(conn.shape))  "
   ]
  },
  {
   "cell_type": "code",
   "execution_count": 19,
   "metadata": {
    "colab": {
     "autoexec": {
      "startup": false,
      "wait_interval": 0
     },
     "base_uri": "https://localhost:8080/",
     "height": 34,
     "output_extras": [
      {
       "item_id": 1
      }
     ]
    },
    "colab_type": "code",
    "executionInfo": {
     "elapsed": 463,
     "status": "ok",
     "timestamp": 1516625437610,
     "user": {
      "displayName": "Florian Roth",
      "photoUrl": "https://lh3.googleusercontent.com/a/default-user=s128",
      "userId": "111314877488456710991"
     },
     "user_tz": -60
    },
    "id": "2qJ1A8wvDNm_",
    "outputId": "7322e2fe-741a-480f-a2a4-6fedd38eb731"
   },
   "outputs": [
    {
     "name": "stdout",
     "output_type": "stream",
     "text": [
      "The connectivity matrix from L4_PC to L4_MC has size (2674, 118)\n"
     ]
    }
   ],
   "source": [
    "conn2=np.array(h5['connectivity']['L4_PC']['L4_MC']['cMat'])\n",
    "print('The connectivity matrix from L4_PC to L4_MC has size {}'.format(conn2.shape))  "
   ]
  },
  {
   "cell_type": "markdown",
   "metadata": {
    "colab_type": "text",
    "id": "slDI1ZIJNYdX"
   },
   "source": [
    "## 1.2)Network Building"
   ]
  },
  {
   "cell_type": "markdown",
   "metadata": {
    "colab_type": "text",
    "id": "wF0Z4dtu2fDE"
   },
   "source": [
    "### Concatenate all the cMat matrices\n",
    "** Note **: the network we'll build using 'cMat' is directed as h5['connectivity'][x][y]['cMat'] is the adjacency matrix detacting if there are outgoing connections from a presynaptic neuron (source of signal) positioned along the first axis of the matrix to a postsynaptic neuron (sink of the signal) positioned along the second axis of the matrix.\n",
    "\n",
    "Therefore, we'll build a directed adjacency matrix with presynaptic neurons along the raws and postsynaptic neurons along the columns:"
   ]
  },
  {
   "cell_type": "code",
   "execution_count": 20,
   "metadata": {
    "colab": {
     "autoexec": {
      "startup": false,
      "wait_interval": 0
     },
     "base_uri": "https://localhost:8080/",
     "height": 34,
     "output_extras": [
      {
       "item_id": 1
      }
     ]
    },
    "colab_type": "code",
    "executionInfo": {
     "elapsed": 18692,
     "status": "ok",
     "timestamp": 1516625456444,
     "user": {
      "displayName": "Florian Roth",
      "photoUrl": "https://lh3.googleusercontent.com/a/default-user=s128",
      "userId": "111314877488456710991"
     },
     "user_tz": -60
    },
    "id": "Ezyn75Kg2eIk",
    "outputId": "636447f6-47f3-41bd-d98a-66508c86cedd"
   },
   "outputs": [
    {
     "name": "stdout",
     "output_type": "stream",
     "text": [
      "The shape should be #neurons x #neurons = 31346 x 31346, and we have: (31346, 31346)\n"
     ]
    }
   ],
   "source": [
    "#rows are source of the signal, columns are target\n",
    "for x in m_values: \n",
    "  for y in m_values: \n",
    "    if y == m_values[0]:\n",
    "      conn_tot_row=np.array(h5['connectivity'][x][y]['cMat']) \n",
    "    else:\n",
    "      conn_temp_row=np.array(h5['connectivity'][x][y]['cMat'])\n",
    "      conn_tot_row = np.concatenate((conn_tot_row, conn_temp_row), axis=1)\n",
    "  if x == m_values[0]:\n",
    "    conn_tot = conn_tot_row\n",
    "  else:\n",
    "    conn_tot = np.concatenate((conn_tot, conn_tot_row), axis=0) \n",
    "print('The shape should be #neurons x #neurons = {} x {}, and we have: {}'.format(N,N,conn_tot.shape) )   "
   ]
  },
  {
   "cell_type": "code",
   "execution_count": 21,
   "metadata": {
    "colab": {
     "autoexec": {
      "startup": false,
      "wait_interval": 0
     },
     "base_uri": "https://localhost:8080/",
     "height": 297,
     "output_extras": [
      {
       "item_id": 1
      }
     ]
    },
    "colab_type": "code",
    "executionInfo": {
     "elapsed": 12046,
     "status": "ok",
     "timestamp": 1516625468607,
     "user": {
      "displayName": "Florian Roth",
      "photoUrl": "https://lh3.googleusercontent.com/a/default-user=s128",
      "userId": "111314877488456710991"
     },
     "user_tz": -60
    },
    "id": "IvkA17nXH5zf",
    "outputId": "27d85f0f-95d8-4ef7-bf9d-44e41a671787"
   },
   "outputs": [
    {
     "data": {
      "image/png": "[encoded data removed]",
      "text/plain": [
       "<matplotlib.figure.Figure at 0x7f134a811080>"
      ]
     },
     "metadata": {
      "tags": []
     },
     "output_type": "display_data"
    }
   ],
   "source": [
    "#Plot the adjacency matrix\n",
    "plt.figure(figsize=(10,4))\n",
    "plt.subplot(1, 1, 1)\n",
    "M = sps.csr_matrix(conn_tot)\n",
    "plt.spy(M, markersize = 0.1, color = 'black')\n",
    "plt.suptitle('Directed Adjacency matrx of the microcircuit', y=1.05,fontsize=10)\n",
    "\n",
    "plt.show()"
   ]
  },
  {
   "cell_type": "code",
   "execution_count": 0,
   "metadata": {
    "colab": {
     "autoexec": {
      "startup": false,
      "wait_interval": 0
     }
    },
    "colab_type": "code",
    "id": "EQZJZ_pOWrEZ"
   },
   "outputs": [],
   "source": [
    "G=nx.MultiDiGraph()\n",
    "G=nx.from_numpy_matrix(conn_tot)"
   ]
  },
  {
   "cell_type": "code",
   "execution_count": 23,
   "metadata": {
    "colab": {
     "autoexec": {
      "startup": false,
      "wait_interval": 0
     },
     "base_uri": "https://localhost:8080/",
     "height": 34,
     "output_extras": [
      {
       "item_id": 1
      }
     ]
    },
    "colab_type": "code",
    "executionInfo": {
     "elapsed": 527,
     "status": "ok",
     "timestamp": 1516625514125,
     "user": {
      "displayName": "Florian Roth",
      "photoUrl": "https://lh3.googleusercontent.com/a/default-user=s128",
      "userId": "111314877488456710991"
     },
     "user_tz": -60
    },
    "id": "RTDrK4dyWyoo",
    "outputId": "fb98b460-5b77-4b38-ed19-7f15dd9c6ee3"
   },
   "outputs": [
    {
     "name": "stdout",
     "output_type": "stream",
     "text": [
      "Our network has 31346 nodes and a total of 7709009 connections (counting bidirectional edges as one edge).\n"
     ]
    }
   ],
   "source": [
    "print('Our network has {} nodes and a total of {} connections (counting bidirectional edges as one edge).'.format(len(G.nodes()),len(G.edges())))"
   ]
  },
  {
   "cell_type": "markdown",
   "metadata": {
    "colab_type": "text",
    "id": "2aMLTkSqXkDG"
   },
   "source": [
    "If one wants to transform the directed network into an undirected one, it's possible to symmetrize the matrix in the following way:"
   ]
  },
  {
   "cell_type": "code",
   "execution_count": 0,
   "metadata": {
    "colab": {
     "autoexec": {
      "startup": false,
      "wait_interval": 0
     }
    },
    "colab_type": "code",
    "id": "OyN1KNzTXu8W"
   },
   "outputs": [],
   "source": [
    "#symmetrize conn_tot\n",
    "#conn_tot_symm=np.maximum( conn_tot, conn_tot.transpose())"
   ]
  },
  {
   "cell_type": "markdown",
   "metadata": {
    "colab_type": "text",
    "id": "uAv1kmoeQKQ7"
   },
   "source": [
    "## 1.3)Network Analysis and Statistics\n",
    "\n"
   ]
  },
  {
   "cell_type": "markdown",
   "metadata": {
    "colab_type": "text",
    "id": "qwV8YX_GXyCM"
   },
   "source": [
    "In this section we'll show some classical network analysis and statistics on the microcircuit. If not specified, for our analysis, **we are considering  the directed network.**"
   ]
  },
  {
   "cell_type": "markdown",
   "metadata": {
    "colab_type": "text",
    "id": "p6Q5KhambbK_"
   },
   "source": [
    "### ** 1.3.1 Some statistics**\n",
    "\n",
    "**- What is the average in-degree, out-degree and tot-degree?**"
   ]
  },
  {
   "cell_type": "code",
   "execution_count": 25,
   "metadata": {
    "colab": {
     "autoexec": {
      "startup": false,
      "wait_interval": 0
     },
     "base_uri": "https://localhost:8080/",
     "height": 67,
     "output_extras": [
      {
       "item_id": 1
      }
     ]
    },
    "colab_type": "code",
    "executionInfo": {
     "elapsed": 2522,
     "status": "ok",
     "timestamp": 1516625517526,
     "user": {
      "displayName": "Florian Roth",
      "photoUrl": "https://lh3.googleusercontent.com/a/default-user=s128",
      "userId": "111314877488456710991"
     },
     "user_tz": -60
    },
    "id": "phq0HPmcdClN",
    "outputId": "ad05e8dc-7819-4933-ec1b-9246c9c7cde6"
   },
   "outputs": [
    {
     "name": "stdout",
     "output_type": "stream",
     "text": [
      "The number of connections is 7803528\n",
      "The average out-degree = average in-degree is 248.94812735277227\n",
      "The average degree is 497.89625470554455\n"
     ]
    }
   ],
   "source": [
    "out_degree=np.sum(conn_tot, axis=1)\n",
    "in_degree=np.sum(conn_tot, axis=0)\n",
    "tot_degree= out_degree + in_degree\n",
    "tot_connections=np.sum(tot_degree/2)\n",
    "\n",
    "av_indegree= np.mean(in_degree)\n",
    "av_outdegree=np.mean(out_degree)\n",
    "av_totdegree=np.mean(tot_degree)\n",
    "print('The number of connections is {:.0f}'.format(tot_connections))\n",
    "print('The average out-degree = average in-degree is {}'.format(av_outdegree))\n",
    "print('The average degree is {}'.format(av_totdegree))"
   ]
  },
  {
   "cell_type": "markdown",
   "metadata": {
    "colab_type": "text",
    "id": "SnpnIuz9dTnc"
   },
   "source": [
    "**- What is the probability of connection inside our micorcicuit?**"
   ]
  },
  {
   "cell_type": "code",
   "execution_count": 26,
   "metadata": {
    "colab": {
     "autoexec": {
      "startup": false,
      "wait_interval": 0
     },
     "base_uri": "https://localhost:8080/",
     "height": 34,
     "output_extras": [
      {
       "item_id": 1
      }
     ]
    },
    "colab_type": "code",
    "executionInfo": {
     "elapsed": 528,
     "status": "ok",
     "timestamp": 1516625518177,
     "user": {
      "displayName": "Florian Roth",
      "photoUrl": "https://lh3.googleusercontent.com/a/default-user=s128",
      "userId": "111314877488456710991"
     },
     "user_tz": -60
    },
    "id": "1mSCPuLtdSEw",
    "outputId": "ec77d88e-e525-4566-f10e-06c9a3daaf67"
   },
   "outputs": [
    {
     "name": "stdout",
     "output_type": "stream",
     "text": [
      "The probability of connection inside our microcircuit is 0.015884391600113082\n"
     ]
    }
   ],
   "source": [
    "p=np.sum(tot_degree)/(N*(N-1))\n",
    "print('The probability of connection inside our microcircuit is {}'.format(p))\n"
   ]
  },
  {
   "cell_type": "code",
   "execution_count": 27,
   "metadata": {
    "colab": {
     "autoexec": {
      "startup": false,
      "wait_interval": 0
     },
     "base_uri": "https://localhost:8080/",
     "height": 34,
     "output_extras": [
      {
       "item_id": 1
      }
     ]
    },
    "colab_type": "code",
    "executionInfo": {
     "elapsed": 18188,
     "status": "ok",
     "timestamp": 1516625536608,
     "user": {
      "displayName": "Florian Roth",
      "photoUrl": "https://lh3.googleusercontent.com/a/default-user=s128",
      "userId": "111314877488456710991"
     },
     "user_tz": -60
    },
    "id": "uJ8OXd39qGAk",
    "outputId": "624d9218-124b-436f-9932-da439c62b8a9"
   },
   "outputs": [
    {
     "name": "stdout",
     "output_type": "stream",
     "text": [
      "Number of one-way edges is: 7614490 Number of two-ways edges (e.g presence of connection (0,1) and connection (1,0)): 189038\n"
     ]
    }
   ],
   "source": [
    "one_way=conn_tot-conn_tot.T\n",
    "tot_one_way=np.count_nonzero(one_way)/2\n",
    "print('Number of one-way edges is: {:.0f} Number of two-ways edges (e.g presence of connection (0,1) and connection (1,0)): {:.0f}'.format(tot_one_way, (tot_connections-tot_one_way)))"
   ]
  },
  {
   "cell_type": "markdown",
   "metadata": {
    "colab_type": "text",
    "id": "G_hFBTX1V294"
   },
   "source": [
    "**- What is the diameter of our network?**\n"
   ]
  },
  {
   "cell_type": "markdown",
   "metadata": {
    "colab_type": "text",
    "id": "-l1l43rPZFqL"
   },
   "source": [
    "Due to excessive time of computation, we were not able to compute the diameter of the directed network. Instead, we were able to compute the diameter of the undirected network. The  execution time of algorithm was ~24h."
   ]
  },
  {
   "cell_type": "code",
   "execution_count": 0,
   "metadata": {
    "colab": {
     "autoexec": {
      "startup": false,
      "wait_interval": 0
     }
    },
    "colab_type": "code",
    "id": "w3MZ0dNCW0LS"
   },
   "outputs": [],
   "source": [
    "#symmetrize conn_tot\n",
    "#conn_tot_symm=np.maximum( conn_tot, conn_tot.transpose())\n",
    "#diam=nx.diameter(G)"
   ]
  },
  {
   "cell_type": "markdown",
   "metadata": {
    "colab_type": "text",
    "id": "kamjopRVZ8_4"
   },
   "source": [
    "**Result:** The diameter of our network is 5."
   ]
  },
  {
   "cell_type": "markdown",
   "metadata": {
    "colab_type": "text",
    "id": "YuMYL9eDWAGU"
   },
   "source": [
    "** -What is the average paths length of our network?**\n",
    "\n",
    "\n",
    "The APL is defined as the average number of steps along the shortest paths for all possible pairs of network nodes. It is a measure of the efficiency of information or mass transport on a network. [Source](https://en.wikipedia.org/wiki/Average_path_length). We computed the APL of the directed network.\n"
   ]
  },
  {
   "cell_type": "code",
   "execution_count": 0,
   "metadata": {
    "colab": {
     "autoexec": {
      "startup": false,
      "wait_interval": 0
     }
    },
    "colab_type": "code",
    "id": "VKngxNbtadVe"
   },
   "outputs": [],
   "source": [
    "##Execution time ~24h\n",
    "#APL = nx.average_shortest_path_length(G)"
   ]
  },
  {
   "cell_type": "markdown",
   "metadata": {
    "colab_type": "text",
    "id": "pTzu8KTaalHk"
   },
   "source": [
    "**Result:** The average path length for the directed network is equal to \"2.475062028240122114e+00\" and the average path length for the undirected network is equal to ~2.33. An \"average\" path length is not very easy to interpret as it depends on the choice of statistical models used in addition to being at the macroscopic level. [Source](https://www.quora.com/At-what-age-are-the-average-path-lengths-in-the-brains-neural-network-minimized)"
   ]
  },
  {
   "cell_type": "markdown",
   "metadata": {
    "colab_type": "text",
    "id": "6uYWKTsoWVEU"
   },
   "source": [
    "** - What is the size of the giant component in directed network?**"
   ]
  },
  {
   "cell_type": "markdown",
   "metadata": {
    "colab_type": "text",
    "id": "FyEHgBvEjKcv"
   },
   "source": [
    "We computed the following code for the undirected graph bacuase nx.connected_component_subgraphs(G) is not implemented for directed types."
   ]
  },
  {
   "cell_type": "code",
   "execution_count": 0,
   "metadata": {
    "colab": {
     "autoexec": {
      "startup": false,
      "wait_interval": 0
     }
    },
    "colab_type": "code",
    "id": "j2zXzLAQy7IS"
   },
   "outputs": [],
   "source": [
    "##Execution time ~12h\n",
    "#giant_G = max(nx.connected_component_subgraphs(G), key=len)\n",
    "#print('Giant component of the G network : {}'.format(len(giant_G.nodes())))\n",
    "#print('Therefore the network is fully connected')"
   ]
  },
  {
   "cell_type": "markdown",
   "metadata": {
    "colab_type": "text",
    "id": "pbqBIR0i0fg-"
   },
   "source": [
    "** Result:** The giant component in the undirected network is of size 31346. "
   ]
  },
  {
   "cell_type": "markdown",
   "metadata": {
    "colab_type": "text",
    "id": "rI_2184GzZf6"
   },
   "source": [
    "**- What is the average clustering coefficient of our network?**"
   ]
  },
  {
   "cell_type": "markdown",
   "metadata": {
    "colab_type": "text",
    "id": "BOfwtFEfj8Z3"
   },
   "source": [
    "We computed the following code for the undirected graph because nx.average_clustering(G) is not implemented for directed types."
   ]
  },
  {
   "cell_type": "code",
   "execution_count": 0,
   "metadata": {
    "colab": {
     "autoexec": {
      "startup": false,
      "wait_interval": 0
     }
    },
    "colab_type": "code",
    "id": "cK5WlBK_0RTx"
   },
   "outputs": [],
   "source": [
    "#print('Average clustering coefficient of the G network : {}'.format(nx.average_clustering(G)))##we are computing the clustering coefficient of a directed network\n"
   ]
  },
  {
   "cell_type": "markdown",
   "metadata": {
    "colab_type": "text",
    "id": "gCRwLrmb2Mnw"
   },
   "source": [
    "**Result:** The average clustering  coefficient of the undirected network is 0.056742203420848264"
   ]
  },
  {
   "cell_type": "markdown",
   "metadata": {
    "colab_type": "text",
    "id": "HIhx-DD0bo_k"
   },
   "source": [
    "### ** 1.3.2 Degree Distributions**\n",
    "\n",
    "Now we'll analyse the the in- and out-degree distributions and how they differ from the distributions given by 'nCellAff' and 'nCellEff' which contains also the connections outside our model. "
   ]
  },
  {
   "cell_type": "code",
   "execution_count": 31,
   "metadata": {
    "colab": {
     "autoexec": {
      "startup": false,
      "wait_interval": 0
     },
     "base_uri": "https://localhost:8080/",
     "height": 294,
     "output_extras": [
      {
       "item_id": 1
      }
     ]
    },
    "colab_type": "code",
    "executionInfo": {
     "elapsed": 3334,
     "status": "ok",
     "timestamp": 1516625543682,
     "user": {
      "displayName": "Florian Roth",
      "photoUrl": "https://lh3.googleusercontent.com/a/default-user=s128",
      "userId": "111314877488456710991"
     },
     "user_tz": -60
    },
    "id": "tYZkzrE9QJXo",
    "outputId": "152cd8ba-ec6b-41a8-e36b-82c2b373853e"
   },
   "outputs": [
    {
     "data": {
      "image/png": "[encoded data removed]",
      "text/plain": [
       "<matplotlib.figure.Figure at 0x7f13486ffc88>"
      ]
     },
     "metadata": {
      "tags": []
     },
     "output_type": "display_data"
    }
   ],
   "source": [
    "##out degree distribution with border-effect\n",
    "\n",
    "plt.figure(figsize=(15,4))\n",
    "plt.subplot(1, 2, 1)\n",
    "nou, binsou, patchesou = plt.hist(out_degree,bins=50 , facecolor='g',edgecolor='black', linewidth=1.2)\n",
    "plt.xlabel('Out-Degree')\n",
    "plt.ylabel('Counts')\n",
    "plt.title('Out-Degree Distribution')\n",
    "plt.grid(True)\n",
    "\n",
    "##out degree distribution without border-effect\n",
    "plt.subplot(1,2,2)\n",
    "out_degree_noborder=[]\n",
    "for i in range(len(dist_effconn_mtype)):\n",
    "  out_degree_noborder.append(dist_effconn_mtype[i][0])\n",
    "\n",
    "noubor, binsoubor, patchesoubor = plt.hist(out_degree_noborder,bins=50 , facecolor='g',edgecolor='black', linewidth=1.2)\n",
    "plt.xlabel('Out-Degree')\n",
    "plt.ylabel('Counts')\n",
    "plt.title(' Out-Degree Distribution considering neurons outside our volume')\n",
    "\n",
    "plt.grid(True)"
   ]
  },
  {
   "cell_type": "markdown",
   "metadata": {
    "colab_type": "text",
    "id": "x7jwvuUVch-k"
   },
   "source": [
    "**- Which are the out-hubs neuron considering only the inner connections?**"
   ]
  },
  {
   "cell_type": "code",
   "execution_count": 32,
   "metadata": {
    "colab": {
     "autoexec": {
      "startup": false,
      "wait_interval": 0
     },
     "base_uri": "https://localhost:8080/",
     "height": 395,
     "output_extras": [
      {
       "item_id": 1
      }
     ]
    },
    "colab_type": "code",
    "executionInfo": {
     "elapsed": 1287,
     "status": "ok",
     "timestamp": 1516625545188,
     "user": {
      "displayName": "Florian Roth",
      "photoUrl": "https://lh3.googleusercontent.com/a/default-user=s128",
      "userId": "111314877488456710991"
     },
     "user_tz": -60
    },
    "id": "1Kb1QGH_coMy",
    "outputId": "617052b0-972d-4888-9d45-7fb8a26fea46"
   },
   "outputs": [
    {
     "data": {
      "image/png": "[encoded data removed]",
      "text/plain": [
       "<matplotlib.figure.Figure at 0x7f134b111e80>"
      ]
     },
     "metadata": {
      "tags": []
     },
     "output_type": "display_data"
    }
   ],
   "source": [
    "M = binsou[round(len(nou)*0.8)]\n",
    "out_hubs=[i for i in range(N) if out_degree[i]>M]\n",
    "oh=[label_morphology[i] for i in out_hubs]\n",
    "hist_morpho(oh,a=10,b=5,y=70,title='Out-Hubs')"
   ]
  },
  {
   "cell_type": "markdown",
   "metadata": {
    "colab_type": "text",
    "id": "x93-syHs63R4"
   },
   "source": [
    "**Results**: Most of the hubs with a very high out degree belong to the morphological type of Pyramidal Cell in layer four. "
   ]
  },
  {
   "cell_type": "code",
   "execution_count": 33,
   "metadata": {
    "colab": {
     "autoexec": {
      "startup": false,
      "wait_interval": 0
     },
     "base_uri": "https://localhost:8080/",
     "height": 294,
     "output_extras": [
      {
       "item_id": 1
      }
     ]
    },
    "colab_type": "code",
    "executionInfo": {
     "elapsed": 1050,
     "status": "ok",
     "timestamp": 1516625546730,
     "user": {
      "displayName": "Florian Roth",
      "photoUrl": "https://lh3.googleusercontent.com/a/default-user=s128",
      "userId": "111314877488456710991"
     },
     "user_tz": -60
    },
    "id": "UXo-tn0hdO16",
    "outputId": "05269aa6-2abf-4c78-af10-7dbe65f410db"
   },
   "outputs": [
    {
     "data": {
      "image/png": "[encoded data removed]",
      "text/plain": [
       "<matplotlib.figure.Figure at 0x7f134a8bb470>"
      ]
     },
     "metadata": {
      "tags": []
     },
     "output_type": "display_data"
    }
   ],
   "source": [
    "##in degree distribution with border-effect\n",
    "\n",
    "plt.figure(figsize=(15,4))\n",
    "plt.subplot(1, 2, 1)\n",
    "nin, binsin, patchesin = plt.hist(in_degree,bins=50 , facecolor='b',edgecolor='black', linewidth=1.2)\n",
    "plt.xlabel('In-Degree')\n",
    "plt.ylabel('Counts')\n",
    "plt.title('In-Degree Distribution')\n",
    "plt.grid(True)\n",
    "\n",
    "##in degree distribution with no border-effect\n",
    "in_degree_noborder=[]\n",
    "for i in range(len(dist_affconn_mtype)):\n",
    "  in_degree_noborder.append(dist_affconn_mtype[i][0])\n",
    "plt.subplot(1, 2, 2)\n",
    "ninbor, binsinbor, patchesinbor = plt.hist(in_degree_noborder,bins=50 , facecolor='b',edgecolor='black', linewidth=1.2)\n",
    "plt.xlabel('In-Degree')\n",
    "plt.ylabel('Counts')\n",
    "plt.title('In-Degree Distribution considering neurons outside our volume')\n",
    "\n",
    "plt.grid(True)\n"
   ]
  },
  {
   "cell_type": "markdown",
   "metadata": {
    "colab_type": "text",
    "id": "nqkv3JQQb_Pf"
   },
   "source": [
    "**- Which are the in-hubs neuron considering only the inner connections?**"
   ]
  },
  {
   "cell_type": "code",
   "execution_count": 34,
   "metadata": {
    "colab": {
     "autoexec": {
      "startup": false,
      "wait_interval": 0
     },
     "base_uri": "https://localhost:8080/",
     "height": 341,
     "output_extras": [
      {
       "item_id": 1
      }
     ]
    },
    "colab_type": "code",
    "executionInfo": {
     "elapsed": 1429,
     "status": "ok",
     "timestamp": 1516625548601,
     "user": {
      "displayName": "Florian Roth",
      "photoUrl": "https://lh3.googleusercontent.com/a/default-user=s128",
      "userId": "111314877488456710991"
     },
     "user_tz": -60
    },
    "id": "WC7wqk6Sb_od",
    "outputId": "52fdc0a9-ba69-4190-f91a-d916869d58db"
   },
   "outputs": [
    {
     "data": {
      "image/png": "[encoded data removed]",
      "text/plain": [
       "<matplotlib.figure.Figure at 0x7f135007be10>"
      ]
     },
     "metadata": {
      "tags": []
     },
     "output_type": "display_data"
    }
   ],
   "source": [
    "M=binsin[round(len(nou)*0.8)]\n",
    "in_hubs=[i for i in range(N) if in_degree[i]>M]\n",
    "ih=[label_morphology[i] for i in in_hubs]\n",
    "hist_morpho(ih,a=10,b=4,y=120,title='In-Hubs')"
   ]
  },
  {
   "cell_type": "markdown",
   "metadata": {
    "colab_type": "text",
    "id": "eHAyJQS973kz"
   },
   "source": [
    "**Results**: Most of the hubs with a very high in-degree belong to the morphological type Thick-tufted Pyramidal Cell in layer five. "
   ]
  },
  {
   "cell_type": "markdown",
   "metadata": {
    "colab_type": "text",
    "id": "UedOr-O7fd76"
   },
   "source": [
    "Now we will consider the distribution of the nodes degree without taking in account the directionaity: degree+in-deggree+out-degree."
   ]
  },
  {
   "cell_type": "code",
   "execution_count": 35,
   "metadata": {
    "colab": {
     "autoexec": {
      "startup": false,
      "wait_interval": 0
     },
     "base_uri": "https://localhost:8080/",
     "height": 294,
     "output_extras": [
      {
       "item_id": 1
      }
     ]
    },
    "colab_type": "code",
    "executionInfo": {
     "elapsed": 984,
     "status": "ok",
     "timestamp": 1516625549820,
     "user": {
      "displayName": "Florian Roth",
      "photoUrl": "https://lh3.googleusercontent.com/a/default-user=s128",
      "userId": "111314877488456710991"
     },
     "user_tz": -60
    },
    "id": "LN-OYvktfvxy",
    "outputId": "6f6bddd5-dba7-4c0e-fded-c7665963ec47"
   },
   "outputs": [
    {
     "data": {
      "image/png": "[encoded data removed]",
      "text/plain": [
       "<matplotlib.figure.Figure at 0x7f12c060fb70>"
      ]
     },
     "metadata": {
      "tags": []
     },
     "output_type": "display_data"
    }
   ],
   "source": [
    "##in degree distribution with border-effect\n",
    "\n",
    "plt.figure(figsize=(15,4))\n",
    "plt.subplot(1, 2, 1)\n",
    "ntot, binstot, patchestot = plt.hist(tot_degree,bins=50 , facecolor='purple',edgecolor='black', linewidth=1.2)\n",
    "plt.xlabel('Tota-Degree')\n",
    "plt.ylabel('Counts')\n",
    "plt.title('Total-Degree Distribution')\n",
    "plt.grid(True)\n",
    "\n",
    "#Tot_degree with no border effects\n",
    "tot_degree_noborder=in_degree_noborder + out_degree_noborder\n",
    "\n",
    "plt.subplot(1, 2, 2)\n",
    "ntotbor, binstotbor, patchestotbor = plt.hist(tot_degree_noborder,bins=50 , facecolor='purple',edgecolor='black', linewidth=1.2)\n",
    "plt.xlabel('Total-Degree')\n",
    "plt.ylabel('Counts')\n",
    "plt.title('Total Degree Distribution considering neurons outside our volume')\n",
    "plt.grid(True)\n"
   ]
  },
  {
   "cell_type": "markdown",
   "metadata": {
    "colab_type": "text",
    "id": "X9k1Xae1ZTdd"
   },
   "source": [
    "\n",
    "**- Which are the total-hubs neuron considering only the inner connections?**"
   ]
  },
  {
   "cell_type": "code",
   "execution_count": 36,
   "metadata": {
    "colab": {
     "autoexec": {
      "startup": false,
      "wait_interval": 0
     },
     "base_uri": "https://localhost:8080/",
     "height": 341,
     "output_extras": [
      {
       "item_id": 1
      }
     ]
    },
    "colab_type": "code",
    "executionInfo": {
     "elapsed": 1183,
     "status": "ok",
     "timestamp": 1516625552311,
     "user": {
      "displayName": "Florian Roth",
      "photoUrl": "https://lh3.googleusercontent.com/a/default-user=s128",
      "userId": "111314877488456710991"
     },
     "user_tz": -60
    },
    "id": "9TazriQ4ZZ05",
    "outputId": "9a20ce27-e0d6-4824-f54f-1cce7a3d2f45"
   },
   "outputs": [
    {
     "data": {
      "image/png": "[encoded data removed]",
      "text/plain": [
       "<matplotlib.figure.Figure at 0x7f12c0732f60>"
      ]
     },
     "metadata": {
      "tags": []
     },
     "output_type": "display_data"
    }
   ],
   "source": [
    "M=binstot[round(len(nou)*0.8)]\n",
    "tot_hubs=[i for i in range(N) if tot_degree[i]>M]\n",
    "th=[label_morphology[i] for i in tot_hubs]\n",
    "hist_morpho(th,a=10,b=4,y=100,title='Total-Hubs')"
   ]
  },
  {
   "cell_type": "markdown",
   "metadata": {
    "colab_type": "text",
    "id": "ROu231U59Ucd"
   },
   "source": [
    "**Results**: Most of the hubs with a very high total-degree belong to the morphological type Thick-tufted Pyramidal Cell in layer five. "
   ]
  },
  {
   "cell_type": "markdown",
   "metadata": {
    "colab_type": "text",
    "id": "cFHv-OtKpLdG"
   },
   "source": [
    "### **1.3.3 Approximation by random networks models **\n",
    "\n",
    "**Is our network well approximated by a random graph, that is an Erdős–Rényi (E-R) graph with the same connection probability? **"
   ]
  },
  {
   "cell_type": "code",
   "execution_count": 37,
   "metadata": {
    "colab": {
     "autoexec": {
      "startup": false,
      "wait_interval": 0
     },
     "base_uri": "https://localhost:8080/",
     "height": 34,
     "output_extras": [
      {
       "item_id": 1
      }
     ]
    },
    "colab_type": "code",
    "executionInfo": {
     "elapsed": 141004,
     "status": "ok",
     "timestamp": 1516625694221,
     "user": {
      "displayName": "Florian Roth",
      "photoUrl": "https://lh3.googleusercontent.com/a/default-user=s128",
      "userId": "111314877488456710991"
     },
     "user_tz": -60
    },
    "id": "PvVIs1XvpKTu",
    "outputId": "63156b35-fa50-4214-c088-4b2324edd5d5"
   },
   "outputs": [
    {
     "data": {
      "text/plain": [
       "7804293"
      ]
     },
     "execution_count": 37,
     "metadata": {
      "tags": []
     },
     "output_type": "execute_result"
    }
   ],
   "source": [
    "#creation of the E-R graph\n",
    "er=nx.erdos_renyi_graph(N, p)\n",
    "er.size()"
   ]
  },
  {
   "cell_type": "markdown",
   "metadata": {
    "colab_type": "text",
    "id": "zCYlUcTKB9gR"
   },
   "source": [
    "**Comment:** The number of edges of the random graph is what we expect it to be and similar to the one of our network."
   ]
  },
  {
   "cell_type": "code",
   "execution_count": 38,
   "metadata": {
    "colab": {
     "autoexec": {
      "startup": false,
      "wait_interval": 0
     },
     "base_uri": "https://localhost:8080/",
     "height": 349,
     "output_extras": [
      {
       "item_id": 1
      }
     ]
    },
    "colab_type": "code",
    "executionInfo": {
     "elapsed": 1103,
     "status": "ok",
     "timestamp": 1516625695450,
     "user": {
      "displayName": "Florian Roth",
      "photoUrl": "https://lh3.googleusercontent.com/a/default-user=s128",
      "userId": "111314877488456710991"
     },
     "user_tz": -60
    },
    "id": "d9BcUzx4qGsn",
    "outputId": "6d610034-c5cf-4656-a2da-bde023a4afb4"
   },
   "outputs": [
    {
     "data": {
      "image/png": "[encoded data removed]",
      "text/plain": [
       "<matplotlib.figure.Figure at 0x7f12c0429278>"
      ]
     },
     "metadata": {
      "tags": []
     },
     "output_type": "display_data"
    }
   ],
   "source": [
    "er_degree=er.degree()\n",
    "er_degree=[er_degree[i] for i in range(0,N)]\n",
    "fig = plt.figure(figsize=(9,5))\n",
    "ax=fig.add_subplot(1,1,1)\n",
    "ntot, binstot, patchestot = plt.hist(tot_degree,bins=50 , facecolor='purple',edgecolor='black', linewidth=1.2)\n",
    "ner, binser, patcheser = plt.hist(er_degree,bins=50 , facecolor='g',edgecolor='black', linewidth=0.2)\n",
    "plt.xlabel('ER-Degree')\n",
    "plt.ylabel('Counts')\n",
    "plt.title('Degree Distribution of the ER graph approximating our network')\n",
    "plt.grid(True)\n",
    "plt.legend(['bluebrain network','Erdos-Renyi graph'])\n",
    "\n",
    "plt.show()\n"
   ]
  },
  {
   "cell_type": "markdown",
   "metadata": {
    "colab_type": "text",
    "id": "dzeBwY8XDn3D"
   },
   "source": [
    "**Comment:** The microcircuit netwok is not well approximated by the unifrom distribution of an E-R graph with the same connections probability."
   ]
  },
  {
   "cell_type": "code",
   "execution_count": 0,
   "metadata": {
    "colab": {
     "autoexec": {
      "startup": false,
      "wait_interval": 0
     }
    },
    "colab_type": "code",
    "id": "QCH6sowRAsOg"
   },
   "outputs": [],
   "source": [
    "#er_dima=nx.diameter(er)"
   ]
  },
  {
   "cell_type": "markdown",
   "metadata": {
    "colab_type": "text",
    "id": "Hf0Z7HbsA-hu"
   },
   "source": [
    "** Result:** The diameter of the Erdos Reny graph is 3."
   ]
  },
  {
   "cell_type": "code",
   "execution_count": 0,
   "metadata": {
    "colab": {
     "autoexec": {
      "startup": false,
      "wait_interval": 0
     }
    },
    "colab_type": "code",
    "id": "PPVqdakaB3HL"
   },
   "outputs": [],
   "source": [
    "#er_cc=average_clustering(er)"
   ]
  },
  {
   "cell_type": "markdown",
   "metadata": {
    "colab_type": "text",
    "id": "Q4L-LkUbDHp-"
   },
   "source": [
    "**Result:** The average clustering coefficient of the Erdős–Rényi graph is 1.588056052869360468e-02"
   ]
  },
  {
   "cell_type": "markdown",
   "metadata": {
    "colab_type": "text",
    "id": "y9PAYEcttMsA"
   },
   "source": [
    "The APL of an Erdős–Rényi graph is given by $ \\frac{ln(N)}{ln(K)}\\approx 1.68$, in our case. We also computed the exact value:"
   ]
  },
  {
   "cell_type": "code",
   "execution_count": 0,
   "metadata": {
    "colab": {
     "autoexec": {
      "startup": false,
      "wait_interval": 0
     }
    },
    "colab_type": "code",
    "id": "2v9a60PZu6Fl"
   },
   "outputs": [],
   "source": [
    "#APL = nx.average_shortest_path_length(er)"
   ]
  },
  {
   "cell_type": "markdown",
   "metadata": {
    "colab_type": "text",
    "id": "he1h6695vKUB"
   },
   "source": [
    "** Result:** The APL is 1.984485."
   ]
  },
  {
   "cell_type": "markdown",
   "metadata": {
    "colab_type": "text",
    "id": "epXRiDIEqSv0"
   },
   "source": [
    "**Is our network well approximated by a random scale-free network with preferential attachment, namely a Barabasi-Alber graph network?**\n"
   ]
  },
  {
   "cell_type": "code",
   "execution_count": 42,
   "metadata": {
    "colab": {
     "autoexec": {
      "startup": false,
      "wait_interval": 0
     },
     "base_uri": "https://localhost:8080/",
     "height": 34,
     "output_extras": [
      {
       "item_id": 1
      }
     ]
    },
    "colab_type": "code",
    "executionInfo": {
     "elapsed": 43160,
     "status": "ok",
     "timestamp": 1516625740904,
     "user": {
      "displayName": "Florian Roth",
      "photoUrl": "https://lh3.googleusercontent.com/a/default-user=s128",
      "userId": "111314877488456710991"
     },
     "user_tz": -60
    },
    "id": "xTW5-FH8qTje",
    "outputId": "f23dd694-dfaf-431d-f08a-ebb65cb19df4"
   },
   "outputs": [
    {
     "data": {
      "text/plain": [
       "7712304"
      ]
     },
     "execution_count": 42,
     "metadata": {
      "tags": []
     },
     "output_type": "execute_result"
    }
   ],
   "source": [
    "#creation of the Barabasi-Albert graph\n",
    "m=int(av_totdegree/2)\n",
    "ba= nx.barabasi_albert_graph(N, m)\n",
    "ba.size()\n"
   ]
  },
  {
   "cell_type": "markdown",
   "metadata": {
    "colab_type": "text",
    "id": "82e2BKIjEPsz"
   },
   "source": [
    "**Comment:** The number of edges of the barabasi-albert graph is not exactly the one of our network but still quite similar. "
   ]
  },
  {
   "cell_type": "code",
   "execution_count": 43,
   "metadata": {
    "colab": {
     "autoexec": {
      "startup": false,
      "wait_interval": 0
     },
     "base_uri": "https://localhost:8080/",
     "height": 349,
     "output_extras": [
      {
       "item_id": 1
      }
     ]
    },
    "colab_type": "code",
    "executionInfo": {
     "elapsed": 808,
     "status": "ok",
     "timestamp": 1516625741785,
     "user": {
      "displayName": "Florian Roth",
      "photoUrl": "https://lh3.googleusercontent.com/a/default-user=s128",
      "userId": "111314877488456710991"
     },
     "user_tz": -60
    },
    "id": "hthElmJ3q_z0",
    "outputId": "c14640a7-8c14-4d0f-c846-42f0af1e779e"
   },
   "outputs": [
    {
     "data": {
      "image/png": "[encoded data removed]",
      "text/plain": [
       "<matplotlib.figure.Figure at 0x7f12c0445fd0>"
      ]
     },
     "metadata": {
      "tags": []
     },
     "output_type": "display_data"
    }
   ],
   "source": [
    "ba_degree=ba.degree()\n",
    "ba_degree=[ba_degree[i] for i in range(0,N)]\n",
    "fig = plt.figure(figsize=(9,5))\n",
    "ax=fig.add_subplot(1,1,1)\n",
    "ntot, binstot, patchestot = plt.hist(tot_degree,bins=50 , facecolor='purple',edgecolor='black', linewidth=1.2)\n",
    "nba, binsba, patchesba = plt.hist(ba_degree,bins=50 , facecolor='g',edgecolor='black', linewidth=0.2)\n",
    "plt.xlabel('ER-Degree')\n",
    "plt.ylabel('Counts')\n",
    "plt.title('Degree Distribution of the B-A graph approximating our network')\n",
    "plt.grid(True)\n",
    "plt.legend(['bluebrain network','Barabasi-Albert graph'])\n",
    "\n",
    "\n",
    "plt.show()\n"
   ]
  },
  {
   "cell_type": "markdown",
   "metadata": {
    "colab_type": "text",
    "id": "m9Mc0WZLEEDV"
   },
   "source": [
    "**Comment:** The microcircuit netwok is not well approximated by power low distribution of an B-A graph with the same average degree."
   ]
  },
  {
   "cell_type": "code",
   "execution_count": 0,
   "metadata": {
    "colab": {
     "autoexec": {
      "startup": false,
      "wait_interval": 0
     }
    },
    "colab_type": "code",
    "id": "RyKNyOYCCZSJ"
   },
   "outputs": [],
   "source": [
    "#~20h computation\n",
    "#ba_diam=nx.diameter(ba)"
   ]
  },
  {
   "cell_type": "markdown",
   "metadata": {
    "colab_type": "text",
    "id": "NYvaGkfJCkfb"
   },
   "source": [
    "**Result:** The diameter of the Barabasi Albert graph is 3."
   ]
  },
  {
   "cell_type": "code",
   "execution_count": 0,
   "metadata": {
    "colab": {
     "autoexec": {
      "startup": false,
      "wait_interval": 0
     }
    },
    "colab_type": "code",
    "id": "e0M8MHeUCr8r"
   },
   "outputs": [],
   "source": [
    "#~20h computation\n",
    "#ba=nx.average_clustering(ba)"
   ]
  },
  {
   "cell_type": "markdown",
   "metadata": {
    "colab_type": "text",
    "id": "NONlzmcxDDkv"
   },
   "source": [
    "**Result:** The average clustering coefficient of the Barabasi Albert Network is 4.775815955795591899e-02"
   ]
  },
  {
   "cell_type": "code",
   "execution_count": 0,
   "metadata": {
    "colab": {
     "autoexec": {
      "startup": false,
      "wait_interval": 0
     }
    },
    "colab_type": "code",
    "id": "Y3ynHsvcvccW"
   },
   "outputs": [],
   "source": [
    "#APL = nx.average_shortest_path_length(ba)"
   ]
  },
  {
   "cell_type": "markdown",
   "metadata": {
    "colab_type": "text",
    "id": "taZ_9UnPveBD"
   },
   "source": [
    "**Result:** The average path length of the B-A network is 1.987421. "
   ]
  },
  {
   "cell_type": "markdown",
   "metadata": {
    "colab_type": "text",
    "id": "4_mHMCFxEZiZ"
   },
   "source": [
    "## Summary:"
   ]
  },
  {
   "cell_type": "markdown",
   "metadata": {
    "colab_type": "text",
    "id": "h5PoHDkDKQZc"
   },
   "source": [
    "BBP= undirected graph of the microcicuit.\n",
    "\n",
    "BBP_DI= directed graph of the microcircuit.\n",
    "\n",
    "ER= Erdős–Rényi graph approximating the microcircuit network.\n",
    "\n",
    "BA= Barabasi-Albert graph approxmating the microcircuit netwok."
   ]
  },
  {
   "cell_type": "markdown",
   "metadata": {
    "colab_type": "text",
    "id": "73cIRYSuIdtf"
   },
   "source": [
    "<table class=\"minimalistBlack\">\n",
    "<thead>\n",
    "<tr>\n",
    "<th>Network</th>\n",
    "<th>APL</th>\n",
    "<th>Diameter</th>\n",
    "<th>Clustering Coefficient</th>\n",
    "\n",
    "</tr>\n",
    "</thead>\n",
    "<tbody>\n",
    "<tr>\n",
    "<tr>\n",
    "<td>BBP</td>\n",
    "<td>2.33</td>\n",
    "<td>-----5-----  </td>\n",
    "<td>0.057</td>\n",
    "</tr>\n",
    "<tr>\n",
    "<td>ER</td>\n",
    "<td>1.98</td>\n",
    "<td>-----3----- </td>\n",
    "<td>0.016</td>\n",
    "\n",
    "</tr>\n",
    "<tr>\n",
    "<td>BA</td>\n",
    "<td>1.99</td>\n",
    "<td>-----3-----</td>\n",
    "<td>0.048</td>\n",
    "\n",
    "</tr>\n",
    "<tr>\n",
    "<td>BBP_DI</td>\n",
    "<td>2.48</td>\n",
    "<td>----$\\varnothing$---- </td>\n",
    "<td>$\\varnothing$</td>\n",
    "</tr>\n",
    "</tbody>\n",
    "</table>"
   ]
  },
  {
   "cell_type": "markdown",
   "metadata": {
    "colab_type": "text",
    "id": "VfkYYr4HEU6v"
   },
   "source": [
    "## Conclusion:"
   ]
  },
  {
   "cell_type": "markdown",
   "metadata": {
    "colab_type": "text",
    "id": "XbuKCH3DYXre"
   },
   "source": [
    "Consider the statistics for the undirected connectivity matrix. The network presents a small world property with an average of ~2.3 syanapses separating any two neurons and a maximum of 5 synapses between them. As for scale free networks, it show a low clustering coefficient compered to a E-R network with the same probability of connection. However, the clustering coefficient of our network is smaller than the one of the B-A approximation of the model. In fact, the histogram showing the total degree of the microcircuit doesn't show a power law degree distribution, which characterize scale free networks. Also by not considering the border effect the degree distribution is not a power law distribution.  However, similarly to scale free networks, the microcircuit has a long tails degree distribution, underlying the presence of hubs both in the out-, in- and total-degree distribution. Difference between the scale free network and our model can be found in low degree nodes: in the microcircuit there are much more lower degree nodes than excpected in a B-A network approximating it.\n",
    "\n",
    "\n",
    "In conclusion the network is not well approximated neither by a E-R network model nor by a B-A network model.\n",
    "An explanation for this characteristic could be given by the fact that the microcircuit's nodes have a spatial constraint: differently from web and social networks, the neurons are placed in a finite 3d space creating connections based also on their spatial position. This further assumption is taken into consideration for modelling the microcircuit network in ['Rich cell-type-specific network topology in neocortical microcircuitry', (Gal et al. Nature neuroscience, 2017)](https://www.nature.com/articles/nn.4576), where the authors build a distance-dependend random model for approximating the Blue Brain network.\n",
    "The above mentioned paper contains also exhaustive statistics about the microcolumn network which are consistent with our analysis . \n"
   ]
  }
 ],
 "metadata": {
  "colab": {
   "collapsed_sections": [],
   "default_view": {},
   "name": "1_ntds_project.ipynb",
   "provenance": [],
   "version": "0.3.2",
   "views": {}
  },
  "kernelspec": {
   "display_name": "Python 3",
   "language": "python",
   "name": "python3"
  },
  "language_info": {
   "codemirror_mode": {
    "name": "ipython",
    "version": 3
   },
   "file_extension": ".py",
   "mimetype": "text/x-python",
   "name": "python",
   "nbconvert_exporter": "python",
   "pygments_lexer": "ipython3",
   "version": "3.6.4"
  }
 },
 "nbformat": 4,
 "nbformat_minor": 1
}
